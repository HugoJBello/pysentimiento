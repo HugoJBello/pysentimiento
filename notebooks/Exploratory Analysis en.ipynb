{
 "cells": [
  {
   "cell_type": "markdown",
   "metadata": {},
   "source": [
    "## Exploratory Analysis\n",
    "\n"
   ]
  },
  {
   "cell_type": "code",
   "execution_count": 58,
   "metadata": {},
   "outputs": [
    {
     "data": {
      "text/plain": [
       "['../data/semeval2016/gold/dev/100_topics_100_tweets.sentence-three-point.subtask-A.dev.gold.txt',\n",
       " '../data/semeval2016/gold/train/100_topics_100_tweets.sentence-three-point.subtask-A.train.gold.txt',\n",
       " '../data/semeval2016/gold/devtest/100_topics_100_tweets.sentence-three-point.subtask-A.devtest.gold.txt',\n",
       " '../data/semeval2016/test/SemEval2016-task4-test.subtask-A.txt']"
      ]
     },
     "execution_count": 58,
     "metadata": {},
     "output_type": "execute_result"
    }
   ],
   "source": [
    "import os\n",
    "from glob import glob\n",
    "import pandas as pd\n",
    "\n",
    "\n",
    "files = glob(\"../data/semeval2016/gold/**/*subtask-A*.txt\", recursive=True)\n",
    "files += glob(\"../data/semeval2016/test/**/*subtask-A*.txt\", recursive=True)\n",
    "files"
   ]
  },
  {
   "cell_type": "code",
   "execution_count": 59,
   "metadata": {},
   "outputs": [
    {
     "name": "stdout",
     "output_type": "stream",
     "text": [
      "28 apps created\n",
      "../data/semeval2016/gold/dev/100_topics_100_tweets.sentence-three-point.subtask-A.dev.gold.txt\n"
     ]
    },
    {
     "name": "stderr",
     "output_type": "stream",
     "text": [
      "100%|██████████| 2000/2000 [01:01<00:00, 32.31it/s]\n"
     ]
    },
    {
     "name": "stdout",
     "output_type": "stream",
     "text": [
      "Downloaded tweets 1346 errors: 654\n",
      "../data/semeval2016/gold/train/100_topics_100_tweets.sentence-three-point.subtask-A.train.gold.txt\n"
     ]
    },
    {
     "name": "stderr",
     "output_type": "stream",
     "text": [
      "100%|██████████| 6000/6000 [03:49<00:00, 26.14it/s]"
     ]
    },
    {
     "name": "stdout",
     "output_type": "stream",
     "text": [
      "Downloaded tweets 4056 errors: 1944\n",
      "../data/semeval2016/gold/devtest/100_topics_100_tweets.sentence-three-point.subtask-A.devtest.gold.txt\n"
     ]
    },
    {
     "name": "stderr",
     "output_type": "stream",
     "text": [
      "\n",
      "100%|██████████| 2000/2000 [01:15<00:00, 26.32it/s]\n"
     ]
    },
    {
     "name": "stdout",
     "output_type": "stream",
     "text": [
      "Downloaded tweets 1397 errors: 603\n",
      "../data/semeval2016/test/SemEval2016-task4-test.subtask-A.txt\n"
     ]
    },
    {
     "name": "stderr",
     "output_type": "stream",
     "text": [
      "100%|██████████| 31986/31986 [20:04<00:00, 26.56it/s]  \n"
     ]
    },
    {
     "name": "stdout",
     "output_type": "stream",
     "text": [
      "Downloaded tweets 18053 errors: 13933\n"
     ]
    }
   ],
   "source": [
    "from tweepyrate import get_tweets, create_apps\n",
    "\n",
    "apps = create_apps(\"../config/gyt-apps.json\")\n",
    "\n",
    "dfs = {\n",
    "    \n",
    "}\n",
    "\n",
    "rets = {\n",
    "    \n",
    "}\n",
    "\n",
    "errors = {\n",
    "    \n",
    "}\n",
    "\n",
    "for file in files:\n",
    "    print(file)\n",
    "    dfs[file] = pd.read_table(file, names=[\"tweet_id\", \"label\"], index_col=0)\n",
    "    rets[file] = []\n",
    "    errors[file] = []\n",
    "    num_success, num_errors = get_tweets(\n",
    "        apps, list(dfs[file].index),\n",
    "        tweet_callback= lambda tw_id, response: rets[file].append(response), \n",
    "        error_callback = lambda x, y: errors[file].append((x, y))\n",
    "    )\n",
    "    print(f\"Downloaded tweets {num_success} errors: {num_errors}\")"
   ]
  },
  {
   "cell_type": "markdown",
   "metadata": {},
   "source": [
    "Let's set the text"
   ]
  },
  {
   "cell_type": "code",
   "execution_count": 51,
   "metadata": {},
   "outputs": [
    {
     "name": "stdout",
     "output_type": "stream",
     "text": [
      "We have 1346 non-empty tweets in ../data/semeval2016/gold/dev/100_topics_100_tweets.sentence-three-point.subtask-A.dev.gold.txt\n",
      "We have 4055 non-empty tweets in ../data/semeval2016/gold/train/100_topics_100_tweets.sentence-three-point.subtask-A.train.gold.txt\n",
      "We have 1397 non-empty tweets in ../data/semeval2016/gold/devtest/100_topics_100_tweets.sentence-three-point.subtask-A.devtest.gold.txt\n"
     ]
    }
   ],
   "source": [
    "for file in files:\n",
    "    for status in rets[file]:\n",
    "        dfs[file].loc[status.id, \"text\"] = status.full_text\n",
    "    \n",
    "    print(f\"We have {len(rets[file])} non-empty tweets in {file}\")\n",
    "    assert sum(dfs[file][\"text\"].notna()) == len(rets[file])\n",
    "    assert sum(dfs[file][\"text\"].isna()) == len(errors[file])\n"
   ]
  },
  {
   "cell_type": "code",
   "execution_count": null,
   "metadata": {},
   "outputs": [],
   "source": []
  },
  {
   "cell_type": "code",
   "execution_count": 36,
   "metadata": {},
   "outputs": [
    {
     "name": "stdout",
     "output_type": "stream",
     "text": [
      "caca\n",
      "2000\n",
      "caca\n",
      "2000\n",
      "caca\n",
      "2000\n"
     ]
    }
   ],
   "source": [
    "for file in files:\n",
    "    print(file)\n",
    "    print(len(dfs[file]))"
   ]
  },
  {
   "cell_type": "code",
   "execution_count": 17,
   "metadata": {},
   "outputs": [
    {
     "name": "stdout",
     "output_type": "stream",
     "text": [
      "4802 2443 7264\n"
     ]
    },
    {
     "data": {
      "text/plain": [
       "(Index(['text', 'polarity', 'dialect'], dtype='object'),\n",
       " Index(['text', 'polarity', 'dialect'], dtype='object'),\n",
       " Index(['text', 'polarity', 'dialect'], dtype='object'))"
      ]
     },
     "execution_count": 17,
     "metadata": {},
     "output_type": "execute_result"
    }
   ],
   "source": [
    "\n",
    "def get_lang(file):\n",
    "    return os.path.splitext(os.path.basename(file))[0]\n",
    "\n",
    "def load_df(file):\n",
    "    dialect = get_lang(file)\n",
    "    \n",
    "    df = pd.read_table(file, names=[\"id\", \"text\", \"polarity\"], index_col=0)\n",
    "    df[\"dialect\"] = dialect\n",
    "    \n",
    "    return df\n",
    "\n",
    "train_files = glob(\"../data/tass2020/train/*.tsv\")\n",
    "dev_files = glob(\"../data/tass2020/dev/*.tsv\")\n",
    "test_files = glob(\"../data/tass2020/test1.1/*.tsv\")\n",
    "\n",
    "train_dfs = {get_lang(file):load_df(file) for file in train_files}\n",
    "dev_dfs = {get_lang(file):load_df(file) for file in dev_files}\n",
    "test_dfs = {get_lang(file):load_df(file) for file in test_files}\n",
    "\n",
    "train_df = pd.concat(train_dfs.values())\n",
    "dev_df = pd.concat(dev_dfs.values())\n",
    "test_df = pd.concat(test_dfs.values())\n",
    "\n",
    "print(len(train_df), len(dev_df), len(test_df))\n",
    "\n",
    "train_df.columns, dev_df.columns, test_df.columns"
   ]
  },
  {
   "cell_type": "markdown",
   "metadata": {},
   "source": [
    "Veamos primero las longitudes (a ver si no hay nada mal cargado)"
   ]
  },
  {
   "cell_type": "code",
   "execution_count": 18,
   "metadata": {},
   "outputs": [
    {
     "data": {
      "text/plain": [
       "N      1885\n",
       "NEU    1523\n",
       "P      1394\n",
       "Name: polarity, dtype: int64"
      ]
     },
     "execution_count": 18,
     "metadata": {},
     "output_type": "execute_result"
    }
   ],
   "source": [
    "df = train_df\n",
    "\n",
    "df[\"polarity\"].value_counts()"
   ]
  },
  {
   "cell_type": "markdown",
   "metadata": {},
   "source": [
    "## Ejemplos"
   ]
  },
  {
   "cell_type": "code",
   "execution_count": 19,
   "metadata": {},
   "outputs": [
    {
     "data": {
      "text/html": [
       "<div>\n",
       "<style scoped>\n",
       "    .dataframe tbody tr th:only-of-type {\n",
       "        vertical-align: middle;\n",
       "    }\n",
       "\n",
       "    .dataframe tbody tr th {\n",
       "        vertical-align: top;\n",
       "    }\n",
       "\n",
       "    .dataframe thead th {\n",
       "        text-align: right;\n",
       "    }\n",
       "</style>\n",
       "<table border=\"1\" class=\"dataframe\">\n",
       "  <thead>\n",
       "    <tr style=\"text-align: right;\">\n",
       "      <th></th>\n",
       "      <th>text</th>\n",
       "      <th>polarity</th>\n",
       "      <th>dialect</th>\n",
       "    </tr>\n",
       "    <tr>\n",
       "      <th>id</th>\n",
       "      <th></th>\n",
       "      <th></th>\n",
       "      <th></th>\n",
       "    </tr>\n",
       "  </thead>\n",
       "  <tbody>\n",
       "    <tr>\n",
       "      <th>768529956162924544</th>\n",
       "      <td>@Adriansoler espero y deseo que el interior te cause lo mismo</td>\n",
       "      <td>NEU</td>\n",
       "      <td>es</td>\n",
       "    </tr>\n",
       "    <tr>\n",
       "      <th>768557093955698688</th>\n",
       "      <td>comprendo que te molen mis tattoos, pero no te los hagas 'iguales'</td>\n",
       "      <td>NEU</td>\n",
       "      <td>es</td>\n",
       "    </tr>\n",
       "    <tr>\n",
       "      <th>770787189319925760</th>\n",
       "      <td>A mí nunca me podrán hacer una broma porque no cojo llamadas y menos cuando son ocultas</td>\n",
       "      <td>NEU</td>\n",
       "      <td>es</td>\n",
       "    </tr>\n",
       "    <tr>\n",
       "      <th>768588061496209408</th>\n",
       "      <td>@BrujadelTuiters . Estas palabras, del Poema, INSTANTES, son de Nadine Stair. Escritora norteamericana, a la q le gustan los helados.</td>\n",
       "      <td>NEU</td>\n",
       "      <td>es</td>\n",
       "    </tr>\n",
       "    <tr>\n",
       "      <th>768506208051494912</th>\n",
       "      <td>@Iluminaughty_ @Spiegel_Spike_ pues me da igual  yo escribo lo que pienso ^^ y cuando lo pienso ajajaj si es que lo pienso</td>\n",
       "      <td>NEU</td>\n",
       "      <td>es</td>\n",
       "    </tr>\n",
       "    <tr>\n",
       "      <th>...</th>\n",
       "      <td>...</td>\n",
       "      <td>...</td>\n",
       "      <td>...</td>\n",
       "    </tr>\n",
       "    <tr>\n",
       "      <th>770138191689093122</th>\n",
       "      <td>Me dijo que no le había gustado no se cuantas cosas pero me estuvo hablando todo el tiempo de eso JAJAJAJJA no entiendo loco</td>\n",
       "      <td>NEU</td>\n",
       "      <td>uy</td>\n",
       "    </tr>\n",
       "    <tr>\n",
       "      <th>781329324389597184</th>\n",
       "      <td>Anto te extraño veni a cuidarme</td>\n",
       "      <td>NEU</td>\n",
       "      <td>uy</td>\n",
       "    </tr>\n",
       "    <tr>\n",
       "      <th>782750587398000641</th>\n",
       "      <td>Jajajaja mejor que no me la robes Igual vos empezaste!!</td>\n",
       "      <td>NEU</td>\n",
       "      <td>uy</td>\n",
       "    </tr>\n",
       "    <tr>\n",
       "      <th>790289281029898241</th>\n",
       "      <td>@JulianeroSoy no te amargues ojala que aparezca y si no bueno</td>\n",
       "      <td>NEU</td>\n",
       "      <td>uy</td>\n",
       "    </tr>\n",
       "    <tr>\n",
       "      <th>790619641659944961</th>\n",
       "      <td>¿Qué tipo de proyecto de diseño es tu preferido @Marinachan555 ? #DíaDelDiseñadorGráfico</td>\n",
       "      <td>NEU</td>\n",
       "      <td>uy</td>\n",
       "    </tr>\n",
       "  </tbody>\n",
       "</table>\n",
       "<p>1523 rows × 3 columns</p>\n",
       "</div>"
      ],
      "text/plain": [
       "                                                                                                                                                       text  \\\n",
       "id                                                                                                                                                            \n",
       "768529956162924544                                                                           @Adriansoler espero y deseo que el interior te cause lo mismo    \n",
       "768557093955698688                                                                      comprendo que te molen mis tattoos, pero no te los hagas 'iguales'    \n",
       "770787189319925760                                                 A mí nunca me podrán hacer una broma porque no cojo llamadas y menos cuando son ocultas    \n",
       "768588061496209408  @BrujadelTuiters . Estas palabras, del Poema, INSTANTES, son de Nadine Stair. Escritora norteamericana, a la q le gustan los helados.     \n",
       "768506208051494912              @Iluminaughty_ @Spiegel_Spike_ pues me da igual  yo escribo lo que pienso ^^ y cuando lo pienso ajajaj si es que lo pienso    \n",
       "...                                                                                                                                                     ...   \n",
       "770138191689093122             Me dijo que no le había gustado no se cuantas cosas pero me estuvo hablando todo el tiempo de eso JAJAJAJJA no entiendo loco   \n",
       "781329324389597184                                                                                                          Anto te extraño veni a cuidarme   \n",
       "782750587398000641                                                                                  Jajajaja mejor que no me la robes Igual vos empezaste!!   \n",
       "790289281029898241                                                                            @JulianeroSoy no te amargues ojala que aparezca y si no bueno   \n",
       "790619641659944961                                                 ¿Qué tipo de proyecto de diseño es tu preferido @Marinachan555 ? #DíaDelDiseñadorGráfico   \n",
       "\n",
       "                   polarity dialect  \n",
       "id                                   \n",
       "768529956162924544      NEU      es  \n",
       "768557093955698688      NEU      es  \n",
       "770787189319925760      NEU      es  \n",
       "768588061496209408      NEU      es  \n",
       "768506208051494912      NEU      es  \n",
       "...                     ...     ...  \n",
       "770138191689093122      NEU      uy  \n",
       "781329324389597184      NEU      uy  \n",
       "782750587398000641      NEU      uy  \n",
       "790289281029898241      NEU      uy  \n",
       "790619641659944961      NEU      uy  \n",
       "\n",
       "[1523 rows x 3 columns]"
      ]
     },
     "execution_count": 19,
     "metadata": {},
     "output_type": "execute_result"
    }
   ],
   "source": [
    "pd.options.display.max_colwidth = 200\n",
    "pd.options.display.max_rows = 100\n",
    "\n",
    "df[df[\"polarity\"] == \"NEU\"]"
   ]
  },
  {
   "cell_type": "code",
   "execution_count": 20,
   "metadata": {},
   "outputs": [
    {
     "data": {
      "text/html": [
       "<div>\n",
       "<style scoped>\n",
       "    .dataframe tbody tr th:only-of-type {\n",
       "        vertical-align: middle;\n",
       "    }\n",
       "\n",
       "    .dataframe tbody tr th {\n",
       "        vertical-align: top;\n",
       "    }\n",
       "\n",
       "    .dataframe thead th {\n",
       "        text-align: right;\n",
       "    }\n",
       "</style>\n",
       "<table border=\"1\" class=\"dataframe\">\n",
       "  <thead>\n",
       "    <tr style=\"text-align: right;\">\n",
       "      <th></th>\n",
       "      <th>text</th>\n",
       "      <th>polarity</th>\n",
       "      <th>dialect</th>\n",
       "    </tr>\n",
       "    <tr>\n",
       "      <th>id</th>\n",
       "      <th></th>\n",
       "      <th></th>\n",
       "      <th></th>\n",
       "    </tr>\n",
       "  </thead>\n",
       "  <tbody>\n",
       "    <tr>\n",
       "      <th>770616744192929792</th>\n",
       "      <td>Mi última partida jugada, con Sona support. La grandes razones para jugar Sona https://t.co/2rgmMeAFIs</td>\n",
       "      <td>P</td>\n",
       "      <td>es</td>\n",
       "    </tr>\n",
       "    <tr>\n",
       "      <th>769959690092642304</th>\n",
       "      <td>Tranquilos que con el.dinero de Camacho seguro mañana empiezan las escabadoras en el Arraijanal</td>\n",
       "      <td>P</td>\n",
       "      <td>es</td>\n",
       "    </tr>\n",
       "    <tr>\n",
       "      <th>770590136828559360</th>\n",
       "      <td>@daniacal aún no, pero si estará jugable en el TGS no creo que tarde demasiado.</td>\n",
       "      <td>P</td>\n",
       "      <td>es</td>\n",
       "    </tr>\n",
       "    <tr>\n",
       "      <th>771339035445002240</th>\n",
       "      <td>#feliz septiembre..es bonito retarse..es increible lo mucho que puedes aprender.. medirse con el obstáculo..eres la joyita de la corona</td>\n",
       "      <td>P</td>\n",
       "      <td>es</td>\n",
       "    </tr>\n",
       "    <tr>\n",
       "      <th>768577963885522944</th>\n",
       "      <td>Este año el Madrid hará triplete y si lo hace me rapo al cero  grabad el mensaje jejej #ChiringuitoPiqué</td>\n",
       "      <td>P</td>\n",
       "      <td>es</td>\n",
       "    </tr>\n",
       "    <tr>\n",
       "      <th>...</th>\n",
       "      <td>...</td>\n",
       "      <td>...</td>\n",
       "      <td>...</td>\n",
       "    </tr>\n",
       "    <tr>\n",
       "      <th>780770298270474240</th>\n",
       "      <td>@vivianagarcia73 @anitafb Muchas gracias Sandra por tu ayuda y esperamos que los tips sean útiles para Anita. Seguimos en contacto!</td>\n",
       "      <td>P</td>\n",
       "      <td>uy</td>\n",
       "    </tr>\n",
       "    <tr>\n",
       "      <th>761932038349946880</th>\n",
       "      <td>@AlmaHistorica doy fe son espectaculares!!</td>\n",
       "      <td>P</td>\n",
       "      <td>uy</td>\n",
       "    </tr>\n",
       "    <tr>\n",
       "      <th>795458175348641792</th>\n",
       "      <td>@grisel_ok si hermoso y esta muy agradecido</td>\n",
       "      <td>P</td>\n",
       "      <td>uy</td>\n",
       "    </tr>\n",
       "    <tr>\n",
       "      <th>785432238783619072</th>\n",
       "      <td>Que bueno ver a personas que te alegran Aunque sean sólo 2 minutos</td>\n",
       "      <td>P</td>\n",
       "      <td>uy</td>\n",
       "    </tr>\n",
       "    <tr>\n",
       "      <th>776184535771906048</th>\n",
       "      <td>@migueldobrich gracias queridísimo ! Buenísimos la charla. La escuché esta tarde y sonreí mucho</td>\n",
       "      <td>P</td>\n",
       "      <td>uy</td>\n",
       "    </tr>\n",
       "  </tbody>\n",
       "</table>\n",
       "<p>1394 rows × 3 columns</p>\n",
       "</div>"
      ],
      "text/plain": [
       "                                                                                                                                                       text  \\\n",
       "id                                                                                                                                                            \n",
       "770616744192929792                                   Mi última partida jugada, con Sona support. La grandes razones para jugar Sona https://t.co/2rgmMeAFIs   \n",
       "769959690092642304                                         Tranquilos que con el.dinero de Camacho seguro mañana empiezan las escabadoras en el Arraijanal    \n",
       "770590136828559360                                                         @daniacal aún no, pero si estará jugable en el TGS no creo que tarde demasiado.    \n",
       "771339035445002240  #feliz septiembre..es bonito retarse..es increible lo mucho que puedes aprender.. medirse con el obstáculo..eres la joyita de la corona   \n",
       "768577963885522944                                 Este año el Madrid hará triplete y si lo hace me rapo al cero  grabad el mensaje jejej #ChiringuitoPiqué   \n",
       "...                                                                                                                                                     ...   \n",
       "780770298270474240      @vivianagarcia73 @anitafb Muchas gracias Sandra por tu ayuda y esperamos que los tips sean útiles para Anita. Seguimos en contacto!   \n",
       "761932038349946880                                                                                               @AlmaHistorica doy fe son espectaculares!!   \n",
       "795458175348641792                                                                                              @grisel_ok si hermoso y esta muy agradecido   \n",
       "785432238783619072                                                                       Que bueno ver a personas que te alegran Aunque sean sólo 2 minutos   \n",
       "776184535771906048                                          @migueldobrich gracias queridísimo ! Buenísimos la charla. La escuché esta tarde y sonreí mucho   \n",
       "\n",
       "                   polarity dialect  \n",
       "id                                   \n",
       "770616744192929792        P      es  \n",
       "769959690092642304        P      es  \n",
       "770590136828559360        P      es  \n",
       "771339035445002240        P      es  \n",
       "768577963885522944        P      es  \n",
       "...                     ...     ...  \n",
       "780770298270474240        P      uy  \n",
       "761932038349946880        P      uy  \n",
       "795458175348641792        P      uy  \n",
       "785432238783619072        P      uy  \n",
       "776184535771906048        P      uy  \n",
       "\n",
       "[1394 rows x 3 columns]"
      ]
     },
     "execution_count": 20,
     "metadata": {},
     "output_type": "execute_result"
    }
   ],
   "source": [
    "pd.options.display.max_colwidth = 200\n",
    "\n",
    "df[df[\"polarity\"] == \"P\"]"
   ]
  },
  {
   "cell_type": "code",
   "execution_count": 29,
   "metadata": {},
   "outputs": [
    {
     "data": {
      "text/html": [
       "<div>\n",
       "<style scoped>\n",
       "    .dataframe tbody tr th:only-of-type {\n",
       "        vertical-align: middle;\n",
       "    }\n",
       "\n",
       "    .dataframe tbody tr th {\n",
       "        vertical-align: top;\n",
       "    }\n",
       "\n",
       "    .dataframe thead th {\n",
       "        text-align: right;\n",
       "    }\n",
       "</style>\n",
       "<table border=\"1\" class=\"dataframe\">\n",
       "  <thead>\n",
       "    <tr style=\"text-align: right;\">\n",
       "      <th></th>\n",
       "      <th>text</th>\n",
       "      <th>polarity</th>\n",
       "    </tr>\n",
       "    <tr>\n",
       "      <th>id</th>\n",
       "      <th></th>\n",
       "      <th></th>\n",
       "    </tr>\n",
       "  </thead>\n",
       "  <tbody>\n",
       "    <tr>\n",
       "      <th>768512386269638656</th>\n",
       "      <td>@morbosaborealis jajajaja... eso es verdad... aquí no hay uno cuerdo</td>\n",
       "      <td>N</td>\n",
       "    </tr>\n",
       "    <tr>\n",
       "      <th>770434744748236800</th>\n",
       "      <td>@ragnomuelle Yo a veces hecho de menos mi pelo largo por eso mismo entre otras cosas</td>\n",
       "      <td>N</td>\n",
       "    </tr>\n",
       "    <tr>\n",
       "      <th>768596566378774528</th>\n",
       "      <td>Es conveniente tener un Gobierno democrático que cumpla su función politica. NO lo es tener un Gobierno que representa la #corrupciónPP</td>\n",
       "      <td>N</td>\n",
       "    </tr>\n",
       "    <tr>\n",
       "      <th>768071942096166912</th>\n",
       "      <td>@Jordicanal64 Pues si no fichan \"lo que sea\" además de un ridículo espantoso igual QSF nos deja plantados...esperemos que no</td>\n",
       "      <td>N</td>\n",
       "    </tr>\n",
       "    <tr>\n",
       "      <th>772121014436302848</th>\n",
       "      <td>glowen sigue a cuentas inactivas y es en plan oh seguro que esas cuentas te dan mucho más apoyo que a las que le diste unf JAJAJA</td>\n",
       "      <td>N</td>\n",
       "    </tr>\n",
       "    <tr>\n",
       "      <th>...</th>\n",
       "      <td>...</td>\n",
       "      <td>...</td>\n",
       "    </tr>\n",
       "    <tr>\n",
       "      <th>770952598954373120</th>\n",
       "      <td>@rubenlinoman como todo! Es un jugón! No quiero que lo fichéis. Es el peor día de mi vida</td>\n",
       "      <td>N</td>\n",
       "    </tr>\n",
       "    <tr>\n",
       "      <th>770642621966520320</th>\n",
       "      <td>.@DavidCpsberga @goslum Vamos, que usted es el portavoz de 2 millones de personas. Una inmensa... minoría. ¿Le molesta la \"minorización\"?</td>\n",
       "      <td>N</td>\n",
       "    </tr>\n",
       "    <tr>\n",
       "      <th>771303869896728577</th>\n",
       "      <td>q los GP de La Caixa (y otros) manipulen el Ibex es una bendició gracias a ellos podemos arrañar alg son auténticos PARDILLOS</td>\n",
       "      <td>N</td>\n",
       "    </tr>\n",
       "    <tr>\n",
       "      <th>772183891029463042</th>\n",
       "      <td>Os creéis que es broma que mi foto soy yo desnuda pero es verdad, en serio. Sin luz y sin flash, pero es cierto.</td>\n",
       "      <td>N</td>\n",
       "    </tr>\n",
       "    <tr>\n",
       "      <th>758202551967899649</th>\n",
       "      <td>@XbadetaX que es muy cara</td>\n",
       "      <td>N</td>\n",
       "    </tr>\n",
       "  </tbody>\n",
       "</table>\n",
       "<p>475 rows × 2 columns</p>\n",
       "</div>"
      ],
      "text/plain": [
       "                                                                                                                                                          text  \\\n",
       "id                                                                                                                                                               \n",
       "768512386269638656                                                                       @morbosaborealis jajajaja... eso es verdad... aquí no hay uno cuerdo    \n",
       "770434744748236800                                                       @ragnomuelle Yo a veces hecho de menos mi pelo largo por eso mismo entre otras cosas    \n",
       "768596566378774528     Es conveniente tener un Gobierno democrático que cumpla su función politica. NO lo es tener un Gobierno que representa la #corrupciónPP   \n",
       "768071942096166912             @Jordicanal64 Pues si no fichan \"lo que sea\" además de un ridículo espantoso igual QSF nos deja plantados...esperemos que no      \n",
       "772121014436302848          glowen sigue a cuentas inactivas y es en plan oh seguro que esas cuentas te dan mucho más apoyo que a las que le diste unf JAJAJA    \n",
       "...                                                                                                                                                        ...   \n",
       "770952598954373120                                                  @rubenlinoman como todo! Es un jugón! No quiero que lo fichéis. Es el peor día de mi vida    \n",
       "770642621966520320  .@DavidCpsberga @goslum Vamos, que usted es el portavoz de 2 millones de personas. Una inmensa... minoría. ¿Le molesta la \"minorización\"?    \n",
       "771303869896728577              q los GP de La Caixa (y otros) manipulen el Ibex es una bendició gracias a ellos podemos arrañar alg son auténticos PARDILLOS    \n",
       "772183891029463042                           Os creéis que es broma que mi foto soy yo desnuda pero es verdad, en serio. Sin luz y sin flash, pero es cierto.    \n",
       "758202551967899649                                                                                                                  @XbadetaX que es muy cara    \n",
       "\n",
       "                   polarity  \n",
       "id                           \n",
       "768512386269638656        N  \n",
       "770434744748236800        N  \n",
       "768596566378774528        N  \n",
       "768071942096166912        N  \n",
       "772121014436302848        N  \n",
       "...                     ...  \n",
       "770952598954373120        N  \n",
       "770642621966520320        N  \n",
       "771303869896728577        N  \n",
       "772183891029463042        N  \n",
       "758202551967899649        N  \n",
       "\n",
       "[475 rows x 2 columns]"
      ]
     },
     "execution_count": 29,
     "metadata": {},
     "output_type": "execute_result"
    }
   ],
   "source": [
    "pd.options.display.max_colwidth = 200\n",
    "\n",
    "df[df[\"polarity\"] == \"N\"]"
   ]
  }
 ],
 "metadata": {
  "kernelspec": {
   "display_name": "Python 3",
   "language": "python",
   "name": "python3"
  },
  "language_info": {
   "codemirror_mode": {
    "name": "ipython",
    "version": 3
   },
   "file_extension": ".py",
   "mimetype": "text/x-python",
   "name": "python",
   "nbconvert_exporter": "python",
   "pygments_lexer": "ipython3",
   "version": "3.8.5"
  }
 },
 "nbformat": 4,
 "nbformat_minor": 4
}

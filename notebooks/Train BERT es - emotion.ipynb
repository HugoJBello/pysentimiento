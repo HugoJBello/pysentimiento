{
 "cells": [
  {
   "cell_type": "markdown",
   "metadata": {},
   "source": [
    "## Train BERT model\n",
    "\n",
    "In this notebook we will train a BERT model for Emotion detection"
   ]
  },
  {
   "cell_type": "code",
   "execution_count": 9,
   "metadata": {},
   "outputs": [
    {
     "name": "stdout",
     "output_type": "stream",
     "text": [
      "The autoreload extension is already loaded. To reload it, use:\n",
      "  %reload_ext autoreload\n"
     ]
    }
   ],
   "source": [
    "%load_ext autoreload\n",
    "%autoreload 2\n",
    "import os\n",
    "import pandas as pd\n",
    "from datasets import Dataset, Value, ClassLabel, Features\n",
    "from pysentimiento.preprocessing import preprocess_tweet\n",
    "from pysentimiento.emotion import load_datasets\n",
    "\n",
    "\n",
    "train_dataset, dev_dataset, *args = load_datasets()\n"
   ]
  },
  {
   "cell_type": "code",
   "execution_count": 10,
   "metadata": {},
   "outputs": [
    {
     "name": "stdout",
     "output_type": "stream",
     "text": [
      "The autoreload extension is already loaded. To reload it, use:\n",
      "  %reload_ext autoreload\n",
      "Loading model dccuchile/bert-base-spanish-wwm-cased\n"
     ]
    },
    {
     "name": "stderr",
     "output_type": "stream",
     "text": [
      "Some weights of the model checkpoint at dccuchile/bert-base-spanish-wwm-cased were not used when initializing BertForSequenceClassification: ['cls.predictions.decoder.bias', 'cls.predictions.transform.LayerNorm.bias', 'cls.predictions.bias', 'cls.predictions.decoder.weight', 'cls.predictions.transform.dense.weight', 'cls.predictions.transform.LayerNorm.weight', 'cls.predictions.transform.dense.bias']\n",
      "- This IS expected if you are initializing BertForSequenceClassification from the checkpoint of a model trained on another task or with another architecture (e.g. initializing a BertForSequenceClassification model from a BertForPreTraining model).\n",
      "- This IS NOT expected if you are initializing BertForSequenceClassification from the checkpoint of a model that you expect to be exactly identical (initializing a BertForSequenceClassification model from a BertForSequenceClassification model).\n",
      "Some weights of BertForSequenceClassification were not initialized from the model checkpoint at dccuchile/bert-base-spanish-wwm-cased and are newly initialized: ['classifier.bias', 'classifier.weight', 'bert.pooler.dense.bias', 'bert.pooler.dense.weight']\n",
      "You should probably TRAIN this model on a down-stream task to be able to use it for predictions and inference.\n"
     ]
    }
   ],
   "source": [
    "%load_ext autoreload\n",
    "%autoreload 2\n",
    "import os\n",
    "from pysentimiento.tass import load_model\n",
    "from pysentimiento.emotion.datasets import id2label, label2id\n",
    "\n",
    "os.environ[\"CUDA_VISIBLE_DEVICES\"] = \"1\"\n",
    "\n",
    "base_model = \"dccuchile/bert-base-spanish-wwm-cased\"\n",
    "\n",
    "model, tokenizer = load_model(base_model, \n",
    "    id2label=id2label, \n",
    "    label2id=label2id\n",
    ")\n",
    "\n",
    "\n"
   ]
  },
  {
   "cell_type": "code",
   "execution_count": 11,
   "metadata": {},
   "outputs": [
    {
     "data": {
      "application/vnd.jupyter.widget-view+json": {
       "model_id": "8037cb929a4e479585b7efa466a86f48",
       "version_major": 2,
       "version_minor": 0
      },
      "text/plain": "HBox(children=(FloatProgress(value=0.0, max=184.0), HTML(value='')))"
     },
     "metadata": {},
     "output_type": "display_data"
    },
    {
     "name": "stdout",
     "output_type": "stream",
     "text": [
      "\n"
     ]
    },
    {
     "data": {
      "application/vnd.jupyter.widget-view+json": {
       "model_id": "5d650a48b4694b83bfc23cf6c635d4ec",
       "version_major": 2,
       "version_minor": 0
      },
      "text/plain": "HBox(children=(FloatProgress(value=0.0, max=54.0), HTML(value='')))"
     },
     "metadata": {},
     "output_type": "display_data"
    },
    {
     "name": "stdout",
     "output_type": "stream",
     "text": [
      "\n"
     ]
    }
   ],
   "source": [
    "def tokenize(batch):\n",
    "    return tokenizer(batch['text'], padding='max_length', truncation=True)\n",
    "\n",
    "batch_size = 32\n",
    "\n",
    "eval_batch_size = 16\n",
    "\n",
    "train_dataset = train_dataset.map(tokenize, batched=True, batch_size=batch_size)\n",
    "dev_dataset = dev_dataset.map(tokenize, batched=True, batch_size=eval_batch_size)\n"
   ]
  },
  {
   "cell_type": "code",
   "execution_count": 12,
   "metadata": {},
   "outputs": [
    {
     "data": {
      "application/vnd.jupyter.widget-view+json": {
       "model_id": "88023a4a61994e879225a2b471bac912",
       "version_major": 2,
       "version_minor": 0
      },
      "text/plain": "HBox(children=(FloatProgress(value=0.0, max=5886.0), HTML(value='')))"
     },
     "metadata": {},
     "output_type": "display_data"
    },
    {
     "name": "stdout",
     "output_type": "stream",
     "text": [
      "\n"
     ]
    },
    {
     "data": {
      "application/vnd.jupyter.widget-view+json": {
       "model_id": "9a58cd4592b14f71b81e07a28692f687",
       "version_major": 2,
       "version_minor": 0
      },
      "text/plain": "HBox(children=(FloatProgress(value=0.0, max=857.0), HTML(value='')))"
     },
     "metadata": {},
     "output_type": "display_data"
    },
    {
     "name": "stdout",
     "output_type": "stream",
     "text": [
      "\n"
     ]
    }
   ],
   "source": [
    "def format_dataset(dataset):\n",
    "    dataset = dataset.map(lambda examples: {'labels': examples['label']})\n",
    "    dataset.set_format(type='torch', columns=['input_ids', 'token_type_ids', 'attention_mask', 'labels'])\n",
    "    return dataset\n",
    "\n",
    "train_dataset = format_dataset(train_dataset)\n",
    "dev_dataset = format_dataset(dev_dataset)"
   ]
  },
  {
   "cell_type": "code",
   "execution_count": 15,
   "metadata": {},
   "outputs": [],
   "source": [
    "import torch\n",
    "from sklearn.metrics import precision_recall_fscore_support, accuracy_score\n",
    "\n",
    "\n",
    "def compute_metrics(pred):\n",
    "    \"\"\"\n",
    "    Compute metrics for Trainer\n",
    "    \"\"\"\n",
    "    labels = pred.label_ids\n",
    "    preds = pred.predictions.argmax(-1)\n",
    "\n",
    "    ret = {}\n",
    "\n",
    "    f1s = []\n",
    "    precs = []\n",
    "    recalls = []\n",
    "\n",
    "    for i, cat in enumerate(id2label):\n",
    "        cat_labels, cat_preds = labels == i, preds == i\n",
    "        precision, recall, f1, _ = precision_recall_fscore_support(\n",
    "            cat_labels, cat_preds, average='binary'\n",
    "        )\n",
    "\n",
    "        f1s.append(f1)\n",
    "        precs.append(precision)\n",
    "        recalls.append(recall)\n",
    "\n",
    "        ret[cat.lower()+\"_f1\"] = f1\n",
    "    \n",
    "    \n",
    "    ret[\"macro_f1\"] = torch.Tensor(f1s).mean()\n",
    "    ret[\"macro_precision\"] = torch.Tensor(precs).mean()\n",
    "    ret[\"macro_recall\"] = torch.Tensor(recalls).mean()\n",
    "\n",
    "\n",
    "    precision, recall, f1, _ = precision_recall_fscore_support(labels, preds, average='macro')\n",
    "    ret[\"f1\"] = f1\n",
    "    ret[\"acc\"] = accuracy_score(labels, preds)\n",
    "\n",
    "    return ret \n",
    "    \n"
   ]
  },
  {
   "cell_type": "code",
   "execution_count": 17,
   "metadata": {},
   "outputs": [
    {
     "data": {
      "text/html": "\n    <div>\n      \n      <progress value='1840' max='1840' style='width:300px; height:20px; vertical-align: middle;'></progress>\n      [1840/1840 13:41, Epoch 10/10]\n    </div>\n    <table border=\"1\" class=\"dataframe\">\n  <thead>\n    <tr style=\"text-align: left;\">\n      <th>Epoch</th>\n      <th>Training Loss</th>\n      <th>Validation Loss</th>\n      <th>Others F1</th>\n      <th>Joy F1</th>\n      <th>Sadness F1</th>\n      <th>Anger F1</th>\n      <th>Surprise F1</th>\n      <th>Disgust F1</th>\n      <th>Fear F1</th>\n      <th>Macro F1</th>\n      <th>Macro Precision</th>\n      <th>Macro Recall</th>\n      <th>F1</th>\n      <th>Acc</th>\n    </tr>\n  </thead>\n  <tbody>\n    <tr>\n      <td>1</td>\n      <td>No log</td>\n      <td>1.009661</td>\n      <td>0.747948</td>\n      <td>0.644501</td>\n      <td>0.783920</td>\n      <td>0.625698</td>\n      <td>0.269231</td>\n      <td>0.000000</td>\n      <td>0.777778</td>\n      <td>0.549868</td>\n      <td>0.579720</td>\n      <td>0.534252</td>\n      <td>0.549868</td>\n      <td>0.691949</td>\n    </tr>\n    <tr>\n      <td>2</td>\n      <td>No log</td>\n      <td>1.266071</td>\n      <td>0.745721</td>\n      <td>0.668281</td>\n      <td>0.771429</td>\n      <td>0.674033</td>\n      <td>0.175439</td>\n      <td>0.000000</td>\n      <td>0.631579</td>\n      <td>0.523783</td>\n      <td>0.524773</td>\n      <td>0.528689</td>\n      <td>0.523783</td>\n      <td>0.695449</td>\n    </tr>\n    <tr>\n      <td>3</td>\n      <td>0.241800</td>\n      <td>1.279564</td>\n      <td>0.730159</td>\n      <td>0.640669</td>\n      <td>0.785047</td>\n      <td>0.657005</td>\n      <td>0.285714</td>\n      <td>0.000000</td>\n      <td>0.571429</td>\n      <td>0.524289</td>\n      <td>0.509538</td>\n      <td>0.544956</td>\n      <td>0.524289</td>\n      <td>0.679113</td>\n    </tr>\n    <tr>\n      <td>4</td>\n      <td>0.241800</td>\n      <td>1.712996</td>\n      <td>0.744240</td>\n      <td>0.626781</td>\n      <td>0.795918</td>\n      <td>0.604651</td>\n      <td>0.307692</td>\n      <td>0.000000</td>\n      <td>0.631579</td>\n      <td>0.530123</td>\n      <td>0.540208</td>\n      <td>0.522808</td>\n      <td>0.530123</td>\n      <td>0.677946</td>\n    </tr>\n    <tr>\n      <td>5</td>\n      <td>0.241800</td>\n      <td>1.891702</td>\n      <td>0.730083</td>\n      <td>0.640625</td>\n      <td>0.769953</td>\n      <td>0.612500</td>\n      <td>0.222222</td>\n      <td>0.117647</td>\n      <td>0.736842</td>\n      <td>0.547125</td>\n      <td>0.557803</td>\n      <td>0.539774</td>\n      <td>0.547125</td>\n      <td>0.673279</td>\n    </tr>\n    <tr>\n      <td>6</td>\n      <td>0.081900</td>\n      <td>2.074566</td>\n      <td>0.744070</td>\n      <td>0.661578</td>\n      <td>0.775120</td>\n      <td>0.693467</td>\n      <td>0.250000</td>\n      <td>0.000000</td>\n      <td>0.500000</td>\n      <td>0.517748</td>\n      <td>0.499124</td>\n      <td>0.545518</td>\n      <td>0.517748</td>\n      <td>0.690782</td>\n    </tr>\n    <tr>\n      <td>7</td>\n      <td>0.081900</td>\n      <td>2.178063</td>\n      <td>0.734839</td>\n      <td>0.663239</td>\n      <td>0.765550</td>\n      <td>0.613636</td>\n      <td>0.305085</td>\n      <td>0.000000</td>\n      <td>0.500000</td>\n      <td>0.511764</td>\n      <td>0.514932</td>\n      <td>0.512257</td>\n      <td>0.511764</td>\n      <td>0.683781</td>\n    </tr>\n    <tr>\n      <td>8</td>\n      <td>0.081900</td>\n      <td>2.243828</td>\n      <td>0.757192</td>\n      <td>0.633721</td>\n      <td>0.792079</td>\n      <td>0.635417</td>\n      <td>0.281250</td>\n      <td>0.000000</td>\n      <td>0.526316</td>\n      <td>0.517996</td>\n      <td>0.524978</td>\n      <td>0.515093</td>\n      <td>0.517996</td>\n      <td>0.691949</td>\n    </tr>\n    <tr>\n      <td>9</td>\n      <td>0.016900</td>\n      <td>2.292483</td>\n      <td>0.735577</td>\n      <td>0.643243</td>\n      <td>0.759259</td>\n      <td>0.634409</td>\n      <td>0.303030</td>\n      <td>0.000000</td>\n      <td>0.500000</td>\n      <td>0.510788</td>\n      <td>0.504568</td>\n      <td>0.518582</td>\n      <td>0.510788</td>\n      <td>0.677946</td>\n    </tr>\n    <tr>\n      <td>10</td>\n      <td>0.016900</td>\n      <td>2.293652</td>\n      <td>0.742317</td>\n      <td>0.650273</td>\n      <td>0.776119</td>\n      <td>0.641304</td>\n      <td>0.277778</td>\n      <td>0.000000</td>\n      <td>0.476190</td>\n      <td>0.509140</td>\n      <td>0.503609</td>\n      <td>0.515749</td>\n      <td>0.509140</td>\n      <td>0.682614</td>\n    </tr>\n  </tbody>\n</table><p>",
      "text/plain": "<IPython.core.display.HTML object>"
     },
     "metadata": {},
     "output_type": "display_data"
    },
    {
     "name": "stderr",
     "output_type": "stream",
     "text": [
      "/home/jmperez/.local/share/virtualenvs/pysent-oyXQVI9B/lib/python3.8/site-packages/sklearn/metrics/_classification.py:1248: UndefinedMetricWarning: Precision and F-score are ill-defined and being set to 0.0 due to no predicted samples. Use `zero_division` parameter to control this behavior.\n",
      "  _warn_prf(average, modifier, msg_start, len(result))\n",
      "/home/jmperez/.local/share/virtualenvs/pysent-oyXQVI9B/lib/python3.8/site-packages/sklearn/metrics/_classification.py:1248: UndefinedMetricWarning: Precision and F-score are ill-defined and being set to 0.0 in labels with no predicted samples. Use `zero_division` parameter to control this behavior.\n",
      "  _warn_prf(average, modifier, msg_start, len(result))\n"
     ]
    },
    {
     "data": {
      "text/plain": "TrainOutput(global_step=1840, training_loss=0.09296004240927488, metrics={'train_runtime': 822.315, 'train_samples_per_second': 2.238, 'total_flos': 0, 'epoch': 10.0})"
     },
     "execution_count": 17,
     "metadata": {},
     "output_type": "execute_result"
    }
   ],
   "source": [
    "from transformers import TrainingArguments, Trainer\n",
    "epochs = 10\n",
    "\n",
    "total_steps = (epochs * len(train_dataset)) // batch_size\n",
    "warmup_steps = total_steps // 10\n",
    "training_args = TrainingArguments(\n",
    "    output_dir='./results',\n",
    "    num_train_epochs=epochs,\n",
    "    per_device_train_batch_size=batch_size,\n",
    "    per_device_eval_batch_size=eval_batch_size,\n",
    "    warmup_steps=warmup_steps,\n",
    "    evaluation_strategy=\"epoch\",\n",
    "    do_eval=False,\n",
    "    weight_decay=0.01,\n",
    "    logging_dir='./logs',\n",
    "    load_best_model_at_end=True,\n",
    "    metric_for_best_model=\"eval_f1\",\n",
    ")\n",
    "\n",
    "trainer = Trainer(\n",
    "    model=model,\n",
    "    args=training_args,\n",
    "    compute_metrics=compute_metrics,\n",
    "    train_dataset=train_dataset,\n",
    "    eval_dataset=dev_dataset,\n",
    ")\n",
    "\n",
    "trainer.train()\n"
   ]
  },
  {
   "cell_type": "code",
   "execution_count": 5,
   "metadata": {},
   "outputs": [
    {
     "data": {
      "text/html": [
       "\n",
       "    <div>\n",
       "        <style>\n",
       "            /* Turns off some styling */\n",
       "            progress {\n",
       "                /* gets rid of default border in Firefox and Opera. */\n",
       "                border: none;\n",
       "                /* Needs to be in here for Safari polyfill so background images work as expected. */\n",
       "                background-size: auto;\n",
       "            }\n",
       "        </style>\n",
       "      \n",
       "      <progress value='151' max='151' style='width:300px; height:20px; vertical-align: middle;'></progress>\n",
       "      [151/151 01:24, Epoch 1/1]\n",
       "    </div>\n",
       "    <table border=\"1\" class=\"dataframe\">\n",
       "  <thead>\n",
       "    <tr style=\"text-align: left;\">\n",
       "      <th>Epoch</th>\n",
       "      <th>Training Loss</th>\n",
       "      <th>Validation Loss</th>\n",
       "      <th>Accuracy</th>\n",
       "      <th>F1</th>\n",
       "      <th>Precision</th>\n",
       "      <th>Recall</th>\n",
       "    </tr>\n",
       "  </thead>\n",
       "  <tbody>\n",
       "    <tr>\n",
       "      <td>1</td>\n",
       "      <td>No log</td>\n",
       "      <td>0.781631</td>\n",
       "      <td>0.653295</td>\n",
       "      <td>0.641696</td>\n",
       "      <td>0.642772</td>\n",
       "      <td>0.650757</td>\n",
       "    </tr>\n",
       "  </tbody>\n",
       "</table><p>"
      ],
      "text/plain": [
       "<IPython.core.display.HTML object>"
      ]
     },
     "metadata": {},
     "output_type": "display_data"
    },
    {
     "data": {
      "text/plain": [
       "TrainOutput(global_step=151, training_loss=0.8435698250271627)"
      ]
     },
     "execution_count": 5,
     "metadata": {},
     "output_type": "execute_result"
    }
   ],
   "source": [
    "from pysentimiento import compute_metrics\n",
    "\n",
    "trainer = Trainer(\n",
    "    model=model,\n",
    "    args=training_args,\n",
    "    compute_metrics=compute_metrics,\n",
    "    train_dataset=train_dataset,\n",
    "    eval_dataset=dev_dataset,\n",
    ")\n",
    "\n",
    "trainer.train()\n"
   ]
  },
  {
   "cell_type": "code",
   "execution_count": 7,
   "metadata": {},
   "outputs": [
    {
     "data": {
      "text/html": [
       "\n",
       "    <div>\n",
       "        <style>\n",
       "            /* Turns off some styling */\n",
       "            progress {\n",
       "                /* gets rid of default border in Firefox and Opera. */\n",
       "                border: none;\n",
       "                /* Needs to be in here for Safari polyfill so background images work as expected. */\n",
       "                background-size: auto;\n",
       "            }\n",
       "        </style>\n",
       "      \n",
       "      <progress value='454' max='454' style='width:300px; height:20px; vertical-align: middle;'></progress>\n",
       "      [454/454 00:29]\n",
       "    </div>\n",
       "    "
      ],
      "text/plain": [
       "<IPython.core.display.HTML object>"
      ]
     },
     "metadata": {},
     "output_type": "display_data"
    },
    {
     "data": {
      "text/plain": [
       "{'eval_loss': 0.7347931861877441,\n",
       " 'eval_accuracy': 0.686398678414097,\n",
       " 'eval_f1': 0.6673146659667489,\n",
       " 'eval_precision': 0.6676487102833413,\n",
       " 'eval_recall': 0.6695717138336971,\n",
       " 'epoch': 1.0}"
      ]
     },
     "execution_count": 7,
     "metadata": {},
     "output_type": "execute_result"
    }
   ],
   "source": [
    "trainer.evaluate(test_dataset)"
   ]
  },
  {
   "cell_type": "code",
   "execution_count": null,
   "metadata": {},
   "outputs": [],
   "source": [
    "path = \"../models/beto-sentiment-analysis\"\n",
    "model.save_pretrained(path)\n",
    "tokenizer.save_pretrained(path)"
   ]
  },
  {
   "cell_type": "code",
   "execution_count": null,
   "metadata": {},
   "outputs": [],
   "source": []
  }
 ],
 "metadata": {
  "kernelspec": {
   "display_name": "Python 3.8.5 64-bit ('pysent-oyXQVI9B': pipenv)",
   "name": "python385jvsc74a57bd01b2ee3c7e4be117f16044e4287774c113d04cbc1cc9e7e3b16e6e098f73486a4"
  },
  "language_info": {
   "codemirror_mode": {
    "name": "ipython",
    "version": 3
   },
   "file_extension": ".py",
   "mimetype": "text/x-python",
   "name": "python",
   "nbconvert_exporter": "python",
   "pygments_lexer": "ipython3",
   "version": "3.8.5"
  },
  "metadata": {
   "interpreter": {
    "hash": "1b2ee3c7e4be117f16044e4287774c113d04cbc1cc9e7e3b16e6e098f73486a4"
   }
  },
  "orig_nbformat": 3
 },
 "nbformat": 4,
 "nbformat_minor": 4
}
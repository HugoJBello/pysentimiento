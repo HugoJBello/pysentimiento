{
 "cells": [
  {
   "cell_type": "code",
   "execution_count": 109,
   "metadata": {},
   "outputs": [
    {
     "name": "stdout",
     "output_type": "stream",
     "text": [
      "bert-hier.json\t\t\t  beto.json\n",
      "bert.json\t\t\t  robertuito-combi.json\n",
      "beto-combi.json\t\t\t  robertuito-hierarchical-gamma-0.1.json\n",
      "beto-hierarchical-gamma-0.1.json  robertuito-hierarchical-gamma-0.json\n",
      "beto-hierarchical-gamma-0.json\t  robertuito.json\n"
     ]
    }
   ],
   "source": [
    "!ls ../../evaluations/hate_speech/task_b/"
   ]
  },
  {
   "cell_type": "code",
   "execution_count": 107,
   "metadata": {},
   "outputs": [
    {
     "name": "stdout",
     "output_type": "stream",
     "text": [
      "We have 10 beto evaluations\n",
      "We have 10 beto-hier evaluations\n",
      "We have 10 beto-combi evaluations\n",
      "We have 9 bert evaluations\n",
      "We have 6 bert-hier evaluations\n"
     ]
    },
    {
     "data": {
      "text/html": [
       "<div>\n",
       "<style scoped>\n",
       "    .dataframe tbody tr th:only-of-type {\n",
       "        vertical-align: middle;\n",
       "    }\n",
       "\n",
       "    .dataframe tbody tr th {\n",
       "        vertical-align: top;\n",
       "    }\n",
       "\n",
       "    .dataframe thead th {\n",
       "        text-align: right;\n",
       "    }\n",
       "</style>\n",
       "<table border=\"1\" class=\"dataframe\">\n",
       "  <thead>\n",
       "    <tr style=\"text-align: right;\">\n",
       "      <th></th>\n",
       "      <th>hs_precision</th>\n",
       "      <th>hs_recall</th>\n",
       "      <th>hs_f1</th>\n",
       "      <th>macro_hs_f1_score</th>\n",
       "      <th>tr_f1</th>\n",
       "      <th>ag_f1</th>\n",
       "      <th>emr_no_gating</th>\n",
       "      <th>emr</th>\n",
       "      <th>macro_f1</th>\n",
       "    </tr>\n",
       "  </thead>\n",
       "  <tbody>\n",
       "    <tr>\n",
       "      <th>beto mean</th>\n",
       "      <td>0.713</td>\n",
       "      <td>0.778</td>\n",
       "      <td>0.741</td>\n",
       "      <td>0.771</td>\n",
       "      <td>0.765</td>\n",
       "      <td>0.688</td>\n",
       "      <td>0.684</td>\n",
       "      <td>0.685</td>\n",
       "      <td>0.731</td>\n",
       "    </tr>\n",
       "    <tr>\n",
       "      <th>beto-hier mean</th>\n",
       "      <td>0.744</td>\n",
       "      <td>0.728</td>\n",
       "      <td>0.735</td>\n",
       "      <td>0.776</td>\n",
       "      <td>0.758</td>\n",
       "      <td>0.674</td>\n",
       "      <td>0.674</td>\n",
       "      <td>0.703</td>\n",
       "      <td>0.722</td>\n",
       "    </tr>\n",
       "    <tr>\n",
       "      <th>beto-combi mean</th>\n",
       "      <td>0.726</td>\n",
       "      <td>0.762</td>\n",
       "      <td>0.742</td>\n",
       "      <td>0.776</td>\n",
       "      <td>0.763</td>\n",
       "      <td>0.668</td>\n",
       "      <td>0.698</td>\n",
       "      <td>0.698</td>\n",
       "      <td>0.724</td>\n",
       "    </tr>\n",
       "    <tr>\n",
       "      <th>bert mean</th>\n",
       "      <td>0.479</td>\n",
       "      <td>0.954</td>\n",
       "      <td>0.638</td>\n",
       "      <td>0.513</td>\n",
       "      <td>0.600</td>\n",
       "      <td>0.442</td>\n",
       "      <td>0.380</td>\n",
       "      <td>0.381</td>\n",
       "      <td>0.560</td>\n",
       "    </tr>\n",
       "    <tr>\n",
       "      <th>bert-hier mean</th>\n",
       "      <td>0.479</td>\n",
       "      <td>0.961</td>\n",
       "      <td>0.639</td>\n",
       "      <td>0.509</td>\n",
       "      <td>0.587</td>\n",
       "      <td>0.445</td>\n",
       "      <td>0.363</td>\n",
       "      <td>0.378</td>\n",
       "      <td>0.557</td>\n",
       "    </tr>\n",
       "  </tbody>\n",
       "</table>\n",
       "</div>"
      ],
      "text/plain": [
       "                 hs_precision  hs_recall  hs_f1  macro_hs_f1_score  tr_f1  \\\n",
       "beto mean               0.713      0.778  0.741              0.771  0.765   \n",
       "beto-hier mean          0.744      0.728  0.735              0.776  0.758   \n",
       "beto-combi mean         0.726      0.762  0.742              0.776  0.763   \n",
       "bert mean               0.479      0.954  0.638              0.513  0.600   \n",
       "bert-hier mean          0.479      0.961  0.639              0.509  0.587   \n",
       "\n",
       "                 ag_f1  emr_no_gating   emr  macro_f1  \n",
       "beto mean        0.688          0.684 0.685     0.731  \n",
       "beto-hier mean   0.674          0.674 0.703     0.722  \n",
       "beto-combi mean  0.668          0.698 0.698     0.724  \n",
       "bert mean        0.442          0.380 0.381     0.560  \n",
       "bert-hier mean   0.445          0.363 0.378     0.557  "
      ]
     },
     "execution_count": 107,
     "metadata": {},
     "output_type": "execute_result"
    }
   ],
   "source": [
    "import json\n",
    "import pandas as pd\n",
    "\n",
    "evaluations = {\n",
    "\n",
    "}\n",
    "\n",
    "for model_name, path in [\n",
    "    ('beto', '../../evaluations/hate_speech/task_b/beto.json'),\n",
    "    ('beto-hier', '../../evaluations/hate_speech/task_b/beto-hierarchical-gamma-0.1.json'),\n",
    "    #('beto-hier-zero', '../../evaluations/hate_speech/task_b/beto-hierarchical-gamma-0.json'),\n",
    "    ('beto-combi', '../../evaluations/hate_speech/task_b/beto-combi.json'),\n",
    "    ('robertuito', '../../evaluations/hate_speech/task_b/robertuito.json'),\n",
    "    ('robertuito-hier', '../../evaluations/hate_speech/task_b/robertuito-hierarchical-gamma-0.1.json'),\n",
    "    #('robertuito-hier-zero', '../../evaluations/hate_speech/task_b/robertuito-hierarchical-gamma-0.json'),\n",
    "    ('robertuito-combi', '../../evaluations/hate_speech/task_b/robertuito-combi.json'),\n",
    "    ]:\n",
    "    with open(path) as f:\n",
    "        evaluations[model_name] = json.load(f)\n",
    "\n",
    "\n",
    "for key, evals in evaluations.items():\n",
    "    print(f\"We have {len(evals['evaluations']['hate_speech'])} {key} evaluations\")\n",
    "\n",
    "\n",
    "\n",
    "dfs = []\n",
    "for model_name, model_results in evaluations.items():\n",
    "    model_evaluations = model_results[\"evaluations\"][\"hate_speech\"]\n",
    "    \n",
    "    if not model_evaluations:\n",
    "        continue\n",
    "    \n",
    "    df = pd.DataFrame(model_evaluations)\n",
    "\n",
    "    df.columns = [x.split(\"_\", 1)[1] if \"_\" in x else x for x in df.columns]\n",
    "    \n",
    "    mean_df = pd.DataFrame({\n",
    "        f\"{model_name} mean\": df.mean(), \n",
    "        f\"{model_name} std\": df.std()\n",
    "    })\n",
    "    dfs.append(mean_df)\n",
    "\n",
    "result_df = pd.concat(dfs, axis=1)\n",
    "index = [\n",
    "    'hs_f1', 'hs_precision', 'hs_recall', 'tr_f1',\n",
    "    'ag_f1', 'macro_hs_f1_score',\n",
    "    'emr_no_gating', 'emr', \n",
    "    'macro_f1',\n",
    "]\n",
    "result_df.loc[index, [c for c in result_df.columns if \"std\" not in c]]"
   ]
  },
  {
   "cell_type": "code",
   "execution_count": 88,
   "metadata": {},
   "outputs": [],
   "source": [
    "import scipy.stats\n",
    "\n",
    "metric = \"eval_emr\"\n",
    "\n",
    "combi = {\n",
    "    \"f1\": [evaluation[\"eval_macro_f1\"] for evaluation in evaluations[\"beto-combi\"][\"evaluations\"][\"hate_speech\"]],\n",
    "    \"emr\": [evaluation[\"eval_emr\"] for evaluation in evaluations[\"beto-combi\"][\"evaluations\"][\"hate_speech\"]]\n",
    "}\n",
    "\n",
    "hier = {\n",
    "    \"f1\": [evaluation[\"eval_macro_f1\"] for evaluation in evaluations[\"beto-hier\"][\"evaluations\"][\"hate_speech\"]],\n",
    "    \"emr\": [evaluation[\"eval_emr\"] for evaluation in evaluations[\"beto-hier\"][\"evaluations\"][\"hate_speech\"]]\n",
    "}\n",
    "\n",
    "\n",
    "standard = {\n",
    "    \"f1\": [evaluation[\"eval_macro_f1\"] for evaluation in evaluations[\"beto\"][\"evaluations\"][\"hate_speech\"]],\n",
    "    \"emr\": [evaluation[\"eval_emr\"] for evaluation in evaluations[\"beto\"][\"evaluations\"][\"hate_speech\"]]\n",
    "}\n"
   ]
  },
  {
   "cell_type": "markdown",
   "metadata": {},
   "source": [
    "Corremos un test de Kruskal para ver si la diferencia entre las medias es significativa\n"
   ]
  },
  {
   "cell_type": "code",
   "execution_count": 95,
   "metadata": {},
   "outputs": [
    {
     "data": {
      "text/plain": [
       "KruskalResult(statistic=3.4920080142475607, pvalue=0.17446973214802494)"
      ]
     },
     "execution_count": 95,
     "metadata": {},
     "output_type": "execute_result"
    }
   ],
   "source": [
    "scipy.stats.kruskal(standard[\"emr\"], hier[\"emr\"], combi[\"emr\"])"
   ]
  },
  {
   "cell_type": "code",
   "execution_count": 96,
   "metadata": {},
   "outputs": [
    {
     "data": {
      "text/plain": [
       "KruskalResult(statistic=3.6567741935483866, pvalue=0.16067250810281022)"
      ]
     },
     "execution_count": 96,
     "metadata": {},
     "output_type": "execute_result"
    }
   ],
   "source": [
    "scipy.stats.kruskal(standard[\"f1\"], hier[\"f1\"], combi[\"f1\"])"
   ]
  },
  {
   "cell_type": "code",
   "execution_count": 91,
   "metadata": {},
   "outputs": [
    {
     "data": {
      "text/plain": [
       "MannwhitneyuResult(statistic=26.5, pvalue=0.08186862373064437)"
      ]
     },
     "execution_count": 91,
     "metadata": {},
     "output_type": "execute_result"
    }
   ],
   "source": [
    "scipy.stats.mannwhitneyu(standard[\"emr\"], hier[\"emr\"], )"
   ]
  },
  {
   "cell_type": "markdown",
   "metadata": {},
   "source": [
    "No lo es"
   ]
  },
  {
   "cell_type": "code",
   "execution_count": 44,
   "metadata": {},
   "outputs": [
    {
     "data": {
      "text/plain": [
       "KruskalResult(statistic=10.860138146167559, pvalue=0.004382793059181017)"
      ]
     },
     "execution_count": 44,
     "metadata": {},
     "output_type": "execute_result"
    }
   ],
   "source": [
    "import scipy.stats\n",
    "\n",
    "combi_emr = [evaluation[\"eval_emr\"] for evaluation in evaluations[\"robertuito-combi\"][\"evaluations\"][\"hate_speech\"]]\n",
    "hier_emr = [evaluation[\"eval_emr\"] for evaluation in evaluations[\"robertuito-hier\"][\"evaluations\"][\"hate_speech\"]]\n",
    "standard_emr = [evaluation[\"eval_emr\"] for evaluation in evaluations[\"robertuito\"][\"evaluations\"][\"hate_speech\"]]\n",
    "\n",
    "scipy.stats.kruskal(standard_emr, hier_emr, combi_emr)"
   ]
  },
  {
   "cell_type": "markdown",
   "metadata": {},
   "source": [
    "En el caso de robertuito sí! wtf"
   ]
  },
  {
   "cell_type": "markdown",
   "metadata": {},
   "source": []
  }
 ],
 "metadata": {
  "interpreter": {
   "hash": "387abc9bc94d8eb1bd0148a5d4cb2bf99bc3b40fa501b808e2b508b4f65ed831"
  },
  "kernelspec": {
   "display_name": "Python 3.7.12 64-bit ('pysentimiento-bwlKzHxB-py3.7': poetry)",
   "name": "python3"
  },
  "language_info": {
   "codemirror_mode": {
    "name": "ipython",
    "version": 3
   },
   "file_extension": ".py",
   "mimetype": "text/x-python",
   "name": "python",
   "nbconvert_exporter": "python",
   "pygments_lexer": "ipython3",
   "version": "3.7.12"
  },
  "orig_nbformat": 4
 },
 "nbformat": 4,
 "nbformat_minor": 2
}

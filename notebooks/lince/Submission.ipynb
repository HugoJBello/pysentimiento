{
 "cells": [
  {
   "cell_type": "code",
   "execution_count": 1,
   "metadata": {},
   "outputs": [
    {
     "name": "stdout",
     "output_type": "stream",
     "text": [
      "bertweet-hate-speech\t     robertuito-irony\n",
      "robertuito-emotion-analysis  robertuito-lince-ner\n",
      "robertuito-hate-speech\t     robertuito-sentiment-analysis\n"
     ]
    }
   ],
   "source": [
    "!ls ../../models/"
   ]
  },
  {
   "cell_type": "code",
   "execution_count": 77,
   "metadata": {},
   "outputs": [
    {
     "name": "stderr",
     "output_type": "stream",
     "text": [
      "loading configuration file ../../models/robertuito-lince-ner/config.json\n",
      "Model config RobertaConfig {\n",
      "  \"_name_or_path\": \"../../models/robertuito-lince-ner\",\n",
      "  \"architectures\": [\n",
      "    \"RobertaForTokenClassification\"\n",
      "  ],\n",
      "  \"attention_probs_dropout_prob\": 0.1,\n",
      "  \"bos_token_id\": 0,\n",
      "  \"classifier_dropout\": null,\n",
      "  \"eos_token_id\": 2,\n",
      "  \"gradient_checkpointing\": false,\n",
      "  \"hidden_act\": \"gelu\",\n",
      "  \"hidden_dropout_prob\": 0.1,\n",
      "  \"hidden_size\": 768,\n",
      "  \"id2label\": {\n",
      "    \"0\": \"O\",\n",
      "    \"1\": \"B-EVENT\",\n",
      "    \"2\": \"I-EVENT\",\n",
      "    \"3\": \"B-GROUP\",\n",
      "    \"4\": \"I-GROUP\",\n",
      "    \"5\": \"B-LOC\",\n",
      "    \"6\": \"I-LOC\",\n",
      "    \"7\": \"B-ORG\",\n",
      "    \"8\": \"I-ORG\",\n",
      "    \"9\": \"B-OTHER\",\n",
      "    \"10\": \"I-OTHER\",\n",
      "    \"11\": \"B-PER\",\n",
      "    \"12\": \"I-PER\",\n",
      "    \"13\": \"B-PROD\",\n",
      "    \"14\": \"I-PROD\",\n",
      "    \"15\": \"B-TIME\",\n",
      "    \"16\": \"I-TIME\",\n",
      "    \"17\": \"B-TITLE\",\n",
      "    \"18\": \"I-TITLE\"\n",
      "  },\n",
      "  \"initializer_range\": 0.02,\n",
      "  \"intermediate_size\": 3072,\n",
      "  \"label2id\": {\n",
      "    \"B-EVENT\": 1,\n",
      "    \"B-GROUP\": 3,\n",
      "    \"B-LOC\": 5,\n",
      "    \"B-ORG\": 7,\n",
      "    \"B-OTHER\": 9,\n",
      "    \"B-PER\": 11,\n",
      "    \"B-PROD\": 13,\n",
      "    \"B-TIME\": 15,\n",
      "    \"B-TITLE\": 17,\n",
      "    \"I-EVENT\": 2,\n",
      "    \"I-GROUP\": 4,\n",
      "    \"I-LOC\": 6,\n",
      "    \"I-ORG\": 8,\n",
      "    \"I-OTHER\": 10,\n",
      "    \"I-PER\": 12,\n",
      "    \"I-PROD\": 14,\n",
      "    \"I-TIME\": 16,\n",
      "    \"I-TITLE\": 18,\n",
      "    \"O\": 0\n",
      "  },\n",
      "  \"layer_norm_eps\": 1e-12,\n",
      "  \"max_position_embeddings\": 130,\n",
      "  \"model_type\": \"roberta\",\n",
      "  \"num_attention_heads\": 12,\n",
      "  \"num_hidden_layers\": 12,\n",
      "  \"pad_token_id\": 1,\n",
      "  \"position_embedding_type\": \"absolute\",\n",
      "  \"torch_dtype\": \"float32\",\n",
      "  \"transformers_version\": \"4.13.0\",\n",
      "  \"type_vocab_size\": 1,\n",
      "  \"use_cache\": true,\n",
      "  \"vocab_size\": 30002\n",
      "}\n",
      "\n",
      "loading weights file ../../models/robertuito-lince-ner/pytorch_model.bin\n"
     ]
    },
    {
     "name": "stdout",
     "output_type": "stream",
     "text": [
      "The autoreload extension is already loaded. To reload it, use:\n",
      "  %reload_ext autoreload\n"
     ]
    },
    {
     "name": "stderr",
     "output_type": "stream",
     "text": [
      "All model checkpoint weights were used when initializing RobertaForTokenClassification.\n",
      "\n",
      "All the weights of RobertaForTokenClassification were initialized from the model checkpoint at ../../models/robertuito-lince-ner.\n",
      "If your task is similar to the task the model of the checkpoint was trained on, you can already use RobertaForTokenClassification for predictions without further training.\n",
      "Didn't find file ../../models/robertuito-lince-ner/added_tokens.json. We won't load it.\n",
      "loading file None\n",
      "loading file ../../models/robertuito-lince-ner/special_tokens_map.json\n",
      "loading file ../../models/robertuito-lince-ner/tokenizer_config.json\n",
      "loading file ../../models/robertuito-lince-ner/tokenizer.json\n"
     ]
    }
   ],
   "source": [
    "%load_ext autoreload\n",
    "%autoreload 2\n",
    "from transformers import AutoModelForTokenClassification, AutoTokenizer\n",
    "\n",
    "model = AutoModelForTokenClassification.from_pretrained(\"../../models/robertuito-lince-ner\")\n",
    "\n",
    "tokenizer = AutoTokenizer.from_pretrained(\"../../models/robertuito-lince-ner\")\n",
    "tokenizer.model_max_length = 128"
   ]
  },
  {
   "cell_type": "code",
   "execution_count": 78,
   "metadata": {},
   "outputs": [
    {
     "data": {
      "text/plain": [
       "23527"
      ]
     },
     "execution_count": 78,
     "metadata": {},
     "output_type": "execute_result"
    }
   ],
   "source": [
    "def load_conll(path, lang=\"es\"):\n",
    "    \"\"\"\n",
    "    Loads CoNLL-2003 dataset\n",
    "    \"\"\"\n",
    "    with open(path) as f:\n",
    "        lines = f.read().splitlines()\n",
    "    data = []\n",
    "    current_line = []\n",
    "    for line in lines:\n",
    "        line = line.strip()\n",
    "        if line == \"\":\n",
    "            data.append(current_line)\n",
    "            current_line = []\n",
    "        else:\n",
    "            current_line.append(line.split(\"\\t\"))\n",
    "    return data\n",
    "\n",
    "test_path = \"../../data/lince/ner_spaeng/test.conll\"\n",
    "\n",
    "test_data = load_conll(test_path)\n",
    "\n",
    "len(test_data)"
   ]
  },
  {
   "cell_type": "code",
   "execution_count": 104,
   "metadata": {},
   "outputs": [
    {
     "data": {
      "application/vnd.jupyter.widget-view+json": {
       "model_id": "b34888e710a84fd391c5b209ee379720",
       "version_major": 2,
       "version_minor": 0
      },
      "text/plain": [
       "  0%|          | 0/23527 [00:00<?, ?ex/s]"
      ]
     },
     "metadata": {},
     "output_type": "display_data"
    },
    {
     "data": {
      "application/vnd.jupyter.widget-view+json": {
       "model_id": "fa9ffd8e03ef4442a2684f534bab165f",
       "version_major": 2,
       "version_minor": 0
      },
      "text/plain": [
       "  0%|          | 0/736 [00:00<?, ?ba/s]"
      ]
     },
     "metadata": {},
     "output_type": "display_data"
    }
   ],
   "source": [
    "from datasets import Dataset\n",
    "from pysentimiento.lince.ner import preprocess_token, tokenize_and_align_labels\n",
    "\n",
    "words = [[x[0] for x in sentence] for sentence in test_data]\n",
    "ner = [[None] * len(x) for x in test_data]\n",
    "\n",
    "for w, l in zip(words, ner):\n",
    "    assert len(w) == len(l)\n",
    "\n",
    "test_dataset = Dataset.from_dict(\n",
    "    {\"words\": words, \"labels\": ner}\n",
    ")\n",
    "\n",
    "test_dataset = test_dataset.map(\n",
    "    lambda x: {\n",
    "        \"words\": [preprocess_token(word, \"es\") for word in x[\"words\"]]\n",
    "    }\n",
    ")\n",
    "\n",
    "tokenize_fun = lambda x: tokenize_and_align_labels(x, tokenizer)\n",
    "test_dataset = test_dataset.map(\n",
    "    tokenize_fun, batched=True, batch_size=32, \n",
    ")\n",
    "\n",
    "test_dataset = test_dataset.remove_columns([\"labels\"])"
   ]
  },
  {
   "cell_type": "code",
   "execution_count": 105,
   "metadata": {},
   "outputs": [
    {
     "name": "stderr",
     "output_type": "stream",
     "text": [
      "PyTorch: setting up devices\n",
      "The default value for the training argument `--report_to` will change in v5 (from all installed integrations to none). In v5, you will need to use `--report_to all` to get the same behavior as now. You should start updating your code and make this info disappear :-).\n"
     ]
    }
   ],
   "source": [
    "from transformers import DataCollatorForTokenClassification, Trainer, TrainingArguments\n",
    "data_collator = DataCollatorForTokenClassification(tokenizer)\n",
    "\n",
    "train_args = TrainingArguments(\n",
    "    output_dir=\"./test/\",\n",
    "    per_device_eval_batch_size=32,\n",
    "    do_train=False,\n",
    ")\n",
    "\n",
    "trainer_args = {\n",
    "    \"model\": model,\n",
    "    \"args\": train_args,\n",
    "    \"eval_dataset\": test_dataset,\n",
    "    \"data_collator\": data_collator,\n",
    "    \"tokenizer\": tokenizer,\n",
    "}\n",
    "\n",
    "eval_trainer = Trainer(**trainer_args)"
   ]
  },
  {
   "cell_type": "code",
   "execution_count": 106,
   "metadata": {},
   "outputs": [
    {
     "name": "stderr",
     "output_type": "stream",
     "text": [
      "The following columns in the test set  don't have a corresponding argument in `RobertaForTokenClassification.forward` and have been ignored: words, word_ids.\n",
      "***** Running Prediction *****\n",
      "  Num examples = 23527\n",
      "  Batch size = 32\n"
     ]
    },
    {
     "data": {
      "text/html": [
       "\n",
       "    <div>\n",
       "      \n",
       "      <progress value='736' max='736' style='width:300px; height:20px; vertical-align: middle;'></progress>\n",
       "      [736/736 00:29]\n",
       "    </div>\n",
       "    "
      ],
      "text/plain": [
       "<IPython.core.display.HTML object>"
      ]
     },
     "metadata": {},
     "output_type": "display_data"
    }
   ],
   "source": [
    "ret = eval_trainer.predict(test_dataset)"
   ]
  },
  {
   "cell_type": "code",
   "execution_count": 123,
   "metadata": {},
   "outputs": [
    {
     "name": "stdout",
     "output_type": "stream",
     "text": [
      "<s>\n",
      "\"\n",
      "O\n",
      "@usuario\n",
      "O\n",
      ":\n",
      "O\n",
      "dia\n",
      "O\n",
      "internacional\n",
      "O\n",
      "de\n",
      "O\n",
      "coger\n",
      "O\n",
      "le\n",
      "las\n",
      "O\n",
      "nalgas\n",
      "O\n",
      "a\n",
      "O\n",
      "angie\n",
      "B-PER\n",
      ".\n",
      "O\n",
      "\"\n",
      "O\n",
      "guil\n",
      "O\n",
      "ty\n",
      "..\n",
      "O\n",
      "</s>\n",
      "O\n"
     ]
    }
   ],
   "source": [
    "from pysentimiento.lince.ner import id2label, label2id\n",
    "\n",
    "idx = 103\n",
    "\n",
    "word_ids = test_dataset[idx][\"word_ids\"]\n",
    "input_ids = test_dataset[idx][\"input_ids\"]\n",
    "preds = ret.predictions[idx]\n",
    "\n",
    "assert len(word_ids) == len(input_ids)\n",
    "\n",
    "current_word_id = None\n",
    "for word_id, token_id, pred in zip(word_ids, input_ids, preds):\n",
    "    token = tokenizer.decode(token_id)\n",
    "    print(token)\n",
    "    if current_word_id != word_id:\n",
    "        current_word_id = word_id\n",
    "        label = id2label[pred.argmax()]\n",
    "        print(label)"
   ]
  },
  {
   "cell_type": "code",
   "execution_count": null,
   "metadata": {},
   "outputs": [],
   "source": []
  }
 ],
 "metadata": {
  "interpreter": {
   "hash": "387abc9bc94d8eb1bd0148a5d4cb2bf99bc3b40fa501b808e2b508b4f65ed831"
  },
  "kernelspec": {
   "display_name": "Python 3.7.12 64-bit ('pysentimiento-bwlKzHxB-py3.7': poetry)",
   "language": "python",
   "name": "python3"
  },
  "language_info": {
   "codemirror_mode": {
    "name": "ipython",
    "version": 3
   },
   "file_extension": ".py",
   "mimetype": "text/x-python",
   "name": "python",
   "nbconvert_exporter": "python",
   "pygments_lexer": "ipython3",
   "version": "3.7.12"
  },
  "orig_nbformat": 4
 },
 "nbformat": 4,
 "nbformat_minor": 2
}

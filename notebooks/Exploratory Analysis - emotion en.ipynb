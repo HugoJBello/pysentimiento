{
 "cells": [
  {
   "cell_type": "markdown",
   "metadata": {},
   "source": [
    "## Exploratory Analysis\n",
    "\n"
   ]
  },
  {
   "cell_type": "code",
   "execution_count": 1,
   "metadata": {},
   "outputs": [],
   "source": [
    "%load_ext autoreload\n",
    "%autoreload 2\n",
    "import os\n",
    "import pandas as pd\n",
    "from datasets import Dataset, Value, ClassLabel, Features\n",
    "from pysentimiento.preprocessing import preprocess_tweet\n",
    "from pysentimiento.emotion import load_datasets\n",
    "\n",
    "\n",
    "df = pd.read_table(\"../data/emoevent/dataset_emotions_EN.csv\",names=[\"id\", \"text\", \"label\", \"offensive\"], index_col=0, skiprows=1)\n"
   ]
  },
  {
   "cell_type": "markdown",
   "metadata": {},
   "source": [
    "Veamos primero las longitudes (a ver si no hay nada mal cargado)"
   ]
  },
  {
   "cell_type": "code",
   "execution_count": 2,
   "metadata": {},
   "outputs": [
    {
     "data": {
      "text/plain": "others      3305\njoy         2039\ndisgust      765\nsadness      416\nanger        392\nsurprise     235\nfear         151\nName: label, dtype: int64"
     },
     "execution_count": 2,
     "metadata": {},
     "output_type": "execute_result"
    }
   ],
   "source": [
    "df[\"label\"].value_counts()"
   ]
  },
  {
   "cell_type": "code",
   "execution_count": 3,
   "metadata": {},
   "outputs": [
    {
     "data": {
      "text/plain": "0    6785\n1     518\nName: offensive, dtype: int64"
     },
     "execution_count": 3,
     "metadata": {},
     "output_type": "execute_result"
    }
   ],
   "source": [
    "df[\"offensive\"].value_counts()"
   ]
  },
  {
   "cell_type": "markdown",
   "metadata": {},
   "source": [
    "## Ejemplos"
   ]
  },
  {
   "cell_type": "code",
   "execution_count": 5,
   "metadata": {},
   "outputs": [
    {
     "data": {
      "text/html": "<div>\n<style scoped>\n    .dataframe tbody tr th:only-of-type {\n        vertical-align: middle;\n    }\n\n    .dataframe tbody tr th {\n        vertical-align: top;\n    }\n\n    .dataframe thead th {\n        text-align: right;\n    }\n</style>\n<table border=\"1\" class=\"dataframe\">\n  <thead>\n    <tr style=\"text-align: right;\">\n      <th></th>\n      <th>text</th>\n      <th>label</th>\n      <th>offensive</th>\n    </tr>\n    <tr>\n      <th>id</th>\n      <th></th>\n      <th></th>\n      <th></th>\n    </tr>\n  </thead>\n  <tbody>\n    <tr>\n      <th>2849</th>\n      <td>If you know me I love to read! Today is World Book Day and so far this year I have already read 6 books. 1 Biography, 2 Self Development books. 1 Business, 2 Fiction.  Books bring knowledge and po...</td>\n      <td>joy</td>\n      <td>0</td>\n    </tr>\n    <tr>\n      <th>4991</th>\n      <td>ARYA is the shit: HASHTAG Blazing swords, blades,  projectiles, dragons and magic on hand to fight the Night King, it all came down to a single dagger. HASHTAG HASHTAG HASHTAG  URL</td>\n      <td>joy</td>\n      <td>0</td>\n    </tr>\n    <tr>\n      <th>1011</th>\n      <td>Five teens who changed the world. HASHTAG, HASHTAG, HASHTAG and HASHTAG fighting for a HASHTAG. HASHTAG HASHTAG HASHTAG HASHTAG HASHTAG HASHTAG HASHTAG HASHTAG URL</td>\n      <td>joy</td>\n      <td>0</td>\n    </tr>\n    <tr>\n      <th>397</th>\n      <td>The one and only ❤LEO 🔴🔵Champion champion 🎉🎉🎉🎉🎉🎉 HASHTAG HASHTAG HASHTAG HASHTAG  HASHTAG HASHTAG  URL</td>\n      <td>joy</td>\n      <td>0</td>\n    </tr>\n    <tr>\n      <th>6005</th>\n      <td>Best news this am: Digital files/work had been compiled on the HASHTAG long before the HASHTAG What does it mean? It means HASHTAG is saved! And can be rebuild exactly as it was the last time it w...</td>\n      <td>joy</td>\n      <td>0</td>\n    </tr>\n  </tbody>\n</table>\n</div>",
      "text/plain": "                                                                                                                                                                                                         text  \\\nid                                                                                                                                                                                                              \n2849  If you know me I love to read! Today is World Book Day and so far this year I have already read 6 books. 1 Biography, 2 Self Development books. 1 Business, 2 Fiction.  Books bring knowledge and po...   \n4991                     ARYA is the shit: HASHTAG Blazing swords, blades,  projectiles, dragons and magic on hand to fight the Night King, it all came down to a single dagger. HASHTAG HASHTAG HASHTAG  URL   \n1011                                      Five teens who changed the world. HASHTAG, HASHTAG, HASHTAG and HASHTAG fighting for a HASHTAG. HASHTAG HASHTAG HASHTAG HASHTAG HASHTAG HASHTAG HASHTAG HASHTAG URL   \n397                                                                                                    The one and only ❤LEO 🔴🔵Champion champion 🎉🎉🎉🎉🎉🎉 HASHTAG HASHTAG HASHTAG HASHTAG  HASHTAG HASHTAG  URL   \n6005  Best news this am: Digital files/work had been compiled on the HASHTAG long before the HASHTAG What does it mean? It means HASHTAG is saved! And can be rebuild exactly as it was the last time it w...   \n\n     label  offensive  \nid                     \n2849   joy          0  \n4991   joy          0  \n1011   joy          0  \n397    joy          0  \n6005   joy          0  "
     },
     "execution_count": 5,
     "metadata": {},
     "output_type": "execute_result"
    }
   ],
   "source": [
    "pd.options.display.max_colwidth = 200\n",
    "pd.options.display.max_rows = 100\n",
    "\n",
    "df[df[\"label\"] == \"joy\"].sample(5)"
   ]
  },
  {
   "cell_type": "code",
   "execution_count": 9,
   "metadata": {},
   "outputs": [
    {
     "data": {
      "text/plain": "((5477, 3), (1826, 3))"
     },
     "execution_count": 9,
     "metadata": {},
     "output_type": "execute_result"
    }
   ],
   "source": [
    "from sklearn.model_selection import train_test_split\n",
    "\n",
    "df_train, df_test = train_test_split(df, stratify=df[\"label\"], random_state=2021)\n",
    "\n",
    "df_train.shape, df_test.shape"
   ]
  },
  {
   "cell_type": "code",
   "execution_count": 10,
   "metadata": {},
   "outputs": [],
   "source": [
    "df_train.to_csv(\"../data/emoevent/train_en.csv\")\n",
    "df_test.to_csv(\"../data/emoevent/test_en.csv\")\n"
   ]
  }
 ],
 "metadata": {
  "kernelspec": {
   "display_name": "Python 3.8.5 64-bit ('pysent-oyXQVI9B': pipenv)",
   "name": "python385jvsc74a57bd01b2ee3c7e4be117f16044e4287774c113d04cbc1cc9e7e3b16e6e098f73486a4"
  },
  "language_info": {
   "name": "python",
   "version": ""
  },
  "metadata": {
   "interpreter": {
    "hash": "1b2ee3c7e4be117f16044e4287774c113d04cbc1cc9e7e3b16e6e098f73486a4"
   }
  },
  "orig_nbformat": 3
 },
 "nbformat": 4,
 "nbformat_minor": 4
}
{
 "cells": [
  {
   "cell_type": "markdown",
   "metadata": {},
   "source": [
    "## Exploratory Analysis\n",
    "\n",
    "Exploratory analysis of SemEval 2017 dataset. Don't download files as I've already got them "
   ]
  },
  {
   "cell_type": "code",
   "execution_count": 22,
   "metadata": {},
   "outputs": [
    {
     "data": {
      "text/plain": "['../data/SemEval2017/GOLD/Subtask_A/twitter-2016test-A.txt',\n '../data/SemEval2017/GOLD/Subtask_A/twitter-2013dev-A.txt',\n '../data/SemEval2017/GOLD/Subtask_A/twitter-2015test-A.txt',\n '../data/SemEval2017/GOLD/Subtask_A/twitter-2014test-A.txt',\n '../data/SemEval2017/GOLD/Subtask_A/twitter-2013train-A.txt',\n '../data/SemEval2017/GOLD/Subtask_A/twitter-2016dev-A.txt',\n '../data/SemEval2017/GOLD/Subtask_A/twitter-2013test-A.txt',\n '../data/SemEval2017/GOLD/Subtask_A/twitter-2016devtest-A.txt',\n '../data/SemEval2017/GOLD/Subtask_A/twitter-2016train-A.txt',\n '../data/SemEval2017/GOLD/Subtask_A/twitter-2014sarcasm-A.txt',\n '../data/SemEval2017/GOLD/Subtask_A/README.txt',\n '../data/SemEval2017/GOLD/Subtask_A/twitter-2015train-A.txt']"
     },
     "execution_count": 22,
     "metadata": {},
     "output_type": "execute_result"
    }
   ],
   "source": [
    "import os\n",
    "from glob import glob\n",
    "import pandas as pd\n",
    "\n",
    "files = glob(\"../data/SemEval2017/GOLD/Subtask_A/*.txt\", recursive=True)\n",
    "files"
   ]
  },
  {
   "cell_type": "code",
   "execution_count": 23,
   "metadata": {},
   "outputs": [
    {
     "data": {
      "text/html": "<div>\n<style scoped>\n    .dataframe tbody tr th:only-of-type {\n        vertical-align: middle;\n    }\n\n    .dataframe tbody tr th {\n        vertical-align: top;\n    }\n\n    .dataframe thead th {\n        text-align: right;\n    }\n</style>\n<table border=\"1\" class=\"dataframe\">\n  <thead>\n    <tr style=\"text-align: right;\">\n      <th></th>\n      <th>id</th>\n      <th>label</th>\n      <th>text</th>\n    </tr>\n  </thead>\n  <tbody>\n    <tr>\n      <th>0</th>\n      <td>619950566786113536</td>\n      <td>neutral</td>\n      <td>Picturehouse's, Pink Floyd's, 'Roger Waters: The Walll - opening 29 Sept is now making waves. Watch the trailer on Rolling Stone - look...</td>\n    </tr>\n    <tr>\n      <th>1</th>\n      <td>619969366986235905</td>\n      <td>neutral</td>\n      <td>Order Go Set a Watchman in store or through our website before Tuesday and get it half price! #GSAW @GSAWatchmanBook https://t.co/KET6EGD1an</td>\n    </tr>\n    <tr>\n      <th>2</th>\n      <td>619971047195045888</td>\n      <td>negative</td>\n      <td>If these runway renovations at the airport prevent me from seeing Taylor Swift on Monday, Bad Blood will have a new meaning.</td>\n    </tr>\n    <tr>\n      <th>3</th>\n      <td>619974445185302528</td>\n      <td>neutral</td>\n      <td>If you could ask an onstage interview question at Miss USA tomorrow, what would it be?</td>\n    </tr>\n    <tr>\n      <th>4</th>\n      <td>619987808317407232</td>\n      <td>positive</td>\n      <td>A portion of book sales from our Harper Lee/Go Set a Watchman release party on Mon. 7/13 will support @CAP_Tulsa and the great work they do.</td>\n    </tr>\n    <tr>\n      <th>...</th>\n      <td>...</td>\n      <td>...</td>\n      <td>...</td>\n    </tr>\n    <tr>\n      <th>20627</th>\n      <td>681877834982232064</td>\n      <td>neutral</td>\n      <td>@ShaquilleHoNeal from what I think you're asking, in no order. Future, Drake, Thug, Cole, Kendrick and Tiller a close 6th</td>\n    </tr>\n    <tr>\n      <th>20628</th>\n      <td>681879579129200640</td>\n      <td>positive</td>\n      <td>Iran ranks 1st in liver surgeries, Allah bless the country.</td>\n    </tr>\n    <tr>\n      <th>20629</th>\n      <td>681883903259357184</td>\n      <td>neutral</td>\n      <td>Hours before he arrived in Saudi Arabia on Tuesday, Turkish President Recep Tayyip Erdogan accused Syria's president of \"mercilessly\"...</td>\n    </tr>\n    <tr>\n      <th>20630</th>\n      <td>681904976860327936</td>\n      <td>negative</td>\n      <td>@VanityFair  Alex Kim Kardashian worth how to love Kim Kardashian she's so bad Sun Conure to</td>\n    </tr>\n    <tr>\n      <th>20631</th>\n      <td>681910549211287552</td>\n      <td>neutral</td>\n      <td>I guess even Pandora knows Justin Bieber is a grown up... this is the 2nd condom ad they've played</td>\n    </tr>\n  </tbody>\n</table>\n<p>20632 rows × 3 columns</p>\n</div>",
      "text/plain": "                       id     label  \\\n0      619950566786113536   neutral   \n1      619969366986235905   neutral   \n2      619971047195045888  negative   \n3      619974445185302528   neutral   \n4      619987808317407232  positive   \n...                   ...       ...   \n20627  681877834982232064   neutral   \n20628  681879579129200640  positive   \n20629  681883903259357184   neutral   \n20630  681904976860327936  negative   \n20631  681910549211287552   neutral   \n\n                                                                                                                                               text  \n0        Picturehouse's, Pink Floyd's, 'Roger Waters: The Walll - opening 29 Sept is now making waves. Watch the trailer on Rolling Stone - look...  \n1      Order Go Set a Watchman in store or through our website before Tuesday and get it half price! #GSAW @GSAWatchmanBook https://t.co/KET6EGD1an  \n2                      If these runway renovations at the airport prevent me from seeing Taylor Swift on Monday, Bad Blood will have a new meaning.  \n3                                                            If you could ask an onstage interview question at Miss USA tomorrow, what would it be?  \n4      A portion of book sales from our Harper Lee/Go Set a Watchman release party on Mon. 7/13 will support @CAP_Tulsa and the great work they do.  \n...                                                                                                                                             ...  \n20627                     @ShaquilleHoNeal from what I think you're asking, in no order. Future, Drake, Thug, Cole, Kendrick and Tiller a close 6th  \n20628                                                                                   Iran ranks 1st in liver surgeries, Allah bless the country.  \n20629      Hours before he arrived in Saudi Arabia on Tuesday, Turkish President Recep Tayyip Erdogan accused Syria's president of \"mercilessly\"...  \n20630                                                  @VanityFair  Alex Kim Kardashian worth how to love Kim Kardashian she's so bad Sun Conure to  \n20631                                            I guess even Pandora knows Justin Bieber is a grown up... this is the 2nd condom ad they've played  \n\n[20632 rows x 3 columns]"
     },
     "execution_count": 23,
     "metadata": {},
     "output_type": "execute_result"
    }
   ],
   "source": [
    "import pandas as pd\n",
    "\n",
    "def read_table(path):\n",
    "    \"\"\"\n",
    "    Read SemEval table and return dataframe\n",
    "    \"\"\"\n",
    "    df = pd.read_table(path, header=None)\n",
    "    # Get rid of last column\n",
    "\n",
    "    if len(df.columns) > 3:\n",
    "        del df[3]\n",
    "    df.columns = [\"id\", \"label\", \"text\"]\n",
    "    #df.set_index(\"id\", inplace=True)\n",
    "    return df\n",
    "\n",
    "pd.options.display.max_colwidth = 200\n",
    "pd.options.display.max_rows = 100\n",
    "\n",
    "read_table(files[0])\n",
    "\n"
   ]
  },
  {
   "cell_type": "code",
   "execution_count": 35,
   "metadata": {},
   "outputs": [
    {
     "name": "stdout",
     "output_type": "stream",
     "text": [
      "Train files :  ['../data/SemEval2017/GOLD/Subtask_A/twitter-2013train-A.txt', '../data/SemEval2017/GOLD/Subtask_A/twitter-2016train-A.txt', '../data/SemEval2017/GOLD/Subtask_A/twitter-2015train-A.txt']\n",
      "Dev files   :  ['../data/SemEval2017/GOLD/Subtask_A/twitter-2013dev-A.txt', '../data/SemEval2017/GOLD/Subtask_A/twitter-2016dev-A.txt', '../data/SemEval2017/GOLD/Subtask_A/twitter-2016devtest-A.txt']\n",
      "Test files  :  ['../data/SemEval2017/GOLD/Subtask_A/twitter-2016test-A.txt', '../data/SemEval2017/GOLD/Subtask_A/twitter-2015test-A.txt', '../data/SemEval2017/GOLD/Subtask_A/twitter-2014test-A.txt', '../data/SemEval2017/GOLD/Subtask_A/twitter-2013test-A.txt']\n"
     ]
    }
   ],
   "source": [
    "train_files = [f for f in files if any(t in f for t in {\"train\"})]\n",
    "dev_files = [f for f in files if any(t in f for t in {\"devtest\", \"dev\"})]\n",
    "test_files = [f for f in files if any(t in f and \"devtest\" not in f for t in {\"test\"} )]\n",
    "\n",
    "print(\"Train files : \", train_files)\n",
    "\n",
    "print(\"Dev files   : \", dev_files)\n",
    "\n",
    "print(\"Test files  : \", test_files)\n"
   ]
  },
  {
   "cell_type": "code",
   "execution_count": 36,
   "metadata": {},
   "outputs": [
    {
     "name": "stdout",
     "output_type": "stream",
     "text": [
      "Len train :  (16041, 4)\n",
      "Len dev   :  (5620, 4)\n",
      "Len test  :  (28422, 4)\n"
     ]
    }
   ],
   "source": [
    "\n",
    "train_df = pd.concat([read_table(f) for f in train_files])\n",
    "train_df[\"slice\"] = \"train\"\n",
    "dev_df = pd.concat([read_table(f) for f in dev_files])\n",
    "dev_df[\"slice\"] = \"dev\"\n",
    "test_df = pd.concat([read_table(f) for f in test_files])\n",
    "test_df[\"slice\"] = \"test\"\n",
    "\n",
    "df = pd.concat([train_df, dev_df, test_df])\n",
    "print(\"Len train : \", train_df.shape)\n",
    "print(\"Len dev   : \", dev_df.shape)\n",
    "print(\"Len test  : \", test_df.shape)\n"
   ]
  },
  {
   "cell_type": "markdown",
   "metadata": {},
   "source": [
    "There are repeated rows => remove duplicates"
   ]
  },
  {
   "cell_type": "code",
   "execution_count": 37,
   "metadata": {},
   "outputs": [
    {
     "name": "stdout",
     "output_type": "stream",
     "text": [
      "Len train :  (15493, 4)\n",
      "Len dev   :  (5582, 4)\n",
      "Len test  :  (28244, 4)\n"
     ]
    }
   ],
   "source": [
    "df.drop_duplicates(\"id\", inplace=True)\n",
    "\n",
    "train_df = df[df[\"slice\"] == \"train\"]\n",
    "dev_df = df[df[\"slice\"] == \"dev\"]\n",
    "test_df = df[df[\"slice\"] == \"test\"]\n",
    "print(\"Len train : \", train_df.shape)\n",
    "print(\"Len dev   : \", dev_df.shape)\n",
    "print(\"Len test  : \", test_df.shape)"
   ]
  },
  {
   "cell_type": "code",
   "execution_count": null,
   "metadata": {},
   "outputs": [],
   "source": []
  }
 ],
 "metadata": {
  "kernelspec": {
   "display_name": "Python 3.8.5 64-bit ('pysent-oyXQVI9B': pipenv)",
   "name": "python385jvsc74a57bd01b2ee3c7e4be117f16044e4287774c113d04cbc1cc9e7e3b16e6e098f73486a4"
  },
  "language_info": {
   "codemirror_mode": {
    "name": "ipython",
    "version": 3
   },
   "file_extension": ".py",
   "mimetype": "text/x-python",
   "name": "python",
   "nbconvert_exporter": "python",
   "pygments_lexer": "ipython3",
   "version": "3.8.5"
  },
  "metadata": {
   "interpreter": {
    "hash": "1b2ee3c7e4be117f16044e4287774c113d04cbc1cc9e7e3b16e6e098f73486a4"
   }
  },
  "orig_nbformat": 3
 },
 "nbformat": 4,
 "nbformat_minor": 4
}
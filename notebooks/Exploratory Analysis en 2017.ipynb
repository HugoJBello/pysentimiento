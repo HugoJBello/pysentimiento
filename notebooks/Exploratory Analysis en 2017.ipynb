{
 "cells": [
  {
   "cell_type": "markdown",
   "metadata": {},
   "source": [
    "## Exploratory Analysis\n",
    "\n",
    "Exploratory analysis of SemEval 2017 dataset. Don't download files as I've already got them "
   ]
  },
  {
   "cell_type": "code",
   "execution_count": 14,
   "metadata": {},
   "outputs": [
    {
     "data": {
      "text/plain": "['../data/SemEval2017/GOLD/Subtask_A/twitter-2013dev-A.txt',\n '../data/SemEval2017/GOLD/Subtask_A/twitter-2013test-A.txt',\n '../data/SemEval2017/GOLD/Subtask_A/twitter-2013train-A.txt',\n '../data/SemEval2017/GOLD/Subtask_A/twitter-2014sarcasm-A.txt',\n '../data/SemEval2017/GOLD/Subtask_A/twitter-2014test-A.txt',\n '../data/SemEval2017/GOLD/Subtask_A/twitter-2015test-A.txt',\n '../data/SemEval2017/GOLD/Subtask_A/twitter-2015train-A.txt',\n '../data/SemEval2017/GOLD/Subtask_A/twitter-2016dev-A.txt',\n '../data/SemEval2017/GOLD/Subtask_A/twitter-2016devtest-A.txt',\n '../data/SemEval2017/GOLD/Subtask_A/twitter-2016test-A.txt',\n '../data/SemEval2017/GOLD/Subtask_A/twitter-2016train-A.txt']"
     },
     "execution_count": 14,
     "metadata": {},
     "output_type": "execute_result"
    }
   ],
   "source": [
    "import os\n",
    "from glob import glob\n",
    "import pandas as pd\n",
    "\n",
    "files = glob(\"../data/SemEval2017/GOLD/Subtask_A/twitter*.txt\", recursive=True)\n",
    "sorted(files)"
   ]
  },
  {
   "cell_type": "code",
   "execution_count": 35,
   "metadata": {},
   "outputs": [
    {
     "name": "stdout",
     "output_type": "stream",
     "text": [
      "../data/SemEval2017/GOLD/Subtask_A/twitter-2016test-A.txt\n",
      "      id label text\n",
      "11064  \"   NaN  NaN\n",
      "Len train :  (49645, 2)\n"
     ]
    }
   ],
   "source": [
    "import csv\n",
    "import pandas as pd\n",
    "\n",
    "def read_table(path):\n",
    "    \"\"\"\n",
    "    Read SemEval table and return dataframe\n",
    "    \"\"\"\n",
    "    df = pd.read_table(path, header=None, quoting=csv.QUOTE_NONE)\n",
    "    # Get rid of last column\n",
    "\n",
    "    if len(df.columns) > 3:\n",
    "        del df[3]\n",
    "    df.columns = [\"id\", \"label\", \"text\"]\n",
    "    if df[\"text\"].isna().any():\n",
    "        print(path)\n",
    "        print(df[df[\"text\"].isna()])\n",
    "    df = df[df[\"text\"].notna()]\n",
    "    #df.set_index(\"id\", inplace=True)\n",
    "    return df\n",
    "\n",
    "pd.options.display.max_colwidth = 200\n",
    "pd.options.display.max_rows = 100\n",
    "\n",
    "\n",
    "train_df = pd.concat([read_table(f) for f in files])\n",
    "train_df.drop_duplicates(\"id\", inplace=True)\n",
    "train_df.set_index(\"id\", inplace=True)\n",
    "print(\"Len train : \", train_df.shape)\n",
    "\n"
   ]
  },
  {
   "cell_type": "code",
   "execution_count": 36,
   "metadata": {},
   "outputs": [
    {
     "data": {
      "text/html": "<div>\n<style scoped>\n    .dataframe tbody tr th:only-of-type {\n        vertical-align: middle;\n    }\n\n    .dataframe tbody tr th {\n        vertical-align: top;\n    }\n\n    .dataframe thead th {\n        text-align: right;\n    }\n</style>\n<table border=\"1\" class=\"dataframe\">\n  <thead>\n    <tr style=\"text-align: right;\">\n      <th></th>\n      <th>label</th>\n      <th>text</th>\n    </tr>\n    <tr>\n      <th>id</th>\n      <th></th>\n      <th></th>\n    </tr>\n  </thead>\n  <tbody>\n    <tr>\n      <th>619950566786113536</th>\n      <td>neutral</td>\n      <td>\"Picturehouse's, Pink Floyd's, 'Roger Waters: The Walll - opening 29 Sept is now making waves. Watch the trailer on Rolling Stone - look...\"</td>\n    </tr>\n    <tr>\n      <th>619969366986235905</th>\n      <td>neutral</td>\n      <td>Order Go Set a Watchman in store or through our website before Tuesday and get it half price! #GSAW @GSAWatchmanBook https://t.co/KET6EGD1an</td>\n    </tr>\n    <tr>\n      <th>619971047195045888</th>\n      <td>negative</td>\n      <td>\"If these runway renovations at the airport prevent me from seeing Taylor Swift on Monday, Bad Blood will have a new meaning.\"</td>\n    </tr>\n    <tr>\n      <th>619974445185302528</th>\n      <td>neutral</td>\n      <td>\"If you could ask an onstage interview question at Miss USA tomorrow, what would it be?\"</td>\n    </tr>\n    <tr>\n      <th>619987808317407232</th>\n      <td>positive</td>\n      <td>A portion of book sales from our Harper Lee/Go Set a Watchman release party on Mon. 7/13 will support @CAP_Tulsa and the great work they do.</td>\n    </tr>\n    <tr>\n      <th>...</th>\n      <td>...</td>\n      <td>...</td>\n    </tr>\n    <tr>\n      <th>681877834982232064</th>\n      <td>neutral</td>\n      <td>\"@ShaquilleHoNeal from what I think you're asking, in no order. Future, Drake, Thug, Cole, Kendrick and Tiller a close 6th\"</td>\n    </tr>\n    <tr>\n      <th>681879579129200640</th>\n      <td>positive</td>\n      <td>\"Iran ranks 1st in liver surgeries, Allah bless the country.\"</td>\n    </tr>\n    <tr>\n      <th>681883903259357184</th>\n      <td>neutral</td>\n      <td>\"Hours before he arrived in Saudi Arabia on Tuesday, Turkish President Recep Tayyip Erdogan accused Syria's president of \"\"mercilessly\"\"...\"</td>\n    </tr>\n    <tr>\n      <th>681904976860327936</th>\n      <td>negative</td>\n      <td>@VanityFair  Alex Kim Kardashian worth how to love Kim Kardashian she's so bad Sun Conure to</td>\n    </tr>\n    <tr>\n      <th>681910549211287552</th>\n      <td>neutral</td>\n      <td>I guess even Pandora knows Justin Bieber is a grown up... this is the 2nd condom ad they've played</td>\n    </tr>\n  </tbody>\n</table>\n<p>20632 rows × 2 columns</p>\n</div>",
      "text/plain": "                       label  \\\nid                             \n619950566786113536   neutral   \n619969366986235905   neutral   \n619971047195045888  negative   \n619974445185302528   neutral   \n619987808317407232  positive   \n...                      ...   \n681877834982232064   neutral   \n681879579129200640  positive   \n681883903259357184   neutral   \n681904976860327936  negative   \n681910549211287552   neutral   \n\n                                                                                                                                                            text  \nid                                                                                                                                                                \n619950566786113536  \"Picturehouse's, Pink Floyd's, 'Roger Waters: The Walll - opening 29 Sept is now making waves. Watch the trailer on Rolling Stone - look...\"  \n619969366986235905  Order Go Set a Watchman in store or through our website before Tuesday and get it half price! #GSAW @GSAWatchmanBook https://t.co/KET6EGD1an  \n619971047195045888                \"If these runway renovations at the airport prevent me from seeing Taylor Swift on Monday, Bad Blood will have a new meaning.\"  \n619974445185302528                                                      \"If you could ask an onstage interview question at Miss USA tomorrow, what would it be?\"  \n619987808317407232  A portion of book sales from our Harper Lee/Go Set a Watchman release party on Mon. 7/13 will support @CAP_Tulsa and the great work they do.  \n...                                                                                                                                                          ...  \n681877834982232064                   \"@ShaquilleHoNeal from what I think you're asking, in no order. Future, Drake, Thug, Cole, Kendrick and Tiller a close 6th\"  \n681879579129200640                                                                                 \"Iran ranks 1st in liver surgeries, Allah bless the country.\"  \n681883903259357184  \"Hours before he arrived in Saudi Arabia on Tuesday, Turkish President Recep Tayyip Erdogan accused Syria's president of \"\"mercilessly\"\"...\"  \n681904976860327936                                                  @VanityFair  Alex Kim Kardashian worth how to love Kim Kardashian she's so bad Sun Conure to  \n681910549211287552                                            I guess even Pandora knows Justin Bieber is a grown up... this is the 2nd condom ad they've played  \n\n[20632 rows x 2 columns]"
     },
     "execution_count": 36,
     "metadata": {},
     "output_type": "execute_result"
    }
   ],
   "source": [
    "test_df = pd.read_table(\"../data/SemEval2017/SemEval2017-task4-dev.subtask-A.english.INPUT.txt\", header=None, quoting=csv.QUOTE_NONE)\n",
    "\n",
    "del test_df[3]\n",
    "test_df.columns = [\"id\", \"label\", \"text\"]\n",
    "test_df.set_index(\"id\", inplace=True)\n",
    "test_df"
   ]
  },
  {
   "cell_type": "markdown",
   "metadata": {},
   "source": [
    "Salvemos esto así nos olvidamos de una vez"
   ]
  },
  {
   "cell_type": "code",
   "execution_count": 37,
   "metadata": {},
   "outputs": [],
   "source": [
    "train_df.to_csv(\"../data/SemEval2017/train.csv\")\n",
    "test_df.to_csv(\"../data/SemEval2017/test.csv\")"
   ]
  },
  {
   "cell_type": "code",
   "execution_count": 39,
   "metadata": {},
   "outputs": [
    {
     "name": "stdout",
     "output_type": "stream",
     "text": [
      "Train instances = 49645\n",
      "Test instances  = 20632\n"
     ]
    }
   ],
   "source": [
    "train_df = pd.read_csv(\"../data/SemEval2017/train.csv\")\n",
    "test_df = pd.read_csv(\"../data/SemEval2017/test.csv\")\n",
    "\n",
    "print(f\"Train instances = {len(train_df)}\")\n",
    "print(f\"Test instances  = {len(test_df)}\")\n"
   ]
  },
  {
   "cell_type": "code",
   "execution_count": 40,
   "metadata": {},
   "outputs": [
    {
     "data": {
      "text/plain": "(array([3.0000e+00, 3.0000e+02, 1.8400e+03, 4.3520e+03, 6.6880e+03,\n        8.9020e+03, 2.1998e+04, 5.4300e+03, 1.2600e+02, 6.0000e+00]),\n array([  1. ,  20.9,  40.8,  60.7,  80.6, 100.5, 120.4, 140.3, 160.2,\n        180.1, 200. ]),\n <BarContainer object of 10 artists>)"
     },
     "execution_count": 40,
     "metadata": {},
     "output_type": "execute_result"
    },
    {
     "data": {
      "image/png": "[encoded data removed]",
      "text/plain": "<Figure size 432x288 with 1 Axes>"
     },
     "metadata": {
      "needs_background": "light"
     },
     "output_type": "display_data"
    }
   ],
   "source": [
    "import matplotlib.pyplot as plt\n",
    "\n",
    "\n",
    "plt.hist(train_df[\"text\"].apply(lambda x: len(x)))"
   ]
  },
  {
   "cell_type": "markdown",
   "metadata": {},
   "source": [
    "There are repeated rows => remove duplicates"
   ]
  },
  {
   "cell_type": "code",
   "execution_count": 42,
   "metadata": {},
   "outputs": [
    {
     "data": {
      "text/plain": "neutral     0.448041\npositive    0.395992\nnegative    0.155967\nName: label, dtype: float64"
     },
     "execution_count": 42,
     "metadata": {},
     "output_type": "execute_result"
    }
   ],
   "source": [
    "train_df[\"label\"].value_counts(normalize=True)"
   ]
  },
  {
   "cell_type": "markdown",
   "metadata": {},
   "source": [
    "Majority are neutral"
   ]
  }
 ],
 "metadata": {
  "kernelspec": {
   "display_name": "Python 3.8.5 64-bit ('pysent-oyXQVI9B': pipenv)",
   "name": "python385jvsc74a57bd01b2ee3c7e4be117f16044e4287774c113d04cbc1cc9e7e3b16e6e098f73486a4"
  },
  "language_info": {
   "codemirror_mode": {
    "name": "ipython",
    "version": 3
   },
   "file_extension": ".py",
   "mimetype": "text/x-python",
   "name": "python",
   "nbconvert_exporter": "python",
   "pygments_lexer": "ipython3",
   "version": "3.8.5"
  },
  "metadata": {
   "interpreter": {
    "hash": "1b2ee3c7e4be117f16044e4287774c113d04cbc1cc9e7e3b16e6e098f73486a4"
   }
  },
  "orig_nbformat": 3
 },
 "nbformat": 4,
 "nbformat_minor": 4
}
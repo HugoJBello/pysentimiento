{
 "cells": [
  {
   "cell_type": "code",
   "execution_count": 7,
   "metadata": {},
   "outputs": [
    {
     "name": "stdout",
     "output_type": "stream",
     "text": [
      "bertweet-hate-speech\t     robertuito-irony\n",
      "robertuito-emotion-analysis  robertuito-lince-ner\n",
      "robertuito-hate-speech\t     robertuito-sentiment-analysis\n"
     ]
    }
   ],
   "source": [
    "!ls ../../models/"
   ]
  },
  {
   "cell_type": "code",
   "execution_count": 1,
   "metadata": {},
   "outputs": [],
   "source": [
    "%load_ext autoreload\n",
    "%autoreload 2\n",
    "from transformers import AutoModelForTokenClassification, AutoTokenizer\n",
    "\n",
    "model = AutoModelForTokenClassification.from_pretrained(\"../../models/robertuito-lince-ner\")\n",
    "\n",
    "tokenizer = AutoTokenizer.from_pretrained(\"../../models/robertuito-lince-ner\")\n",
    "tokenizer.model_max_length = 128"
   ]
  },
  {
   "cell_type": "code",
   "execution_count": 2,
   "metadata": {},
   "outputs": [
    {
     "data": {
      "text/plain": [
       "23527"
      ]
     },
     "execution_count": 2,
     "metadata": {},
     "output_type": "execute_result"
    }
   ],
   "source": [
    "def load_conll(path, lang=\"es\"):\n",
    "    \"\"\"\n",
    "    Loads CoNLL-2003 dataset\n",
    "    \"\"\"\n",
    "    with open(path) as f:\n",
    "        lines = f.read().splitlines()\n",
    "    data = []\n",
    "    current_line = []\n",
    "    for line in lines:\n",
    "        line = line.strip()\n",
    "        if line == \"\":\n",
    "            data.append(current_line)\n",
    "            current_line = []\n",
    "        else:\n",
    "            current_line.append(line.split(\"\\t\"))\n",
    "    return data\n",
    "\n",
    "test_path = \"../../data/lince/ner_spaeng/test.conll\"\n",
    "\n",
    "test_data = load_conll(test_path)\n",
    "\n",
    "len(test_data)"
   ]
  },
  {
   "cell_type": "code",
   "execution_count": 3,
   "metadata": {},
   "outputs": [
    {
     "name": "stdout",
     "output_type": "stream",
     "text": [
      "\"\tother\n",
      "@PattyB_14\tother\n",
      ":\tother\n",
      "Este\tlang2\n",
      "weekend\tlang1\n",
      "es\tlang2\n",
      "largo\tlang2\n",
      "!\tother\n",
      "A\tlang2\n",
      "celebrar\tlang2\n",
      "mi\tlang2\n",
      "bday\tlang1\n",
      "allllllll\tlang1\n",
      "weeeekend\tlang1\n",
      "looooooong\tlang1\n",
      "\"\tother\n",
      "#PARY\tlang1\n",
      "wuutt\tlang1\n",
      "wutt\tlang1\n",
      "!\tother\n",
      "\n",
      "odio\tlang2\n",
      "el\tlang2\n",
      "proceso\tlang2\n",
      "de\tlang2\n",
      "preparación\tlang2\n",
      "\n",
      "@esangiecarajo\tother\n",
      "no\tlang2\n",
      ".\tother\n",
      "y\tlang2\n",
      "no\tlang2\n",
      "\n",
      "las\tlang2\n",
      "0\tother\n",
      "ganas\tlang2\n",
      "mia\tlang2\n",
      "de\tlang2\n",
      "no\tlang2\n",
      "hacer\tlang2\n"
     ]
    }
   ],
   "source": [
    "!head -n 40 $test_path"
   ]
  },
  {
   "cell_type": "code",
   "execution_count": 4,
   "metadata": {},
   "outputs": [
    {
     "name": "stdout",
     "output_type": "stream",
     "text": [
      "TUGO\n"
     ]
    }
   ],
   "source": [
    "if not '':\n",
    "    print(\"TUGO\")"
   ]
  },
  {
   "cell_type": "code",
   "execution_count": 15,
   "metadata": {},
   "outputs": [],
   "source": [
    "from datasets import Dataset\n",
    "from pysentimiento.lince.ner import preprocess_token, tokenize_and_align_labels\n",
    "\n",
    "original_words = [[x[0] for x in sentence] for sentence in test_data]\n",
    "original_langs = [[x[1] for x in sentence] for sentence in test_data]\n",
    "ner = [[None] * len(x) for x in test_data]\n",
    "\n",
    "for w, l in zip(original_words, ner):\n",
    "    assert len(w) == len(l)\n",
    "\n",
    "test_dataset = Dataset.from_dict(\n",
    "    {\"words\": original_words, \"lang\": original_langs, \"labels\": ner}\n",
    ")\n"
   ]
  },
  {
   "cell_type": "code",
   "execution_count": 22,
   "metadata": {},
   "outputs": [
    {
     "name": "stdout",
     "output_type": "stream",
     "text": [
      "makeupbymariajose 's photo https://t.co/LvRc5JJxvJ denle follow para citas de maquillaje ☺ ️\n"
     ]
    },
    {
     "data": {
      "text/plain": [
       "['makeupbymariajose',\n",
       " \"'s\",\n",
       " 'photo',\n",
       " 'https://url',\n",
       " 'denle',\n",
       " 'follow',\n",
       " 'para',\n",
       " 'citas',\n",
       " 'de',\n",
       " 'maquillaje',\n",
       " '☺',\n",
       " '️']"
      ]
     },
     "execution_count": 22,
     "metadata": {},
     "output_type": "execute_result"
    }
   ],
   "source": [
    "non_processed_words = test_dataset[479][\"words\"]\n",
    "print(\" \".join(non_processed_words))\n",
    "[preprocess_token(word, \"es\", char_replace=False) for word in non_processed_words]"
   ]
  },
  {
   "cell_type": "code",
   "execution_count": 26,
   "metadata": {},
   "outputs": [
    {
     "data": {
      "text/plain": [
       "True"
      ]
     },
     "execution_count": 26,
     "metadata": {},
     "output_type": "execute_result"
    }
   ],
   "source": [
    "non_processed_words[3] == \"https://t.co/LvRc5JJxvJ\""
   ]
  },
  {
   "cell_type": "code",
   "execution_count": 28,
   "metadata": {},
   "outputs": [
    {
     "data": {
      "text/plain": [
       "'https://url'"
      ]
     },
     "execution_count": 28,
     "metadata": {},
     "output_type": "execute_result"
    }
   ],
   "source": [
    "preprocess_token(non_processed_words[3], \"es\", char_replace=False)"
   ]
  },
  {
   "cell_type": "code",
   "execution_count": 27,
   "metadata": {},
   "outputs": [
    {
     "data": {
      "text/plain": [
       "'url'"
      ]
     },
     "execution_count": 27,
     "metadata": {},
     "output_type": "execute_result"
    }
   ],
   "source": [
    "from pysentimiento.preprocessing import url_regex\n",
    "\n",
    "url_regex.sub(non_processed_words[3], \"url\")"
   ]
  },
  {
   "cell_type": "code",
   "execution_count": 21,
   "metadata": {},
   "outputs": [
    {
     "data": {
      "text/plain": [
       "'️'"
      ]
     },
     "execution_count": 21,
     "metadata": {},
     "output_type": "execute_result"
    }
   ],
   "source": [
    "from pysentimiento.preprocessing import url_regex\n",
    "tok = non_processed_words[-1]\n",
    "\n"
   ]
  },
  {
   "cell_type": "code",
   "execution_count": null,
   "metadata": {},
   "outputs": [],
   "source": [
    "\n",
    "test_dataset = test_dataset.map(\n",
    "    lambda x: {\n",
    "        \"words\": [preprocess_token(word, \"es\", char_replace=False) for word in x[\"words\"]]\n",
    "    }\n",
    ")\n"
   ]
  },
  {
   "cell_type": "code",
   "execution_count": 14,
   "metadata": {},
   "outputs": [
    {
     "data": {
      "text/plain": [
       "{'words': ['makeupbymariajose',\n",
       "  \"'s\",\n",
       "  'photo',\n",
       "  'https://url',\n",
       "  'denle',\n",
       "  'follow',\n",
       "  'para',\n",
       "  'citas',\n",
       "  'de',\n",
       "  'maquillaje',\n",
       "  '☺',\n",
       "  '️'],\n",
       " 'lang': ['ne',\n",
       "  'lang1',\n",
       "  'lang1',\n",
       "  'other',\n",
       "  'lang2',\n",
       "  'lang1',\n",
       "  'lang2',\n",
       "  'lang2',\n",
       "  'lang2',\n",
       "  'lang2',\n",
       "  'other',\n",
       "  'other'],\n",
       " 'labels': [None,\n",
       "  None,\n",
       "  None,\n",
       "  None,\n",
       "  None,\n",
       "  None,\n",
       "  None,\n",
       "  None,\n",
       "  None,\n",
       "  None,\n",
       "  None,\n",
       "  None]}"
      ]
     },
     "execution_count": 14,
     "metadata": {},
     "output_type": "execute_result"
    }
   ],
   "source": [
    "test_dataset[479]"
   ]
  },
  {
   "cell_type": "code",
   "execution_count": 12,
   "metadata": {},
   "outputs": [
    {
     "data": {
      "application/vnd.jupyter.widget-view+json": {
       "model_id": "faadb0624d814961969ebec30a36085f",
       "version_major": 2,
       "version_minor": 0
      },
      "text/plain": [
       "  0%|          | 0/736 [00:00<?, ?ba/s]"
      ]
     },
     "metadata": {},
     "output_type": "display_data"
    }
   ],
   "source": [
    "\n",
    "tokenize_fun = lambda x: tokenize_and_align_labels(x, tokenizer)\n",
    "test_dataset = test_dataset.map(\n",
    "    tokenize_fun, batched=True, batch_size=32, \n",
    ")\n",
    "\n",
    "test_dataset = test_dataset.remove_columns([\"labels\"])"
   ]
  },
  {
   "cell_type": "code",
   "execution_count": 7,
   "metadata": {},
   "outputs": [
    {
     "data": {
      "application/vnd.jupyter.widget-view+json": {
       "model_id": "29e84f54d6f44e768b37488b8b552c0c",
       "version_major": 2,
       "version_minor": 0
      },
      "text/plain": [
       "  0%|          | 0/23527 [00:00<?, ?it/s]"
      ]
     },
     "metadata": {},
     "output_type": "display_data"
    },
    {
     "ename": "AssertionError",
     "evalue": "",
     "output_type": "error",
     "traceback": [
      "\u001b[0;31m---------------------------------------------------------------------------\u001b[0m",
      "\u001b[0;31mAssertionError\u001b[0m                            Traceback (most recent call last)",
      "\u001b[0;32m/tmp/ipykernel_189539/449100168.py\u001b[0m in \u001b[0;36m<module>\u001b[0;34m\u001b[0m\n\u001b[1;32m      5\u001b[0m     \u001b[0minput_ids\u001b[0m \u001b[0;34m=\u001b[0m \u001b[0mrow\u001b[0m\u001b[0;34m[\u001b[0m\u001b[0;34m\"input_ids\"\u001b[0m\u001b[0;34m]\u001b[0m\u001b[0;34m\u001b[0m\u001b[0;34m\u001b[0m\u001b[0m\n\u001b[1;32m      6\u001b[0m     \u001b[0mwords\u001b[0m \u001b[0;34m=\u001b[0m \u001b[0moriginal_words\u001b[0m\u001b[0;34m[\u001b[0m\u001b[0midx\u001b[0m\u001b[0;34m]\u001b[0m\u001b[0;34m\u001b[0m\u001b[0;34m\u001b[0m\u001b[0m\n\u001b[0;32m----> 7\u001b[0;31m     \u001b[0;32massert\u001b[0m \u001b[0;34m(\u001b[0m\u001b[0mword_ids\u001b[0m\u001b[0;34m[\u001b[0m\u001b[0;34m-\u001b[0m\u001b[0;36m2\u001b[0m\u001b[0;34m]\u001b[0m \u001b[0;34m+\u001b[0m \u001b[0;36m1\u001b[0m\u001b[0;34m)\u001b[0m \u001b[0;34m==\u001b[0m \u001b[0mlen\u001b[0m\u001b[0;34m(\u001b[0m\u001b[0mwords\u001b[0m\u001b[0;34m)\u001b[0m\u001b[0;34m\u001b[0m\u001b[0;34m\u001b[0m\u001b[0m\n\u001b[0m",
      "\u001b[0;31mAssertionError\u001b[0m: "
     ]
    }
   ],
   "source": [
    "from tqdm.auto import tqdm\n",
    "\n",
    "for idx, row in tqdm(enumerate(test_dataset), total=len(test_dataset)):\n",
    "    word_ids = row[\"word_ids\"]\n",
    "    input_ids = row[\"input_ids\"]\n",
    "    words = original_words[idx]\n",
    "    assert (word_ids[-2] + 1) == len(words)"
   ]
  },
  {
   "cell_type": "code",
   "execution_count": 10,
   "metadata": {},
   "outputs": [
    {
     "data": {
      "text/plain": [
       "(479,\n",
       " ['makeupbymariajose',\n",
       "  \"'s\",\n",
       "  'photo',\n",
       "  'https://url',\n",
       "  'denle',\n",
       "  'follow',\n",
       "  'para',\n",
       "  'citas',\n",
       "  'de',\n",
       "  'maquillaje',\n",
       "  '☺',\n",
       "  '️'])"
      ]
     },
     "execution_count": 10,
     "metadata": {},
     "output_type": "execute_result"
    }
   ],
   "source": [
    "idx, row[\"words\"]"
   ]
  },
  {
   "cell_type": "code",
   "execution_count": 22,
   "metadata": {},
   "outputs": [],
   "source": [
    "from transformers import DataCollatorForTokenClassification, Trainer, TrainingArguments\n",
    "data_collator = DataCollatorForTokenClassification(tokenizer)\n",
    "\n",
    "train_args = TrainingArguments(\n",
    "    output_dir=\"./test/\",\n",
    "    per_device_eval_batch_size=32,\n",
    "    do_train=False,\n",
    ")\n",
    "\n",
    "trainer_args = {\n",
    "    \"model\": model,\n",
    "    \"args\": train_args,\n",
    "    \"eval_dataset\": test_dataset,\n",
    "    \"data_collator\": data_collator,\n",
    "    \"tokenizer\": tokenizer,\n",
    "}\n",
    "\n",
    "eval_trainer = Trainer(**trainer_args)"
   ]
  },
  {
   "cell_type": "code",
   "execution_count": 23,
   "metadata": {},
   "outputs": [
    {
     "name": "stderr",
     "output_type": "stream",
     "text": [
      "The following columns in the test set  don't have a corresponding argument in `RobertaForTokenClassification.forward` and have been ignored: word_ids, words, lang.\n",
      "***** Running Prediction *****\n",
      "  Num examples = 23527\n",
      "  Batch size = 32\n"
     ]
    },
    {
     "data": {
      "text/html": [
       "\n",
       "    <div>\n",
       "      \n",
       "      <progress value='736' max='736' style='width:300px; height:20px; vertical-align: middle;'></progress>\n",
       "      [736/736 00:30]\n",
       "    </div>\n",
       "    "
      ],
      "text/plain": [
       "<IPython.core.display.HTML object>"
      ]
     },
     "metadata": {},
     "output_type": "display_data"
    }
   ],
   "source": [
    "ret = eval_trainer.predict(test_dataset)"
   ]
  },
  {
   "cell_type": "code",
   "execution_count": 30,
   "metadata": {},
   "outputs": [
    {
     "data": {
      "text/plain": [
       "(10, 12)"
      ]
     },
     "execution_count": 30,
     "metadata": {},
     "output_type": "execute_result"
    }
   ],
   "source": [
    "word_ids[-2], len(words)"
   ]
  },
  {
   "cell_type": "code",
   "execution_count": 24,
   "metadata": {},
   "outputs": [
    {
     "data": {
      "application/vnd.jupyter.widget-view+json": {
       "model_id": "71dec9e5b293452f84e4ef47f6d13ddf",
       "version_major": 2,
       "version_minor": 0
      },
      "text/plain": [
       "  0%|          | 0/23527 [00:00<?, ?it/s]"
      ]
     },
     "metadata": {},
     "output_type": "display_data"
    },
    {
     "ename": "AssertionError",
     "evalue": "",
     "output_type": "error",
     "traceback": [
      "\u001b[0;31m---------------------------------------------------------------------------\u001b[0m",
      "\u001b[0;31mAssertionError\u001b[0m                            Traceback (most recent call last)",
      "\u001b[0;32m/tmp/ipykernel_189363/1229106857.py\u001b[0m in \u001b[0;36m<module>\u001b[0;34m\u001b[0m\n\u001b[1;32m     10\u001b[0m     \u001b[0minput_ids\u001b[0m \u001b[0;34m=\u001b[0m \u001b[0mrow\u001b[0m\u001b[0;34m[\u001b[0m\u001b[0;34m\"input_ids\"\u001b[0m\u001b[0;34m]\u001b[0m\u001b[0;34m\u001b[0m\u001b[0;34m\u001b[0m\u001b[0m\n\u001b[1;32m     11\u001b[0m     \u001b[0mwords\u001b[0m \u001b[0;34m=\u001b[0m \u001b[0moriginal_words\u001b[0m\u001b[0;34m[\u001b[0m\u001b[0midx\u001b[0m\u001b[0;34m]\u001b[0m\u001b[0;34m\u001b[0m\u001b[0;34m\u001b[0m\u001b[0m\n\u001b[0;32m---> 12\u001b[0;31m     \u001b[0;32massert\u001b[0m \u001b[0;34m(\u001b[0m\u001b[0mword_ids\u001b[0m\u001b[0;34m[\u001b[0m\u001b[0;34m-\u001b[0m\u001b[0;36m2\u001b[0m\u001b[0;34m]\u001b[0m \u001b[0;34m+\u001b[0m \u001b[0;36m1\u001b[0m\u001b[0;34m)\u001b[0m \u001b[0;34m==\u001b[0m \u001b[0mlen\u001b[0m\u001b[0;34m(\u001b[0m\u001b[0mwords\u001b[0m\u001b[0;34m)\u001b[0m\u001b[0;34m\u001b[0m\u001b[0;34m\u001b[0m\u001b[0m\n\u001b[0m\u001b[1;32m     13\u001b[0m     \u001b[0mpreds\u001b[0m \u001b[0;34m=\u001b[0m \u001b[0mret\u001b[0m\u001b[0;34m.\u001b[0m\u001b[0mpredictions\u001b[0m\u001b[0;34m[\u001b[0m\u001b[0midx\u001b[0m\u001b[0;34m]\u001b[0m\u001b[0;34m\u001b[0m\u001b[0;34m\u001b[0m\u001b[0m\n\u001b[1;32m     14\u001b[0m \u001b[0;34m\u001b[0m\u001b[0m\n",
      "\u001b[0;31mAssertionError\u001b[0m: "
     ]
    }
   ],
   "source": [
    "from tqdm.auto import tqdm\n",
    "from pysentimiento.lince.ner import id2label, label2id\n",
    "\n",
    "outputs = []\n",
    "\n",
    "for idx, row in tqdm(enumerate(test_dataset), total=len(test_dataset)):\n",
    "    word_ids = row[\"word_ids\"]\n",
    "    input_ids = row[\"input_ids\"]\n",
    "    words = original_words[idx]\n",
    "    assert (word_ids[-2] + 1) == len(words)\n",
    "    preds = ret.predictions[idx]\n",
    "\n",
    "    sentence_output = []\n",
    "    current_word_id = None\n",
    "\n",
    "    for word_id, token_id, pred in zip(word_ids, input_ids, preds):\n",
    "        token = tokenizer.decode(token_id)\n",
    "        if current_word_id != word_id and word_id is not None:\n",
    "            current_word_id = word_id\n",
    "            label = id2label[pred.argmax()]\n",
    "            sentence_output.append([words[current_word_id], label])\n",
    "    outputs.append(sentence_output)\n"
   ]
  },
  {
   "cell_type": "code",
   "execution_count": 25,
   "metadata": {},
   "outputs": [
    {
     "data": {
      "text/plain": [
       "(['makeupbymariajose',\n",
       "  \"'s\",\n",
       "  'photo',\n",
       "  'https://t.co/LvRc5JJxvJ',\n",
       "  'denle',\n",
       "  'follow',\n",
       "  'para',\n",
       "  'citas',\n",
       "  'de',\n",
       "  'maquillaje',\n",
       "  '☺',\n",
       "  '️'],\n",
       " ['makeupbymariajose',\n",
       "  \"'s\",\n",
       "  'photo',\n",
       "  'https://url',\n",
       "  'denle',\n",
       "  'follow',\n",
       "  'para',\n",
       "  'citas',\n",
       "  'de',\n",
       "  'maquillaje',\n",
       "  '☺',\n",
       "  '️'])"
      ]
     },
     "execution_count": 25,
     "metadata": {},
     "output_type": "execute_result"
    }
   ],
   "source": [
    "words, row[\"words\"]"
   ]
  },
  {
   "cell_type": "code",
   "execution_count": 32,
   "metadata": {},
   "outputs": [],
   "source": [
    "def write_conll(path, data):\n",
    "    with open(path, \"w\") as f:\n",
    "        for sentence in data:\n",
    "            for row in sentence:\n",
    "                line = \"\\t\".join(row)\n",
    "                f.write(f\"{line}\\n\")\n",
    "            f.write(\"\\n\")\n",
    "\n",
    "write_conll(\"test.conll\", outputs)"
   ]
  },
  {
   "cell_type": "code",
   "execution_count": null,
   "metadata": {},
   "outputs": [],
   "source": []
  }
 ],
 "metadata": {
  "interpreter": {
   "hash": "387abc9bc94d8eb1bd0148a5d4cb2bf99bc3b40fa501b808e2b508b4f65ed831"
  },
  "kernelspec": {
   "display_name": "Python 3.7.12 64-bit ('pysentimiento-bwlKzHxB-py3.7': poetry)",
   "language": "python",
   "name": "python3"
  },
  "language_info": {
   "codemirror_mode": {
    "name": "ipython",
    "version": 3
   },
   "file_extension": ".py",
   "mimetype": "text/x-python",
   "name": "python",
   "nbconvert_exporter": "python",
   "pygments_lexer": "ipython3",
   "version": "3.7.12"
  },
  "orig_nbformat": 4
 },
 "nbformat": 4,
 "nbformat_minor": 2
}

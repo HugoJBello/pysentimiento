{
 "cells": [
  {
   "cell_type": "code",
   "execution_count": null,
   "metadata": {},
   "outputs": [],
   "source": []
  },
  {
   "cell_type": "markdown",
   "metadata": {},
   "source": [
    "## Exploratory Analysis\n",
    "\n"
   ]
  },
  {
   "cell_type": "code",
   "execution_count": 75,
   "metadata": {},
   "outputs": [
    {
     "name": "stdout",
     "output_type": "stream",
     "text": [
      "4802 2443 7264\n"
     ]
    },
    {
     "data": {
      "text/plain": "(Index(['text', 'polarity', 'dialect'], dtype='object'),\n Index(['text', 'polarity', 'dialect'], dtype='object'),\n Index(['text', 'polarity', 'dialect'], dtype='object'))"
     },
     "execution_count": 75,
     "metadata": {},
     "output_type": "execute_result"
    }
   ],
   "source": [
    "%load_ext autoreload\n",
    "%autoreload 2\n",
    "import os\n",
    "\n",
    "from glob import glob\n",
    "import pandas as pd\n",
    "\n",
    "def get_lang(file):\n",
    "    return os.path.splitext(os.path.basename(file))[0]\n",
    "\n",
    "def load_df(file):\n",
    "    dialect = get_lang(file)\n",
    "    \n",
    "    df = pd.read_table(file, names=[\"id\", \"text\", \"polarity\"], index_col=0)\n",
    "    df[\"dialect\"] = dialect\n",
    "    \n",
    "    return df\n",
    "\n",
    "train_files = glob(\"../data/tass2020/train/*.tsv\")\n",
    "dev_files = glob(\"../data/tass2020/dev/*.tsv\")\n",
    "test_files = glob(\"../data/tass2020/test1.1/*.tsv\")\n",
    "\n",
    "train_dfs = {get_lang(file):load_df(file) for file in train_files}\n",
    "dev_dfs = {get_lang(file):load_df(file) for file in dev_files}\n",
    "test_dfs = {get_lang(file):load_df(file) for file in test_files}\n",
    "\n",
    "train_df = pd.concat(train_dfs.values())\n",
    "dev_df = pd.concat(dev_dfs.values())\n",
    "test_df = pd.concat(test_dfs.values())\n",
    "\n",
    "print(len(train_df), len(dev_df), len(test_df))\n",
    "\n",
    "train_df.columns, dev_df.columns, test_df.columns"
   ]
  },
  {
   "cell_type": "markdown",
   "metadata": {},
   "source": [
    "Veamos primero las longitudes (a ver si no hay nada mal cargado)"
   ]
  },
  {
   "cell_type": "code",
   "execution_count": 3,
   "metadata": {},
   "outputs": [
    {
     "data": {
      "text/plain": "N      1885\nNEU    1523\nP      1394\nName: polarity, dtype: int64"
     },
     "execution_count": 3,
     "metadata": {},
     "output_type": "execute_result"
    }
   ],
   "source": [
    "df = train_df\n",
    "\n",
    "df[\"polarity\"].value_counts()"
   ]
  },
  {
   "cell_type": "markdown",
   "metadata": {},
   "source": [
    "## Ejemplos"
   ]
  },
  {
   "cell_type": "code",
   "execution_count": 4,
   "metadata": {},
   "outputs": [
    {
     "data": {
      "text/html": "<div>\n<style scoped>\n    .dataframe tbody tr th:only-of-type {\n        vertical-align: middle;\n    }\n\n    .dataframe tbody tr th {\n        vertical-align: top;\n    }\n\n    .dataframe thead th {\n        text-align: right;\n    }\n</style>\n<table border=\"1\" class=\"dataframe\">\n  <thead>\n    <tr style=\"text-align: right;\">\n      <th></th>\n      <th>text</th>\n      <th>polarity</th>\n      <th>dialect</th>\n    </tr>\n    <tr>\n      <th>id</th>\n      <th></th>\n      <th></th>\n      <th></th>\n    </tr>\n  </thead>\n  <tbody>\n    <tr>\n      <th>768529956162924544</th>\n      <td>@Adriansoler espero y deseo que el interior te cause lo mismo</td>\n      <td>NEU</td>\n      <td>es</td>\n    </tr>\n    <tr>\n      <th>768557093955698688</th>\n      <td>comprendo que te molen mis tattoos, pero no te los hagas 'iguales'</td>\n      <td>NEU</td>\n      <td>es</td>\n    </tr>\n    <tr>\n      <th>770787189319925760</th>\n      <td>A mí nunca me podrán hacer una broma porque no cojo llamadas y menos cuando son ocultas</td>\n      <td>NEU</td>\n      <td>es</td>\n    </tr>\n    <tr>\n      <th>768588061496209408</th>\n      <td>@BrujadelTuiters . Estas palabras, del Poema, INSTANTES, son de Nadine Stair. Escritora norteamericana, a la q le gustan los helados.</td>\n      <td>NEU</td>\n      <td>es</td>\n    </tr>\n    <tr>\n      <th>768506208051494912</th>\n      <td>@Iluminaughty_ @Spiegel_Spike_ pues me da igual  yo escribo lo que pienso ^^ y cuando lo pienso ajajaj si es que lo pienso</td>\n      <td>NEU</td>\n      <td>es</td>\n    </tr>\n    <tr>\n      <th>...</th>\n      <td>...</td>\n      <td>...</td>\n      <td>...</td>\n    </tr>\n    <tr>\n      <th>770138191689093122</th>\n      <td>Me dijo que no le había gustado no se cuantas cosas pero me estuvo hablando todo el tiempo de eso JAJAJAJJA no entiendo loco</td>\n      <td>NEU</td>\n      <td>uy</td>\n    </tr>\n    <tr>\n      <th>781329324389597184</th>\n      <td>Anto te extraño veni a cuidarme</td>\n      <td>NEU</td>\n      <td>uy</td>\n    </tr>\n    <tr>\n      <th>782750587398000641</th>\n      <td>Jajajaja mejor que no me la robes Igual vos empezaste!!</td>\n      <td>NEU</td>\n      <td>uy</td>\n    </tr>\n    <tr>\n      <th>790289281029898241</th>\n      <td>@JulianeroSoy no te amargues ojala que aparezca y si no bueno</td>\n      <td>NEU</td>\n      <td>uy</td>\n    </tr>\n    <tr>\n      <th>790619641659944961</th>\n      <td>¿Qué tipo de proyecto de diseño es tu preferido @Marinachan555 ? #DíaDelDiseñadorGráfico</td>\n      <td>NEU</td>\n      <td>uy</td>\n    </tr>\n  </tbody>\n</table>\n<p>1523 rows × 3 columns</p>\n</div>",
      "text/plain": "                                                                                                                                                       text  \\\nid                                                                                                                                                            \n768529956162924544                                                                           @Adriansoler espero y deseo que el interior te cause lo mismo    \n768557093955698688                                                                      comprendo que te molen mis tattoos, pero no te los hagas 'iguales'    \n770787189319925760                                                 A mí nunca me podrán hacer una broma porque no cojo llamadas y menos cuando son ocultas    \n768588061496209408  @BrujadelTuiters . Estas palabras, del Poema, INSTANTES, son de Nadine Stair. Escritora norteamericana, a la q le gustan los helados.     \n768506208051494912              @Iluminaughty_ @Spiegel_Spike_ pues me da igual  yo escribo lo que pienso ^^ y cuando lo pienso ajajaj si es que lo pienso    \n...                                                                                                                                                     ...   \n770138191689093122             Me dijo que no le había gustado no se cuantas cosas pero me estuvo hablando todo el tiempo de eso JAJAJAJJA no entiendo loco   \n781329324389597184                                                                                                          Anto te extraño veni a cuidarme   \n782750587398000641                                                                                  Jajajaja mejor que no me la robes Igual vos empezaste!!   \n790289281029898241                                                                            @JulianeroSoy no te amargues ojala que aparezca y si no bueno   \n790619641659944961                                                 ¿Qué tipo de proyecto de diseño es tu preferido @Marinachan555 ? #DíaDelDiseñadorGráfico   \n\n                   polarity dialect  \nid                                   \n768529956162924544      NEU      es  \n768557093955698688      NEU      es  \n770787189319925760      NEU      es  \n768588061496209408      NEU      es  \n768506208051494912      NEU      es  \n...                     ...     ...  \n770138191689093122      NEU      uy  \n781329324389597184      NEU      uy  \n782750587398000641      NEU      uy  \n790289281029898241      NEU      uy  \n790619641659944961      NEU      uy  \n\n[1523 rows x 3 columns]"
     },
     "execution_count": 4,
     "metadata": {},
     "output_type": "execute_result"
    }
   ],
   "source": [
    "pd.options.display.max_colwidth = 200\n",
    "pd.options.display.max_rows = 100\n",
    "\n",
    "df[df[\"polarity\"] == \"NEU\"]"
   ]
  },
  {
   "cell_type": "code",
   "execution_count": 5,
   "metadata": {},
   "outputs": [
    {
     "data": {
      "text/html": "<div>\n<style scoped>\n    .dataframe tbody tr th:only-of-type {\n        vertical-align: middle;\n    }\n\n    .dataframe tbody tr th {\n        vertical-align: top;\n    }\n\n    .dataframe thead th {\n        text-align: right;\n    }\n</style>\n<table border=\"1\" class=\"dataframe\">\n  <thead>\n    <tr style=\"text-align: right;\">\n      <th></th>\n      <th>text</th>\n      <th>polarity</th>\n      <th>dialect</th>\n    </tr>\n    <tr>\n      <th>id</th>\n      <th></th>\n      <th></th>\n      <th></th>\n    </tr>\n  </thead>\n  <tbody>\n    <tr>\n      <th>770616744192929792</th>\n      <td>Mi última partida jugada, con Sona support. La grandes razones para jugar Sona https://t.co/2rgmMeAFIs</td>\n      <td>P</td>\n      <td>es</td>\n    </tr>\n    <tr>\n      <th>769959690092642304</th>\n      <td>Tranquilos que con el.dinero de Camacho seguro mañana empiezan las escabadoras en el Arraijanal</td>\n      <td>P</td>\n      <td>es</td>\n    </tr>\n    <tr>\n      <th>770590136828559360</th>\n      <td>@daniacal aún no, pero si estará jugable en el TGS no creo que tarde demasiado.</td>\n      <td>P</td>\n      <td>es</td>\n    </tr>\n    <tr>\n      <th>771339035445002240</th>\n      <td>#feliz septiembre..es bonito retarse..es increible lo mucho que puedes aprender.. medirse con el obstáculo..eres la joyita de la corona</td>\n      <td>P</td>\n      <td>es</td>\n    </tr>\n    <tr>\n      <th>768577963885522944</th>\n      <td>Este año el Madrid hará triplete y si lo hace me rapo al cero  grabad el mensaje jejej #ChiringuitoPiqué</td>\n      <td>P</td>\n      <td>es</td>\n    </tr>\n    <tr>\n      <th>...</th>\n      <td>...</td>\n      <td>...</td>\n      <td>...</td>\n    </tr>\n    <tr>\n      <th>780770298270474240</th>\n      <td>@vivianagarcia73 @anitafb Muchas gracias Sandra por tu ayuda y esperamos que los tips sean útiles para Anita. Seguimos en contacto!</td>\n      <td>P</td>\n      <td>uy</td>\n    </tr>\n    <tr>\n      <th>761932038349946880</th>\n      <td>@AlmaHistorica doy fe son espectaculares!!</td>\n      <td>P</td>\n      <td>uy</td>\n    </tr>\n    <tr>\n      <th>795458175348641792</th>\n      <td>@grisel_ok si hermoso y esta muy agradecido</td>\n      <td>P</td>\n      <td>uy</td>\n    </tr>\n    <tr>\n      <th>785432238783619072</th>\n      <td>Que bueno ver a personas que te alegran Aunque sean sólo 2 minutos</td>\n      <td>P</td>\n      <td>uy</td>\n    </tr>\n    <tr>\n      <th>776184535771906048</th>\n      <td>@migueldobrich gracias queridísimo ! Buenísimos la charla. La escuché esta tarde y sonreí mucho</td>\n      <td>P</td>\n      <td>uy</td>\n    </tr>\n  </tbody>\n</table>\n<p>1394 rows × 3 columns</p>\n</div>",
      "text/plain": "                                                                                                                                                       text  \\\nid                                                                                                                                                            \n770616744192929792                                   Mi última partida jugada, con Sona support. La grandes razones para jugar Sona https://t.co/2rgmMeAFIs   \n769959690092642304                                         Tranquilos que con el.dinero de Camacho seguro mañana empiezan las escabadoras en el Arraijanal    \n770590136828559360                                                         @daniacal aún no, pero si estará jugable en el TGS no creo que tarde demasiado.    \n771339035445002240  #feliz septiembre..es bonito retarse..es increible lo mucho que puedes aprender.. medirse con el obstáculo..eres la joyita de la corona   \n768577963885522944                                 Este año el Madrid hará triplete y si lo hace me rapo al cero  grabad el mensaje jejej #ChiringuitoPiqué   \n...                                                                                                                                                     ...   \n780770298270474240      @vivianagarcia73 @anitafb Muchas gracias Sandra por tu ayuda y esperamos que los tips sean útiles para Anita. Seguimos en contacto!   \n761932038349946880                                                                                               @AlmaHistorica doy fe son espectaculares!!   \n795458175348641792                                                                                              @grisel_ok si hermoso y esta muy agradecido   \n785432238783619072                                                                       Que bueno ver a personas que te alegran Aunque sean sólo 2 minutos   \n776184535771906048                                          @migueldobrich gracias queridísimo ! Buenísimos la charla. La escuché esta tarde y sonreí mucho   \n\n                   polarity dialect  \nid                                   \n770616744192929792        P      es  \n769959690092642304        P      es  \n770590136828559360        P      es  \n771339035445002240        P      es  \n768577963885522944        P      es  \n...                     ...     ...  \n780770298270474240        P      uy  \n761932038349946880        P      uy  \n795458175348641792        P      uy  \n785432238783619072        P      uy  \n776184535771906048        P      uy  \n\n[1394 rows x 3 columns]"
     },
     "execution_count": 5,
     "metadata": {},
     "output_type": "execute_result"
    }
   ],
   "source": [
    "pd.options.display.max_colwidth = 200\n",
    "\n",
    "df[df[\"polarity\"] == \"P\"]"
   ]
  },
  {
   "cell_type": "code",
   "execution_count": 6,
   "metadata": {},
   "outputs": [
    {
     "data": {
      "text/html": "<div>\n<style scoped>\n    .dataframe tbody tr th:only-of-type {\n        vertical-align: middle;\n    }\n\n    .dataframe tbody tr th {\n        vertical-align: top;\n    }\n\n    .dataframe thead th {\n        text-align: right;\n    }\n</style>\n<table border=\"1\" class=\"dataframe\">\n  <thead>\n    <tr style=\"text-align: right;\">\n      <th></th>\n      <th>text</th>\n      <th>polarity</th>\n      <th>dialect</th>\n    </tr>\n    <tr>\n      <th>id</th>\n      <th></th>\n      <th></th>\n      <th></th>\n    </tr>\n  </thead>\n  <tbody>\n    <tr>\n      <th>768512386269638656</th>\n      <td>@morbosaborealis jajajaja... eso es verdad... aquí no hay uno cuerdo</td>\n      <td>N</td>\n      <td>es</td>\n    </tr>\n    <tr>\n      <th>770434744748236800</th>\n      <td>@ragnomuelle Yo a veces hecho de menos mi pelo largo por eso mismo entre otras cosas</td>\n      <td>N</td>\n      <td>es</td>\n    </tr>\n    <tr>\n      <th>768596566378774528</th>\n      <td>Es conveniente tener un Gobierno democrático que cumpla su función politica. NO lo es tener un Gobierno que representa la #corrupciónPP</td>\n      <td>N</td>\n      <td>es</td>\n    </tr>\n    <tr>\n      <th>768071942096166912</th>\n      <td>@Jordicanal64 Pues si no fichan \"lo que sea\" además de un ridículo espantoso igual QSF nos deja plantados...esperemos que no</td>\n      <td>N</td>\n      <td>es</td>\n    </tr>\n    <tr>\n      <th>772121014436302848</th>\n      <td>glowen sigue a cuentas inactivas y es en plan oh seguro que esas cuentas te dan mucho más apoyo que a las que le diste unf JAJAJA</td>\n      <td>N</td>\n      <td>es</td>\n    </tr>\n    <tr>\n      <th>...</th>\n      <td>...</td>\n      <td>...</td>\n      <td>...</td>\n    </tr>\n    <tr>\n      <th>782586808651636738</th>\n      <td>No tuviste infancia si no mezclaste todas las plastilinas con la esperanza de que quedara multicolor y te quedó una cosa marrón asquerosa</td>\n      <td>N</td>\n      <td>uy</td>\n    </tr>\n    <tr>\n      <th>761356473477820416</th>\n      <td>#Fiebre #dolorentodoelcuerpo... con #hijobello de enfermero e #hijospeludos</td>\n      <td>N</td>\n      <td>uy</td>\n    </tr>\n    <tr>\n      <th>799384176994775040</th>\n      <td>días de frío = agua extremadamente fría para tomar</td>\n      <td>N</td>\n      <td>uy</td>\n    </tr>\n    <tr>\n      <th>795705345050025984</th>\n      <td>@gabouy pero antes si era asi es parte de nuestro barranca abajo haber perdido eso</td>\n      <td>N</td>\n      <td>uy</td>\n    </tr>\n    <tr>\n      <th>782271503857553408</th>\n      <td>@abbu25 compre \"Hasta Borinquen\" por internet a ver si aprende un poquito y no dice bobadas!</td>\n      <td>N</td>\n      <td>uy</td>\n    </tr>\n  </tbody>\n</table>\n<p>1885 rows × 3 columns</p>\n</div>",
      "text/plain": "                                                                                                                                                         text  \\\nid                                                                                                                                                              \n768512386269638656                                                                      @morbosaborealis jajajaja... eso es verdad... aquí no hay uno cuerdo    \n770434744748236800                                                      @ragnomuelle Yo a veces hecho de menos mi pelo largo por eso mismo entre otras cosas    \n768596566378774528    Es conveniente tener un Gobierno democrático que cumpla su función politica. NO lo es tener un Gobierno que representa la #corrupciónPP   \n768071942096166912            @Jordicanal64 Pues si no fichan \"lo que sea\" además de un ridículo espantoso igual QSF nos deja plantados...esperemos que no      \n772121014436302848         glowen sigue a cuentas inactivas y es en plan oh seguro que esas cuentas te dan mucho más apoyo que a las que le diste unf JAJAJA    \n...                                                                                                                                                       ...   \n782586808651636738  No tuviste infancia si no mezclaste todas las plastilinas con la esperanza de que quedara multicolor y te quedó una cosa marrón asquerosa   \n761356473477820416                                                                #Fiebre #dolorentodoelcuerpo... con #hijobello de enfermero e #hijospeludos   \n799384176994775040                                                                                         días de frío = agua extremadamente fría para tomar   \n795705345050025984                                                         @gabouy pero antes si era asi es parte de nuestro barranca abajo haber perdido eso   \n782271503857553408                                               @abbu25 compre \"Hasta Borinquen\" por internet a ver si aprende un poquito y no dice bobadas!   \n\n                   polarity dialect  \nid                                   \n768512386269638656        N      es  \n770434744748236800        N      es  \n768596566378774528        N      es  \n768071942096166912        N      es  \n772121014436302848        N      es  \n...                     ...     ...  \n782586808651636738        N      uy  \n761356473477820416        N      uy  \n799384176994775040        N      uy  \n795705345050025984        N      uy  \n782271503857553408        N      uy  \n\n[1885 rows x 3 columns]"
     },
     "execution_count": 6,
     "metadata": {},
     "output_type": "execute_result"
    }
   ],
   "source": [
    "pd.options.display.max_colwidth = 200\n",
    "\n",
    "df[df[\"polarity\"] == \"N\"]"
   ]
  },
  {
   "cell_type": "markdown",
   "metadata": {},
   "source": [
    "## Dataset ya mergeado"
   ]
  },
  {
   "cell_type": "code",
   "execution_count": 7,
   "metadata": {},
   "outputs": [
    {
     "data": {
      "text/html": "<div>\n<style scoped>\n    .dataframe tbody tr th:only-of-type {\n        vertical-align: middle;\n    }\n\n    .dataframe tbody tr th {\n        vertical-align: top;\n    }\n\n    .dataframe thead th {\n        text-align: right;\n    }\n</style>\n<table border=\"1\" class=\"dataframe\">\n  <thead>\n    <tr style=\"text-align: right;\">\n      <th></th>\n      <th>text</th>\n      <th>polarity</th>\n      <th>dialect</th>\n    </tr>\n    <tr>\n      <th>id</th>\n      <th></th>\n      <th></th>\n      <th></th>\n    </tr>\n  </thead>\n  <tbody>\n    <tr>\n      <th>806714101086978048</th>\n      <td>Y lo peor fue que perdí la belfie</td>\n      <td>NaN</td>\n      <td>CR</td>\n    </tr>\n    <tr>\n      <th>806720027038728192</th>\n      <td>@Arnaldocaa Ya bebí, pero soy más arrechera que persona</td>\n      <td>NaN</td>\n      <td>CR</td>\n    </tr>\n    <tr>\n      <th>803478166853615616</th>\n      <td>Felicidades, @czulaura . Le debo un cóctel, junto a @Sailorinthesky</td>\n      <td>NaN</td>\n      <td>CR</td>\n    </tr>\n    <tr>\n      <th>785473239199850496</th>\n      <td>Aunque pensándolo bien mejor no xq sigo padeciendo d pánico escénico.</td>\n      <td>NaN</td>\n      <td>CR</td>\n    </tr>\n    <tr>\n      <th>792817362546208768</th>\n      <td>la mujer que nunca crei que me fuera a escribir me escribio</td>\n      <td>NaN</td>\n      <td>CR</td>\n    </tr>\n    <tr>\n      <th>...</th>\n      <td>...</td>\n      <td>...</td>\n      <td>...</td>\n    </tr>\n    <tr>\n      <th>756565904037670912</th>\n      <td>Un saludo para don Resentidillo muñoz.! Que sigue esperando que alguien le escriba y le ruegue.!! Jajaja Espero su sillón este cómodo.</td>\n      <td>NaN</td>\n      <td>PE</td>\n    </tr>\n    <tr>\n      <th>757602234041524224</th>\n      <td>Sí, es que se nota que te importa... - Buen intento, a la otra trata de no dar a notar tu desinterés.</td>\n      <td>NaN</td>\n      <td>PE</td>\n    </tr>\n    <tr>\n      <th>786072417307328512</th>\n      <td>@Isoor_ , @iChibolo , @FloroPeruano , @latiachuchi , estoy pasando x un momento muy difícil, un saludito suyo me arrancaría una sonrisa</td>\n      <td>NaN</td>\n      <td>PE</td>\n    </tr>\n    <tr>\n      <th>794135682876919808</th>\n      <td>@bcrpoficial Cash Miguel @canalN_ Manu Ramirez en SJL . Hace un momento · Chorrillos, Departamento de Áncash · La Ley Reseña SJL</td>\n      <td>NaN</td>\n      <td>PE</td>\n    </tr>\n    <tr>\n      <th>785310562729103361</th>\n      <td>Me encanta tener esa confianza con mi mamá de decir: ese chico está bueno, es tu futuro yerno. Y ella sólo sonreír</td>\n      <td>NaN</td>\n      <td>PE</td>\n    </tr>\n  </tbody>\n</table>\n<p>7264 rows × 3 columns</p>\n</div>",
      "text/plain": "                                                                                                                                                       text  \\\nid                                                                                                                                                            \n806714101086978048                                                                                                        Y lo peor fue que perdí la belfie   \n806720027038728192                                                                                  @Arnaldocaa Ya bebí, pero soy más arrechera que persona   \n803478166853615616                                                                      Felicidades, @czulaura . Le debo un cóctel, junto a @Sailorinthesky   \n785473239199850496                                                                    Aunque pensándolo bien mejor no xq sigo padeciendo d pánico escénico.   \n792817362546208768                                                                              la mujer que nunca crei que me fuera a escribir me escribio   \n...                                                                                                                                                     ...   \n756565904037670912   Un saludo para don Resentidillo muñoz.! Que sigue esperando que alguien le escriba y le ruegue.!! Jajaja Espero su sillón este cómodo.   \n757602234041524224                                    Sí, es que se nota que te importa... - Buen intento, a la otra trata de no dar a notar tu desinterés.   \n786072417307328512  @Isoor_ , @iChibolo , @FloroPeruano , @latiachuchi , estoy pasando x un momento muy difícil, un saludito suyo me arrancaría una sonrisa   \n794135682876919808         @bcrpoficial Cash Miguel @canalN_ Manu Ramirez en SJL . Hace un momento · Chorrillos, Departamento de Áncash · La Ley Reseña SJL   \n785310562729103361                       Me encanta tener esa confianza con mi mamá de decir: ese chico está bueno, es tu futuro yerno. Y ella sólo sonreír   \n\n                    polarity dialect  \nid                                    \n806714101086978048       NaN      CR  \n806720027038728192       NaN      CR  \n803478166853615616       NaN      CR  \n785473239199850496       NaN      CR  \n792817362546208768       NaN      CR  \n...                      ...     ...  \n756565904037670912       NaN      PE  \n757602234041524224       NaN      PE  \n786072417307328512       NaN      PE  \n794135682876919808       NaN      PE  \n785310562729103361       NaN      PE  \n\n[7264 rows x 3 columns]"
     },
     "execution_count": 7,
     "metadata": {},
     "output_type": "execute_result"
    }
   ],
   "source": [
    "test_df"
   ]
  },
  {
   "cell_type": "markdown",
   "metadata": {},
   "source": [
    "## Emotion detection"
   ]
  },
  {
   "cell_type": "code",
   "execution_count": 76,
   "metadata": {},
   "outputs": [
    {
     "data": {
      "text/html": "<div>\n<style scoped>\n    .dataframe tbody tr th:only-of-type {\n        vertical-align: middle;\n    }\n\n    .dataframe tbody tr th {\n        vertical-align: top;\n    }\n\n    .dataframe thead th {\n        text-align: right;\n    }\n</style>\n<table border=\"1\" class=\"dataframe\">\n  <thead>\n    <tr style=\"text-align: right;\">\n      <th></th>\n      <th>text</th>\n      <th>label</th>\n    </tr>\n    <tr>\n      <th>id</th>\n      <th></th>\n      <th></th>\n    </tr>\n  </thead>\n  <tbody>\n    <tr>\n      <th>810</th>\n      <td>\"Así se desplomaron, abrazadas por las llamas, las agujas en la Catedral de HASHTAG en HASHTAG USER  😥😥😥😫😫😫 https://t.co/wF8rv8Qt48 https://t.co/Fz3hkuUTNg\"</td>\n      <td>sadness</td>\n    </tr>\n    <tr>\n      <th>480</th>\n      <td>Si hoy es el HASHTAG, para cuando será el día del libro perdido, por aquello de que lo prestaste y jamás te lo devolvieron.</td>\n      <td>others</td>\n    </tr>\n    <tr>\n      <th>5877</th>\n      <td>\"Soy totalmente USER   Mis mejores compras van dentro de una bolsa amarilla con morado 😉  HASHTAG  💖#Libros https://t.co/onHqhCkPda\"</td>\n      <td>joy</td>\n    </tr>\n    <tr>\n      <th>1208</th>\n      <td>Duro el episodio Arya lo hizo HASHTAG HASHTAG</td>\n      <td>others</td>\n    </tr>\n    <tr>\n      <th>3309</th>\n      <td>No he estado más nervioso en la vida. Muérome. HASHTAG</td>\n      <td>sadness</td>\n    </tr>\n    <tr>\n      <th>3682</th>\n      <td>\"Hoy en el HASHTAG hago homenaje a uno de los libros que más me gustó en el mundo HASHTAG de HASHTAG 📚 . Vos tenes un libro favorito. Cuál me… https://t.co/8vZ6dIMjGD\"</td>\n      <td>joy</td>\n    </tr>\n    <tr>\n      <th>4495</th>\n      <td>USER USER Obviamente sabiduría no tiene edad... HASHTAG HASHTAG HASHTAG HASHTAG HASHTAG HASHTAG HASHTAG</td>\n      <td>others</td>\n    </tr>\n    <tr>\n      <th>4977</th>\n      <td>HASHTAG tienes a HASHTAG y a HASHTAG, ellas te reconstruiran. https://t.co/3040L45MEZ</td>\n      <td>others</td>\n    </tr>\n    <tr>\n      <th>3656</th>\n      <td>Quien gana la ida de la segunda semifinal de la HASHTAG</td>\n      <td>others</td>\n    </tr>\n    <tr>\n      <th>5535</th>\n      <td>Sus tweets de que es bien triste lo de HASHTAG 🙄 https://t.co/Hz5vtCLUSw</td>\n      <td>sadness</td>\n    </tr>\n  </tbody>\n</table>\n</div>",
      "text/plain": "                                                                                                                                                                         text  \\\nid                                                                                                                                                                              \n810              \"Así se desplomaron, abrazadas por las llamas, las agujas en la Catedral de HASHTAG en HASHTAG USER  😥😥😥😫😫😫 https://t.co/wF8rv8Qt48 https://t.co/Fz3hkuUTNg\"   \n480                                               Si hoy es el HASHTAG, para cuando será el día del libro perdido, por aquello de que lo prestaste y jamás te lo devolvieron.   \n5877                                     \"Soy totalmente USER   Mis mejores compras van dentro de una bolsa amarilla con morado 😉  HASHTAG  💖#Libros https://t.co/onHqhCkPda\"   \n1208                                                                                                                            Duro el episodio Arya lo hizo HASHTAG HASHTAG   \n3309                                                                                                                   No he estado más nervioso en la vida. Muérome. HASHTAG   \n3682  \"Hoy en el HASHTAG hago homenaje a uno de los libros que más me gustó en el mundo HASHTAG de HASHTAG 📚 . Vos tenes un libro favorito. Cuál me… https://t.co/8vZ6dIMjGD\"   \n4495                                                                  USER USER Obviamente sabiduría no tiene edad... HASHTAG HASHTAG HASHTAG HASHTAG HASHTAG HASHTAG HASHTAG   \n4977                                                                                    HASHTAG tienes a HASHTAG y a HASHTAG, ellas te reconstruiran. https://t.co/3040L45MEZ   \n3656                                                                                                                  Quien gana la ida de la segunda semifinal de la HASHTAG   \n5535                                                                                                 Sus tweets de que es bien triste lo de HASHTAG 🙄 https://t.co/Hz5vtCLUSw   \n\n         label  \nid              \n810   sadness   \n480    others   \n5877      joy   \n1208   others   \n3309  sadness   \n3682      joy   \n4495   others   \n4977   others   \n3656   others   \n5535  sadness   "
     },
     "execution_count": 76,
     "metadata": {},
     "output_type": "execute_result"
    }
   ],
   "source": [
    "import csv\n",
    "import pandas as pd\n",
    "\n",
    "train_df = pd.read_table(\"../data/tass2020/task2/train.tsv\", index_col=0, names=[\"id\", \"text\", \"label\"], quoting=csv.QUOTE_NONE)\n",
    "\n",
    "dev_df = pd.read_table(\n",
    "    \"../data/tass2020/task2/dev.tsv\", index_col=0,names=[\"id\", \"text\", \"label\"],\n",
    "    quoting=csv.QUOTE_NONE)\n",
    "\n",
    "test_df = pd.read_table(\"../data/tass2020/task2/test_task2.tsv\", index_col=0,names=[\"id\", \"text\", \"label\"], quoting=csv.QUOTE_NONE)\n",
    " \n",
    "\n",
    "train_df.sample(10)"
   ]
  },
  {
   "cell_type": "markdown",
   "metadata": {},
   "source": [
    "One label per tweet"
   ]
  },
  {
   "cell_type": "code",
   "execution_count": 78,
   "metadata": {},
   "outputs": [
    {
     "name": "stdout",
     "output_type": "stream",
     "text": [
      "(8410, 3)\n"
     ]
    },
    {
     "data": {
      "text/html": "<div>\n<style scoped>\n    .dataframe tbody tr th:only-of-type {\n        vertical-align: middle;\n    }\n\n    .dataframe tbody tr th {\n        vertical-align: top;\n    }\n\n    .dataframe thead th {\n        text-align: right;\n    }\n</style>\n<table border=\"1\" class=\"dataframe\">\n  <thead>\n    <tr style=\"text-align: right;\">\n      <th></th>\n      <th>text</th>\n      <th>label</th>\n      <th>offensive</th>\n      <th>slice</th>\n    </tr>\n    <tr>\n      <th>id</th>\n      <th></th>\n      <th></th>\n      <th></th>\n      <th></th>\n    </tr>\n  </thead>\n  <tbody>\n    <tr>\n      <th>3160</th>\n      <td>EL REY DE HASHTAG! ¡10 títulos para Leo Messi en 15 campeonatos españoles disputados defendiendo la camiseta del Barcelona!  URL</td>\n      <td>joy</td>\n      <td>0</td>\n      <td>None</td>\n    </tr>\n    <tr>\n      <th>5431</th>\n      <td>HASHTAG HASHTAG joven heroína del clima, da lección en HASHTAG Aquí los detalles ⬇️ URL  URL</td>\n      <td>others</td>\n      <td>0</td>\n      <td>None</td>\n    </tr>\n    <tr>\n      <th>4322</th>\n      <td>Como se perdieron el 4-0, NO ME LA CRE O HASHTAG HASHTAG</td>\n      <td>surprise</td>\n      <td>0</td>\n      <td>None</td>\n    </tr>\n  </tbody>\n</table>\n</div>",
      "text/plain": "                                                                                                                                  text  \\\nid                                                                                                                                       \n3160  EL REY DE HASHTAG! ¡10 títulos para Leo Messi en 15 campeonatos españoles disputados defendiendo la camiseta del Barcelona!  URL   \n5431                                      HASHTAG HASHTAG joven heroína del clima, da lección en HASHTAG Aquí los detalles ⬇️ URL  URL   \n4322                                                                          Como se perdieron el 4-0, NO ME LA CRE O HASHTAG HASHTAG   \n\n         label offensive slice  \nid                              \n3160       joy         0  None  \n5431    others         0  None  \n4322  surprise         0  None  "
     },
     "execution_count": 78,
     "metadata": {},
     "output_type": "execute_result"
    }
   ],
   "source": [
    "full_df = pd.read_table(\"../data/tass2020/task2/dataset_emotions_SP.csv\",names=[\"id\", \"text\", \"label\", \"offensive\"], index_col=0)\n",
    "\n",
    "print(full_df.shape)\n",
    "\n",
    "full_df[\"slice\"] = None\n",
    "\n",
    "full_df.sample(3)"
   ]
  },
  {
   "cell_type": "code",
   "execution_count": 79,
   "metadata": {},
   "outputs": [],
   "source": [
    "not_found = []\n",
    "\n",
    "text2id = {}\n",
    "for idx, row in full_df.iterrows():\n",
    "    text2id[row.text] = idx\n",
    "\n",
    "def set_slice(df, slice):\n",
    "    not_found = []\n",
    "    for idx, row in train_df.iterrows():\n",
    "        if row.text in text2id:\n",
    "            idx = text2id[row.text]\n",
    "            full_df.loc[idx, \"slice\"] = slice\n",
    "        else:\n",
    "            not_found.append(idx)\n",
    "    return not_found \n"
   ]
  },
  {
   "cell_type": "code",
   "execution_count": 82,
   "metadata": {},
   "outputs": [
    {
     "data": {
      "application/vnd.jupyter.widget-view+json": {
       "model_id": "7c176470564e460cb37520a7f44f920b",
       "version_major": 2,
       "version_minor": 0
      },
      "text/plain": "HBox(children=(FloatProgress(value=1.0, bar_style='info', layout=Layout(width='20px'), max=1.0), HTML(value=''…"
     },
     "metadata": {},
     "output_type": "display_data"
    },
    {
     "name": "stdout",
     "output_type": "stream",
     "text": [
      "================================================================================\n",
      "AHORA | Comunicado Grupo de Lima sobre la situación en HASHTAG. \"Conminan a Maduro a cesar la usurpación\", se declaran en sesión permanente, y deciden reunirse de manera presencial el próximo viernes 3 de mayo, en la ciudad de Lima, Perú.  URL\n",
      "[('AHORA | Comunicado Grupo de Lima sobre la situación en HASHTAG. \"Conminan a Maduro a cesar la usurpación\", se declaran en sesión permanente, y deciden reunirse de manera presencial el próximo viernes 3 de mayo, en la ciudad de Lima, Perú.  URL', 100), ('AHORA | Aquí el Comunicado del Grupo de Lima sobre la situación en HASHTAG. \"Conminan a Maduro a cesar la usurpación\", se declaran en sesión permanente, y deciden reunirse de manera presencial el próximo viernes 3 de mayo, en la ciudad de Lima, Perú.  URL', 98)]\n",
      "================================================================================\n",
      "ATENCIÓN CONTENIDO VIOLENTO-Un vehículo de la Guardia Nacional arrolla a manifestantes que le tiraban piedras en HASHTAG, HASHTAG. USER USER  URL\n",
      "[('ATENCIÓN CONTENIDO VIOLENTO-Un vehículo de la Guardia Nacional arrolla a manifestantes que le tiraban piedras en HASHTAG HASHTAG HASHTAG HASHTAG  URL', 93), ('ATENCIÓN CONTENIDO VIOLENTO-Un vehículo de la Guardia Nacional arrolla a manifestantes que le tiraban piedras en HASHTAG, HASHTAG. USER USER  URL', 100)]\n",
      "================================================================================\n",
      "Lo loco del día de hoy, ver correr y casi correr por una tanqueta que venía q millón en la concentración en donde me encontraba HASHTAG HASHTAG HASHTAG\n",
      "[('Lo loco del día de hoy, ver correr y casi correr por una tanqueta que venía a millón en la concentración en donde me encontraba HASHTAG HASHTAG HASHTAG', 99), ('Lo loco del día de hoy, ver correr y casi correr por una tanqueta que venía q millón en la concentración en donde me encontraba HASHTAG HASHTAG HASHTAG', 100)]\n",
      "================================================================================\n",
      "RT WContreras_: En el HASHTAG hacemos un reconocimiento a quienes escriben, y sobre todo a los lectores. Es una fecha para festejar la lectura la creatividad, la cultura, la igualdad de acceso al conocimiento y la diversidad para todo nuestro pueblo…  URL\n",
      "[('RT WContreras_: En el HASHTAG hacemos un reconocimiento a quienes escriben, y sobre todo a los lectores. Es una fecha para festejar la lectura la creatividad, la cultura, la igualdad de acceso al conocimiento y la diversidad para todo nuestro pueblo. HASHTAG…', 97), ('RT WContreras_: En el HASHTAG hacemos un reconocimiento a quienes escriben, y sobre todo a los lectores. Es una fecha para festejar la lectura la creatividad, la cultura, la igualdad de acceso al conocimiento y la diversidad para todo nuestro pueblo…  URL', 100)]\n",
      "================================================================================\n",
      "Mi libro favorito es ___  y puede hacerme ganar un ebook con USER HASHTAG HASHTAG HASHTAG+información:  URL\n",
      "[('Mi libro favorito es _la novia gitana__  y puede hacerme ganar un ebook con USER HASHTAG HASHTAG HASHTAG+información:  URL', 93), ('Mi libro favorito es ___  y puede hacerme ganar un ebook con USER HASHTAG HASHTAG HASHTAG+información:  URL', 100)]\n",
      "================================================================================\n",
      "🏆 ¡CAMPEONES DE USER 2018-19! 8 ligas en 11 años. Lo extraordinario es que parezca normal.🖌🎨 HASHTAG 🔵🔴 HASHTAG HASHTAG\n",
      "[('🏆 ¡CAMPEONES DE USER 2018-19!8 ligas en 11 años. Lo extraordinario es que parezca normal.🖌🎨 HASHTAG 🔵🔴 HASHTAG HASHTAG ❤💙🏆  URL', 96), ('🏆 ¡CAMPEONES DE USER 2018-19!8 ligas en 11 años. Lo extraordinario es que parezca normal.🖌🎨 HASHTAG 🔵🔴 HASHTAG HASHTAG', 100)]\n",
      "================================================================================\n",
      "Gracias a todos los interventores y apoderados del PP de Camas  Hoy HASHTAG  HASHTAG para HASHTAG   HASHTAG HASHTAG  URL\n",
      "[('Gracias a todos los interventores y apoderados  de USER   Hoy HASHTAG  HASHTAG para HASHTAG    HASHTAG HASHTAG  URL', 93), ('Gracias a todos los interventores y apoderados del PP de Camas  Hoy HASHTAG  HASHTAG para HASHTAG   HASHTAG HASHTAG  URL', 100), ('Gracias a todos los interventores y apoderados del PP de Marinaleda    Hoy HASHTAG  HASHTAG para HASHTAG   HASHTAG HASHTAG  URL', 95)]\n",
      "================================================================================\n",
      "Usos luchan. Otros patalean. Usos luchan. Otros NO. HASHTAG HASHTAG HASHTAG HASHTAG HASHTAG HASHTAG HASHTAG HASHTAG HASHTAG HASHTAG HASHTAG HASHTAG HASHTAG HASHTAG  URL\n",
      "[('Unos luchan. Otros patalean. Unos luchan. Otros NO. HASHTAG HASHTAG HASHTAG HASHTAG HASHTAG HASHTAG HASHTAG HASHTAG HASHTAG HASHTAG HASHTAG HASHTAG HASHTAG HASHTAG  URL', 99), ('Usos luchan. Otros patalean. Usos luchan. Otros NO. HASHTAG HASHTAG HASHTAG HASHTAG HASHTAG HASHTAG HASHTAG HASHTAG HASHTAG HASHTAG HASHTAG HASHTAG HASHTAG HASHTAG  URL', 100)]\n",
      "================================================================================\n",
      "Reino Unido declara el cambio climático como emergencia nacional  URL HASHTAG HASHTAG HASHTAG HASHTAG via USER\n",
      "[('Reino Unido declara el cambio climático como emergencia nacional  URL HASHTAG HASHTAG HASHTAG HASHTAG vía USER', 99), ('Reino Unido declara el cambio climático como emergencia nacional  URL HASHTAG HASHTAG HASHTAG HASHTAG via USER', 100)]\n",
      "================================================================================\n",
      "\"Quiero que entréis en pánico, porque la casa está en llamas\", afirmó HASHTAG     URL\n",
      "[('URL   \"Quiero que entréis en pánico, porque la casa está en llamas\", afirmó HASHTAG  :  URL', 95), ('\"Quiero que entréis en pánico, porque la casa está en llamas\", afirmó HASHTAG     URL', 100)]\n",
      "================================================================================\n",
      "HASHTAG¡Termina el primer tiempo! ⏰ USER 0-0 USER 🔴EN VIVO:   URL\n",
      "[('HASHTAG¡Termina el primer tiempo! ⏰ USER 0-0 USER 🔴EN VIVO:   URL', 100), ('HASHTAG🇪🇸¡Se termina el primer tiempo! USER 0-0 USER EN VIVO:  URL', 92)]\n",
      "================================================================================\n",
      "\"Dentro de 10 años, 259 días y 10 horas, habremos desatado una reacción en cadena irreversible… \"El mensaje de la joven activista sueca HASHTAG en el Parlamento europeo es es bastante claro...  URL\n",
      "[('\"Dentro de 10 años, 259 días y 10 horas, habremos desatado una reacción en cadena irreversible… \"El mensaje de la joven activista sueca HASHTAG en el Parlamento europeo es es bastante claro...  URL', 100), ('\"Dentro de 10 años, 259 días y 10 horas, habremos desatado una reacción en cadena irreversible… \"El mensaje de la joven activista sueca HASHTAG en el HASHTAG es bastante claro...  URL', 93)]\n",
      "\n"
     ]
    }
   ],
   "source": [
    "import re \n",
    "from tqdm.auto import tqdm\n",
    "from fuzzywuzzy import fuzz\n",
    "\n",
    "url_regex = re.compile(\n",
    "    r\"((?<=[^a-zA-Z0-9])(?:https?\\:\\/\\/|[a-zA-Z0-9]{1,}\\.{1}|\\b)(?:\\w{1,}\\.{1}){1,5}(?:com|co|org|edu|gov|uk|net|ca|de|jp|fr|au|us|ru|ch|it|nl|se|no|es|mil|iq|io|ac|ly|sm){1}(?:\\/[a-zA-Z0-9]{1,})*)\"\n",
    ")\n",
    "\n",
    "\n",
    "hashtag_regex = re.compile(r'\\B#(\\w*[a-zA-Z]+\\w*)')\n",
    "\n",
    "for idx, row in tqdm(test_df.iterrows()):\n",
    "    text = url_regex.sub(\"URL\", row.text)\n",
    "    text = hashtag_regex.sub(\"HASHTAG\", row.text)\n",
    "    found = []\n",
    "    for other in text2id:\n",
    "        if (ratio := fuzz.ratio(text, other)) >= 92:\n",
    "            found.append((other, ratio))\n",
    "            \n",
    "    if len(found) != 1:\n",
    "        print(\"=\"*80)\n",
    "        print(text)\n",
    "        print(found)"
   ]
  },
  {
   "cell_type": "code",
   "execution_count": 81,
   "metadata": {},
   "outputs": [
    {
     "data": {
      "text/plain": "'Y bueno, llegó ésta vaina...😖 HASHTAG  HASHTAG HASHTAG Que sea lo que los dioses quieran...  URL'"
     },
     "execution_count": 81,
     "metadata": {},
     "output_type": "execute_result"
    }
   ],
   "source": [
    "found = full_df[full_df[\"text\"].apply(lambda x: \"llegó ésta vaina\" in x)].iloc[0].text\n",
    "\n",
    "found"
   ]
  },
  {
   "cell_type": "code",
   "execution_count": 70,
   "metadata": {},
   "outputs": [
    {
     "data": {
      "text/plain": "[('I', 'I'),\n ('n', 'n'),\n ('v', 'v'),\n ('i', 'i'),\n ('t', 't'),\n ('a', 'a'),\n ('m', 'm'),\n ('o', 'o'),\n ('s', 's'),\n (' ', ' '),\n ('a', 'a'),\n (' ', ' '),\n ('t', 't'),\n ('o', 'o'),\n ('d', 'd'),\n ('o', 'o'),\n ('s', 's'),\n (' ', ' '),\n ('l', 'l'),\n ('o', 'o'),\n ('s', 's'),\n (' ', ' '),\n ('e', 'e'),\n ('s', 's'),\n ('t', 't'),\n ('u', 'u'),\n ('d', 'd'),\n ('i', 'i'),\n ('a', 'a'),\n ('n', 'n'),\n ('t', 't'),\n ('e', 'e'),\n ('s', 's'),\n (' ', ' '),\n ('e', 'e'),\n ('n', 'n'),\n (' ', ' '),\n ('B', 'B'),\n ('o', 'o'),\n ('g', 'g'),\n ('o', 'o'),\n ('t', 't'),\n ('á', 'á'),\n (' ', ' '),\n ('h', 'h'),\n ('o', 'o'),\n ('y', 'y'),\n (' ', ' '),\n ('a', 'a'),\n (' ', ' '),\n ('u', 'u'),\n ('n', 'n'),\n ('i', 'i'),\n ('r', 'r'),\n ('s', 's'),\n ('e', 'e'),\n (' ', ' '),\n ('a', 'a'),\n ('l', 'l'),\n (' ', ' '),\n ('p', 'p'),\n ('a', 'a'),\n ('r', 'r'),\n ('o', 'o'),\n (' ', ' '),\n ('e', 'e'),\n ('s', 's'),\n ('t', 't'),\n ('u', 'u'),\n ('d', 'd'),\n ('i', 'i'),\n ('a', 'a'),\n ('n', 'n'),\n ('t', 't'),\n ('i', 'i'),\n ('l', 'l'),\n (' ', ' '),\n ('p', 'p'),\n ('a', 'a'),\n ('r', 'r'),\n ('a', 'a'),\n (' ', ' '),\n ('e', 'e'),\n ('x', 'x'),\n ('i', 'i'),\n ('g', 'g'),\n ('i', 'i'),\n ('r', 'r'),\n (' ', ' '),\n ('a', 'a'),\n ('l', 'l'),\n (' ', ' '),\n ('g', 'g'),\n ('o', 'o'),\n ('b', 'b'),\n ('i', 'i'),\n ('e', 'e'),\n ('r', 'r'),\n ('n', 'n'),\n ('o', 'o'),\n (' ', ' '),\n ('t', 't'),\n ('o', 'o'),\n ('m', 'm'),\n ('a', 'a'),\n ('r', 'r'),\n (' ', ' '),\n ('m', 'm'),\n ('e', 'e'),\n ('d', 'd'),\n ('i', 'i'),\n ('d', 'd'),\n ('a', 'a'),\n ('s', 's'),\n (' ', ' '),\n ('e', 'e'),\n ('n', 'n'),\n (' ', ' '),\n ('c', 'c'),\n ('o', 'o'),\n ('n', 'n'),\n ('t', 't'),\n ('r', 'r'),\n ('a', 'a'),\n (' ', ' '),\n ('d', 'd'),\n ('e', 'e'),\n ('l', 'l'),\n (' ', ' '),\n ('c', 'c'),\n ('a', 'a'),\n ('m', 'm'),\n ('b', 'b'),\n ('i', 'i'),\n ('o', 'o'),\n (' ', ' '),\n ('c', 'c'),\n ('l', 'l'),\n ('i', 'i'),\n ('m', 'm'),\n ('á', 'á'),\n ('t', 't'),\n ('i', 'i'),\n ('c', 'c'),\n ('o', 'o'),\n ('!', '!'),\n (' ', ' '),\n ('L', 'L'),\n ('a', 'a'),\n (' ', ' '),\n ('m', 'm'),\n ('a', 'a'),\n ('n', 'n'),\n ('i', 'i'),\n ('f', 'f'),\n ('e', 'e'),\n ('s', 's'),\n ('t', 't'),\n ('a', 'a'),\n ('c', 'c'),\n ('i', 'i'),\n ('ó', 'ó'),\n ('n', 'n'),\n (' ', ' '),\n ('s', 's'),\n ('e', 'e'),\n (' ', ' '),\n ('l', 'l'),\n ('l', 'l'),\n ('e', 'e'),\n ('v', 'v'),\n ('a', 'a'),\n ('r', 'r'),\n ('á', 'á'),\n (' ', ' '),\n ('a', 'a'),\n (' ', ' '),\n ('c', 'c'),\n ('a', 'a'),\n ('b', 'b'),\n ('o', 'o'),\n (' ', ' '),\n ('a', 'a'),\n (' ', ' '),\n ('l', 'l'),\n ('a', 'a'),\n ('s', 's'),\n (' ', ' '),\n ('1', '1'),\n ('0', '0'),\n ('.', '.'),\n (' ', '0'),\n ('0', '0'),\n ('0', 'a'),\n ('a', 'm'),\n ('m', ' '),\n (' ', 'e'),\n ('e', 'n'),\n ('n', ' '),\n (' ', 'l'),\n ('l', 'a'),\n ('a', ' '),\n (' ', 'p'),\n ('p', 'l'),\n ('l', 'a'),\n ('a', 'z'),\n ('z', 'a'),\n ('a', ' '),\n (' ', 's'),\n ('s', 'i'),\n ('i', 'm'),\n ('m', 'ó'),\n ('ó', 'n'),\n ('n', ' '),\n (' ', 'B'),\n ('B', 'o'),\n ('o', 'l'),\n ('l', 'í'),\n ('í', 'v'),\n ('v', 'a'),\n ('a', 'r'),\n ('r', ' '),\n (' ', 'H'),\n ('H', 'A'),\n ('A', 'S'),\n ('S', 'H'),\n ('H', 'T'),\n ('T', 'A'),\n ('A', 'G'),\n ('G', ' '),\n (' ', 'H'),\n ('H', 'A'),\n ('A', 'S'),\n ('S', 'H'),\n ('H', 'T'),\n ('T', 'A'),\n ('A', 'G'),\n ('G', ' '),\n (' ', 'H'),\n ('H', 'A'),\n ('A', 'S'),\n ('S', 'H'),\n ('H', 'T'),\n ('T', 'A'),\n ('A', 'G'),\n ('G', ' '),\n (' ', 'H'),\n ('H', 'A'),\n ('A', 'S'),\n ('S', 'H'),\n ('H', 'T'),\n ('T', 'A'),\n ('A', 'G')]"
     },
     "execution_count": 70,
     "metadata": {},
     "output_type": "execute_result"
    }
   ],
   "source": [
    "list(zip(text, found))"
   ]
  }
 ],
 "metadata": {
  "kernelspec": {
   "display_name": "Python 3.8.5 64-bit ('pysent-oyXQVI9B': pipenv)",
   "name": "python385jvsc74a57bd01b2ee3c7e4be117f16044e4287774c113d04cbc1cc9e7e3b16e6e098f73486a4"
  },
  "language_info": {
   "codemirror_mode": {
    "name": "ipython",
    "version": 3
   },
   "file_extension": ".py",
   "mimetype": "text/x-python",
   "name": "python",
   "nbconvert_exporter": "python",
   "pygments_lexer": "ipython3",
   "version": "3.8.5"
  },
  "metadata": {
   "interpreter": {
    "hash": "1b2ee3c7e4be117f16044e4287774c113d04cbc1cc9e7e3b16e6e098f73486a4"
   }
  },
  "orig_nbformat": 3
 },
 "nbformat": 4,
 "nbformat_minor": 4
}
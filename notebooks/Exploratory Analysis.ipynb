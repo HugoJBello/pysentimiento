{
 "cells": [
  {
   "cell_type": "markdown",
   "metadata": {},
   "source": [
    "## Exploratory Analysis\n",
    "\n"
   ]
  },
  {
   "cell_type": "code",
   "execution_count": 2,
   "metadata": {},
   "outputs": [
    {
     "name": "stdout",
     "output_type": "stream",
     "text": [
      "4802 2443 7264\n"
     ]
    },
    {
     "data": {
      "text/plain": "(Index(['text', 'polarity', 'dialect'], dtype='object'),\n Index(['text', 'polarity', 'dialect'], dtype='object'),\n Index(['text', 'polarity', 'dialect'], dtype='object'))"
     },
     "execution_count": 2,
     "metadata": {},
     "output_type": "execute_result"
    }
   ],
   "source": [
    "import os\n",
    "from glob import glob\n",
    "import pandas as pd\n",
    "\n",
    "def get_lang(file):\n",
    "    return os.path.splitext(os.path.basename(file))[0]\n",
    "\n",
    "def load_df(file):\n",
    "    dialect = get_lang(file)\n",
    "    \n",
    "    df = pd.read_table(file, names=[\"id\", \"text\", \"polarity\"], index_col=0)\n",
    "    df[\"dialect\"] = dialect\n",
    "    \n",
    "    return df\n",
    "\n",
    "train_files = glob(\"../data/tass2020/train/*.tsv\")\n",
    "dev_files = glob(\"../data/tass2020/dev/*.tsv\")\n",
    "test_files = glob(\"../data/tass2020/test1.1/*.tsv\")\n",
    "\n",
    "train_dfs = {get_lang(file):load_df(file) for file in train_files}\n",
    "dev_dfs = {get_lang(file):load_df(file) for file in dev_files}\n",
    "test_dfs = {get_lang(file):load_df(file) for file in test_files}\n",
    "\n",
    "train_df = pd.concat(train_dfs.values())\n",
    "dev_df = pd.concat(dev_dfs.values())\n",
    "test_df = pd.concat(test_dfs.values())\n",
    "\n",
    "print(len(train_df), len(dev_df), len(test_df))\n",
    "\n",
    "train_df.columns, dev_df.columns, test_df.columns"
   ]
  },
  {
   "cell_type": "markdown",
   "metadata": {},
   "source": [
    "Veamos primero las longitudes (a ver si no hay nada mal cargado)"
   ]
  },
  {
   "cell_type": "code",
   "execution_count": 3,
   "metadata": {},
   "outputs": [
    {
     "data": {
      "text/plain": "N      1885\nNEU    1523\nP      1394\nName: polarity, dtype: int64"
     },
     "execution_count": 3,
     "metadata": {},
     "output_type": "execute_result"
    }
   ],
   "source": [
    "df = train_df\n",
    "\n",
    "df[\"polarity\"].value_counts()"
   ]
  },
  {
   "cell_type": "markdown",
   "metadata": {},
   "source": [
    "## Ejemplos"
   ]
  },
  {
   "cell_type": "code",
   "execution_count": 4,
   "metadata": {},
   "outputs": [
    {
     "data": {
      "text/html": "<div>\n<style scoped>\n    .dataframe tbody tr th:only-of-type {\n        vertical-align: middle;\n    }\n\n    .dataframe tbody tr th {\n        vertical-align: top;\n    }\n\n    .dataframe thead th {\n        text-align: right;\n    }\n</style>\n<table border=\"1\" class=\"dataframe\">\n  <thead>\n    <tr style=\"text-align: right;\">\n      <th></th>\n      <th>text</th>\n      <th>polarity</th>\n      <th>dialect</th>\n    </tr>\n    <tr>\n      <th>id</th>\n      <th></th>\n      <th></th>\n      <th></th>\n    </tr>\n  </thead>\n  <tbody>\n    <tr>\n      <th>768529956162924544</th>\n      <td>@Adriansoler espero y deseo que el interior te cause lo mismo</td>\n      <td>NEU</td>\n      <td>es</td>\n    </tr>\n    <tr>\n      <th>768557093955698688</th>\n      <td>comprendo que te molen mis tattoos, pero no te los hagas 'iguales'</td>\n      <td>NEU</td>\n      <td>es</td>\n    </tr>\n    <tr>\n      <th>770787189319925760</th>\n      <td>A mí nunca me podrán hacer una broma porque no cojo llamadas y menos cuando son ocultas</td>\n      <td>NEU</td>\n      <td>es</td>\n    </tr>\n    <tr>\n      <th>768588061496209408</th>\n      <td>@BrujadelTuiters . Estas palabras, del Poema, INSTANTES, son de Nadine Stair. Escritora norteamericana, a la q le gustan los helados.</td>\n      <td>NEU</td>\n      <td>es</td>\n    </tr>\n    <tr>\n      <th>768506208051494912</th>\n      <td>@Iluminaughty_ @Spiegel_Spike_ pues me da igual  yo escribo lo que pienso ^^ y cuando lo pienso ajajaj si es que lo pienso</td>\n      <td>NEU</td>\n      <td>es</td>\n    </tr>\n    <tr>\n      <th>...</th>\n      <td>...</td>\n      <td>...</td>\n      <td>...</td>\n    </tr>\n    <tr>\n      <th>770138191689093122</th>\n      <td>Me dijo que no le había gustado no se cuantas cosas pero me estuvo hablando todo el tiempo de eso JAJAJAJJA no entiendo loco</td>\n      <td>NEU</td>\n      <td>uy</td>\n    </tr>\n    <tr>\n      <th>781329324389597184</th>\n      <td>Anto te extraño veni a cuidarme</td>\n      <td>NEU</td>\n      <td>uy</td>\n    </tr>\n    <tr>\n      <th>782750587398000641</th>\n      <td>Jajajaja mejor que no me la robes Igual vos empezaste!!</td>\n      <td>NEU</td>\n      <td>uy</td>\n    </tr>\n    <tr>\n      <th>790289281029898241</th>\n      <td>@JulianeroSoy no te amargues ojala que aparezca y si no bueno</td>\n      <td>NEU</td>\n      <td>uy</td>\n    </tr>\n    <tr>\n      <th>790619641659944961</th>\n      <td>¿Qué tipo de proyecto de diseño es tu preferido @Marinachan555 ? #DíaDelDiseñadorGráfico</td>\n      <td>NEU</td>\n      <td>uy</td>\n    </tr>\n  </tbody>\n</table>\n<p>1523 rows × 3 columns</p>\n</div>",
      "text/plain": "                                                                                                                                                       text  \\\nid                                                                                                                                                            \n768529956162924544                                                                           @Adriansoler espero y deseo que el interior te cause lo mismo    \n768557093955698688                                                                      comprendo que te molen mis tattoos, pero no te los hagas 'iguales'    \n770787189319925760                                                 A mí nunca me podrán hacer una broma porque no cojo llamadas y menos cuando son ocultas    \n768588061496209408  @BrujadelTuiters . Estas palabras, del Poema, INSTANTES, son de Nadine Stair. Escritora norteamericana, a la q le gustan los helados.     \n768506208051494912              @Iluminaughty_ @Spiegel_Spike_ pues me da igual  yo escribo lo que pienso ^^ y cuando lo pienso ajajaj si es que lo pienso    \n...                                                                                                                                                     ...   \n770138191689093122             Me dijo que no le había gustado no se cuantas cosas pero me estuvo hablando todo el tiempo de eso JAJAJAJJA no entiendo loco   \n781329324389597184                                                                                                          Anto te extraño veni a cuidarme   \n782750587398000641                                                                                  Jajajaja mejor que no me la robes Igual vos empezaste!!   \n790289281029898241                                                                            @JulianeroSoy no te amargues ojala que aparezca y si no bueno   \n790619641659944961                                                 ¿Qué tipo de proyecto de diseño es tu preferido @Marinachan555 ? #DíaDelDiseñadorGráfico   \n\n                   polarity dialect  \nid                                   \n768529956162924544      NEU      es  \n768557093955698688      NEU      es  \n770787189319925760      NEU      es  \n768588061496209408      NEU      es  \n768506208051494912      NEU      es  \n...                     ...     ...  \n770138191689093122      NEU      uy  \n781329324389597184      NEU      uy  \n782750587398000641      NEU      uy  \n790289281029898241      NEU      uy  \n790619641659944961      NEU      uy  \n\n[1523 rows x 3 columns]"
     },
     "execution_count": 4,
     "metadata": {},
     "output_type": "execute_result"
    }
   ],
   "source": [
    "pd.options.display.max_colwidth = 200\n",
    "pd.options.display.max_rows = 100\n",
    "\n",
    "df[df[\"polarity\"] == \"NEU\"]"
   ]
  },
  {
   "cell_type": "code",
   "execution_count": 5,
   "metadata": {},
   "outputs": [
    {
     "data": {
      "text/html": "<div>\n<style scoped>\n    .dataframe tbody tr th:only-of-type {\n        vertical-align: middle;\n    }\n\n    .dataframe tbody tr th {\n        vertical-align: top;\n    }\n\n    .dataframe thead th {\n        text-align: right;\n    }\n</style>\n<table border=\"1\" class=\"dataframe\">\n  <thead>\n    <tr style=\"text-align: right;\">\n      <th></th>\n      <th>text</th>\n      <th>polarity</th>\n      <th>dialect</th>\n    </tr>\n    <tr>\n      <th>id</th>\n      <th></th>\n      <th></th>\n      <th></th>\n    </tr>\n  </thead>\n  <tbody>\n    <tr>\n      <th>770616744192929792</th>\n      <td>Mi última partida jugada, con Sona support. La grandes razones para jugar Sona https://t.co/2rgmMeAFIs</td>\n      <td>P</td>\n      <td>es</td>\n    </tr>\n    <tr>\n      <th>769959690092642304</th>\n      <td>Tranquilos que con el.dinero de Camacho seguro mañana empiezan las escabadoras en el Arraijanal</td>\n      <td>P</td>\n      <td>es</td>\n    </tr>\n    <tr>\n      <th>770590136828559360</th>\n      <td>@daniacal aún no, pero si estará jugable en el TGS no creo que tarde demasiado.</td>\n      <td>P</td>\n      <td>es</td>\n    </tr>\n    <tr>\n      <th>771339035445002240</th>\n      <td>#feliz septiembre..es bonito retarse..es increible lo mucho que puedes aprender.. medirse con el obstáculo..eres la joyita de la corona</td>\n      <td>P</td>\n      <td>es</td>\n    </tr>\n    <tr>\n      <th>768577963885522944</th>\n      <td>Este año el Madrid hará triplete y si lo hace me rapo al cero  grabad el mensaje jejej #ChiringuitoPiqué</td>\n      <td>P</td>\n      <td>es</td>\n    </tr>\n    <tr>\n      <th>...</th>\n      <td>...</td>\n      <td>...</td>\n      <td>...</td>\n    </tr>\n    <tr>\n      <th>780770298270474240</th>\n      <td>@vivianagarcia73 @anitafb Muchas gracias Sandra por tu ayuda y esperamos que los tips sean útiles para Anita. Seguimos en contacto!</td>\n      <td>P</td>\n      <td>uy</td>\n    </tr>\n    <tr>\n      <th>761932038349946880</th>\n      <td>@AlmaHistorica doy fe son espectaculares!!</td>\n      <td>P</td>\n      <td>uy</td>\n    </tr>\n    <tr>\n      <th>795458175348641792</th>\n      <td>@grisel_ok si hermoso y esta muy agradecido</td>\n      <td>P</td>\n      <td>uy</td>\n    </tr>\n    <tr>\n      <th>785432238783619072</th>\n      <td>Que bueno ver a personas que te alegran Aunque sean sólo 2 minutos</td>\n      <td>P</td>\n      <td>uy</td>\n    </tr>\n    <tr>\n      <th>776184535771906048</th>\n      <td>@migueldobrich gracias queridísimo ! Buenísimos la charla. La escuché esta tarde y sonreí mucho</td>\n      <td>P</td>\n      <td>uy</td>\n    </tr>\n  </tbody>\n</table>\n<p>1394 rows × 3 columns</p>\n</div>",
      "text/plain": "                                                                                                                                                       text  \\\nid                                                                                                                                                            \n770616744192929792                                   Mi última partida jugada, con Sona support. La grandes razones para jugar Sona https://t.co/2rgmMeAFIs   \n769959690092642304                                         Tranquilos que con el.dinero de Camacho seguro mañana empiezan las escabadoras en el Arraijanal    \n770590136828559360                                                         @daniacal aún no, pero si estará jugable en el TGS no creo que tarde demasiado.    \n771339035445002240  #feliz septiembre..es bonito retarse..es increible lo mucho que puedes aprender.. medirse con el obstáculo..eres la joyita de la corona   \n768577963885522944                                 Este año el Madrid hará triplete y si lo hace me rapo al cero  grabad el mensaje jejej #ChiringuitoPiqué   \n...                                                                                                                                                     ...   \n780770298270474240      @vivianagarcia73 @anitafb Muchas gracias Sandra por tu ayuda y esperamos que los tips sean útiles para Anita. Seguimos en contacto!   \n761932038349946880                                                                                               @AlmaHistorica doy fe son espectaculares!!   \n795458175348641792                                                                                              @grisel_ok si hermoso y esta muy agradecido   \n785432238783619072                                                                       Que bueno ver a personas que te alegran Aunque sean sólo 2 minutos   \n776184535771906048                                          @migueldobrich gracias queridísimo ! Buenísimos la charla. La escuché esta tarde y sonreí mucho   \n\n                   polarity dialect  \nid                                   \n770616744192929792        P      es  \n769959690092642304        P      es  \n770590136828559360        P      es  \n771339035445002240        P      es  \n768577963885522944        P      es  \n...                     ...     ...  \n780770298270474240        P      uy  \n761932038349946880        P      uy  \n795458175348641792        P      uy  \n785432238783619072        P      uy  \n776184535771906048        P      uy  \n\n[1394 rows x 3 columns]"
     },
     "execution_count": 5,
     "metadata": {},
     "output_type": "execute_result"
    }
   ],
   "source": [
    "pd.options.display.max_colwidth = 200\n",
    "\n",
    "df[df[\"polarity\"] == \"P\"]"
   ]
  },
  {
   "cell_type": "code",
   "execution_count": 6,
   "metadata": {},
   "outputs": [
    {
     "data": {
      "text/html": "<div>\n<style scoped>\n    .dataframe tbody tr th:only-of-type {\n        vertical-align: middle;\n    }\n\n    .dataframe tbody tr th {\n        vertical-align: top;\n    }\n\n    .dataframe thead th {\n        text-align: right;\n    }\n</style>\n<table border=\"1\" class=\"dataframe\">\n  <thead>\n    <tr style=\"text-align: right;\">\n      <th></th>\n      <th>text</th>\n      <th>polarity</th>\n      <th>dialect</th>\n    </tr>\n    <tr>\n      <th>id</th>\n      <th></th>\n      <th></th>\n      <th></th>\n    </tr>\n  </thead>\n  <tbody>\n    <tr>\n      <th>768512386269638656</th>\n      <td>@morbosaborealis jajajaja... eso es verdad... aquí no hay uno cuerdo</td>\n      <td>N</td>\n      <td>es</td>\n    </tr>\n    <tr>\n      <th>770434744748236800</th>\n      <td>@ragnomuelle Yo a veces hecho de menos mi pelo largo por eso mismo entre otras cosas</td>\n      <td>N</td>\n      <td>es</td>\n    </tr>\n    <tr>\n      <th>768596566378774528</th>\n      <td>Es conveniente tener un Gobierno democrático que cumpla su función politica. NO lo es tener un Gobierno que representa la #corrupciónPP</td>\n      <td>N</td>\n      <td>es</td>\n    </tr>\n    <tr>\n      <th>768071942096166912</th>\n      <td>@Jordicanal64 Pues si no fichan \"lo que sea\" además de un ridículo espantoso igual QSF nos deja plantados...esperemos que no</td>\n      <td>N</td>\n      <td>es</td>\n    </tr>\n    <tr>\n      <th>772121014436302848</th>\n      <td>glowen sigue a cuentas inactivas y es en plan oh seguro que esas cuentas te dan mucho más apoyo que a las que le diste unf JAJAJA</td>\n      <td>N</td>\n      <td>es</td>\n    </tr>\n    <tr>\n      <th>...</th>\n      <td>...</td>\n      <td>...</td>\n      <td>...</td>\n    </tr>\n    <tr>\n      <th>782586808651636738</th>\n      <td>No tuviste infancia si no mezclaste todas las plastilinas con la esperanza de que quedara multicolor y te quedó una cosa marrón asquerosa</td>\n      <td>N</td>\n      <td>uy</td>\n    </tr>\n    <tr>\n      <th>761356473477820416</th>\n      <td>#Fiebre #dolorentodoelcuerpo... con #hijobello de enfermero e #hijospeludos</td>\n      <td>N</td>\n      <td>uy</td>\n    </tr>\n    <tr>\n      <th>799384176994775040</th>\n      <td>días de frío = agua extremadamente fría para tomar</td>\n      <td>N</td>\n      <td>uy</td>\n    </tr>\n    <tr>\n      <th>795705345050025984</th>\n      <td>@gabouy pero antes si era asi es parte de nuestro barranca abajo haber perdido eso</td>\n      <td>N</td>\n      <td>uy</td>\n    </tr>\n    <tr>\n      <th>782271503857553408</th>\n      <td>@abbu25 compre \"Hasta Borinquen\" por internet a ver si aprende un poquito y no dice bobadas!</td>\n      <td>N</td>\n      <td>uy</td>\n    </tr>\n  </tbody>\n</table>\n<p>1885 rows × 3 columns</p>\n</div>",
      "text/plain": "                                                                                                                                                         text  \\\nid                                                                                                                                                              \n768512386269638656                                                                      @morbosaborealis jajajaja... eso es verdad... aquí no hay uno cuerdo    \n770434744748236800                                                      @ragnomuelle Yo a veces hecho de menos mi pelo largo por eso mismo entre otras cosas    \n768596566378774528    Es conveniente tener un Gobierno democrático que cumpla su función politica. NO lo es tener un Gobierno que representa la #corrupciónPP   \n768071942096166912            @Jordicanal64 Pues si no fichan \"lo que sea\" además de un ridículo espantoso igual QSF nos deja plantados...esperemos que no      \n772121014436302848         glowen sigue a cuentas inactivas y es en plan oh seguro que esas cuentas te dan mucho más apoyo que a las que le diste unf JAJAJA    \n...                                                                                                                                                       ...   \n782586808651636738  No tuviste infancia si no mezclaste todas las plastilinas con la esperanza de que quedara multicolor y te quedó una cosa marrón asquerosa   \n761356473477820416                                                                #Fiebre #dolorentodoelcuerpo... con #hijobello de enfermero e #hijospeludos   \n799384176994775040                                                                                         días de frío = agua extremadamente fría para tomar   \n795705345050025984                                                         @gabouy pero antes si era asi es parte de nuestro barranca abajo haber perdido eso   \n782271503857553408                                               @abbu25 compre \"Hasta Borinquen\" por internet a ver si aprende un poquito y no dice bobadas!   \n\n                   polarity dialect  \nid                                   \n768512386269638656        N      es  \n770434744748236800        N      es  \n768596566378774528        N      es  \n768071942096166912        N      es  \n772121014436302848        N      es  \n...                     ...     ...  \n782586808651636738        N      uy  \n761356473477820416        N      uy  \n799384176994775040        N      uy  \n795705345050025984        N      uy  \n782271503857553408        N      uy  \n\n[1885 rows x 3 columns]"
     },
     "execution_count": 6,
     "metadata": {},
     "output_type": "execute_result"
    }
   ],
   "source": [
    "pd.options.display.max_colwidth = 200\n",
    "\n",
    "df[df[\"polarity\"] == \"N\"]"
   ]
  },
  {
   "cell_type": "markdown",
   "metadata": {},
   "source": [
    "## Dataset ya mergeado"
   ]
  },
  {
   "cell_type": "code",
   "execution_count": 7,
   "metadata": {},
   "outputs": [
    {
     "data": {
      "text/html": "<div>\n<style scoped>\n    .dataframe tbody tr th:only-of-type {\n        vertical-align: middle;\n    }\n\n    .dataframe tbody tr th {\n        vertical-align: top;\n    }\n\n    .dataframe thead th {\n        text-align: right;\n    }\n</style>\n<table border=\"1\" class=\"dataframe\">\n  <thead>\n    <tr style=\"text-align: right;\">\n      <th></th>\n      <th>text</th>\n      <th>polarity</th>\n      <th>dialect</th>\n    </tr>\n    <tr>\n      <th>id</th>\n      <th></th>\n      <th></th>\n      <th></th>\n    </tr>\n  </thead>\n  <tbody>\n    <tr>\n      <th>806714101086978048</th>\n      <td>Y lo peor fue que perdí la belfie</td>\n      <td>NaN</td>\n      <td>CR</td>\n    </tr>\n    <tr>\n      <th>806720027038728192</th>\n      <td>@Arnaldocaa Ya bebí, pero soy más arrechera que persona</td>\n      <td>NaN</td>\n      <td>CR</td>\n    </tr>\n    <tr>\n      <th>803478166853615616</th>\n      <td>Felicidades, @czulaura . Le debo un cóctel, junto a @Sailorinthesky</td>\n      <td>NaN</td>\n      <td>CR</td>\n    </tr>\n    <tr>\n      <th>785473239199850496</th>\n      <td>Aunque pensándolo bien mejor no xq sigo padeciendo d pánico escénico.</td>\n      <td>NaN</td>\n      <td>CR</td>\n    </tr>\n    <tr>\n      <th>792817362546208768</th>\n      <td>la mujer que nunca crei que me fuera a escribir me escribio</td>\n      <td>NaN</td>\n      <td>CR</td>\n    </tr>\n    <tr>\n      <th>...</th>\n      <td>...</td>\n      <td>...</td>\n      <td>...</td>\n    </tr>\n    <tr>\n      <th>756565904037670912</th>\n      <td>Un saludo para don Resentidillo muñoz.! Que sigue esperando que alguien le escriba y le ruegue.!! Jajaja Espero su sillón este cómodo.</td>\n      <td>NaN</td>\n      <td>PE</td>\n    </tr>\n    <tr>\n      <th>757602234041524224</th>\n      <td>Sí, es que se nota que te importa... - Buen intento, a la otra trata de no dar a notar tu desinterés.</td>\n      <td>NaN</td>\n      <td>PE</td>\n    </tr>\n    <tr>\n      <th>786072417307328512</th>\n      <td>@Isoor_ , @iChibolo , @FloroPeruano , @latiachuchi , estoy pasando x un momento muy difícil, un saludito suyo me arrancaría una sonrisa</td>\n      <td>NaN</td>\n      <td>PE</td>\n    </tr>\n    <tr>\n      <th>794135682876919808</th>\n      <td>@bcrpoficial Cash Miguel @canalN_ Manu Ramirez en SJL . Hace un momento · Chorrillos, Departamento de Áncash · La Ley Reseña SJL</td>\n      <td>NaN</td>\n      <td>PE</td>\n    </tr>\n    <tr>\n      <th>785310562729103361</th>\n      <td>Me encanta tener esa confianza con mi mamá de decir: ese chico está bueno, es tu futuro yerno. Y ella sólo sonreír</td>\n      <td>NaN</td>\n      <td>PE</td>\n    </tr>\n  </tbody>\n</table>\n<p>7264 rows × 3 columns</p>\n</div>",
      "text/plain": "                                                                                                                                                       text  \\\nid                                                                                                                                                            \n806714101086978048                                                                                                        Y lo peor fue que perdí la belfie   \n806720027038728192                                                                                  @Arnaldocaa Ya bebí, pero soy más arrechera que persona   \n803478166853615616                                                                      Felicidades, @czulaura . Le debo un cóctel, junto a @Sailorinthesky   \n785473239199850496                                                                    Aunque pensándolo bien mejor no xq sigo padeciendo d pánico escénico.   \n792817362546208768                                                                              la mujer que nunca crei que me fuera a escribir me escribio   \n...                                                                                                                                                     ...   \n756565904037670912   Un saludo para don Resentidillo muñoz.! Que sigue esperando que alguien le escriba y le ruegue.!! Jajaja Espero su sillón este cómodo.   \n757602234041524224                                    Sí, es que se nota que te importa... - Buen intento, a la otra trata de no dar a notar tu desinterés.   \n786072417307328512  @Isoor_ , @iChibolo , @FloroPeruano , @latiachuchi , estoy pasando x un momento muy difícil, un saludito suyo me arrancaría una sonrisa   \n794135682876919808         @bcrpoficial Cash Miguel @canalN_ Manu Ramirez en SJL . Hace un momento · Chorrillos, Departamento de Áncash · La Ley Reseña SJL   \n785310562729103361                       Me encanta tener esa confianza con mi mamá de decir: ese chico está bueno, es tu futuro yerno. Y ella sólo sonreír   \n\n                    polarity dialect  \nid                                    \n806714101086978048       NaN      CR  \n806720027038728192       NaN      CR  \n803478166853615616       NaN      CR  \n785473239199850496       NaN      CR  \n792817362546208768       NaN      CR  \n...                      ...     ...  \n756565904037670912       NaN      PE  \n757602234041524224       NaN      PE  \n786072417307328512       NaN      PE  \n794135682876919808       NaN      PE  \n785310562729103361       NaN      PE  \n\n[7264 rows x 3 columns]"
     },
     "execution_count": 7,
     "metadata": {},
     "output_type": "execute_result"
    }
   ],
   "source": [
    "test_df"
   ]
  },
  {
   "cell_type": "markdown",
   "metadata": {},
   "source": [
    "## Emotion detection"
   ]
  },
  {
   "cell_type": "code",
   "execution_count": 10,
   "metadata": {},
   "outputs": [
    {
     "data": {
      "text/html": "<div>\n<style scoped>\n    .dataframe tbody tr th:only-of-type {\n        vertical-align: middle;\n    }\n\n    .dataframe tbody tr th {\n        vertical-align: top;\n    }\n\n    .dataframe thead th {\n        text-align: right;\n    }\n</style>\n<table border=\"1\" class=\"dataframe\">\n  <thead>\n    <tr style=\"text-align: right;\">\n      <th></th>\n      <th>text</th>\n      <th>label</th>\n    </tr>\n    <tr>\n      <th>id</th>\n      <th></th>\n      <th></th>\n    </tr>\n  </thead>\n  <tbody>\n    <tr>\n      <th>1315</th>\n      <td>Maduro no será lo que sea, es un DICTADOR. Y no es un golpe de estado cuando no hay una autoridades legítimamente instituidas. Maduro robo elecciones y usurpó el poder en HASHTAG https://t.co/GuAH...</td>\n      <td>disgust</td>\n    </tr>\n    <tr>\n      <th>196</th>\n      <td>Hoy en nuestro blog os recomendamos 10 libros para todos los gustos, todas las edades y todos los bolsillos. ¡Feliz HASHTAG!  https://t.co/qkLKUglCXM https://t.co/njQHaPktXf</td>\n      <td>joy</td>\n    </tr>\n    <tr>\n      <th>1905</th>\n      <td>HASHTAG🇲🇽 expresó preocupación por posible escalada de violencia y derramamiento de sangre en HASHTAG🇻🇪 https://t.co/8ha1En5tls</td>\n      <td>others</td>\n    </tr>\n    <tr>\n      <th>756</th>\n      <td>Solo conozco la Universidad de HASHTAG en HASHTAG, cuenta? https://t.co/2m7GKPuek1</td>\n      <td>others</td>\n    </tr>\n    <tr>\n      <th>2993</th>\n      <td>El quinto mejor jugador del mundo, recordad. HASHTAG HASHTAG HASHTAG</td>\n      <td>others</td>\n    </tr>\n    <tr>\n      <th>1818</th>\n      <td>HASHTAG más triste que la pérdida de la catedral es la pérdida de almas en HASHTAG</td>\n      <td>sadness</td>\n    </tr>\n    <tr>\n      <th>2659</th>\n      <td>Ya denle HASHTAG a HASHTAG por favor HASHTAG HASHTAG</td>\n      <td>others</td>\n    </tr>\n    <tr>\n      <th>4146</th>\n      <td>Con el 23% escrutado...  🌹 128 escaños 💧 67 escaños 🍊 50 escaños 🍆 31 escaños 🥦 23 escaños   Como esto siga así, se avecina una noche muuuy larga en Génova 13. Rivera le pisa los talones a Casado....</td>\n      <td>others</td>\n    </tr>\n    <tr>\n      <th>3187</th>\n      <td>Podría estar más satisfecha pero lo auguraba peor  👏🏻#ElecccionesGenerales28A</td>\n      <td>surprise</td>\n    </tr>\n    <tr>\n      <th>5572</th>\n      <td>Tantos años pidiendo el mismo deseo de cumpleaños y no se porqué pero creo que este año el regalito al fin llegará y adelantado. HASHTAG HASHTAG</td>\n      <td>joy</td>\n    </tr>\n  </tbody>\n</table>\n</div>",
      "text/plain": "                                                                                                                                                                                                         text  \\\nid                                                                                                                                                                                                              \n1315  Maduro no será lo que sea, es un DICTADOR. Y no es un golpe de estado cuando no hay una autoridades legítimamente instituidas. Maduro robo elecciones y usurpó el poder en HASHTAG https://t.co/GuAH...   \n196                             Hoy en nuestro blog os recomendamos 10 libros para todos los gustos, todas las edades y todos los bolsillos. ¡Feliz HASHTAG!  https://t.co/qkLKUglCXM https://t.co/njQHaPktXf   \n1905                                                                          HASHTAG🇲🇽 expresó preocupación por posible escalada de violencia y derramamiento de sangre en HASHTAG🇻🇪 https://t.co/8ha1En5tls   \n756                                                                                                                        Solo conozco la Universidad de HASHTAG en HASHTAG, cuenta? https://t.co/2m7GKPuek1   \n2993                                                                                                                                     El quinto mejor jugador del mundo, recordad. HASHTAG HASHTAG HASHTAG   \n1818                                                                                                                       HASHTAG más triste que la pérdida de la catedral es la pérdida de almas en HASHTAG   \n2659                                                                                                                                                     Ya denle HASHTAG a HASHTAG por favor HASHTAG HASHTAG   \n4146  Con el 23% escrutado...  🌹 128 escaños 💧 67 escaños 🍊 50 escaños 🍆 31 escaños 🥦 23 escaños   Como esto siga así, se avecina una noche muuuy larga en Génova 13. Rivera le pisa los talones a Casado....   \n3187                                                                                                                            Podría estar más satisfecha pero lo auguraba peor  👏🏻#ElecccionesGenerales28A   \n5572                                                         Tantos años pidiendo el mismo deseo de cumpleaños y no se porqué pero creo que este año el regalito al fin llegará y adelantado. HASHTAG HASHTAG   \n\n          label  \nid               \n1315   disgust   \n196        joy   \n1905    others   \n756     others   \n2993    others   \n1818   sadness   \n2659    others   \n4146    others   \n3187  surprise   \n5572       joy   "
     },
     "execution_count": 10,
     "metadata": {},
     "output_type": "execute_result"
    }
   ],
   "source": [
    "\n",
    "train_df = pd.read_table(\"../data/tass2020/task2/train.tsv\", index_col=0, names=[\"id\", \"text\", \"label\"])\n",
    "\n",
    "dev_df = pd.read_table(\"../data/tass2020/task2/dev.tsv\", index_col=0,names=[\"id\", \"text\", \"label\"])\n",
    "\n",
    "train_df.sample(10)"
   ]
  },
  {
   "cell_type": "markdown",
   "metadata": {},
   "source": [
    "One label per tweet"
   ]
  },
  {
   "cell_type": "code",
   "execution_count": null,
   "metadata": {},
   "outputs": [],
   "source": [
    "pd.read_table(\"../data/tass2020/task2\")"
   ]
  }
 ],
 "metadata": {
  "kernelspec": {
   "display_name": "Python 3.8.5 64-bit ('pysent-oyXQVI9B': pipenv)",
   "name": "python385jvsc74a57bd01b2ee3c7e4be117f16044e4287774c113d04cbc1cc9e7e3b16e6e098f73486a4"
  },
  "language_info": {
   "codemirror_mode": {
    "name": "ipython",
    "version": 3
   },
   "file_extension": ".py",
   "mimetype": "text/x-python",
   "name": "python",
   "nbconvert_exporter": "python",
   "pygments_lexer": "ipython3",
   "version": "3.8.5"
  },
  "metadata": {
   "interpreter": {
    "hash": "1b2ee3c7e4be117f16044e4287774c113d04cbc1cc9e7e3b16e6e098f73486a4"
   }
  },
  "orig_nbformat": 3
 },
 "nbformat": 4,
 "nbformat_minor": 4
}
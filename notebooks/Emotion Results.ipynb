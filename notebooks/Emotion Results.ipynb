{
 "cells": [
  {
   "cell_type": "code",
   "execution_count": 1,
   "metadata": {},
   "outputs": [
    {
     "name": "stdout",
     "output_type": "stream",
     "text": [
      "../evaluations/emotion_bertweet_base.json\n",
      "../evaluations/emotion_beto.json\n",
      "../evaluations/emotion_roberta.json\n",
      "../evaluations/emotion_bert_base.json\n"
     ]
    }
   ],
   "source": [
    "%load_ext autoreload\n",
    "%autoreload 2\n",
    "import glob \n",
    "import json \n",
    "\n",
    "evaluation_files = glob.glob(\"../evaluations/emotion_*.json\")\n",
    "\n",
    "evaluations = []\n",
    "\n",
    "for file in evaluation_files:\n",
    "    print(file)\n",
    "    with open(file) as f:\n",
    "        evaluation = json.load(f)\n",
    "        evaluation[\"file\"] = file.split(\"/\")[-1]\n",
    "        evaluations.append(evaluation)"
   ]
  },
  {
   "cell_type": "code",
   "execution_count": 8,
   "metadata": {},
   "outputs": [
    {
     "data": {
      "text/html": "<div>\n<style scoped>\n    .dataframe tbody tr th:only-of-type {\n        vertical-align: middle;\n    }\n\n    .dataframe tbody tr th {\n        vertical-align: top;\n    }\n\n    .dataframe thead th {\n        text-align: right;\n    }\n</style>\n<table border=\"1\" class=\"dataframe\">\n  <thead>\n    <tr style=\"text-align: right;\">\n      <th></th>\n      <th>model</th>\n      <th>lang</th>\n      <th>test_loss</th>\n      <th>test_others_f1</th>\n      <th>test_others_precision</th>\n      <th>test_others_recall</th>\n      <th>test_joy_f1</th>\n      <th>test_joy_precision</th>\n      <th>test_joy_recall</th>\n      <th>test_sadness_f1</th>\n      <th>...</th>\n      <th>test_disgust_recall</th>\n      <th>test_fear_f1</th>\n      <th>test_fear_precision</th>\n      <th>test_fear_recall</th>\n      <th>test_macro_f1</th>\n      <th>test_macro_precision</th>\n      <th>test_macro_recall</th>\n      <th>test_acc</th>\n      <th>test_runtime</th>\n      <th>test_samples_per_second</th>\n    </tr>\n    <tr>\n      <th>file</th>\n      <th></th>\n      <th></th>\n      <th></th>\n      <th></th>\n      <th></th>\n      <th></th>\n      <th></th>\n      <th></th>\n      <th></th>\n      <th></th>\n      <th></th>\n      <th></th>\n      <th></th>\n      <th></th>\n      <th></th>\n      <th></th>\n      <th></th>\n      <th></th>\n      <th></th>\n      <th></th>\n      <th></th>\n    </tr>\n  </thead>\n  <tbody>\n    <tr>\n      <th>emotion_bert_base.json</th>\n      <td>models/bert-base-emotion-analysis/</td>\n      <td>en</td>\n      <td>1.448668</td>\n      <td>0.660011</td>\n      <td>0.609007</td>\n      <td>0.720339</td>\n      <td>0.680121</td>\n      <td>0.700624</td>\n      <td>0.660784</td>\n      <td>0.565445</td>\n      <td>...</td>\n      <td>0.371728</td>\n      <td>0.253968</td>\n      <td>0.320000</td>\n      <td>0.210526</td>\n      <td>0.441858</td>\n      <td>0.486801</td>\n      <td>0.415784</td>\n      <td>0.601862</td>\n      <td>10.7134</td>\n      <td>170.440</td>\n    </tr>\n    <tr>\n      <th>emotion_bertweet_base.json</th>\n      <td>models/bertweet-base-emotion-analysis/</td>\n      <td>en</td>\n      <td>1.188743</td>\n      <td>0.663127</td>\n      <td>0.646720</td>\n      <td>0.680387</td>\n      <td>0.711198</td>\n      <td>0.712598</td>\n      <td>0.709804</td>\n      <td>0.582960</td>\n      <td>...</td>\n      <td>0.486911</td>\n      <td>0.166667</td>\n      <td>0.400000</td>\n      <td>0.105263</td>\n      <td>0.459780</td>\n      <td>0.497312</td>\n      <td>0.452507</td>\n      <td>0.618291</td>\n      <td>9.6992</td>\n      <td>188.262</td>\n    </tr>\n    <tr>\n      <th>emotion_roberta.json</th>\n      <td>models/roberta-base-emotion-analysis/</td>\n      <td>en</td>\n      <td>1.182252</td>\n      <td>0.650000</td>\n      <td>0.654791</td>\n      <td>0.645278</td>\n      <td>0.722800</td>\n      <td>0.698355</td>\n      <td>0.749020</td>\n      <td>0.564315</td>\n      <td>...</td>\n      <td>0.549738</td>\n      <td>0.273973</td>\n      <td>0.285714</td>\n      <td>0.263158</td>\n      <td>0.473204</td>\n      <td>0.502806</td>\n      <td>0.471303</td>\n      <td>0.620482</td>\n      <td>11.0043</td>\n      <td>165.934</td>\n    </tr>\n    <tr>\n      <th>emotion_beto.json</th>\n      <td>models/beto-emotion-analysis/</td>\n      <td>es</td>\n      <td>1.216769</td>\n      <td>0.762615</td>\n      <td>0.725191</td>\n      <td>0.804111</td>\n      <td>0.639087</td>\n      <td>0.660767</td>\n      <td>0.618785</td>\n      <td>0.756892</td>\n      <td>...</td>\n      <td>0.000000</td>\n      <td>0.511628</td>\n      <td>0.440000</td>\n      <td>0.611111</td>\n      <td>0.500856</td>\n      <td>0.507610</td>\n      <td>0.505274</td>\n      <td>0.688730</td>\n      <td>12.2470</td>\n      <td>136.932</td>\n    </tr>\n  </tbody>\n</table>\n<p>4 rows × 30 columns</p>\n</div>",
      "text/plain": "                                                             model lang  \\\nfile                                                                      \nemotion_bert_base.json          models/bert-base-emotion-analysis/   en   \nemotion_bertweet_base.json  models/bertweet-base-emotion-analysis/   en   \nemotion_roberta.json         models/roberta-base-emotion-analysis/   en   \nemotion_beto.json                    models/beto-emotion-analysis/   es   \n\n                            test_loss  test_others_f1  test_others_precision  \\\nfile                                                                           \nemotion_bert_base.json       1.448668        0.660011               0.609007   \nemotion_bertweet_base.json   1.188743        0.663127               0.646720   \nemotion_roberta.json         1.182252        0.650000               0.654791   \nemotion_beto.json            1.216769        0.762615               0.725191   \n\n                            test_others_recall  test_joy_f1  \\\nfile                                                          \nemotion_bert_base.json                0.720339     0.680121   \nemotion_bertweet_base.json            0.680387     0.711198   \nemotion_roberta.json                  0.645278     0.722800   \nemotion_beto.json                     0.804111     0.639087   \n\n                            test_joy_precision  test_joy_recall  \\\nfile                                                              \nemotion_bert_base.json                0.700624         0.660784   \nemotion_bertweet_base.json            0.712598         0.709804   \nemotion_roberta.json                  0.698355         0.749020   \nemotion_beto.json                     0.660767         0.618785   \n\n                            test_sadness_f1  ...  test_disgust_recall  \\\nfile                                         ...                        \nemotion_bert_base.json             0.565445  ...             0.371728   \nemotion_bertweet_base.json         0.582960  ...             0.486911   \nemotion_roberta.json               0.564315  ...             0.549738   \nemotion_beto.json                  0.756892  ...             0.000000   \n\n                            test_fear_f1  test_fear_precision  \\\nfile                                                            \nemotion_bert_base.json          0.253968             0.320000   \nemotion_bertweet_base.json      0.166667             0.400000   \nemotion_roberta.json            0.273973             0.285714   \nemotion_beto.json               0.511628             0.440000   \n\n                            test_fear_recall  test_macro_f1  \\\nfile                                                          \nemotion_bert_base.json              0.210526       0.441858   \nemotion_bertweet_base.json          0.105263       0.459780   \nemotion_roberta.json                0.263158       0.473204   \nemotion_beto.json                   0.611111       0.500856   \n\n                            test_macro_precision  test_macro_recall  test_acc  \\\nfile                                                                            \nemotion_bert_base.json                  0.486801           0.415784  0.601862   \nemotion_bertweet_base.json              0.497312           0.452507  0.618291   \nemotion_roberta.json                    0.502806           0.471303  0.620482   \nemotion_beto.json                       0.507610           0.505274  0.688730   \n\n                            test_runtime  test_samples_per_second  \nfile                                                               \nemotion_bert_base.json           10.7134                  170.440  \nemotion_bertweet_base.json        9.6992                  188.262  \nemotion_roberta.json             11.0043                  165.934  \nemotion_beto.json                12.2470                  136.932  \n\n[4 rows x 30 columns]"
     },
     "execution_count": 8,
     "metadata": {},
     "output_type": "execute_result"
    }
   ],
   "source": [
    "import pandas as pd \n",
    "\n",
    "df = pd.DataFrame([\n",
    "    {**evaluation, **evaluation[\"metrics\"]} for evaluation in evaluations\n",
    "]).set_index(\"file\")\n",
    "\n",
    "df.drop(labels=[\"predictions\", \"labels\", \"metrics\"], inplace=True, axis=1)\n",
    "\n",
    "df.sort_values([\"lang\", \"test_macro_f1\"])"
   ]
  },
  {
   "cell_type": "code",
   "execution_count": null,
   "metadata": {},
   "outputs": [],
   "source": []
  }
 ],
 "metadata": {
  "kernelspec": {
   "display_name": "Python 3.8.5 64-bit ('pysent-oyXQVI9B': pipenv)",
   "name": "python385jvsc74a57bd01b2ee3c7e4be117f16044e4287774c113d04cbc1cc9e7e3b16e6e098f73486a4"
  },
  "language_info": {
   "codemirror_mode": {
    "name": "ipython",
    "version": 3
   },
   "file_extension": ".py",
   "mimetype": "text/x-python",
   "name": "python",
   "nbconvert_exporter": "python",
   "pygments_lexer": "ipython3",
   "version": "3.8.5"
  },
  "metadata": {
   "interpreter": {
    "hash": "1b2ee3c7e4be117f16044e4287774c113d04cbc1cc9e7e3b16e6e098f73486a4"
   }
  },
  "orig_nbformat": 3
 },
 "nbformat": 4,
 "nbformat_minor": 2
}
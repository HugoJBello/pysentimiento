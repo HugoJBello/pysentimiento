{
 "cells": [
  {
   "cell_type": "code",
   "execution_count": 2,
   "metadata": {},
   "outputs": [
    {
     "name": "stdout",
     "output_type": "stream",
     "text": [
      "The autoreload extension is already loaded. To reload it, use:\n",
      "  %reload_ext autoreload\n",
      "../evaluations/sentiment_beto.json\n",
      "../evaluations/sentiment_roberta_base.json\n",
      "../evaluations/sentiment_bert_base.json\n",
      "../evaluations/sentiment_bertweet_base.json\n"
     ]
    }
   ],
   "source": [
    "%load_ext autoreload\n",
    "%autoreload 2\n",
    "import glob \n",
    "import json \n",
    "\n",
    "evaluation_files = glob.glob(\"../evaluations/sentiment_*.json\")\n",
    "\n",
    "evaluations = []\n",
    "\n",
    "for file in evaluation_files:\n",
    "    print(file)\n",
    "    with open(file) as f:\n",
    "        evaluation = json.load(f)\n",
    "        evaluation[\"file\"] = file.split(\"/\")[-1]\n",
    "        evaluations.append(evaluation)"
   ]
  },
  {
   "cell_type": "code",
   "execution_count": 4,
   "metadata": {},
   "outputs": [
    {
     "data": {
      "text/html": "<div>\n<style scoped>\n    .dataframe tbody tr th:only-of-type {\n        vertical-align: middle;\n    }\n\n    .dataframe tbody tr th {\n        vertical-align: top;\n    }\n\n    .dataframe thead th {\n        text-align: right;\n    }\n</style>\n<table border=\"1\" class=\"dataframe\">\n  <thead>\n    <tr style=\"text-align: right;\">\n      <th></th>\n      <th>lang</th>\n      <th>model</th>\n      <th>test_loss</th>\n      <th>test_neg_f1</th>\n      <th>test_neg_precision</th>\n      <th>test_neg_recall</th>\n      <th>test_neu_f1</th>\n      <th>test_neu_precision</th>\n      <th>test_neu_recall</th>\n      <th>test_pos_f1</th>\n      <th>test_pos_precision</th>\n      <th>test_pos_recall</th>\n      <th>test_macro_f1</th>\n      <th>test_macro_precision</th>\n      <th>test_macro_recall</th>\n      <th>test_acc</th>\n      <th>test_runtime</th>\n      <th>test_samples_per_second</th>\n    </tr>\n    <tr>\n      <th>file</th>\n      <th></th>\n      <th></th>\n      <th></th>\n      <th></th>\n      <th></th>\n      <th></th>\n      <th></th>\n      <th></th>\n      <th></th>\n      <th></th>\n      <th></th>\n      <th></th>\n      <th></th>\n      <th></th>\n      <th></th>\n      <th></th>\n      <th></th>\n      <th></th>\n    </tr>\n  </thead>\n  <tbody>\n    <tr>\n      <th>sentiment_bert_base.json</th>\n      <td>en</td>\n      <td>models/bert-base-sentiment-analysis/</td>\n      <td>0.377735</td>\n      <td>0.824151</td>\n      <td>0.804361</td>\n      <td>0.844940</td>\n      <td>0.852689</td>\n      <td>0.885212</td>\n      <td>0.822471</td>\n      <td>0.864924</td>\n      <td>0.832612</td>\n      <td>0.899844</td>\n      <td>0.847255</td>\n      <td>0.840728</td>\n      <td>0.855752</td>\n      <td>0.852462</td>\n      <td>111.3789</td>\n      <td>185.242</td>\n    </tr>\n    <tr>\n      <th>sentiment_roberta_base.json</th>\n      <td>en</td>\n      <td>models/roberta-base-sentiment-analysis/</td>\n      <td>0.267115</td>\n      <td>0.901743</td>\n      <td>0.876204</td>\n      <td>0.928815</td>\n      <td>0.923145</td>\n      <td>0.937930</td>\n      <td>0.908818</td>\n      <td>0.928747</td>\n      <td>0.920540</td>\n      <td>0.937102</td>\n      <td>0.917878</td>\n      <td>0.911558</td>\n      <td>0.924911</td>\n      <td>0.921627</td>\n      <td>106.1283</td>\n      <td>194.406</td>\n    </tr>\n    <tr>\n      <th>sentiment_bertweet_base.json</th>\n      <td>en</td>\n      <td>models/bertweet-base-sentiment-analysis/</td>\n      <td>0.268181</td>\n      <td>0.910097</td>\n      <td>0.880718</td>\n      <td>0.941504</td>\n      <td>0.930614</td>\n      <td>0.946143</td>\n      <td>0.915587</td>\n      <td>0.936960</td>\n      <td>0.929707</td>\n      <td>0.944326</td>\n      <td>0.925890</td>\n      <td>0.918856</td>\n      <td>0.933806</td>\n      <td>0.929478</td>\n      <td>110.3031</td>\n      <td>187.048</td>\n    </tr>\n    <tr>\n      <th>sentiment_beto.json</th>\n      <td>es</td>\n      <td>models/beto-sentiment-analysis/</td>\n      <td>1.462894</td>\n      <td>0.728972</td>\n      <td>0.772571</td>\n      <td>0.690031</td>\n      <td>0.535633</td>\n      <td>0.483607</td>\n      <td>0.600203</td>\n      <td>0.734971</td>\n      <td>0.761710</td>\n      <td>0.710047</td>\n      <td>0.666526</td>\n      <td>0.672629</td>\n      <td>0.666760</td>\n      <td>0.672219</td>\n      <td>41.9681</td>\n      <td>173.084</td>\n    </tr>\n  </tbody>\n</table>\n</div>",
      "text/plain": "                             lang                                     model  \\\nfile                                                                          \nsentiment_bert_base.json       en      models/bert-base-sentiment-analysis/   \nsentiment_roberta_base.json    en   models/roberta-base-sentiment-analysis/   \nsentiment_bertweet_base.json   en  models/bertweet-base-sentiment-analysis/   \nsentiment_beto.json            es           models/beto-sentiment-analysis/   \n\n                              test_loss  test_neg_f1  test_neg_precision  \\\nfile                                                                       \nsentiment_bert_base.json       0.377735     0.824151            0.804361   \nsentiment_roberta_base.json    0.267115     0.901743            0.876204   \nsentiment_bertweet_base.json   0.268181     0.910097            0.880718   \nsentiment_beto.json            1.462894     0.728972            0.772571   \n\n                              test_neg_recall  test_neu_f1  \\\nfile                                                         \nsentiment_bert_base.json             0.844940     0.852689   \nsentiment_roberta_base.json          0.928815     0.923145   \nsentiment_bertweet_base.json         0.941504     0.930614   \nsentiment_beto.json                  0.690031     0.535633   \n\n                              test_neu_precision  test_neu_recall  \\\nfile                                                                \nsentiment_bert_base.json                0.885212         0.822471   \nsentiment_roberta_base.json             0.937930         0.908818   \nsentiment_bertweet_base.json            0.946143         0.915587   \nsentiment_beto.json                     0.483607         0.600203   \n\n                              test_pos_f1  test_pos_precision  \\\nfile                                                            \nsentiment_bert_base.json         0.864924            0.832612   \nsentiment_roberta_base.json      0.928747            0.920540   \nsentiment_bertweet_base.json     0.936960            0.929707   \nsentiment_beto.json              0.734971            0.761710   \n\n                              test_pos_recall  test_macro_f1  \\\nfile                                                           \nsentiment_bert_base.json             0.899844       0.847255   \nsentiment_roberta_base.json          0.937102       0.917878   \nsentiment_bertweet_base.json         0.944326       0.925890   \nsentiment_beto.json                  0.710047       0.666526   \n\n                              test_macro_precision  test_macro_recall  \\\nfile                                                                    \nsentiment_bert_base.json                  0.840728           0.855752   \nsentiment_roberta_base.json               0.911558           0.924911   \nsentiment_bertweet_base.json              0.918856           0.933806   \nsentiment_beto.json                       0.672629           0.666760   \n\n                              test_acc  test_runtime  test_samples_per_second  \nfile                                                                           \nsentiment_bert_base.json      0.852462      111.3789                  185.242  \nsentiment_roberta_base.json   0.921627      106.1283                  194.406  \nsentiment_bertweet_base.json  0.929478      110.3031                  187.048  \nsentiment_beto.json           0.672219       41.9681                  173.084  "
     },
     "execution_count": 4,
     "metadata": {},
     "output_type": "execute_result"
    }
   ],
   "source": [
    "import pandas as pd \n",
    "\n",
    "df = pd.DataFrame([\n",
    "    {**evaluation, **evaluation[\"metrics\"]} for evaluation in evaluations\n",
    "]).set_index(\"file\")\n",
    "\n",
    "df.drop(labels=[\"predictions\", \"labels\", \"metrics\"], inplace=True, axis=1)\n",
    "\n",
    "df = df.sort_values([\"lang\", \"test_macro_f1\"]) \n",
    "\n",
    "df"
   ]
  },
  {
   "cell_type": "code",
   "execution_count": 8,
   "metadata": {},
   "outputs": [
    {
     "name": "stdout",
     "output_type": "stream",
     "text": [
      "\\begin{tabular}{llrrrr}\n",
      "\\toprule\n",
      "{} & lang &  test\\_neg\\_f1 &  test\\_pos\\_f1 &  test\\_neu\\_f1 &  test\\_macro\\_f1 \\\\\n",
      "file                         &      &              &              &              &                \\\\\n",
      "\\midrule\n",
      "sentiment\\_bert\\_base.json     &   en &     0.824151 &     0.864924 &     0.852689 &       0.847255 \\\\\n",
      "sentiment\\_roberta\\_base.json  &   en &     0.901743 &     0.928747 &     0.923145 &       0.917878 \\\\\n",
      "sentiment\\_bertweet\\_base.json &   en &     0.910097 &     0.936960 &     0.930614 &       0.925890 \\\\\n",
      "sentiment\\_beto.json          &   es &     0.728972 &     0.734971 &     0.535633 &       0.666526 \\\\\n",
      "\\bottomrule\n",
      "\\end{tabular}\n",
      "\n"
     ]
    }
   ],
   "source": [
    "print(df[[\"lang\", \"test_neg_f1\", \"test_pos_f1\", \"test_neu_f1\", \"test_macro_f1\"]].to_latex())"
   ]
  }
 ],
 "metadata": {
  "kernelspec": {
   "display_name": "Python 3.8.5 64-bit ('pysent-oyXQVI9B': pipenv)",
   "name": "python385jvsc74a57bd01b2ee3c7e4be117f16044e4287774c113d04cbc1cc9e7e3b16e6e098f73486a4"
  },
  "language_info": {
   "codemirror_mode": {
    "name": "ipython",
    "version": 3
   },
   "file_extension": ".py",
   "mimetype": "text/x-python",
   "name": "python",
   "nbconvert_exporter": "python",
   "pygments_lexer": "ipython3",
   "version": "3.8.5"
  },
  "metadata": {
   "interpreter": {
    "hash": "1b2ee3c7e4be117f16044e4287774c113d04cbc1cc9e7e3b16e6e098f73486a4"
   }
  },
  "orig_nbformat": 2
 },
 "nbformat": 4,
 "nbformat_minor": 2
}
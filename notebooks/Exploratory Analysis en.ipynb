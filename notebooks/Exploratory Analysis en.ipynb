{
 "cells": [
  {
   "cell_type": "markdown",
   "metadata": {},
   "source": [
    "## Exploratory Analysis\n",
    "\n",
    "Exploratory analysis of SemEval 2017 dataset. Don't download files as I've already got them "
   ]
  },
  {
   "cell_type": "code",
   "execution_count": 1,
   "metadata": {},
   "outputs": [
    {
     "data": {
      "text/plain": "['../data/SemEval2017/GOLD/Subtask_A/twitter-2013dev-A.txt',\n '../data/SemEval2017/GOLD/Subtask_A/twitter-2013test-A.txt',\n '../data/SemEval2017/GOLD/Subtask_A/twitter-2013train-A.txt',\n '../data/SemEval2017/GOLD/Subtask_A/twitter-2014sarcasm-A.txt',\n '../data/SemEval2017/GOLD/Subtask_A/twitter-2014test-A.txt',\n '../data/SemEval2017/GOLD/Subtask_A/twitter-2015test-A.txt',\n '../data/SemEval2017/GOLD/Subtask_A/twitter-2015train-A.txt',\n '../data/SemEval2017/GOLD/Subtask_A/twitter-2016dev-A.txt',\n '../data/SemEval2017/GOLD/Subtask_A/twitter-2016devtest-A.txt',\n '../data/SemEval2017/GOLD/Subtask_A/twitter-2016test-A.txt',\n '../data/SemEval2017/GOLD/Subtask_A/twitter-2016train-A.txt']"
     },
     "execution_count": 1,
     "metadata": {},
     "output_type": "execute_result"
    }
   ],
   "source": [
    "import os\n",
    "from glob import glob\n",
    "import unicodedata\n",
    "import pandas as pd\n",
    "\n",
    "files = glob(\"../data/SemEval2017/GOLD/Subtask_A/twitter*.txt\", recursive=True)\n",
    "sorted(files)"
   ]
  },
  {
   "cell_type": "code",
   "execution_count": 2,
   "metadata": {},
   "outputs": [
    {
     "name": "stdout",
     "output_type": "stream",
     "text": [
      "../data/SemEval2017/GOLD/Subtask_A/twitter-2016test-A.txt\n",
      "      id label text\n",
      "11064  \"   NaN  NaN\n",
      "Len train :  (49645, 2)\n"
     ]
    }
   ],
   "source": [
    "import csv\n",
    "import pandas as pd\n",
    "\n",
    "def read_table(path):\n",
    "    \"\"\"\n",
    "    Read SemEval table and return dataframe\n",
    "    \"\"\"\n",
    "    df = pd.read_table(path, header=None, quoting=csv.QUOTE_NONE, encoding=\"utf-8\")\n",
    "    # Get rid of last column\n",
    "\n",
    "    if len(df.columns) > 3:\n",
    "        del df[3]\n",
    "    df.columns = [\"id\", \"label\", \"text\"]\n",
    "    if df[\"text\"].isna().any():\n",
    "        print(path)\n",
    "        print(df[df[\"text\"].isna()])\n",
    "    df = df[df[\"text\"].notna()]\n",
    "    #df.set_index(\"id\", inplace=True)\n",
    "    return df\n",
    "\n",
    "pd.options.display.max_colwidth = 200\n",
    "pd.options.display.max_rows = 100\n",
    "\n",
    "\n",
    "train_df = pd.concat([read_table(f) for f in files])\n",
    "train_df.drop_duplicates(\"id\", inplace=True)\n",
    "train_df.set_index(\"id\", inplace=True)\n",
    "print(\"Len train : \", train_df.shape)\n",
    "\n"
   ]
  },
  {
   "cell_type": "code",
   "execution_count": 16,
   "metadata": {},
   "outputs": [
    {
     "data": {
      "text/html": "<div>\n<style scoped>\n    .dataframe tbody tr th:only-of-type {\n        vertical-align: middle;\n    }\n\n    .dataframe tbody tr th {\n        vertical-align: top;\n    }\n\n    .dataframe thead th {\n        text-align: right;\n    }\n</style>\n<table border=\"1\" class=\"dataframe\">\n  <thead>\n    <tr style=\"text-align: right;\">\n      <th></th>\n      <th>label</th>\n      <th>text</th>\n    </tr>\n    <tr>\n      <th>id</th>\n      <th></th>\n      <th></th>\n    </tr>\n  </thead>\n  <tbody>\n    <tr>\n      <th>801989080477154944</th>\n      <td>neutral</td>\n      <td>#ArianaGrande Ari By Ariana Grande 80% Full https://t.co/ylhCMETHHW #Singer #Actress https://t.co/lTrb1JQiEA</td>\n    </tr>\n    <tr>\n      <th>801989272341453952</th>\n      <td>positive</td>\n      <td>Ariana Grande KIIS FM Yours Truly CD listening party in Burbank https://t.co/ClQIcx8Z6V #ArianaGrande</td>\n    </tr>\n    <tr>\n      <th>801990978424962944</th>\n      <td>positive</td>\n      <td>Ariana Grande White House Easter Egg Roll in Washington https://t.co/jdjL9swWM8 #ArianaGrande</td>\n    </tr>\n    <tr>\n      <th>801996232553963008</th>\n      <td>positive</td>\n      <td>#CD #Musics Ariana Grande Sweet Like Candy 3.4 oz 100 ML Sealed In Box 100% Authenic New https://t.co/oFmp0bOvZy… https://t.co/WIHLch9KtK</td>\n    </tr>\n    <tr>\n      <th>801998343442407040</th>\n      <td>neutral</td>\n      <td>SIDE TO SIDE 😘 @arianagrande #sidetoside #arianagrande #musically #comunidadgay #lgbt🌈  #LOTB… https://t.co/tEd8rftAxV</td>\n    </tr>\n    <tr>\n      <th>...</th>\n      <td>...</td>\n      <td>...</td>\n    </tr>\n    <tr>\n      <th>805699615781625856</th>\n      <td>positive</td>\n      <td>@dansen17 update: Zac Efron kissing a puppy https://t.co/4hTw1U8Azs</td>\n    </tr>\n    <tr>\n      <th>805701709356003328</th>\n      <td>neutral</td>\n      <td>#zac efron sex pic skins michelle sex https://t.co/EQFbbfuJSA</td>\n    </tr>\n    <tr>\n      <th>805701818357579776</th>\n      <td>neutral</td>\n      <td>First Look at Neighbors 2 with Zac Efron Shirtless! (PHOTO)... https://t.co/5C68gj5D9V #zacefron</td>\n    </tr>\n    <tr>\n      <th>805703557081075712</th>\n      <td>neutral</td>\n      <td>zac efron poses nude #lovely libra porn https://t.co/ukneYt2Wl2</td>\n    </tr>\n    <tr>\n      <th>805704324105940992</th>\n      <td>neutral</td>\n      <td>#Fashion #Style The Paperboy (NEW Blu-ray Disc) Matthew McConaughey, Zac Efron, #NicoleKidman… https://t.co/zgHXBjdBg5</td>\n    </tr>\n  </tbody>\n</table>\n<p>12284 rows × 2 columns</p>\n</div>",
      "text/plain": "                       label  \\\nid                             \n801989080477154944   neutral   \n801989272341453952  positive   \n801990978424962944  positive   \n801996232553963008  positive   \n801998343442407040   neutral   \n...                      ...   \n805699615781625856  positive   \n805701709356003328   neutral   \n805701818357579776   neutral   \n805703557081075712   neutral   \n805704324105940992   neutral   \n\n                                                                                                                                                         text  \nid                                                                                                                                                             \n801989080477154944                               #ArianaGrande Ari By Ariana Grande 80% Full https://t.co/ylhCMETHHW #Singer #Actress https://t.co/lTrb1JQiEA  \n801989272341453952                                      Ariana Grande KIIS FM Yours Truly CD listening party in Burbank https://t.co/ClQIcx8Z6V #ArianaGrande  \n801990978424962944                                              Ariana Grande White House Easter Egg Roll in Washington https://t.co/jdjL9swWM8 #ArianaGrande  \n801996232553963008  #CD #Musics Ariana Grande Sweet Like Candy 3.4 oz 100 ML Sealed In Box 100% Authenic New https://t.co/oFmp0bOvZy… https://t.co/WIHLch9KtK  \n801998343442407040                     SIDE TO SIDE 😘 @arianagrande #sidetoside #arianagrande #musically #comunidadgay #lgbt🌈  #LOTB… https://t.co/tEd8rftAxV  \n...                                                                                                                                                       ...  \n805699615781625856                                                                        @dansen17 update: Zac Efron kissing a puppy https://t.co/4hTw1U8Azs  \n805701709356003328                                                                              #zac efron sex pic skins michelle sex https://t.co/EQFbbfuJSA  \n805701818357579776                                           First Look at Neighbors 2 with Zac Efron Shirtless! (PHOTO)... https://t.co/5C68gj5D9V #zacefron  \n805703557081075712                                                                            zac efron poses nude #lovely libra porn https://t.co/ukneYt2Wl2  \n805704324105940992                     #Fashion #Style The Paperboy (NEW Blu-ray Disc) Matthew McConaughey, Zac Efron, #NicoleKidman… https://t.co/zgHXBjdBg5  \n\n[12284 rows x 2 columns]"
     },
     "execution_count": 16,
     "metadata": {},
     "output_type": "execute_result"
    }
   ],
   "source": [
    "test_df = read_table(\"../data/SemEval2017/SemEval2017-task4-test.subtask-A.english.txt\")\n",
    "test_df.set_index(\"id\", inplace=True)\n",
    "test_df"
   ]
  },
  {
   "cell_type": "markdown",
   "metadata": {},
   "source": [
    "Normalicemos los unicode, se ven horribles"
   ]
  },
  {
   "cell_type": "code",
   "execution_count": 21,
   "metadata": {},
   "outputs": [
    {
     "data": {
      "text/plain": "'Parsons also confirmed w/ TW reporter abt JLin’s popularity, also ’promised’ he’ll visit Taiwan next yr http://t.co/ER67bSxy'"
     },
     "execution_count": 21,
     "metadata": {},
     "output_type": "execute_result"
    }
   ],
   "source": [
    "train_df.loc[254589549202767873][\"text\"].encode(\"utf-8\").decode(\"unicode-escape\")"
   ]
  },
  {
   "cell_type": "code",
   "execution_count": 22,
   "metadata": {},
   "outputs": [
    {
     "data": {
      "text/plain": "0"
     },
     "execution_count": 22,
     "metadata": {},
     "output_type": "execute_result"
    }
   ],
   "source": [
    "sum([str(t) in train_df.index for t in test_df.index])"
   ]
  },
  {
   "cell_type": "code",
   "execution_count": 23,
   "metadata": {},
   "outputs": [
    {
     "name": "stdout",
     "output_type": "stream",
     "text": [
      "Error with:  @adamploski @sprint my texts arent working again...for the 2nd day in a row... c'mon #Sprint ! U got me feeling like a T-Mobile customer :-\\\n",
      "Error with:  @ruraljules If it makes you feeling any better....I got dumped by my 1st boyfriend, by note, right before Valentine's Day. :\\\n",
      "Error with:  O.K. Trump you won the election; don't fuck with Medicare or S.S. Fuck Ryans' proposal to gut Medicare & Medicaid; Be a FDR!\\\n"
     ]
    },
    {
     "name": "stderr",
     "output_type": "stream",
     "text": [
      "<ipython-input-23-30ebc7e4046b>:5: DeprecationWarning: invalid escape sequence '\\m'\n",
      "  return text.encode(\"utf-8\").decode(\"unicode-escape\")\n",
      "<ipython-input-23-30ebc7e4046b>:5: DeprecationWarning: invalid escape sequence '\\o'\n",
      "  return text.encode(\"utf-8\").decode(\"unicode-escape\")\n",
      "<ipython-input-23-30ebc7e4046b>:5: DeprecationWarning: invalid escape sequence '\\,'\n",
      "  return text.encode(\"utf-8\").decode(\"unicode-escape\")\n",
      "<ipython-input-23-30ebc7e4046b>:5: DeprecationWarning: invalid escape sequence '\\l'\n",
      "  return text.encode(\"utf-8\").decode(\"unicode-escape\")\n",
      "<ipython-input-23-30ebc7e4046b>:5: DeprecationWarning: invalid escape sequence '\\_'\n",
      "  return text.encode(\"utf-8\").decode(\"unicode-escape\")\n",
      "<ipython-input-23-30ebc7e4046b>:5: DeprecationWarning: invalid escape sequence '\\ '\n",
      "  return text.encode(\"utf-8\").decode(\"unicode-escape\")\n",
      "<ipython-input-23-30ebc7e4046b>:5: DeprecationWarning: invalid escape sequence '\\('\n",
      "  return text.encode(\"utf-8\").decode(\"unicode-escape\")\n",
      "<ipython-input-23-30ebc7e4046b>:5: DeprecationWarning: invalid escape sequence '\\/'\n",
      "  return text.encode(\"utf-8\").decode(\"unicode-escape\")\n",
      "<ipython-input-23-30ebc7e4046b>:5: DeprecationWarning: invalid escape sequence '\\i'\n",
      "  return text.encode(\"utf-8\").decode(\"unicode-escape\")\n",
      "<ipython-input-23-30ebc7e4046b>:5: DeprecationWarning: invalid escape sequence '\\S'\n",
      "  return text.encode(\"utf-8\").decode(\"unicode-escape\")\n"
     ]
    }
   ],
   "source": [
    "import unicodedata\n",
    "\n",
    "def unescape_text(text):\n",
    "    try:\n",
    "        return text.encode(\"utf-8\").decode(\"unicode-escape\")\n",
    "    except UnicodeDecodeError:\n",
    "        print(\"Error with: \", text)\n",
    "        return text \n",
    "train_df[\"text\"] = train_df[\"text\"].apply(unescape_text)\n",
    "test_df[\"text\"] = test_df[\"text\"].apply(unescape_text)\n"
   ]
  },
  {
   "cell_type": "markdown",
   "metadata": {},
   "source": [
    "Salvemos esto así nos olvidamos de una vez"
   ]
  },
  {
   "cell_type": "code",
   "execution_count": 24,
   "metadata": {},
   "outputs": [],
   "source": [
    "train_df.to_csv(\"../data/SemEval2017/train.csv\")\n",
    "test_df.to_csv(\"../data/SemEval2017/test.csv\")"
   ]
  },
  {
   "cell_type": "code",
   "execution_count": 25,
   "metadata": {},
   "outputs": [
    {
     "name": "stdout",
     "output_type": "stream",
     "text": [
      "Train instances = 49645\n",
      "Test instances  = 12284\n"
     ]
    }
   ],
   "source": [
    "train_df = pd.read_csv(\"../data/SemEval2017/train.csv\")\n",
    "test_df = pd.read_csv(\"../data/SemEval2017/test.csv\")\n",
    "\n",
    "print(f\"Train instances = {len(train_df)}\")\n",
    "print(f\"Test instances  = {len(test_df)}\")\n"
   ]
  },
  {
   "cell_type": "code",
   "execution_count": 26,
   "metadata": {},
   "outputs": [
    {
     "data": {
      "text/html": "<div>\n<style scoped>\n    .dataframe tbody tr th:only-of-type {\n        vertical-align: middle;\n    }\n\n    .dataframe tbody tr th {\n        vertical-align: top;\n    }\n\n    .dataframe thead th {\n        text-align: right;\n    }\n</style>\n<table border=\"1\" class=\"dataframe\">\n  <thead>\n    <tr style=\"text-align: right;\">\n      <th></th>\n      <th>id</th>\n      <th>label</th>\n      <th>text</th>\n    </tr>\n  </thead>\n  <tbody>\n    <tr>\n      <th>0</th>\n      <td>False</td>\n      <td>False</td>\n      <td>False</td>\n    </tr>\n    <tr>\n      <th>1</th>\n      <td>False</td>\n      <td>False</td>\n      <td>False</td>\n    </tr>\n    <tr>\n      <th>2</th>\n      <td>False</td>\n      <td>False</td>\n      <td>False</td>\n    </tr>\n    <tr>\n      <th>3</th>\n      <td>False</td>\n      <td>False</td>\n      <td>False</td>\n    </tr>\n    <tr>\n      <th>4</th>\n      <td>False</td>\n      <td>False</td>\n      <td>False</td>\n    </tr>\n    <tr>\n      <th>...</th>\n      <td>...</td>\n      <td>...</td>\n      <td>...</td>\n    </tr>\n    <tr>\n      <th>49640</th>\n      <td>False</td>\n      <td>False</td>\n      <td>False</td>\n    </tr>\n    <tr>\n      <th>49641</th>\n      <td>False</td>\n      <td>False</td>\n      <td>False</td>\n    </tr>\n    <tr>\n      <th>49642</th>\n      <td>False</td>\n      <td>False</td>\n      <td>False</td>\n    </tr>\n    <tr>\n      <th>49643</th>\n      <td>False</td>\n      <td>False</td>\n      <td>False</td>\n    </tr>\n    <tr>\n      <th>49644</th>\n      <td>False</td>\n      <td>False</td>\n      <td>False</td>\n    </tr>\n  </tbody>\n</table>\n<p>49645 rows × 3 columns</p>\n</div>",
      "text/plain": "          id  label   text\n0      False  False  False\n1      False  False  False\n2      False  False  False\n3      False  False  False\n4      False  False  False\n...      ...    ...    ...\n49640  False  False  False\n49641  False  False  False\n49642  False  False  False\n49643  False  False  False\n49644  False  False  False\n\n[49645 rows x 3 columns]"
     },
     "execution_count": 26,
     "metadata": {},
     "output_type": "execute_result"
    }
   ],
   "source": [
    "train_df.isna()"
   ]
  },
  {
   "cell_type": "code",
   "execution_count": 27,
   "metadata": {},
   "outputs": [
    {
     "data": {
      "text/plain": "(array([3.0000e+00, 2.3700e+02, 1.5450e+03, 3.7920e+03, 5.9930e+03,\n        8.0010e+03, 1.1819e+04, 1.8226e+04, 2.8000e+01, 1.0000e+00]),\n array([  1.,  20.,  39.,  58.,  77.,  96., 115., 134., 153., 172., 191.]),\n <BarContainer object of 10 artists>)"
     },
     "execution_count": 27,
     "metadata": {},
     "output_type": "execute_result"
    },
    {
     "data": {
      "image/png": "[encoded data removed]",
      "text/plain": "<Figure size 432x288 with 1 Axes>"
     },
     "metadata": {
      "needs_background": "light"
     },
     "output_type": "display_data"
    }
   ],
   "source": [
    "import matplotlib.pyplot as plt\n",
    "\n",
    "\n",
    "plt.hist(train_df[\"text\"].apply(lambda x: len(x)))"
   ]
  },
  {
   "cell_type": "markdown",
   "metadata": {},
   "source": [
    "There are repeated rows => remove duplicates"
   ]
  },
  {
   "cell_type": "code",
   "execution_count": 28,
   "metadata": {},
   "outputs": [
    {
     "data": {
      "text/plain": "(array([5.600e+01, 3.080e+02, 7.350e+02, 1.101e+03, 1.394e+03, 1.815e+03,\n        2.274e+03, 4.560e+03, 3.900e+01, 2.000e+00]),\n array([  9. ,  26.4,  43.8,  61.2,  78.6,  96. , 113.4, 130.8, 148.2,\n        165.6, 183. ]),\n <BarContainer object of 10 artists>)"
     },
     "execution_count": 28,
     "metadata": {},
     "output_type": "execute_result"
    },
    {
     "data": {
      "image/png": "[encoded data removed]",
      "text/plain": "<Figure size 432x288 with 1 Axes>"
     },
     "metadata": {
      "needs_background": "light"
     },
     "output_type": "display_data"
    }
   ],
   "source": [
    "import matplotlib.pyplot as plt\n",
    "\n",
    "\n",
    "plt.hist(test_df[\"text\"].apply(lambda x: len(x)))"
   ]
  },
  {
   "cell_type": "code",
   "execution_count": 29,
   "metadata": {},
   "outputs": [
    {
     "data": {
      "text/plain": "neutral     0.448041\npositive    0.395992\nnegative    0.155967\nName: label, dtype: float64"
     },
     "execution_count": 29,
     "metadata": {},
     "output_type": "execute_result"
    }
   ],
   "source": [
    "train_df[\"label\"].value_counts(normalize=True)"
   ]
  },
  {
   "cell_type": "code",
   "execution_count": 30,
   "metadata": {},
   "outputs": [
    {
     "data": {
      "text/plain": "neutral     0.483312\nnegative    0.323347\npositive    0.193341\nName: label, dtype: float64"
     },
     "execution_count": 30,
     "metadata": {},
     "output_type": "execute_result"
    }
   ],
   "source": [
    "test_df[\"label\"].value_counts(normalize=True)"
   ]
  },
  {
   "cell_type": "markdown",
   "metadata": {},
   "source": [
    "Majority are neutral"
   ]
  }
 ],
 "metadata": {
  "language_info": {},
  "orig_nbformat": 3
 },
 "nbformat": 4,
 "nbformat_minor": 4
}
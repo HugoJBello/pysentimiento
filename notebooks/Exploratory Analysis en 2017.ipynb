{
 "cells": [
  {
   "cell_type": "markdown",
   "metadata": {},
   "source": [
    "## Exploratory Analysis\n",
    "\n",
    "Exploratory analysis of SemEval 2017 dataset. Don't download files as I've already got them "
   ]
  },
  {
   "cell_type": "code",
   "execution_count": 28,
   "metadata": {},
   "outputs": [
    {
     "data": {
      "text/plain": "['../data/SemEval2017/GOLD/Subtask_A/twitter-2016test-A.txt',\n '../data/SemEval2017/GOLD/Subtask_A/twitter-2013dev-A.txt',\n '../data/SemEval2017/GOLD/Subtask_A/twitter-2015test-A.txt',\n '../data/SemEval2017/GOLD/Subtask_A/twitter-2014test-A.txt',\n '../data/SemEval2017/GOLD/Subtask_A/twitter-2013train-A.txt',\n '../data/SemEval2017/GOLD/Subtask_A/twitter-2016dev-A.txt',\n '../data/SemEval2017/GOLD/Subtask_A/twitter-2013test-A.txt',\n '../data/SemEval2017/GOLD/Subtask_A/twitter-2016devtest-A.txt',\n '../data/SemEval2017/GOLD/Subtask_A/twitter-2016train-A.txt',\n '../data/SemEval2017/GOLD/Subtask_A/twitter-2014sarcasm-A.txt',\n '../data/SemEval2017/GOLD/Subtask_A/twitter-2015train-A.txt']"
     },
     "execution_count": 28,
     "metadata": {},
     "output_type": "execute_result"
    }
   ],
   "source": [
    "import os\n",
    "from glob import glob\n",
    "import pandas as pd\n",
    "\n",
    "files = glob(\"../data/SemEval2017/GOLD/Subtask_A/twitter*.txt\", recursive=True)\n",
    "files"
   ]
  },
  {
   "cell_type": "code",
   "execution_count": 3,
   "metadata": {},
   "outputs": [
    {
     "data": {
      "text/html": "<div>\n<style scoped>\n    .dataframe tbody tr th:only-of-type {\n        vertical-align: middle;\n    }\n\n    .dataframe tbody tr th {\n        vertical-align: top;\n    }\n\n    .dataframe thead th {\n        text-align: right;\n    }\n</style>\n<table border=\"1\" class=\"dataframe\">\n  <thead>\n    <tr style=\"text-align: right;\">\n      <th></th>\n      <th>id</th>\n      <th>label</th>\n      <th>text</th>\n    </tr>\n  </thead>\n  <tbody>\n    <tr>\n      <th>0</th>\n      <td>619950566786113536</td>\n      <td>neutral</td>\n      <td>Picturehouse's, Pink Floyd's, 'Roger Waters: The Walll - opening 29 Sept is now making waves. Watch the trailer on Rolling Stone - look...</td>\n    </tr>\n    <tr>\n      <th>1</th>\n      <td>619969366986235905</td>\n      <td>neutral</td>\n      <td>Order Go Set a Watchman in store or through our website before Tuesday and get it half price! #GSAW @GSAWatchmanBook https://t.co/KET6EGD1an</td>\n    </tr>\n    <tr>\n      <th>2</th>\n      <td>619971047195045888</td>\n      <td>negative</td>\n      <td>If these runway renovations at the airport prevent me from seeing Taylor Swift on Monday, Bad Blood will have a new meaning.</td>\n    </tr>\n    <tr>\n      <th>3</th>\n      <td>619974445185302528</td>\n      <td>neutral</td>\n      <td>If you could ask an onstage interview question at Miss USA tomorrow, what would it be?</td>\n    </tr>\n    <tr>\n      <th>4</th>\n      <td>619987808317407232</td>\n      <td>positive</td>\n      <td>A portion of book sales from our Harper Lee/Go Set a Watchman release party on Mon. 7/13 will support @CAP_Tulsa and the great work they do.</td>\n    </tr>\n    <tr>\n      <th>...</th>\n      <td>...</td>\n      <td>...</td>\n      <td>...</td>\n    </tr>\n    <tr>\n      <th>20627</th>\n      <td>681877834982232064</td>\n      <td>neutral</td>\n      <td>@ShaquilleHoNeal from what I think you're asking, in no order. Future, Drake, Thug, Cole, Kendrick and Tiller a close 6th</td>\n    </tr>\n    <tr>\n      <th>20628</th>\n      <td>681879579129200640</td>\n      <td>positive</td>\n      <td>Iran ranks 1st in liver surgeries, Allah bless the country.</td>\n    </tr>\n    <tr>\n      <th>20629</th>\n      <td>681883903259357184</td>\n      <td>neutral</td>\n      <td>Hours before he arrived in Saudi Arabia on Tuesday, Turkish President Recep Tayyip Erdogan accused Syria's president of \"mercilessly\"...</td>\n    </tr>\n    <tr>\n      <th>20630</th>\n      <td>681904976860327936</td>\n      <td>negative</td>\n      <td>@VanityFair  Alex Kim Kardashian worth how to love Kim Kardashian she's so bad Sun Conure to</td>\n    </tr>\n    <tr>\n      <th>20631</th>\n      <td>681910549211287552</td>\n      <td>neutral</td>\n      <td>I guess even Pandora knows Justin Bieber is a grown up... this is the 2nd condom ad they've played</td>\n    </tr>\n  </tbody>\n</table>\n<p>20632 rows × 3 columns</p>\n</div>",
      "text/plain": "                       id     label  \\\n0      619950566786113536   neutral   \n1      619969366986235905   neutral   \n2      619971047195045888  negative   \n3      619974445185302528   neutral   \n4      619987808317407232  positive   \n...                   ...       ...   \n20627  681877834982232064   neutral   \n20628  681879579129200640  positive   \n20629  681883903259357184   neutral   \n20630  681904976860327936  negative   \n20631  681910549211287552   neutral   \n\n                                                                                                                                               text  \n0        Picturehouse's, Pink Floyd's, 'Roger Waters: The Walll - opening 29 Sept is now making waves. Watch the trailer on Rolling Stone - look...  \n1      Order Go Set a Watchman in store or through our website before Tuesday and get it half price! #GSAW @GSAWatchmanBook https://t.co/KET6EGD1an  \n2                      If these runway renovations at the airport prevent me from seeing Taylor Swift on Monday, Bad Blood will have a new meaning.  \n3                                                            If you could ask an onstage interview question at Miss USA tomorrow, what would it be?  \n4      A portion of book sales from our Harper Lee/Go Set a Watchman release party on Mon. 7/13 will support @CAP_Tulsa and the great work they do.  \n...                                                                                                                                             ...  \n20627                     @ShaquilleHoNeal from what I think you're asking, in no order. Future, Drake, Thug, Cole, Kendrick and Tiller a close 6th  \n20628                                                                                   Iran ranks 1st in liver surgeries, Allah bless the country.  \n20629      Hours before he arrived in Saudi Arabia on Tuesday, Turkish President Recep Tayyip Erdogan accused Syria's president of \"mercilessly\"...  \n20630                                                  @VanityFair  Alex Kim Kardashian worth how to love Kim Kardashian she's so bad Sun Conure to  \n20631                                            I guess even Pandora knows Justin Bieber is a grown up... this is the 2nd condom ad they've played  \n\n[20632 rows x 3 columns]"
     },
     "execution_count": 3,
     "metadata": {},
     "output_type": "execute_result"
    }
   ],
   "source": [
    "import pandas as pd\n",
    "\n",
    "def read_table(path):\n",
    "    \"\"\"\n",
    "    Read SemEval table and return dataframe\n",
    "    \"\"\"\n",
    "    df = pd.read_table(path, header=None)\n",
    "    # Get rid of last column\n",
    "\n",
    "    if len(df.columns) > 3:\n",
    "        del df[3]\n",
    "    df.columns = [\"id\", \"label\", \"text\"]\n",
    "    #df.set_index(\"id\", inplace=True)\n",
    "    return df\n",
    "\n",
    "pd.options.display.max_colwidth = 200\n",
    "pd.options.display.max_rows = 100\n",
    "\n",
    "read_table(files[0])\n",
    "\n"
   ]
  },
  {
   "cell_type": "code",
   "execution_count": 30,
   "metadata": {},
   "outputs": [
    {
     "name": "stdout",
     "output_type": "stream",
     "text": [
      "Train files :  ['../data/SemEval2017/GOLD/Subtask_A/twitter-2015test-A.txt', '../data/SemEval2017/GOLD/Subtask_A/twitter-2014test-A.txt', '../data/SemEval2017/GOLD/Subtask_A/twitter-2013train-A.txt', '../data/SemEval2017/GOLD/Subtask_A/twitter-2013test-A.txt', '../data/SemEval2017/GOLD/Subtask_A/twitter-2016train-A.txt', '../data/SemEval2017/GOLD/Subtask_A/twitter-2014sarcasm-A.txt', '../data/SemEval2017/GOLD/Subtask_A/twitter-2015train-A.txt']\n",
      "Dev files   :  ['../data/SemEval2017/GOLD/Subtask_A/twitter-2013dev-A.txt', '../data/SemEval2017/GOLD/Subtask_A/twitter-2016dev-A.txt', '../data/SemEval2017/GOLD/Subtask_A/twitter-2016devtest-A.txt']\n",
      "Test files  :  ['../data/SemEval2017/GOLD/Subtask_A/twitter-2016test-A.txt']\n"
     ]
    }
   ],
   "source": [
    "test_files = [\n",
    "    '../data/SemEval2017/GOLD/Subtask_A/twitter-2016test-A.txt',\n",
    "]\n",
    "dev_files = [f for f in files if any(t in f for t in {\"devtest\", \"dev\"})]\n",
    "\n",
    "train_files = [f for f in files if f not in test_files and f not in dev_files]\n",
    "\n",
    "print(\"Train files : \", train_files)\n",
    "\n",
    "print(\"Dev files   : \", dev_files)\n",
    "\n",
    "print(\"Test files  : \", test_files)\n"
   ]
  },
  {
   "cell_type": "code",
   "execution_count": 36,
   "metadata": {},
   "outputs": [
    {
     "name": "stdout",
     "output_type": "stream",
     "text": [
      "Len train :  (23880, 4)\n",
      "Len dev   :  (5620, 4)\n",
      "Len test  :  (20632, 4)\n"
     ]
    }
   ],
   "source": [
    "\n",
    "train_df = pd.concat([read_table(f) for f in train_files])\n",
    "train_df[\"slice\"] = \"train\"\n",
    "dev_df = pd.concat([read_table(f) for f in dev_files])\n",
    "dev_df[\"slice\"] = \"dev\"\n",
    "test_df = pd.concat([read_table(f) for f in test_files])\n",
    "test_df[\"slice\"] = \"test\"\n",
    "\n",
    "df = pd.concat([train_df, dev_df, test_df])\n",
    "print(\"Len train : \", train_df.shape)\n",
    "print(\"Len dev   : \", dev_df.shape)\n",
    "print(\"Len test  : \", test_df.shape)\n"
   ]
  },
  {
   "cell_type": "markdown",
   "metadata": {},
   "source": [
    "There are repeated rows => remove duplicates"
   ]
  },
  {
   "cell_type": "code",
   "execution_count": 37,
   "metadata": {},
   "outputs": [
    {
     "name": "stdout",
     "output_type": "stream",
     "text": [
      "Len train :  (23310, 4)\n",
      "Len dev   :  (5577, 4)\n",
      "Len test  :  (20481, 4)\n"
     ]
    }
   ],
   "source": [
    "df.drop_duplicates(\"id\", inplace=True)\n",
    "\n",
    "train_df = df[df[\"slice\"] == \"train\"]\n",
    "dev_df = df[df[\"slice\"] == \"dev\"]\n",
    "test_df = df[df[\"slice\"] == \"test\"]\n",
    "print(\"Len train : \", train_df.shape)\n",
    "print(\"Len dev   : \", dev_df.shape)\n",
    "print(\"Len test  : \", test_df.shape)"
   ]
  },
  {
   "cell_type": "code",
   "execution_count": 33,
   "metadata": {},
   "outputs": [
    {
     "data": {
      "text/html": "<div>\n<style scoped>\n    .dataframe tbody tr th:only-of-type {\n        vertical-align: middle;\n    }\n\n    .dataframe tbody tr th {\n        vertical-align: top;\n    }\n\n    .dataframe thead th {\n        text-align: right;\n    }\n</style>\n<table border=\"1\" class=\"dataframe\">\n  <thead>\n    <tr style=\"text-align: right;\">\n      <th></th>\n      <th>id</th>\n      <th>label</th>\n      <th>text</th>\n      <th>slice</th>\n    </tr>\n  </thead>\n  <tbody>\n    <tr>\n      <th>7030</th>\n      <td>115931367044427776</td>\n      <td>positive</td>\n      <td>I was thrilled when Melissa McCarthy won an Emmy last night. She called me today to talk about her big win. http://t.co/OKM3X6DB</td>\n      <td>train</td>\n    </tr>\n    <tr>\n      <th>2964</th>\n      <td>258819156424683520</td>\n      <td>positive</td>\n      <td>@Sarah_zayed91 I'll come for the faculty exhibition on Tuesday.. and I'm like most of the time in uni after 3:30 PM :) in CIT building</td>\n      <td>train</td>\n    </tr>\n    <tr>\n      <th>4714</th>\n      <td>257544455576485888</td>\n      <td>positive</td>\n      <td>@KWAMEDIDIT: FRIDAY OCT 19th!!!! THE ALUMNI will be rocking Philly!!!!! FREE SHOW  @ the Liacouras Center 7pm CLASSIC HIP HOP!</td>\n      <td>train</td>\n    </tr>\n    <tr>\n      <th>5262</th>\n      <td>641650142827950080</td>\n      <td>positive</td>\n      <td>@PittsfordDad There is a one day delay due to Labor day for the 14534 area. If your normal service day is Wednesday service will (1/2)</td>\n      <td>train</td>\n    </tr>\n    <tr>\n      <th>4</th>\n      <td>255713054224949249</td>\n      <td>positive</td>\n      <td>Hello from the Foundation Trekkers! We're up in chilly Haltwhistle getting ready to trek Hadrian's wall tomorrow :-) http://t.co/MmRnhLAL</td>\n      <td>train</td>\n    </tr>\n    <tr>\n      <th>5233</th>\n      <td>641584836222808064</td>\n      <td>positive</td>\n      <td>Hello everyone!  I had a fabulous time in Hermitage PA, on Labor Day!  As you may or may not know, I was in... http://t.co/UD0vLq4mEM</td>\n      <td>train</td>\n    </tr>\n    <tr>\n      <th>2345</th>\n      <td>158551378271277058</td>\n      <td>positive</td>\n      <td>Watched a movie yesterday #The70's on #OVTV and was pleasantly surprised to see Michael Easton (John, #OLTL) in it.</td>\n      <td>train</td>\n    </tr>\n    <tr>\n      <th>2183</th>\n      <td>262664798473445377</td>\n      <td>positive</td>\n      <td>With the election right around the corner\\u002c RRFP is pleased to announce Super Tuesday!  Get an additional 5%... http://t.co/aKR98s83</td>\n      <td>train</td>\n    </tr>\n    <tr>\n      <th>4907</th>\n      <td>263292830171156480</td>\n      <td>positive</td>\n      <td>good eats on deck 2day. Volare 4 lunch. Maya del Sol 4 dinner. i was smart 2 wear black. i may look like i\\u2019m w/ child by the end of the day</td>\n      <td>train</td>\n    </tr>\n    <tr>\n      <th>640</th>\n      <td>641631147370352640</td>\n      <td>positive</td>\n      <td>The Apple event starts 10 minutes after I get out of Chemistry. I may be sprinting back to my dorm to catch it in time.</td>\n      <td>train</td>\n    </tr>\n  </tbody>\n</table>\n</div>",
      "text/plain": "                      id     label  \\\n7030  115931367044427776  positive   \n2964  258819156424683520  positive   \n4714  257544455576485888  positive   \n5262  641650142827950080  positive   \n4     255713054224949249  positive   \n5233  641584836222808064  positive   \n2345  158551378271277058  positive   \n2183  262664798473445377  positive   \n4907  263292830171156480  positive   \n640   641631147370352640  positive   \n\n                                                                                                                                                  text  \\\n7030                  I was thrilled when Melissa McCarthy won an Emmy last night. She called me today to talk about her big win. http://t.co/OKM3X6DB   \n2964            @Sarah_zayed91 I'll come for the faculty exhibition on Tuesday.. and I'm like most of the time in uni after 3:30 PM :) in CIT building   \n4714                    @KWAMEDIDIT: FRIDAY OCT 19th!!!! THE ALUMNI will be rocking Philly!!!!! FREE SHOW  @ the Liacouras Center 7pm CLASSIC HIP HOP!   \n5262            @PittsfordDad There is a one day delay due to Labor day for the 14534 area. If your normal service day is Wednesday service will (1/2)   \n4            Hello from the Foundation Trekkers! We're up in chilly Haltwhistle getting ready to trek Hadrian's wall tomorrow :-) http://t.co/MmRnhLAL   \n5233             Hello everyone!  I had a fabulous time in Hermitage PA, on Labor Day!  As you may or may not know, I was in... http://t.co/UD0vLq4mEM   \n2345                               Watched a movie yesterday #The70's on #OVTV and was pleasantly surprised to see Michael Easton (John, #OLTL) in it.   \n2183          With the election right around the corner\\u002c RRFP is pleased to announce Super Tuesday!  Get an additional 5%... http://t.co/aKR98s83   \n4907  good eats on deck 2day. Volare 4 lunch. Maya del Sol 4 dinner. i was smart 2 wear black. i may look like i\\u2019m w/ child by the end of the day   \n640                            The Apple event starts 10 minutes after I get out of Chemistry. I may be sprinting back to my dorm to catch it in time.   \n\n      slice  \n7030  train  \n2964  train  \n4714  train  \n5262  train  \n4     train  \n5233  train  \n2345  train  \n2183  train  \n4907  train  \n640   train  "
     },
     "execution_count": 33,
     "metadata": {},
     "output_type": "execute_result"
    }
   ],
   "source": [
    "train_df[train_df[\"label\"] == \"positive\"].sample(10)"
   ]
  },
  {
   "cell_type": "code",
   "execution_count": 34,
   "metadata": {},
   "outputs": [
    {
     "data": {
      "text/html": "<div>\n<style scoped>\n    .dataframe tbody tr th:only-of-type {\n        vertical-align: middle;\n    }\n\n    .dataframe tbody tr th {\n        vertical-align: top;\n    }\n\n    .dataframe thead th {\n        text-align: right;\n    }\n</style>\n<table border=\"1\" class=\"dataframe\">\n  <thead>\n    <tr style=\"text-align: right;\">\n      <th></th>\n      <th>id</th>\n      <th>label</th>\n      <th>text</th>\n      <th>slice</th>\n    </tr>\n  </thead>\n  <tbody>\n    <tr>\n      <th>3738</th>\n      <td>639529925188452352</td>\n      <td>neutral</td>\n      <td>NEW: IBM executive J. Bruce Harreld named 21st president of @uiowa over faculty concerns about his qualifications. http://t.co/ztHFnLgdln</td>\n      <td>train</td>\n    </tr>\n    <tr>\n      <th>4812</th>\n      <td>641411751846674432</td>\n      <td>neutral</td>\n      <td>Lake James was dope on Sunday even with Justin</td>\n      <td>train</td>\n    </tr>\n    <tr>\n      <th>8893</th>\n      <td>259271052906074112</td>\n      <td>neutral</td>\n      <td>LOCAL SPORTS: Special to the News-Sun: PLANT CITY - The Highlands Youth Football and Cheer Organization (HYFC) t... http://t.co/Kgy7m7vH</td>\n      <td>train</td>\n    </tr>\n    <tr>\n      <th>5763</th>\n      <td>100032433461805057</td>\n      <td>neutral</td>\n      <td>RT @VomitsHerMinddx: Britney: Lady Gaga's here tonight. Me: WHAT? *Watches Gaga the rest of the night *  Me: Who's concert was that ? I  ...</td>\n      <td>train</td>\n    </tr>\n    <tr>\n      <th>3130</th>\n      <td>263703333628411906</td>\n      <td>neutral</td>\n      <td>Chelsea need to beat Ajax to keep up there battle with Ajax for 2nd place #NextGenSeries</td>\n      <td>train</td>\n    </tr>\n    <tr>\n      <th>7650</th>\n      <td>264251309492940801</td>\n      <td>neutral</td>\n      <td>My roommate going to Eastern tomorrow.</td>\n      <td>train</td>\n    </tr>\n    <tr>\n      <th>3737</th>\n      <td>203361721329516544</td>\n      <td>neutral</td>\n      <td>Postal plants to shrink\\u002c 28\\u002c000 jobs at stake: The U.S. Postal Service announced on Thursday it\\u2019s moving forward... http://t.co/1CWNuysA</td>\n      <td>train</td>\n    </tr>\n    <tr>\n      <th>3428</th>\n      <td>641371757161644032</td>\n      <td>neutral</td>\n      <td>Mulcair, Harper and Trudeau still in close race after campaign's 1st phase. Leaders considering time-sharing the country.</td>\n      <td>train</td>\n    </tr>\n    <tr>\n      <th>1166</th>\n      <td>641569184388935680</td>\n      <td>neutral</td>\n      <td>House Of Cards author says my treatment raises 'disturbing questions about the inner workings' of the BBC. http://t.co/fAV54NKGFs</td>\n      <td>train</td>\n    </tr>\n    <tr>\n      <th>6212</th>\n      <td>100502269635731456</td>\n      <td>neutral</td>\n      <td>RT @SkinnyCuh: They should make a new Friday and have Kevin Hart Katt Williams And Mike Epps in it.</td>\n      <td>train</td>\n    </tr>\n  </tbody>\n</table>\n</div>",
      "text/plain": "                      id    label  \\\n3738  639529925188452352  neutral   \n4812  641411751846674432  neutral   \n8893  259271052906074112  neutral   \n5763  100032433461805057  neutral   \n3130  263703333628411906  neutral   \n7650  264251309492940801  neutral   \n3737  203361721329516544  neutral   \n3428  641371757161644032  neutral   \n1166  641569184388935680  neutral   \n6212  100502269635731456  neutral   \n\n                                                                                                                                                         text  \\\n3738                NEW: IBM executive J. Bruce Harreld named 21st president of @uiowa over faculty concerns about his qualifications. http://t.co/ztHFnLgdln   \n4812                                                                                                           Lake James was dope on Sunday even with Justin   \n8893                 LOCAL SPORTS: Special to the News-Sun: PLANT CITY - The Highlands Youth Football and Cheer Organization (HYFC) t... http://t.co/Kgy7m7vH   \n5763             RT @VomitsHerMinddx: Britney: Lady Gaga's here tonight. Me: WHAT? *Watches Gaga the rest of the night *  Me: Who's concert was that ? I  ...   \n3130                                                                 Chelsea need to beat Ajax to keep up there battle with Ajax for 2nd place #NextGenSeries   \n7650                                                                                                                   My roommate going to Eastern tomorrow.   \n3737  Postal plants to shrink\\u002c 28\\u002c000 jobs at stake: The U.S. Postal Service announced on Thursday it\\u2019s moving forward... http://t.co/1CWNuysA   \n3428                                Mulcair, Harper and Trudeau still in close race after campaign's 1st phase. Leaders considering time-sharing the country.   \n1166                        House Of Cards author says my treatment raises 'disturbing questions about the inner workings' of the BBC. http://t.co/fAV54NKGFs   \n6212                                                      RT @SkinnyCuh: They should make a new Friday and have Kevin Hart Katt Williams And Mike Epps in it.   \n\n      slice  \n3738  train  \n4812  train  \n8893  train  \n5763  train  \n3130  train  \n7650  train  \n3737  train  \n3428  train  \n1166  train  \n6212  train  "
     },
     "execution_count": 34,
     "metadata": {},
     "output_type": "execute_result"
    }
   ],
   "source": [
    "train_df[train_df[\"label\"] == \"neutral\"].sample(10)"
   ]
  },
  {
   "cell_type": "code",
   "execution_count": 35,
   "metadata": {},
   "outputs": [
    {
     "data": {
      "text/html": "<div>\n<style scoped>\n    .dataframe tbody tr th:only-of-type {\n        vertical-align: middle;\n    }\n\n    .dataframe tbody tr th {\n        vertical-align: top;\n    }\n\n    .dataframe thead th {\n        text-align: right;\n    }\n</style>\n<table border=\"1\" class=\"dataframe\">\n  <thead>\n    <tr style=\"text-align: right;\">\n      <th></th>\n      <th>id</th>\n      <th>label</th>\n      <th>text</th>\n      <th>slice</th>\n    </tr>\n  </thead>\n  <tbody>\n    <tr>\n      <th>4592</th>\n      <td>262707915985661952</td>\n      <td>neutral</td>\n      <td>Alex\\u002c the female sideline commentator for Sunday night football...sounds like Kermit the Frog. How did they let you on the air?</td>\n      <td>train</td>\n    </tr>\n    <tr>\n      <th>525</th>\n      <td>622457199399317504</td>\n      <td>neutral</td>\n      <td>Contrasts 20th-21st cent. Angela Merkel understands Quantum Physics. Does she have political depth for long term German survival?</td>\n      <td>train</td>\n    </tr>\n    <tr>\n      <th>4562</th>\n      <td>262977992077221889</td>\n      <td>neutral</td>\n      <td>\\\"\"Well that\\u2019s it\\u002c the very last one. That may stop you.\\\"\" - The Lorax</td>\n      <td>train</td>\n    </tr>\n    <tr>\n      <th>3563</th>\n      <td>261788570719752193</td>\n      <td>neutral</td>\n      <td>@PatCunningham16 u just hold out to Ash Wednesday #letthemknowthecraic</td>\n      <td>train</td>\n    </tr>\n    <tr>\n      <th>5421</th>\n      <td>261630924570103808</td>\n      <td>neutral</td>\n      <td>@demi_nicole12\\u2019s 16th birthday at Garner. I gave her a face full of chocolate for her birthday. She gave it http://t.co/sdHu1y1E</td>\n      <td>train</td>\n    </tr>\n    <tr>\n      <th>937</th>\n      <td>638473308988571649</td>\n      <td>neutral</td>\n      <td>@_suprene @sinTripas_ if he can play then I hope he plays against barca, on the 20th</td>\n      <td>train</td>\n    </tr>\n    <tr>\n      <th>3178</th>\n      <td>640814559167541248</td>\n      <td>neutral</td>\n      <td>I just Googled something and the 10th result was my Google+ post from almost 3 years ago~</td>\n      <td>train</td>\n    </tr>\n    <tr>\n      <th>951</th>\n      <td>225300174812102656</td>\n      <td>neutral</td>\n      <td>Lechlade's view on the upcoming clash with Marlborough CC on Saturday http://t.co/5jKiTOjN</td>\n      <td>train</td>\n    </tr>\n    <tr>\n      <th>4068</th>\n      <td>264155923780612096</td>\n      <td>neutral</td>\n      <td>@ArinRodriguez I texted you on Tuesday I was Trina see if you wanted to match</td>\n      <td>train</td>\n    </tr>\n    <tr>\n      <th>579</th>\n      <td>638971504277983232</td>\n      <td>neutral</td>\n      <td>There's no love lost btw them but Angela Merkel will present the biography of her predecessor Gerhard Schroeder on Sept 22, @Bild reports</td>\n      <td>train</td>\n    </tr>\n  </tbody>\n</table>\n</div>",
      "text/plain": "                      id    label  \\\n4592  262707915985661952  neutral   \n525   622457199399317504  neutral   \n4562  262977992077221889  neutral   \n3563  261788570719752193  neutral   \n5421  261630924570103808  neutral   \n937   638473308988571649  neutral   \n3178  640814559167541248  neutral   \n951   225300174812102656  neutral   \n4068  264155923780612096  neutral   \n579   638971504277983232  neutral   \n\n                                                                                                                                           text  \\\n4592       Alex\\u002c the female sideline commentator for Sunday night football...sounds like Kermit the Frog. How did they let you on the air?   \n525           Contrasts 20th-21st cent. Angela Merkel understands Quantum Physics. Does she have political depth for long term German survival?   \n4562                                                          \\\"\"Well that\\u2019s it\\u002c the very last one. That may stop you.\\\"\" - The Lorax   \n3563                                                                     @PatCunningham16 u just hold out to Ash Wednesday #letthemknowthecraic   \n5421      @demi_nicole12\\u2019s 16th birthday at Garner. I gave her a face full of chocolate for her birthday. She gave it http://t.co/sdHu1y1E   \n937                                                        @_suprene @sinTripas_ if he can play then I hope he plays against barca, on the 20th   \n3178                                                  I just Googled something and the 10th result was my Google+ post from almost 3 years ago~   \n951                                                  Lechlade's view on the upcoming clash with Marlborough CC on Saturday http://t.co/5jKiTOjN   \n4068                                                              @ArinRodriguez I texted you on Tuesday I was Trina see if you wanted to match   \n579   There's no love lost btw them but Angela Merkel will present the biography of her predecessor Gerhard Schroeder on Sept 22, @Bild reports   \n\n      slice  \n4592  train  \n525   train  \n4562  train  \n3563  train  \n5421  train  \n937   train  \n3178  train  \n951   train  \n4068  train  \n579   train  "
     },
     "execution_count": 35,
     "metadata": {},
     "output_type": "execute_result"
    }
   ],
   "source": [
    "train_df[train_df[\"label\"] == \"neutral\"].sample(10)"
   ]
  }
 ],
 "metadata": {
  "kernelspec": {
   "display_name": "Python 3.8.5 64-bit ('pysent-oyXQVI9B': pipenv)",
   "name": "python385jvsc74a57bd01b2ee3c7e4be117f16044e4287774c113d04cbc1cc9e7e3b16e6e098f73486a4"
  },
  "language_info": {
   "codemirror_mode": {
    "name": "ipython",
    "version": 3
   },
   "file_extension": ".py",
   "mimetype": "text/x-python",
   "name": "python",
   "nbconvert_exporter": "python",
   "pygments_lexer": "ipython3",
   "version": "3.8.5"
  },
  "metadata": {
   "interpreter": {
    "hash": "1b2ee3c7e4be117f16044e4287774c113d04cbc1cc9e7e3b16e6e098f73486a4"
   }
  },
  "orig_nbformat": 3
 },
 "nbformat": 4,
 "nbformat_minor": 4
}
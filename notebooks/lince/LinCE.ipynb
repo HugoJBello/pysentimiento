{
 "cells": [
  {
   "cell_type": "code",
   "execution_count": 4,
   "metadata": {},
   "outputs": [
    {
     "name": "stdout",
     "output_type": "stream",
     "text": [
      "The autoreload extension is already loaded. To reload it, use:\n",
      "  %reload_ext autoreload\n"
     ]
    },
    {
     "name": "stderr",
     "output_type": "stream",
     "text": [
      "Reusing dataset lince (/home/jmperez/.cache/huggingface/datasets/lince/ner_spaeng/1.0.0/10d41747f55f0849fa84ac579ea1acfa7df49aa2015b60426bc459c111b3d589)\n"
     ]
    },
    {
     "data": {
      "application/vnd.jupyter.widget-view+json": {
       "model_id": "36e7a98145084a398cc92c0e5eb72c39",
       "version_major": 2,
       "version_minor": 0
      },
      "text/plain": [
       "  0%|          | 0/3 [00:00<?, ?it/s]"
      ]
     },
     "metadata": {},
     "output_type": "display_data"
    },
    {
     "name": "stderr",
     "output_type": "stream",
     "text": [
      "Loading cached processed dataset at /home/jmperez/.cache/huggingface/datasets/lince/ner_spaeng/1.0.0/10d41747f55f0849fa84ac579ea1acfa7df49aa2015b60426bc459c111b3d589/cache-f749fd5ca349b1d8.arrow\n",
      "Loading cached processed dataset at /home/jmperez/.cache/huggingface/datasets/lince/ner_spaeng/1.0.0/10d41747f55f0849fa84ac579ea1acfa7df49aa2015b60426bc459c111b3d589/cache-875716555d36ff1f.arrow\n",
      "Loading cached processed dataset at /home/jmperez/.cache/huggingface/datasets/lince/ner_spaeng/1.0.0/10d41747f55f0849fa84ac579ea1acfa7df49aa2015b60426bc459c111b3d589/cache-1afcf30fe2e4ebdb.arrow\n"
     ]
    },
    {
     "data": {
      "application/vnd.jupyter.widget-view+json": {
       "model_id": "81f7a55642a44d21b0b23ac1e61ac1bc",
       "version_major": 2,
       "version_minor": 0
      },
      "text/plain": [
       "  0%|          | 0/33611 [00:00<?, ?ex/s]"
      ]
     },
     "metadata": {},
     "output_type": "display_data"
    },
    {
     "data": {
      "application/vnd.jupyter.widget-view+json": {
       "model_id": "3587dc9c45b94e62aeeec73207a8f61e",
       "version_major": 2,
       "version_minor": 0
      },
      "text/plain": [
       "  0%|          | 0/10085 [00:00<?, ?ex/s]"
      ]
     },
     "metadata": {},
     "output_type": "display_data"
    },
    {
     "data": {
      "application/vnd.jupyter.widget-view+json": {
       "model_id": "2fc0eb908bd744e581d285c63c301de2",
       "version_major": 2,
       "version_minor": 0
      },
      "text/plain": [
       "  0%|          | 0/23527 [00:00<?, ?ex/s]"
      ]
     },
     "metadata": {},
     "output_type": "display_data"
    }
   ],
   "source": [
    "%load_ext autoreload\n",
    "%autoreload 2\n",
    "from datasets import DatasetDict\n",
    "from pysentimiento.lince.ner import load_datasets\n",
    "\n",
    "\n",
    "train_dataset, dev_dataset, test_dataset = load_datasets(\"es\")\n",
    "\n",
    "lince_ner = DatasetDict(\n",
    "    train=train_dataset,\n",
    "    validation=dev_dataset,\n",
    "    test=test_dataset,\n",
    ")"
   ]
  },
  {
   "cell_type": "code",
   "execution_count": 5,
   "metadata": {},
   "outputs": [
    {
     "data": {
      "application/vnd.jupyter.widget-view+json": {
       "model_id": "6892a2b57c014ef096aed5ffb6bdcf45",
       "version_major": 2,
       "version_minor": 0
      },
      "text/plain": [
       "  0%|          | 0/33611 [00:00<?, ?it/s]"
      ]
     },
     "metadata": {},
     "output_type": "display_data"
    },
    {
     "name": "stdout",
     "output_type": "stream",
     "text": [
      "-braulio B-PER\n",
      "'s I-ORG\n",
      "@usuario I-ORG\n",
      ". I-ORG\n",
      "'s I-PROD\n",
      "'s I-LOC\n",
      "'s I-GROUP\n",
      "1025east B-LOC\n",
      "& I-GROUP\n",
      "106.7 I-ORG\n",
      "957miami B-LOC\n",
      "106.7 I-ORG\n",
      ", I-TIME\n",
      "106.7 I-ORG\n",
      "106.7 I-ORG\n",
      "-Henry B-PER\n",
      "106.7 I-ORG\n",
      "3D I-PROD\n",
      "-Sneijder B-PER\n",
      "'s I-ORG\n",
      "'l I-TITLE\n",
      "| I-TITLE\n",
      "& I-GROUP\n",
      "11:30 I-OTHER\n",
      "'s I-PROD\n",
      "3C I-LOC\n",
      "-Alexander B-PER\n",
      "106.7 I-ORG\n",
      "-Marc B-PER\n",
      "'s I-LOC\n",
      "106.7 I-ORG\n",
      "957miami B-LOC\n",
      "'s I-ORG\n",
      "17-10-15 B-TIME\n",
      "& I-LOC\n",
      "8th I-LOC\n",
      "4th B-TIME\n",
      "\" I-PER\n",
      "\" I-PER\n",
      "'Rey I-PER\n",
      "'Rod I-PER\n",
      ". I-PROD\n",
      "'s I-ORG\n",
      "'Or I-EVENT\n",
      "9-feb B-TIME\n",
      "-F B-PER\n",
      ". I-PER\n",
      ". I-PER\n",
      "'s I-TITLE\n",
      "'ors I-EVENT\n",
      "'s I-LOC\n",
      ". I-PER\n",
      "2:45 B-TIME\n",
      "106.7 I-ORG\n",
      ", I-LOC\n",
      "19th I-TIME\n",
      ". I-TITLE\n",
      "[ I-TITLE\n",
      "] I-TITLE\n",
      "-Junio B-TIME\n",
      "-Carolina B-PER\n",
      "3/20 B-TIME\n",
      "106.7 I-ORG\n",
      "106.7 I-ORG\n",
      "4s I-PROD\n",
      "'Donell I-PER\n",
      "'O I-PER\n",
      "& I-GROUP\n",
      "-mariii B-PER\n",
      "'donell I-PER\n",
      ". I-PROD\n",
      ". I-LOC\n",
      "'s I-LOC\n",
      "'s I-LOC\n",
      "'s I-TIME\n",
      "& I-GROUP\n",
      ". I-ORG\n",
      "14-17 I-TIME\n",
      ", I-TIME\n",
      "'s I-PER\n",
      "9calle B-LOC\n",
      "'s I-EVENT\n",
      "49ers B-GROUP\n",
      "'s I-ORG\n",
      "16-19 I-TIME\n",
      "'s I-LOC\n",
      ", I-LOC\n",
      "& I-PROD\n",
      "'s I-LOC\n",
      "16:00 B-TIME\n",
      "8st I-LOC\n",
      "106.7 I-ORG\n",
      "106.7 I-ORG\n",
      "106.7 I-TITLE\n",
      ". I-TITLE\n",
      "🐬🇵🇷 B-LOC\n",
      "21Pilots B-GROUP\n",
      "& I-LOC\n",
      ", I-ORG\n",
      "7:30 B-TIME\n",
      "106.7 I-TITLE\n",
      ". I-TITLE\n",
      "106.7 I-TITLE\n",
      "106.7 I-ORG\n",
      ". I-PER\n",
      ". I-PER\n",
      "106.7 I-TITLE\n",
      "-mike B-PER\n",
      "-Kenny B-PER\n",
      "106.7 I-ORG\n",
      ", I-ORG\n",
      ". I-GROUP\n",
      "'s I-LOC\n",
      "\" I-ORG\n",
      "106.7 I-ORG\n",
      "\" I-ORG\n",
      ", I-LOC\n",
      "-Antoine B-PER\n",
      "106.7 I-ORG\n",
      "'s I-LOC\n",
      "'s I-LOC\n",
      "106.7 I-ORG\n",
      "106.7 I-TITLE\n",
      ". I-PER\n",
      ". I-LOC\n",
      "21P B-PER\n",
      "106.7 I-ORG\n",
      "106.7 I-ORG\n",
      "'s I-LOC\n",
      "-Juan B-PER\n",
      ": I-TITLE\n",
      "106.7 I-ORG\n",
      ", I-LOC\n",
      "11:37 B-TIME\n",
      "4G B-PROD\n",
      "-abdiel B-PER\n",
      "106.7 I-ORG\n",
      "'s I-ORG\n",
      "-Duffy B-PER\n",
      ". I-TITLE\n",
      "& I-TITLE\n",
      "106.7 I-ORG\n",
      "3D I-ORG\n",
      ". I-PER\n",
      "2do B-TIME\n",
      "29th I-TIME\n",
      "& I-LOC\n",
      "🇮🇹 B-LOC\n",
      "🇮🇹 B-LOC\n",
      ", I-LOC\n",
      "'s I-LOC\n",
      "'s I-TITLE\n",
      "'s I-TIME\n",
      "-Mike B-PER\n",
      "1:6 I-TITLE\n",
      ". I-LOC\n",
      ", I-LOC\n",
      ". I-LOC\n",
      "9/11 B-TIME\n",
      "' I-TITLE\n",
      ", I-LOC\n",
      "4S I-PROD\n",
      "'S I-TIME\n",
      "& I-TITLE\n",
      "'s I-ORG\n",
      "1:05 B-TIME\n",
      ", I-LOC\n",
      "'s I-ORG\n",
      "106.7 I-ORG\n",
      "106.7 I-ORG\n",
      "15/12 B-TIME\n",
      ". I-PROD\n",
      "& I-TITLE\n",
      "'s I-ORG\n",
      "106.7 I-TITLE\n",
      "106.7 I-TITLE\n",
      "4E I-PER\n",
      "4E I-PER\n",
      ". I-PROD\n",
      ". I-LOC\n",
      "7UP B-PROD\n",
      "8505Nw I-LOC\n",
      "106.7 I-ORG\n",
      ". I-LOC\n",
      "'S I-TITLE\n",
      "'s I-LOC\n",
      "-Robyn B-PER\n",
      "@usuario I-ORG\n",
      ". I-ORG\n",
      "4G B-PROD\n",
      ". I-LOC\n",
      ", I-EVENT\n",
      ". I-LOC\n",
      "'s I-TITLE\n",
      "106.7 I-ORG\n",
      "106.7 I-ORG\n",
      "'s I-LOC\n",
      "' I-PROD\n",
      "-manuel B-PER\n",
      "-algaretoski B-PER\n",
      ". I-LOC\n",
      "' I-PROD\n",
      "& I-GROUP\n",
      "'s I-LOC\n",
      "\" I-PER\n",
      "\" I-PER\n",
      ". I-PER\n",
      "10th I-LOC\n",
      ", I-LOC\n",
      "'s I-TIME\n",
      ". I-PER\n",
      "106.7 I-ORG\n",
      "-Gaby B-PER\n",
      "& I-ORG\n",
      "& I-GROUP\n",
      "& I-LOC\n",
      ". I-LOC\n",
      "4G B-PROD\n",
      "'s I-PER\n",
      "'Donell I-PER\n",
      "'s I-LOC\n",
      ". I-TITLE\n",
      "& I-EVENT\n",
      "'s I-TITLE\n",
      "-jessica B-PER\n",
      "( I-PROD\n",
      ") I-PROD\n",
      "'s(Guaynabo I-LOC\n",
      "1MAYO I-TIME\n",
      "106.7 I-TITLE\n",
      "106.7 I-ORG\n",
      ". I-LOC\n",
      "-tere B-PER\n",
      "-Mona B-TITLE\n",
      ". I-TITLE\n",
      "& I-GROUP\n",
      "106.7 I-ORG\n",
      "'S I-LOC\n",
      "'s I-LOC\n",
      ", I-LOC\n",
      "\" I-PER\n",
      "\" I-PER\n",
      "106.7 I-ORG\n",
      "-ana B-PER\n",
      "-bristol B-LOC\n",
      "106.7 I-ORG\n",
      "& I-TITLE\n",
      "'s I-PROD\n",
      "106.7 I-ORG\n",
      "4G I-PROD\n",
      "' I-LOC\n",
      "4G B-PROD\n",
      "10.1 I-PROD\n",
      "& I-ORG\n",
      ". I-ORG\n",
      ". I-PER\n",
      ". I-PER\n",
      "& I-GROUP\n",
      "106.7 I-ORG\n"
     ]
    }
   ],
   "source": [
    "from tqdm.auto import tqdm\n",
    "\n",
    "for ex in tqdm(train_dataset):\n",
    "    for word, tag in zip(ex[\"words\"], ex[\"ner\"]):\n",
    "        if word and not word[0].isalpha() and tag != \"O\":\n",
    "            print(word, tag)"
   ]
  },
  {
   "cell_type": "code",
   "execution_count": 3,
   "metadata": {},
   "outputs": [
    {
     "data": {
      "text/plain": [
       "[None, None, None, None, None, None, None, None]"
      ]
     },
     "execution_count": 3,
     "metadata": {},
     "output_type": "execute_result"
    }
   ],
   "source": [
    "train_dataset[101][\"words\"]"
   ]
  },
  {
   "cell_type": "code",
   "execution_count": 16,
   "metadata": {},
   "outputs": [
    {
     "name": "stdout",
     "output_type": "stream",
     "text": [
      "['O', 'O', 'O', 'B-OTHER', 'O', 'O', 'O', 'O', 'O', 'O', 'O', 'B-PER', 'I-PER', 'O', 'B-PER', 'O', 'O', 'O', 'O', 'O']\n",
      "[0, 0, 0, 9, 0, 0, 0, 0, 0, 0, 0, 11, 12, 0, 11, 0, 0, 0, 0, 0]\n"
     ]
    },
    {
     "data": {
      "text/plain": [
       "(dict_keys(['ner', 'words', 'lid', 'labels', 'idx']),\n",
       " {'ner': ['O',\n",
       "   'O',\n",
       "   'O',\n",
       "   'B-OTHER',\n",
       "   'O',\n",
       "   'O',\n",
       "   'O',\n",
       "   'O',\n",
       "   'O',\n",
       "   'O',\n",
       "   'O',\n",
       "   'B-PER',\n",
       "   'I-PER',\n",
       "   'O',\n",
       "   'B-PER',\n",
       "   'O',\n",
       "   'O',\n",
       "   'O',\n",
       "   'O',\n",
       "   'O'],\n",
       "  'words': ['Im',\n",
       "   'stuck',\n",
       "   'in',\n",
       "   'bachata',\n",
       "   'for',\n",
       "   'the',\n",
       "   'rest',\n",
       "   'of',\n",
       "   'the',\n",
       "   'week',\n",
       "   '...',\n",
       "   'prince',\n",
       "   'royce',\n",
       "   'and',\n",
       "   'romeo',\n",
       "   'are',\n",
       "   'killing',\n",
       "   'it',\n",
       "   '!',\n",
       "   ':)'],\n",
       "  'lid': ['lang1',\n",
       "   'lang1',\n",
       "   'lang1',\n",
       "   'lang2',\n",
       "   'lang1',\n",
       "   'lang1',\n",
       "   'lang1',\n",
       "   'lang1',\n",
       "   'lang1',\n",
       "   'lang1',\n",
       "   'other',\n",
       "   'ne',\n",
       "   'ne',\n",
       "   'lang1',\n",
       "   'ne',\n",
       "   'lang1',\n",
       "   'lang1',\n",
       "   'lang1',\n",
       "   'other',\n",
       "   'other'],\n",
       "  'labels': [0, 0, 0, 9, 0, 0, 0, 0, 0, 0, 0, 11, 12, 0, 11, 0, 0, 0, 0, 0],\n",
       "  'idx': 11065})"
      ]
     },
     "execution_count": 16,
     "metadata": {},
     "output_type": "execute_result"
    }
   ],
   "source": [
    "idx = 11065\n",
    "print(lince_ner[\"train\"][idx][\"ner\"])\n",
    "print(lince_ner[\"train\"][idx][\"labels\"])\n",
    "lince_ner[\"train\"][idx].keys(), lince_ner[\"train\"][idx]"
   ]
  },
  {
   "cell_type": "code",
   "execution_count": 33,
   "metadata": {},
   "outputs": [],
   "source": [
    "import torch\n",
    "from transformers import AutoModelForTokenClassification, AutoTokenizer\n",
    "\n",
    "\n",
    "device = \"cuda\" if torch.cuda.is_available() else \"cpu\"\n",
    "max_length = 128\n",
    "\n",
    "model_name = \"pysentimiento/robertuito-base-uncased\"\n",
    "\n",
    "tokenizer = AutoTokenizer.from_pretrained(model_name)\n",
    "tokenizer.model_max_length = max_length"
   ]
  },
  {
   "cell_type": "code",
   "execution_count": 34,
   "metadata": {},
   "outputs": [
    {
     "name": "stdout",
     "output_type": "stream",
     "text": [
      "['#mlrt', '>>>', 'has', 'me', 'dying', '😂👌']\n"
     ]
    },
    {
     "data": {
      "text/plain": [
       "[(None, '<s>'),\n",
       " (0, '▁#'),\n",
       " (0, 'm'),\n",
       " (0, 'l'),\n",
       " (0, 'rt'),\n",
       " (1, '▁'),\n",
       " (2, '▁has'),\n",
       " (3, '▁me'),\n",
       " (4, '▁dying'),\n",
       " (5, '▁'),\n",
       " (None, '</s>')]"
      ]
     },
     "execution_count": 34,
     "metadata": {},
     "output_type": "execute_result"
    }
   ],
   "source": [
    "\n",
    "words = lince_ner[\"train\"][idx+2][\"words\"]\n",
    "labels = lince_ner[\"train\"][idx+2][\"labels\"]\n",
    "tokens = tokenizer(words, is_split_into_words=True)\n",
    "\n",
    "inv_vocab = {v:k for k, v in tokenizer.get_vocab().items()}\n",
    "\n",
    "print(words)\n",
    "list(zip(tokens.word_ids(), [inv_vocab[t] for t in tokens[\"input_ids\"]]))"
   ]
  },
  {
   "cell_type": "code",
   "execution_count": 35,
   "metadata": {},
   "outputs": [
    {
     "data": {
      "text/plain": [
       "([0, 0, 0, 0, 0, 0], [None, 0, 0, 0, 0, 1, 2, 3, 4, 5, None])"
      ]
     },
     "execution_count": 35,
     "metadata": {},
     "output_type": "execute_result"
    }
   ],
   "source": [
    "labels, tokens.word_ids()"
   ]
  },
  {
   "cell_type": "code",
   "execution_count": 36,
   "metadata": {},
   "outputs": [
    {
     "data": {
      "text/plain": [
       "[-100, 0, 0, 0, 0, 0, 0, 0, 0, 0, -100]"
      ]
     },
     "execution_count": 36,
     "metadata": {},
     "output_type": "execute_result"
    }
   ],
   "source": [
    "from pysentimiento.lince.ner import align_labels_with_tokens, tokenize_and_align_labels\n",
    "\n",
    "align_labels_with_tokens(labels, tokens.word_ids())\n"
   ]
  },
  {
   "cell_type": "code",
   "execution_count": 50,
   "metadata": {},
   "outputs": [
    {
     "data": {
      "text/plain": [
       "[('<s>', -100),\n",
       " ('▁why', 0),\n",
       " ('▁does', 0),\n",
       " ('▁n', 0),\n",
       " (\"'t\", 0),\n",
       " ('▁louis', 7),\n",
       " ('▁v', 8),\n",
       " ('uit', 8),\n",
       " ('ton', 8),\n",
       " ('▁make', 0),\n",
       " ('▁men', 0),\n",
       " (\"▁'s\", 0),\n",
       " ('▁wat', 0),\n",
       " ('ches', 0),\n",
       " ('▁', 0),\n",
       " ('</s>', -100)]"
      ]
     },
     "execution_count": 50,
     "metadata": {},
     "output_type": "execute_result"
    }
   ],
   "source": [
    "examples = train_dataset.select(range(32))\n",
    "\n",
    "ret = tokenize_and_align_labels(examples, tokenizer)\n",
    "\n",
    "idx = 1\n",
    "list(zip(ret[idx].tokens, ret[\"labels\"][idx]))"
   ]
  },
  {
   "cell_type": "code",
   "execution_count": 52,
   "metadata": {},
   "outputs": [
    {
     "name": "stdout",
     "output_type": "stream",
     "text": [
      "Loading model pysentimiento/robertuito-base-uncased\n"
     ]
    },
    {
     "data": {
      "application/vnd.jupyter.widget-view+json": {
       "model_id": "c83a9ba1f250490984f6fbaab682270c",
       "version_major": 2,
       "version_minor": 0
      },
      "text/plain": [
       "Downloading:   0%|          | 0.00/677 [00:00<?, ?B/s]"
      ]
     },
     "metadata": {},
     "output_type": "display_data"
    },
    {
     "data": {
      "application/vnd.jupyter.widget-view+json": {
       "model_id": "926182ad8df1442a91fcdb08531105da",
       "version_major": 2,
       "version_minor": 0
      },
      "text/plain": [
       "Downloading:   0%|          | 0.00/415M [00:00<?, ?B/s]"
      ]
     },
     "metadata": {},
     "output_type": "display_data"
    },
    {
     "name": "stderr",
     "output_type": "stream",
     "text": [
      "Some weights of the model checkpoint at pysentimiento/robertuito-base-uncased were not used when initializing RobertaForTokenClassification: ['lm_head.bias', 'lm_head.dense.weight', 'lm_head.dense.bias', 'lm_head.layer_norm.bias', 'lm_head.layer_norm.weight']\n",
      "- This IS expected if you are initializing RobertaForTokenClassification from the checkpoint of a model trained on another task or with another architecture (e.g. initializing a BertForSequenceClassification model from a BertForPreTraining model).\n",
      "- This IS NOT expected if you are initializing RobertaForTokenClassification from the checkpoint of a model that you expect to be exactly identical (initializing a BertForSequenceClassification model from a BertForSequenceClassification model).\n",
      "Some weights of RobertaForTokenClassification were not initialized from the model checkpoint at pysentimiento/robertuito-base-uncased and are newly initialized: ['classifier.weight', 'classifier.bias']\n",
      "You should probably TRAIN this model on a down-stream task to be able to use it for predictions and inference.\n"
     ]
    },
    {
     "data": {
      "application/vnd.jupyter.widget-view+json": {
       "model_id": "d657cf7f3f9646fa96694ad735d2dcf8",
       "version_major": 2,
       "version_minor": 0
      },
      "text/plain": [
       "  0%|          | 0/34 [00:00<?, ?ba/s]"
      ]
     },
     "metadata": {},
     "output_type": "display_data"
    },
    {
     "data": {
      "application/vnd.jupyter.widget-view+json": {
       "model_id": "5d4a0cd300d14637b9f538396bede028",
       "version_major": 2,
       "version_minor": 0
      },
      "text/plain": [
       "  0%|          | 0/11 [00:00<?, ?ba/s]"
      ]
     },
     "metadata": {},
     "output_type": "display_data"
    },
    {
     "data": {
      "application/vnd.jupyter.widget-view+json": {
       "model_id": "e81b5b0c843d4698afdbb3af42ac499c",
       "version_major": 2,
       "version_minor": 0
      },
      "text/plain": [
       "  0%|          | 0/24 [00:00<?, ?ba/s]"
      ]
     },
     "metadata": {},
     "output_type": "display_data"
    }
   ],
   "source": [
    "from pysentimiento.training import load_model\n",
    "from pysentimiento.lince.ner import label2id, id2label\n",
    "\n",
    "base_model = \"pysentimiento/robertuito-base-uncased\"\n",
    "\n",
    "model, tokenizer = load_model(\n",
    "    base_model, label2id=label2id, id2label=id2label,\n",
    "    max_length=max_length,\n",
    "    auto_class=AutoModelForTokenClassification\n",
    ")\n",
    "\n",
    "tokenized_datasets = lince_ner.map(\n",
    "    lambda x: tokenize_and_align_labels(x, tokenizer),\n",
    "    batched=True,\n",
    "    remove_columns=lince_ner[\"train\"].column_names,\n",
    ")\n",
    "\n"
   ]
  },
  {
   "cell_type": "code",
   "execution_count": 61,
   "metadata": {},
   "outputs": [],
   "source": [
    "assert model.config.num_labels == len(id2label)"
   ]
  },
  {
   "cell_type": "code",
   "execution_count": 62,
   "metadata": {},
   "outputs": [],
   "source": [
    "from transformers import DataCollatorForTokenClassification\n",
    "\n",
    "data_collator = DataCollatorForTokenClassification(tokenizer=tokenizer)\n",
    "\n"
   ]
  },
  {
   "cell_type": "code",
   "execution_count": 63,
   "metadata": {},
   "outputs": [
    {
     "name": "stderr",
     "output_type": "stream",
     "text": [
      "/home/jmperez/.cache/pypoetry/virtualenvs/pysentimiento-bwlKzHxB-py3.7/lib/python3.7/site-packages/seqeval/metrics/v1.py:57: UndefinedMetricWarning: Recall and F-score are ill-defined and being set to 0.0 in labels with no true samples. Use `zero_division` parameter to control this behavior.\n",
      "  _warn_prf(average, modifier, msg_start, len(result))\n"
     ]
    },
    {
     "data": {
      "text/plain": [
       "{'LOC': {'precision': 0.0, 'recall': 0.0, 'f1': 0.0, 'number': 0},\n",
       " 'ORG': {'precision': 1.0, 'recall': 1.0, 'f1': 1.0, 'number': 1},\n",
       " 'overall_precision': 0.5,\n",
       " 'overall_recall': 1.0,\n",
       " 'overall_f1': 0.6666666666666666,\n",
       " 'overall_accuracy': 0.9}"
      ]
     },
     "execution_count": 63,
     "metadata": {},
     "output_type": "execute_result"
    }
   ],
   "source": [
    "from datasets import load_metric\n",
    "\n",
    "metric = load_metric(\"seqeval\")\n",
    "\n",
    "example = lince_ner[\"train\"][1]\n",
    "\n",
    "labels = example[\"ner\"]\n",
    "preds = labels.copy()\n",
    "preds[0] = \"B-LOC\"\n",
    "\n",
    "metric.compute(predictions=[preds], references=[labels])"
   ]
  },
  {
   "cell_type": "code",
   "execution_count": 64,
   "metadata": {},
   "outputs": [],
   "source": [
    "import numpy as np\n",
    "from seqeval.metrics import f1_score\n",
    "\n",
    "\n",
    "def compute_metrics(eval_preds):\n",
    "    logits, labels = eval_preds\n",
    "    predictions = np.argmax(logits, axis=-1)\n",
    "\n",
    "    # Remove ignored index (special tokens) and convert to labels\n",
    "    true_labels = [[id2label[l] for l in label if l != -100] for label in labels]\n",
    "    true_predictions = [\n",
    "        [id2label[p] for (p, l) in zip(prediction, label) if l != -100]\n",
    "        for prediction, label in zip(predictions, labels)\n",
    "    ]\n",
    "    all_metrics = metric.compute(predictions=true_predictions, references=true_labels)\n",
    "    ret = {\n",
    "        \"precision\": all_metrics[\"overall_precision\"],\n",
    "        \"recall\": all_metrics[\"overall_recall\"],\n",
    "        \"macro_f1\": all_metrics[\"overall_f1\"],\n",
    "        \"micro_f1\": f1_score(true_labels, true_predictions, average=\"micro\"),\n",
    "        \"accuracy\": all_metrics[\"overall_accuracy\"],\n",
    "    }\n",
    "\n",
    "    for k, v in all_metrics.items():\n",
    "        if not k.startswith(\"overall\"):\n",
    "            ret[k + \"_f1\"] = v[\"f1\"]\n",
    "            ret[k + \"_precision\"] = v[\"precision\"]\n",
    "            ret[k + \"_recall\"] = v[\"recall\"]\n",
    "\n",
    "    return ret \n"
   ]
  },
  {
   "cell_type": "code",
   "execution_count": null,
   "metadata": {},
   "outputs": [],
   "source": [
    "from transformers import TrainingArguments\n",
    "\n",
    "args = TrainingArguments(\n",
    "    \"bert-finetuned-ner\",\n",
    "    evaluation_strategy=\"epoch\",\n",
    "    save_strategy=\"epoch\",\n",
    "    learning_rate=2e-5,\n",
    "    num_train_epochs=3,\n",
    "    weight_decay=0.01,\n",
    "    push_to_hub=True,\n",
    ")"
   ]
  }
 ],
 "metadata": {
  "interpreter": {
   "hash": "387abc9bc94d8eb1bd0148a5d4cb2bf99bc3b40fa501b808e2b508b4f65ed831"
  },
  "kernelspec": {
   "display_name": "Python 3.7.12 64-bit ('pysentimiento-bwlKzHxB-py3.7': poetry)",
   "language": "python",
   "name": "python3"
  },
  "language_info": {
   "codemirror_mode": {
    "name": "ipython",
    "version": 3
   },
   "file_extension": ".py",
   "mimetype": "text/x-python",
   "name": "python",
   "nbconvert_exporter": "python",
   "pygments_lexer": "ipython3",
   "version": "3.7.12"
  },
  "orig_nbformat": 4
 },
 "nbformat": 4,
 "nbformat_minor": 2
}

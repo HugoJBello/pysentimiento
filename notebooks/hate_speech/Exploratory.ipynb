{
 "cells": [
  {
   "cell_type": "markdown",
   "metadata": {},
   "source": [
    "# Exploratory Analysis\n",
    "\n",
    "In this notebook we explore the *hatEval* dataset"
   ]
  },
  {
   "cell_type": "code",
   "execution_count": 74,
   "metadata": {},
   "outputs": [
    {
     "name": "stdout",
     "output_type": "stream",
     "text": [
      "The autoreload extension is already loaded. To reload it, use:\n",
      "  %reload_ext autoreload\n"
     ]
    }
   ],
   "source": [
    "%load_ext autoreload\n",
    "%autoreload 2\n",
    "import pandas as pd\n",
    "import os\n",
    "import pathlib\n",
    "\n",
    "\n",
    "data_dir = os.path.abspath(os.path.join(\"../../\", \"data\", \"hate\"))\n",
    "\n",
    "lang = \"en\"\n",
    "\n",
    "\n",
    "train_path = os.path.join(data_dir, f\"hateval2019_{lang}_train.csv\")\n",
    "dev_path   = os.path.join(data_dir, f\"hateval2019_{lang}_dev.csv\")\n",
    "test_path  = os.path.join(data_dir, f\"hateval2019_{lang}_test.csv\")\n",
    "\n",
    "train_df = pd.read_csv(train_path).set_index(\"id\")\n",
    "dev_df   = pd.read_csv(dev_path).set_index(\"id\")\n",
    "test_df  = pd.read_csv(test_path).set_index(\"id\")\n",
    "\n",
    "full_df = pd.concat([train_df, dev_df, test_df])"
   ]
  },
  {
   "cell_type": "code",
   "execution_count": 72,
   "metadata": {},
   "outputs": [
    {
     "data": {
      "text/plain": [
       "(13000, 3000)"
      ]
     },
     "execution_count": 72,
     "metadata": {},
     "output_type": "execute_result"
    }
   ],
   "source": [
    "len(full_df), len(test_df)"
   ]
  },
  {
   "cell_type": "code",
   "execution_count": 95,
   "metadata": {},
   "outputs": [
    {
     "name": "stdout",
     "output_type": "stream",
     "text": [
      "Language en\n",
      "Split = train\n",
      "5,217 (58.0\\%)\n",
      "3,783 (42.0\\%)\n",
      "1,341 (35.4\\%)\n",
      "1,559 (41.2\\%)\n",
      "9,000\n"
     ]
    }
   ],
   "source": [
    "selected_df = train_df\n",
    "\n",
    "split = \"train\"\n",
    "print(f\"Language {lang}\")\n",
    "print(f\"Split = {split}\")\n",
    "\n",
    "selected_df = {\n",
    "    \"train\": train_df,\n",
    "    \"dev\": dev_df,\n",
    "    \"test\": test_df,\n",
    "}[split]\n",
    "\n",
    "selected_df[[\"HS\", \"TR\", \"AG\"]].sum(), len(selected_df) - sum(selected_df[\"HS\"])\n",
    "\n",
    "print(f\"{sum(1-selected_df['HS']):,} ({100 * (1-selected_df['HS'].mean()):.1f}\\%)\")\n",
    "hateful = sum(selected_df['HS']) \n",
    "print(f\"{sum(selected_df['HS']):,} ({selected_df['HS'].mean()*100:.1f}\\%)\")\n",
    "print(f\"{sum(selected_df['TR']):,} ({selected_df['TR'].sum()*100 / hateful:.1f}\\%)\")\n",
    "print(f\"{sum(selected_df['AG']):,} ({selected_df['AG'].sum()*100 / hateful:.1f}\\%)\")\n",
    "print(f\"{len(selected_df):,}\")\n"
   ]
  },
  {
   "cell_type": "code",
   "execution_count": 66,
   "metadata": {},
   "outputs": [
    {
     "data": {
      "text/plain": [
       "(9000, 1000, 3000)"
      ]
     },
     "execution_count": 66,
     "metadata": {},
     "output_type": "execute_result"
    }
   ],
   "source": [
    "len(train_df), len(dev_df), len(test_df)"
   ]
  },
  {
   "cell_type": "code",
   "execution_count": 62,
   "metadata": {},
   "outputs": [
    {
     "data": {
      "text/html": [
       "<div>\n",
       "<style scoped>\n",
       "    .dataframe tbody tr th:only-of-type {\n",
       "        vertical-align: middle;\n",
       "    }\n",
       "\n",
       "    .dataframe tbody tr th {\n",
       "        vertical-align: top;\n",
       "    }\n",
       "\n",
       "    .dataframe thead th {\n",
       "        text-align: right;\n",
       "    }\n",
       "</style>\n",
       "<table border=\"1\" class=\"dataframe\">\n",
       "  <thead>\n",
       "    <tr style=\"text-align: right;\">\n",
       "      <th></th>\n",
       "      <th>text</th>\n",
       "      <th>HS</th>\n",
       "      <th>TR</th>\n",
       "      <th>AG</th>\n",
       "    </tr>\n",
       "    <tr>\n",
       "      <th>id</th>\n",
       "      <th></th>\n",
       "      <th></th>\n",
       "      <th></th>\n",
       "      <th></th>\n",
       "    </tr>\n",
       "  </thead>\n",
       "  <tbody>\n",
       "    <tr>\n",
       "      <th>21542</th>\n",
       "      <td>@Rubiaaa31 Cuando cumplas 18 te denuncio por violación y acoso</td>\n",
       "      <td>0</td>\n",
       "      <td>0</td>\n",
       "      <td>0</td>\n",
       "    </tr>\n",
       "    <tr>\n",
       "      <th>21949</th>\n",
       "      <td>Perra, pero callada, me gusta.</td>\n",
       "      <td>1</td>\n",
       "      <td>1</td>\n",
       "      <td>1</td>\n",
       "    </tr>\n",
       "    <tr>\n",
       "      <th>32623</th>\n",
       "      <td>Vanessa Diamonds ( tengo que especificar entre mis Vanessas) lo que necesita es un negrata rico, como su heroína la Jenner. Que haya mucho postu pero que a la hora de la verdad la tenga pequeña.</td>\n",
       "      <td>0</td>\n",
       "      <td>0</td>\n",
       "      <td>0</td>\n",
       "    </tr>\n",
       "    <tr>\n",
       "      <th>23863</th>\n",
       "      <td>La conmovedora historia de los niños de combatientes de Estado Islámico varados en un orfanato de Libia https://t.co/wwV32NvFlB Emiratos Árabes Unidos (EAU) bombardea a Libia https://t.co/BYKO9uQ1Y9</td>\n",
       "      <td>0</td>\n",
       "      <td>0</td>\n",
       "      <td>0</td>\n",
       "    </tr>\n",
       "    <tr>\n",
       "      <th>24242</th>\n",
       "      <td>No os voy a enseñar lo guapo que está @Dosek14 hoy porque soy una puta egoísta de mierda.</td>\n",
       "      <td>1</td>\n",
       "      <td>1</td>\n",
       "      <td>1</td>\n",
       "    </tr>\n",
       "    <tr>\n",
       "      <th>24017</th>\n",
       "      <td>Arabe remix ya te siento</td>\n",
       "      <td>0</td>\n",
       "      <td>0</td>\n",
       "      <td>0</td>\n",
       "    </tr>\n",
       "    <tr>\n",
       "      <th>21007</th>\n",
       "      <td>En que se parece una mujer a un cientifico? En que al cientifico le pasan cosas por la cabeza, y a la mujer le pasan cabezas por la cosa</td>\n",
       "      <td>1</td>\n",
       "      <td>0</td>\n",
       "      <td>0</td>\n",
       "    </tr>\n",
       "    <tr>\n",
       "      <th>23016</th>\n",
       "      <td>Tu no eres mala persona TU ERES ESCORIA @angeeles013</td>\n",
       "      <td>0</td>\n",
       "      <td>0</td>\n",
       "      <td>0</td>\n",
       "    </tr>\n",
       "    <tr>\n",
       "      <th>33405</th>\n",
       "      <td>@Almagro_OEA2015 @ReinaldoProfeta @AsambleaVE @OmarBarbozaDip @OEA_oficial Ya Barboza deslegitimó al TSJ q el mismo parlamento eligió y se le califica de legítimo. X esta vía y con esa mentalidad vzla, nicaragua, cuba, etc seguirán siendo reproductoras d ...</td>\n",
       "      <td>0</td>\n",
       "      <td>0</td>\n",
       "      <td>0</td>\n",
       "    </tr>\n",
       "    <tr>\n",
       "      <th>31995</th>\n",
       "      <td>Las concertinas no estaban ahí para hacer daño, sino para que no saltaran. Pero un genio el Marlaska. https://t.co/nW4CokW5O1</td>\n",
       "      <td>0</td>\n",
       "      <td>0</td>\n",
       "      <td>0</td>\n",
       "    </tr>\n",
       "  </tbody>\n",
       "</table>\n",
       "</div>"
      ],
      "text/plain": [
       "                                                                                                                                                                                                                                                                     text  \\\n",
       "id                                                                                                                                                                                                                                                                          \n",
       "21542                                                                                                                                                                                                      @Rubiaaa31 Cuando cumplas 18 te denuncio por violación y acoso   \n",
       "21949                                                                                                                                                                                                                                      Perra, pero callada, me gusta.   \n",
       "32623                                                                  Vanessa Diamonds ( tengo que especificar entre mis Vanessas) lo que necesita es un negrata rico, como su heroína la Jenner. Que haya mucho postu pero que a la hora de la verdad la tenga pequeña.   \n",
       "23863                                                              La conmovedora historia de los niños de combatientes de Estado Islámico varados en un orfanato de Libia https://t.co/wwV32NvFlB Emiratos Árabes Unidos (EAU) bombardea a Libia https://t.co/BYKO9uQ1Y9   \n",
       "24242                                                                                                                                                                           No os voy a enseñar lo guapo que está @Dosek14 hoy porque soy una puta egoísta de mierda.   \n",
       "24017                                                                                                                                                                                                                                            Arabe remix ya te siento   \n",
       "21007                                                                                                                            En que se parece una mujer a un cientifico? En que al cientifico le pasan cosas por la cabeza, y a la mujer le pasan cabezas por la cosa   \n",
       "23016                                                                                                                                                                                                                Tu no eres mala persona TU ERES ESCORIA @angeeles013   \n",
       "33405  @Almagro_OEA2015 @ReinaldoProfeta @AsambleaVE @OmarBarbozaDip @OEA_oficial Ya Barboza deslegitimó al TSJ q el mismo parlamento eligió y se le califica de legítimo. X esta vía y con esa mentalidad vzla, nicaragua, cuba, etc seguirán siendo reproductoras d ...   \n",
       "31995                                                                                                                                       Las concertinas no estaban ahí para hacer daño, sino para que no saltaran. Pero un genio el Marlaska. https://t.co/nW4CokW5O1   \n",
       "\n",
       "       HS  TR  AG  \n",
       "id                 \n",
       "21542   0   0   0  \n",
       "21949   1   1   1  \n",
       "32623   0   0   0  \n",
       "23863   0   0   0  \n",
       "24242   1   1   1  \n",
       "24017   0   0   0  \n",
       "21007   1   0   0  \n",
       "23016   0   0   0  \n",
       "33405   0   0   0  \n",
       "31995   0   0   0  "
      ]
     },
     "execution_count": 62,
     "metadata": {},
     "output_type": "execute_result"
    }
   ],
   "source": [
    "pd.options.display.max_colwidth = 259\n",
    "\n",
    "full_df.sample(10)"
   ]
  },
  {
   "cell_type": "markdown",
   "metadata": {},
   "source": [
    "- negratas\n",
    "- musulmonos"
   ]
  },
  {
   "cell_type": "code",
   "execution_count": 57,
   "metadata": {},
   "outputs": [
    {
     "data": {
      "text/html": [
       "<div>\n",
       "<style scoped>\n",
       "    .dataframe tbody tr th:only-of-type {\n",
       "        vertical-align: middle;\n",
       "    }\n",
       "\n",
       "    .dataframe tbody tr th {\n",
       "        vertical-align: top;\n",
       "    }\n",
       "\n",
       "    .dataframe thead th {\n",
       "        text-align: right;\n",
       "    }\n",
       "</style>\n",
       "<table border=\"1\" class=\"dataframe\">\n",
       "  <thead>\n",
       "    <tr style=\"text-align: right;\">\n",
       "      <th></th>\n",
       "      <th>text</th>\n",
       "      <th>HS</th>\n",
       "      <th>TR</th>\n",
       "      <th>AG</th>\n",
       "    </tr>\n",
       "    <tr>\n",
       "      <th>id</th>\n",
       "      <th></th>\n",
       "      <th></th>\n",
       "      <th></th>\n",
       "      <th></th>\n",
       "    </tr>\n",
       "  </thead>\n",
       "  <tbody>\n",
       "    <tr>\n",
       "      <th>31962</th>\n",
       "      <td>@isaac_c_h @elyyvaliente Subnormal dime que se siente cuando vengas a BARCELONA Y TE PEGUE 4 HOSTIAS PUTO SUDACA MIERDA</td>\n",
       "      <td>0</td>\n",
       "      <td>0</td>\n",
       "      <td>0</td>\n",
       "    </tr>\n",
       "    <tr>\n",
       "      <th>22626</th>\n",
       "      <td>@VilxSouvenir El de perra me luce pero tu eres tan perra que ni te agarra. Te quiero bebé, el proceso está siendo increíble, el siguiente paso es que yo te maquillaje, vas a quedar perfecta.</td>\n",
       "      <td>1</td>\n",
       "      <td>1</td>\n",
       "      <td>1</td>\n",
       "    </tr>\n",
       "    <tr>\n",
       "      <th>31308</th>\n",
       "      <td>Como hay gente sudaca que es hincha del Barca o peor del Atlético Madrid</td>\n",
       "      <td>1</td>\n",
       "      <td>0</td>\n",
       "      <td>0</td>\n",
       "    </tr>\n",
       "    <tr>\n",
       "      <th>22626</th>\n",
       "      <td>@VilxSouvenir El de perra me luce pero tu eres tan perra que ni te agarra. Te quiero bebé, el proceso está siendo increíble, el siguiente paso es que yo te maquillaje, vas a quedar perfecta.</td>\n",
       "      <td>1</td>\n",
       "      <td>1</td>\n",
       "      <td>1</td>\n",
       "    </tr>\n",
       "    <tr>\n",
       "      <th>24333</th>\n",
       "      <td>Grande Adán!!! Mi novia es sevillista y es una puta más lololooooo!!! CAPITÁN!!!!!!</td>\n",
       "      <td>1</td>\n",
       "      <td>1</td>\n",
       "      <td>1</td>\n",
       "    </tr>\n",
       "  </tbody>\n",
       "</table>\n",
       "</div>"
      ],
      "text/plain": [
       "                                                                                                                                                                                                 text  \\\n",
       "id                                                                                                                                                                                                      \n",
       "31962                                                                         @isaac_c_h @elyyvaliente Subnormal dime que se siente cuando vengas a BARCELONA Y TE PEGUE 4 HOSTIAS PUTO SUDACA MIERDA   \n",
       "22626  @VilxSouvenir El de perra me luce pero tu eres tan perra que ni te agarra. Te quiero bebé, el proceso está siendo increíble, el siguiente paso es que yo te maquillaje, vas a quedar perfecta.   \n",
       "31308                                                                                                                        Como hay gente sudaca que es hincha del Barca o peor del Atlético Madrid   \n",
       "22626  @VilxSouvenir El de perra me luce pero tu eres tan perra que ni te agarra. Te quiero bebé, el proceso está siendo increíble, el siguiente paso es que yo te maquillaje, vas a quedar perfecta.   \n",
       "24333                                                                                                             Grande Adán!!! Mi novia es sevillista y es una puta más lololooooo!!! CAPITÁN!!!!!!   \n",
       "\n",
       "       HS  TR  AG  \n",
       "id                 \n",
       "31962   0   0   0  \n",
       "22626   1   1   1  \n",
       "31308   1   0   0  \n",
       "22626   1   1   1  \n",
       "24333   1   1   1  "
      ]
     },
     "execution_count": 57,
     "metadata": {},
     "output_type": "execute_result"
    }
   ],
   "source": [
    "errores_de_anotacion = [\n",
    "    31962,\n",
    "    22626,\n",
    "    31308,\n",
    "]\n",
    "\n",
    "falta_contexto = [\n",
    "    22626,\n",
    "    24333,\n",
    "]\n",
    "\n",
    "full_df.loc[errores_de_anotacion + falta_contexto, :]\n"
   ]
  },
  {
   "cell_type": "code",
   "execution_count": 47,
   "metadata": {},
   "outputs": [
    {
     "data": {
      "text/plain": [
       "(3509,\n",
       " {'inmigr': 696,\n",
       "  'puta': 1848,\n",
       "  'zorra': 313,\n",
       "  'perra': 571,\n",
       "  'güer': 134,\n",
       "  'musulmono': 10,\n",
       "  'negrata': 38})"
      ]
     },
     "execution_count": 47,
     "metadata": {},
     "output_type": "execute_result"
    }
   ],
   "source": [
    "idxs = set()\n",
    "keywords = [\"negrata\", \"musulmono\", \"perra\", \"zorra\", \"puta\", \"güer\", \"inmigr\"]\n",
    "\n",
    "counts = {}\n",
    "\n",
    "for idx, txt in enumerate(full_df.text):\n",
    "    for keyword in keywords:\n",
    "        if keyword in txt:\n",
    "            idxs.add(idx)\n",
    "            counts[keyword] = counts.get(keyword, 0) + 1\n",
    "len(idxs), counts\n",
    "        "
   ]
  },
  {
   "cell_type": "code",
   "execution_count": 44,
   "metadata": {},
   "outputs": [
    {
     "data": {
      "text/plain": [
       "(6600, 4)"
      ]
     },
     "execution_count": 44,
     "metadata": {},
     "output_type": "execute_result"
    }
   ],
   "source": [
    "full_df.shape"
   ]
  },
  {
   "cell_type": "code",
   "execution_count": 46,
   "metadata": {},
   "outputs": [
    {
     "data": {
      "text/html": [
       "<div>\n",
       "<style scoped>\n",
       "    .dataframe tbody tr th:only-of-type {\n",
       "        vertical-align: middle;\n",
       "    }\n",
       "\n",
       "    .dataframe tbody tr th {\n",
       "        vertical-align: top;\n",
       "    }\n",
       "\n",
       "    .dataframe thead th {\n",
       "        text-align: right;\n",
       "    }\n",
       "</style>\n",
       "<table border=\"1\" class=\"dataframe\">\n",
       "  <thead>\n",
       "    <tr style=\"text-align: right;\">\n",
       "      <th></th>\n",
       "      <th>text</th>\n",
       "      <th>HS</th>\n",
       "      <th>TR</th>\n",
       "      <th>AG</th>\n",
       "    </tr>\n",
       "    <tr>\n",
       "      <th>id</th>\n",
       "      <th></th>\n",
       "      <th></th>\n",
       "      <th></th>\n",
       "      <th></th>\n",
       "    </tr>\n",
       "  </thead>\n",
       "  <tbody>\n",
       "    <tr>\n",
       "      <th>20001</th>\n",
       "      <td>Easyjet quiere duplicar el número de mujeres piloto' Verás tú para aparcar el avión.. http://t.co/46NuLkm09x</td>\n",
       "      <td>1</td>\n",
       "      <td>0</td>\n",
       "      <td>0</td>\n",
       "    </tr>\n",
       "    <tr>\n",
       "      <th>20002</th>\n",
       "      <td>El gobierno debe crear un control estricto de inmigración en las zonas fronterizas con Colombia por q después del 20-8querrán venir en masa</td>\n",
       "      <td>1</td>\n",
       "      <td>0</td>\n",
       "      <td>0</td>\n",
       "    </tr>\n",
       "    <tr>\n",
       "      <th>20003</th>\n",
       "      <td>Yo veo a mujeres destruidas por acoso laboral y callejero. Otras con depresión debido a violación sexual o maltrato físico. Y conocí a varias que se suicidaron por este tipo de comportamientos machistas. Vas a seguir con tu show pobre? https://t.co/JE6MEg...</td>\n",
       "      <td>0</td>\n",
       "      <td>0</td>\n",
       "      <td>0</td>\n",
       "    </tr>\n",
       "    <tr>\n",
       "      <th>20004</th>\n",
       "      <td>— Yo soy respetuoso con los demás, sólamente les recuerdo lo que son. Y si son escoria no es culpa mía. ... — ¡Claro que lo sé! ¿¡Por quién me tomas!?</td>\n",
       "      <td>0</td>\n",
       "      <td>0</td>\n",
       "      <td>0</td>\n",
       "    </tr>\n",
       "    <tr>\n",
       "      <th>20007</th>\n",
       "      <td>Antonio Caballero y como ser de mal gusto e ignorante a la vez. Claro que no es lo mismo acoso sexual y violación pero hay varias conductas que componen la violencia sexual.</td>\n",
       "      <td>0</td>\n",
       "      <td>0</td>\n",
       "      <td>0</td>\n",
       "    </tr>\n",
       "    <tr>\n",
       "      <th>...</th>\n",
       "      <td>...</td>\n",
       "      <td>...</td>\n",
       "      <td>...</td>\n",
       "      <td>...</td>\n",
       "    </tr>\n",
       "    <tr>\n",
       "      <th>31098</th>\n",
       "      <td>@kaitedo2523 Hasta que los pongan en sus puestos y no le hagan caso o mejor aún cuando el pueblo dueño absoluto de este país se levante y exija deportación masiva de todo inmigrante indocumentado</td>\n",
       "      <td>1</td>\n",
       "      <td>0</td>\n",
       "      <td>1</td>\n",
       "    </tr>\n",
       "    <tr>\n",
       "      <th>31006</th>\n",
       "      <td>Y una valla de seis metros con concertinas en la salida de todos los vuelos que vengan de UK que ya estoy hasta los cojones de simios.</td>\n",
       "      <td>1</td>\n",
       "      <td>0</td>\n",
       "      <td>1</td>\n",
       "    </tr>\n",
       "    <tr>\n",
       "      <th>30494</th>\n",
       "      <td>@ArgAcuerdo Tenes razon. Pero muy distintos eran los inmigrantes del siglo pasado que venian con lo puesto, sin conocer el idioma, a TRABAJAR. La basura sudaca que viene ahora lo hace para ser mantenida</td>\n",
       "      <td>1</td>\n",
       "      <td>0</td>\n",
       "      <td>1</td>\n",
       "    </tr>\n",
       "    <tr>\n",
       "      <th>33406</th>\n",
       "      <td>@07c05c81f52d432 @eeu_11 Aquí todos los delincuentes ( basura sudaca) que nos ha venido😠 la llevan encima del chándal les pega para ese baile'.. de perros salidos..💩💩⛪</td>\n",
       "      <td>1</td>\n",
       "      <td>0</td>\n",
       "      <td>1</td>\n",
       "    </tr>\n",
       "    <tr>\n",
       "      <th>32538</th>\n",
       "      <td>@deborahhq1973 Es normal, en Cataluña los Indepes prefirieron inmigración Islamica q no sabian hablar Español y así les enseñan Catalufo, antes q inmigración americana que hablan Español y eso sería un\"pecado\"; ahora tenemos q jodernos porque en cualquier...</td>\n",
       "      <td>1</td>\n",
       "      <td>0</td>\n",
       "      <td>1</td>\n",
       "    </tr>\n",
       "  </tbody>\n",
       "</table>\n",
       "<p>6600 rows × 4 columns</p>\n",
       "</div>"
      ],
      "text/plain": [
       "                                                                                                                                                                                                                                                                     text  \\\n",
       "id                                                                                                                                                                                                                                                                          \n",
       "20001                                                                                                                                                        Easyjet quiere duplicar el número de mujeres piloto' Verás tú para aparcar el avión.. http://t.co/46NuLkm09x   \n",
       "20002                                                                                                                         El gobierno debe crear un control estricto de inmigración en las zonas fronterizas con Colombia por q después del 20-8querrán venir en masa   \n",
       "20003  Yo veo a mujeres destruidas por acoso laboral y callejero. Otras con depresión debido a violación sexual o maltrato físico. Y conocí a varias que se suicidaron por este tipo de comportamientos machistas. Vas a seguir con tu show pobre? https://t.co/JE6MEg...   \n",
       "20004                                                                                                              — Yo soy respetuoso con los demás, sólamente les recuerdo lo que son. Y si son escoria no es culpa mía. ... — ¡Claro que lo sé! ¿¡Por quién me tomas!?   \n",
       "20007                                                                                       Antonio Caballero y como ser de mal gusto e ignorante a la vez. Claro que no es lo mismo acoso sexual y violación pero hay varias conductas que componen la violencia sexual.   \n",
       "...                                                                                                                                                                                                                                                                   ...   \n",
       "31098                                                                 @kaitedo2523 Hasta que los pongan en sus puestos y no le hagan caso o mejor aún cuando el pueblo dueño absoluto de este país se levante y exija deportación masiva de todo inmigrante indocumentado   \n",
       "31006                                                                                                                              Y una valla de seis metros con concertinas en la salida de todos los vuelos que vengan de UK que ya estoy hasta los cojones de simios.   \n",
       "30494                                                          @ArgAcuerdo Tenes razon. Pero muy distintos eran los inmigrantes del siglo pasado que venian con lo puesto, sin conocer el idioma, a TRABAJAR. La basura sudaca que viene ahora lo hace para ser mantenida   \n",
       "33406                                                                                             @07c05c81f52d432 @eeu_11 Aquí todos los delincuentes ( basura sudaca) que nos ha venido😠 la llevan encima del chándal les pega para ese baile'.. de perros salidos..💩💩⛪   \n",
       "32538  @deborahhq1973 Es normal, en Cataluña los Indepes prefirieron inmigración Islamica q no sabian hablar Español y así les enseñan Catalufo, antes q inmigración americana que hablan Español y eso sería un\"pecado\"; ahora tenemos q jodernos porque en cualquier...   \n",
       "\n",
       "       HS  TR  AG  \n",
       "id                 \n",
       "20001   1   0   0  \n",
       "20002   1   0   0  \n",
       "20003   0   0   0  \n",
       "20004   0   0   0  \n",
       "20007   0   0   0  \n",
       "...    ..  ..  ..  \n",
       "31098   1   0   1  \n",
       "31006   1   0   1  \n",
       "30494   1   0   1  \n",
       "33406   1   0   1  \n",
       "32538   1   0   1  \n",
       "\n",
       "[6600 rows x 4 columns]"
      ]
     },
     "execution_count": 46,
     "metadata": {},
     "output_type": "execute_result"
    }
   ],
   "source": [
    "not_found = [x for x in full_df.index if x not in idxs]\n",
    "full_df.loc[not_found]\n"
   ]
  },
  {
   "cell_type": "code",
   "execution_count": null,
   "metadata": {},
   "outputs": [],
   "source": []
  }
 ],
 "metadata": {
  "interpreter": {
   "hash": "387abc9bc94d8eb1bd0148a5d4cb2bf99bc3b40fa501b808e2b508b4f65ed831"
  },
  "kernelspec": {
   "display_name": "Python 3.7.12 64-bit ('pysentimiento-bwlKzHxB-py3.7': poetry)",
   "name": "python3"
  },
  "language_info": {
   "codemirror_mode": {
    "name": "ipython",
    "version": 3
   },
   "file_extension": ".py",
   "mimetype": "text/x-python",
   "name": "python",
   "nbconvert_exporter": "python",
   "pygments_lexer": "ipython3",
   "version": "3.7.12"
  },
  "orig_nbformat": 4
 },
 "nbformat": 4,
 "nbformat_minor": 2
}

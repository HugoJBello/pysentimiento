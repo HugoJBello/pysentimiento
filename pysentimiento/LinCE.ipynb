{
 "cells": [
  {
   "cell_type": "code",
   "execution_count": 22,
   "metadata": {},
   "outputs": [
    {
     "name": "stdout",
     "output_type": "stream",
     "text": [
      "Downloading and preparing dataset lince/pos_spaeng (download: 800.45 KiB, generated: 7.69 MiB, post-processed: Unknown size, total: 8.48 MiB) to /home/jmperez/.cache/huggingface/datasets/lince/pos_spaeng/1.0.0/10d41747f55f0849fa84ac579ea1acfa7df49aa2015b60426bc459c111b3d589...\n"
     ]
    },
    {
     "data": {
      "application/vnd.jupyter.widget-view+json": {
       "model_id": "d8049f6c7f114040a662a01f05abc4a4",
       "version_major": 2,
       "version_minor": 0
      },
      "text/plain": [
       "Downloading:   0%|          | 0.00/820k [00:00<?, ?B/s]"
      ]
     },
     "metadata": {},
     "output_type": "display_data"
    },
    {
     "data": {
      "application/vnd.jupyter.widget-view+json": {
       "model_id": "9b493f6ac9cb4d49894ec0af347310a1",
       "version_major": 2,
       "version_minor": 0
      },
      "text/plain": [
       "0 examples [00:00, ? examples/s]"
      ]
     },
     "metadata": {},
     "output_type": "display_data"
    },
    {
     "data": {
      "application/vnd.jupyter.widget-view+json": {
       "model_id": "607700d840364a2f8993487b59893e64",
       "version_major": 2,
       "version_minor": 0
      },
      "text/plain": [
       "0 examples [00:00, ? examples/s]"
      ]
     },
     "metadata": {},
     "output_type": "display_data"
    },
    {
     "data": {
      "application/vnd.jupyter.widget-view+json": {
       "model_id": "f1435aa76fd541609d560208751c8fa0",
       "version_major": 2,
       "version_minor": 0
      },
      "text/plain": [
       "0 examples [00:00, ? examples/s]"
      ]
     },
     "metadata": {},
     "output_type": "display_data"
    },
    {
     "name": "stdout",
     "output_type": "stream",
     "text": [
      "Dataset lince downloaded and prepared to /home/jmperez/.cache/huggingface/datasets/lince/pos_spaeng/1.0.0/10d41747f55f0849fa84ac579ea1acfa7df49aa2015b60426bc459c111b3d589. Subsequent calls will reuse this data.\n"
     ]
    },
    {
     "data": {
      "application/vnd.jupyter.widget-view+json": {
       "model_id": "48fcecc3d48f4cff9a4619fa68899a4f",
       "version_major": 2,
       "version_minor": 0
      },
      "text/plain": [
       "  0%|          | 0/3 [00:00<?, ?it/s]"
      ]
     },
     "metadata": {},
     "output_type": "display_data"
    }
   ],
   "source": [
    "from datasets import load_dataset, DatasetDict\n",
    "\n",
    "lince_ner = load_dataset(\"lince\", \"ner_spaeng\")\n",
    "\n",
    "lince_ner = DatasetDict(\n",
    "    train=lince_ner[\"train\"],\n",
    "    validation=lince_ner[\"validation\"],\n",
    ")"
   ]
  },
  {
   "cell_type": "code",
   "execution_count": 25,
   "metadata": {},
   "outputs": [
    {
     "data": {
      "text/plain": [
       "{'idx': 0,\n",
       " 'words': ['they', \"'re\", 'from', 'Bakers', '?'],\n",
       " 'pos': ['', '', '', '', ''],\n",
       " 'lid': ['eng', 'eng', 'eng', 'eng&spa', 'eng&spa']}"
      ]
     },
     "execution_count": 25,
     "metadata": {},
     "output_type": "execute_result"
    }
   ],
   "source": [
    "lince_ner[\"test\"][0]"
   ]
  },
  {
   "cell_type": "code",
   "execution_count": 12,
   "metadata": {},
   "outputs": [
    {
     "data": {
      "text/plain": [
       "{'B-EVENT',\n",
       " 'B-GROUP',\n",
       " 'B-LOC',\n",
       " 'B-ORG',\n",
       " 'B-OTHER',\n",
       " 'B-PER',\n",
       " 'B-PROD',\n",
       " 'B-TIME',\n",
       " 'B-TITLE',\n",
       " 'I-EVENT',\n",
       " 'I-GROUP',\n",
       " 'I-LOC',\n",
       " 'I-ORG',\n",
       " 'I-OTHER',\n",
       " 'I-PER',\n",
       " 'I-PROD',\n",
       " 'I-TIME',\n",
       " 'I-TITLE',\n",
       " 'O'}"
      ]
     },
     "execution_count": 12,
     "metadata": {},
     "output_type": "execute_result"
    }
   ],
   "source": [
    "{x for l in lince_ner[\"train\"][\"ner\"] for x in l}"
   ]
  },
  {
   "cell_type": "code",
   "execution_count": 13,
   "metadata": {},
   "outputs": [],
   "source": [
    "id2label = [\n",
    "    'O',\n",
    "    'B-EVENT',\n",
    "    'I-EVENT',\n",
    "    'B-GROUP',\n",
    "    'I-GROUP',\n",
    "    'B-LOC',\n",
    "    'I-LOC',\n",
    "    'B-ORG',\n",
    "    'I-ORG',\n",
    "    'B-OTHER',\n",
    "    'I-OTHER',\n",
    "    'B-PER',\n",
    "    'I-PER',\n",
    "    'B-PROD',\n",
    "    'I-PROD',\n",
    "    'B-TIME',\n",
    "    'I-TIME',\n",
    "    'B-TITLE',\n",
    "    'I-TITLE',\n",
    "]\n",
    "\n",
    "label2id = {v:k for k,v in enumerate(id2label)}\n"
   ]
  },
  {
   "cell_type": "code",
   "execution_count": 14,
   "metadata": {},
   "outputs": [
    {
     "data": {
      "application/vnd.jupyter.widget-view+json": {
       "model_id": "15b1fd9fa7ae49c5b598fe4a96e95bd4",
       "version_major": 2,
       "version_minor": 0
      },
      "text/plain": [
       "  0%|          | 0/33611 [00:00<?, ?ex/s]"
      ]
     },
     "metadata": {},
     "output_type": "display_data"
    },
    {
     "data": {
      "application/vnd.jupyter.widget-view+json": {
       "model_id": "352615dc53a1447781731272fa56d066",
       "version_major": 2,
       "version_minor": 0
      },
      "text/plain": [
       "  0%|          | 0/10085 [00:00<?, ?ex/s]"
      ]
     },
     "metadata": {},
     "output_type": "display_data"
    }
   ],
   "source": [
    "lince_ner = lince_ner.map(lambda x:  {\"labels\": [label2id[l] for l in x[\"ner\"]]})"
   ]
  },
  {
   "cell_type": "code",
   "execution_count": 15,
   "metadata": {},
   "outputs": [
    {
     "name": "stdout",
     "output_type": "stream",
     "text": [
      "['O', 'O', 'O', 'B-OTHER', 'O', 'O', 'O', 'O', 'O', 'O', 'O', 'B-PER', 'I-PER', 'O', 'B-PER', 'O', 'O', 'O', 'O', 'O']\n",
      "[0, 0, 0, 9, 0, 0, 0, 0, 0, 0, 0, 11, 12, 0, 11, 0, 0, 0, 0, 0]\n"
     ]
    },
    {
     "data": {
      "text/plain": [
       "(dict_keys(['idx', 'words', 'ner', 'lid', 'labels']),\n",
       " {'idx': 11065,\n",
       "  'words': ['Im',\n",
       "   'stuck',\n",
       "   'in',\n",
       "   'bachata',\n",
       "   'for',\n",
       "   'the',\n",
       "   'rest',\n",
       "   'of',\n",
       "   'the',\n",
       "   'week',\n",
       "   '...',\n",
       "   'prince',\n",
       "   'royce',\n",
       "   'and',\n",
       "   'romeo',\n",
       "   'are',\n",
       "   'killing',\n",
       "   'it',\n",
       "   '!',\n",
       "   ':)'],\n",
       "  'ner': ['O',\n",
       "   'O',\n",
       "   'O',\n",
       "   'B-OTHER',\n",
       "   'O',\n",
       "   'O',\n",
       "   'O',\n",
       "   'O',\n",
       "   'O',\n",
       "   'O',\n",
       "   'O',\n",
       "   'B-PER',\n",
       "   'I-PER',\n",
       "   'O',\n",
       "   'B-PER',\n",
       "   'O',\n",
       "   'O',\n",
       "   'O',\n",
       "   'O',\n",
       "   'O'],\n",
       "  'lid': ['lang1',\n",
       "   'lang1',\n",
       "   'lang1',\n",
       "   'lang2',\n",
       "   'lang1',\n",
       "   'lang1',\n",
       "   'lang1',\n",
       "   'lang1',\n",
       "   'lang1',\n",
       "   'lang1',\n",
       "   'other',\n",
       "   'ne',\n",
       "   'ne',\n",
       "   'lang1',\n",
       "   'ne',\n",
       "   'lang1',\n",
       "   'lang1',\n",
       "   'lang1',\n",
       "   'other',\n",
       "   'other'],\n",
       "  'labels': [0, 0, 0, 9, 0, 0, 0, 0, 0, 0, 0, 11, 12, 0, 11, 0, 0, 0, 0, 0]})"
      ]
     },
     "execution_count": 15,
     "metadata": {},
     "output_type": "execute_result"
    }
   ],
   "source": [
    "idx = 11065\n",
    "print(lince_ner[\"train\"][idx][\"ner\"])\n",
    "print(lince_ner[\"train\"][idx][\"labels\"])\n",
    "lince_ner[\"train\"][idx].keys(), lince_ner[\"train\"][idx]"
   ]
  },
  {
   "cell_type": "code",
   "execution_count": 16,
   "metadata": {},
   "outputs": [
    {
     "data": {
      "text/plain": [
       "33611"
      ]
     },
     "execution_count": 16,
     "metadata": {},
     "output_type": "execute_result"
    }
   ],
   "source": [
    "len(lince_ner[\"train\"])"
   ]
  },
  {
   "cell_type": "code",
   "execution_count": 17,
   "metadata": {},
   "outputs": [],
   "source": [
    "import torch\n",
    "from transformers import AutoModelForTokenClassification, AutoTokenizer\n",
    "\n",
    "\n",
    "device = \"cuda\" if torch.cuda.is_available() else \"cpu\"\n",
    "max_length = 128\n",
    "\n",
    "model_name = \"pysentimiento/robertuito-base-uncased\"\n",
    "\n",
    "tokenizer = AutoTokenizer.from_pretrained(model_name)"
   ]
  },
  {
   "cell_type": "code",
   "execution_count": 18,
   "metadata": {},
   "outputs": [
    {
     "name": "stdout",
     "output_type": "stream",
     "text": [
      "['Im', 'stuck', 'in', 'bachata', 'for', 'the', 'rest', 'of', 'the', 'week', '...', 'prince', 'royce', 'and', 'romeo', 'are', 'killing', 'it', '!', ':)']\n"
     ]
    },
    {
     "data": {
      "text/plain": [
       "[(None, '<s>'),\n",
       " (0, '▁im'),\n",
       " (1, '▁stu'),\n",
       " (1, 'ck'),\n",
       " (2, '▁in'),\n",
       " (3, '▁bacha'),\n",
       " (3, 'ta'),\n",
       " (4, '▁for'),\n",
       " (5, '▁the'),\n",
       " (6, '▁rest'),\n",
       " (7, '▁of'),\n",
       " (8, '▁the'),\n",
       " (9, '▁week'),\n",
       " (10, '▁...'),\n",
       " (11, '▁prince'),\n",
       " (12, '▁roy'),\n",
       " (12, 'ce'),\n",
       " (13, '▁and'),\n",
       " (14, '▁romeo'),\n",
       " (15, '▁are'),\n",
       " (16, '▁killing'),\n",
       " (17, '▁it'),\n",
       " (18, '▁!'),\n",
       " (19, '▁:)'),\n",
       " (None, '</s>')]"
      ]
     },
     "execution_count": 18,
     "metadata": {},
     "output_type": "execute_result"
    }
   ],
   "source": [
    "from pysentimiento.preprocessing import preprocess_tweet\n",
    "\n",
    "def preprocess_token(t, lang=\"es\"):\n",
    "    \"\"\"\n",
    "    Seguro podemos hacerlo mejor\n",
    "    \"\"\"\n",
    "    return preprocess_tweet(t, lang=\"es\", demoji=False, preprocess_hashtags=False)\n",
    "\n",
    "words = lince_ner[\"train\"][idx][\"words\"]\n",
    "\n",
    "preprocessed_tweet = [preprocess_token(t) for t in words]\n",
    "\n",
    "tokens = tokenizer(preprocessed_tweet, is_split_into_words=True)\n",
    "\n",
    "inv_vocab = {v:k for k, v in tokenizer.get_vocab().items()}\n",
    "\n",
    "print(words)\n",
    "list(zip(tokens.word_ids(), [inv_vocab[t] for t in tokens[\"input_ids\"]]))"
   ]
  },
  {
   "cell_type": "code",
   "execution_count": 124,
   "metadata": {},
   "outputs": [],
   "source": [
    "def align_labels_with_tokens(labels, word_ids):\n",
    "    \"\"\"\n",
    "    Tomado de https://huggingface.co/course/chapter7/2?fw=pt\n",
    "    \"\"\"\n",
    "    old_labels = labels\n",
    "    labels = [label2id[l] for l in labels]\n",
    "    new_labels = []\n",
    "    current_word = None\n",
    "    for word_id in word_ids:\n",
    "        if word_id != current_word:\n",
    "            # Start of a new word!\n",
    "            current_word = word_id\n",
    "            label = -100 if word_id is None else labels[word_id]\n",
    "            new_labels.append(label)\n",
    "        elif word_id is None:\n",
    "            # Special token\n",
    "            new_labels.append(-100)\n",
    "        else:\n",
    "            # Same word as previous token\n",
    "            label = labels[word_id]\n",
    "            # If the label is B-XXX we change it to I-XXX\n",
    "            if label % 2 == 1:\n",
    "                label += 1\n",
    "            new_labels.append(label)\n",
    "\n",
    "    return new_labels"
   ]
  },
  {
   "cell_type": "code",
   "execution_count": 125,
   "metadata": {},
   "outputs": [
    {
     "data": {
      "text/plain": [
       "[None,\n",
       " 0,\n",
       " 1,\n",
       " 1,\n",
       " 2,\n",
       " 3,\n",
       " 3,\n",
       " 4,\n",
       " 5,\n",
       " 6,\n",
       " 7,\n",
       " 8,\n",
       " 9,\n",
       " 10,\n",
       " 11,\n",
       " 12,\n",
       " 12,\n",
       " 13,\n",
       " 14,\n",
       " 15,\n",
       " 16,\n",
       " 17,\n",
       " 18,\n",
       " 19,\n",
       " None]"
      ]
     },
     "execution_count": 125,
     "metadata": {},
     "output_type": "execute_result"
    }
   ],
   "source": [
    "words = lince_ner[\"train\"][idx][\"words\"]\n",
    "labels = lince_ner[\"train\"][idx][\"\"]\n",
    "preprocessed_tweet = [preprocess_token(t) for t in words]\n",
    "\n",
    "tokens = tokenizer(preprocessed_tweet, is_split_into_words=True)\n",
    "\n",
    "tokens.word_ids()\n"
   ]
  },
  {
   "cell_type": "code",
   "execution_count": null,
   "metadata": {},
   "outputs": [],
   "source": []
  }
 ],
 "metadata": {
  "interpreter": {
   "hash": "387abc9bc94d8eb1bd0148a5d4cb2bf99bc3b40fa501b808e2b508b4f65ed831"
  },
  "kernelspec": {
   "display_name": "Python 3.7.12 64-bit ('pysentimiento-bwlKzHxB-py3.7': poetry)",
   "language": "python",
   "name": "python3"
  },
  "language_info": {
   "codemirror_mode": {
    "name": "ipython",
    "version": 3
   },
   "file_extension": ".py",
   "mimetype": "text/x-python",
   "name": "python",
   "nbconvert_exporter": "python",
   "pygments_lexer": "ipython3",
   "version": "3.7.12"
  },
  "orig_nbformat": 4
 },
 "nbformat": 4,
 "nbformat_minor": 2
}

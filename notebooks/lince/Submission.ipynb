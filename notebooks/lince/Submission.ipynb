{
 "cells": [
  {
   "cell_type": "code",
   "execution_count": 100,
   "metadata": {},
   "outputs": [
    {
     "name": "stdout",
     "output_type": "stream",
     "text": [
      "bertweet-hate-speech\t     robertuito-irony\n",
      "robertuito-emotion-analysis  robertuito-lince-ner\n",
      "robertuito-hate-speech\t     robertuito-sentiment-analysis\n"
     ]
    }
   ],
   "source": [
    "!ls ../../models/"
   ]
  },
  {
   "cell_type": "code",
   "execution_count": 15,
   "metadata": {},
   "outputs": [
    {
     "name": "stdout",
     "output_type": "stream",
     "text": [
      "The autoreload extension is already loaded. To reload it, use:\n",
      "  %reload_ext autoreload\n"
     ]
    },
    {
     "data": {
      "application/vnd.jupyter.widget-view+json": {
       "model_id": "433167f2c3ce4f18848916ba8a85ba76",
       "version_major": 2,
       "version_minor": 0
      },
      "text/plain": [
       "Downloading:   0%|          | 0.00/4.05k [00:00<?, ?B/s]"
      ]
     },
     "metadata": {},
     "output_type": "display_data"
    },
    {
     "data": {
      "application/vnd.jupyter.widget-view+json": {
       "model_id": "17c09b24b7e244458523c507b7ba1d1f",
       "version_major": 2,
       "version_minor": 0
      },
      "text/plain": [
       "Downloading:   0%|          | 0.00/3.56k [00:00<?, ?B/s]"
      ]
     },
     "metadata": {},
     "output_type": "display_data"
    },
    {
     "name": "stdout",
     "output_type": "stream",
     "text": [
      "Downloading and preparing dataset lince/ner_spaeng (download: 2.93 MiB, generated: 18.45 MiB, post-processed: Unknown size, total: 21.38 MiB) to /home/jmperez/.cache/huggingface/datasets/lince/ner_spaeng/1.0.0/10d41747f55f0849fa84ac579ea1acfa7df49aa2015b60426bc459c111b3d589...\n"
     ]
    },
    {
     "data": {
      "application/vnd.jupyter.widget-view+json": {
       "model_id": "17535f41d10d4d4ea56f27396633a714",
       "version_major": 2,
       "version_minor": 0
      },
      "text/plain": [
       "Downloading:   0%|          | 0.00/3.08M [00:00<?, ?B/s]"
      ]
     },
     "metadata": {},
     "output_type": "display_data"
    },
    {
     "data": {
      "application/vnd.jupyter.widget-view+json": {
       "model_id": "28ed645f93cb4ed690000f7e375a82fe",
       "version_major": 2,
       "version_minor": 0
      },
      "text/plain": [
       "0 examples [00:00, ? examples/s]"
      ]
     },
     "metadata": {},
     "output_type": "display_data"
    },
    {
     "data": {
      "application/vnd.jupyter.widget-view+json": {
       "model_id": "e8a1e3865cee4b13a7ca41baa9df31d8",
       "version_major": 2,
       "version_minor": 0
      },
      "text/plain": [
       "0 examples [00:00, ? examples/s]"
      ]
     },
     "metadata": {},
     "output_type": "display_data"
    },
    {
     "data": {
      "application/vnd.jupyter.widget-view+json": {
       "model_id": "fa45865848964a4bba11c0eda350aa35",
       "version_major": 2,
       "version_minor": 0
      },
      "text/plain": [
       "0 examples [00:00, ? examples/s]"
      ]
     },
     "metadata": {},
     "output_type": "display_data"
    },
    {
     "name": "stdout",
     "output_type": "stream",
     "text": [
      "Dataset lince downloaded and prepared to /home/jmperez/.cache/huggingface/datasets/lince/ner_spaeng/1.0.0/10d41747f55f0849fa84ac579ea1acfa7df49aa2015b60426bc459c111b3d589. Subsequent calls will reuse this data.\n"
     ]
    },
    {
     "data": {
      "application/vnd.jupyter.widget-view+json": {
       "model_id": "9c1df1a4deab45d8b5f13d54ce522ff7",
       "version_major": 2,
       "version_minor": 0
      },
      "text/plain": [
       "  0%|          | 0/3 [00:00<?, ?it/s]"
      ]
     },
     "metadata": {},
     "output_type": "display_data"
    },
    {
     "data": {
      "application/vnd.jupyter.widget-view+json": {
       "model_id": "da31351b780b4a66aa4a329870df4661",
       "version_major": 2,
       "version_minor": 0
      },
      "text/plain": [
       "  0%|          | 0/33611 [00:00<?, ?ex/s]"
      ]
     },
     "metadata": {},
     "output_type": "display_data"
    },
    {
     "data": {
      "application/vnd.jupyter.widget-view+json": {
       "model_id": "135928a60829424e97d9983f05c0d346",
       "version_major": 2,
       "version_minor": 0
      },
      "text/plain": [
       "  0%|          | 0/10085 [00:00<?, ?ex/s]"
      ]
     },
     "metadata": {},
     "output_type": "display_data"
    },
    {
     "data": {
      "application/vnd.jupyter.widget-view+json": {
       "model_id": "f5e03f48065546178391eac7a9ab43d1",
       "version_major": 2,
       "version_minor": 0
      },
      "text/plain": [
       "  0%|          | 0/23527 [00:00<?, ?ex/s]"
      ]
     },
     "metadata": {},
     "output_type": "display_data"
    }
   ],
   "source": [
    "%load_ext autoreload\n",
    "%autoreload 2\n",
    "from transformers import AutoModelForTokenClassification, AutoTokenizer\n",
    "from pysentimiento.lince.ner import load_datasets\n",
    "\n",
    "model = AutoModelForTokenClassification.from_pretrained(\"../../models/robertuito-lince-ner\")\n",
    "\n",
    "\n",
    "tokenizer = AutoTokenizer.from_pretrained(\"../../models/robertuito-lince-ner\")\n",
    "tokenizer.model_max_length = 128\n",
    "\n",
    "_, _, test_dataset = load_datasets(lang=\"es\", preprocess=False)"
   ]
  },
  {
   "cell_type": "code",
   "execution_count": 16,
   "metadata": {},
   "outputs": [
    {
     "data": {
      "application/vnd.jupyter.widget-view+json": {
       "model_id": "d8b85c178eda4e58ab878b0c9916f589",
       "version_major": 2,
       "version_minor": 0
      },
      "text/plain": [
       "  0%|          | 0/23527 [00:00<?, ?ex/s]"
      ]
     },
     "metadata": {},
     "output_type": "display_data"
    }
   ],
   "source": [
    "from datasets import Dataset\n",
    "from pysentimiento.lince.ner import preprocess_token, tokenize_and_align_labels\n",
    "\n",
    "original_words = test_dataset[\"words\"]\n",
    "\n",
    "test_dataset = test_dataset.map(\n",
    "    lambda x: {\n",
    "        \"words\": [preprocess_token(word, \"es\") for word in x[\"words\"]]\n",
    "    }\n",
    ")\n"
   ]
  },
  {
   "cell_type": "code",
   "execution_count": 17,
   "metadata": {},
   "outputs": [
    {
     "data": {
      "application/vnd.jupyter.widget-view+json": {
       "model_id": "b0bf422cb16b456a8c5e660f0c5517dc",
       "version_major": 2,
       "version_minor": 0
      },
      "text/plain": [
       "  0%|          | 0/736 [00:00<?, ?ba/s]"
      ]
     },
     "metadata": {},
     "output_type": "display_data"
    }
   ],
   "source": [
    "\n",
    "tokenize_fun = lambda x: tokenize_and_align_labels(x, tokenizer)\n",
    "test_dataset = test_dataset.map(\n",
    "    tokenize_fun, batched=True, batch_size=32, \n",
    ")\n",
    "\n",
    "test_dataset = test_dataset.remove_columns([\"labels\"])"
   ]
  },
  {
   "cell_type": "code",
   "execution_count": 18,
   "metadata": {},
   "outputs": [
    {
     "data": {
      "application/vnd.jupyter.widget-view+json": {
       "model_id": "a49c53bce2ea4d949857a145e3bd67f3",
       "version_major": 2,
       "version_minor": 0
      },
      "text/plain": [
       "  0%|          | 0/23527 [00:00<?, ?it/s]"
      ]
     },
     "metadata": {},
     "output_type": "display_data"
    },
    {
     "name": "stdout",
     "output_type": "stream",
     "text": [
      "0 problematic instances\n"
     ]
    }
   ],
   "source": [
    "from tqdm.auto import tqdm\n",
    "\n",
    "problematic_instances = []\n",
    "\n",
    "for idx, row in tqdm(enumerate(test_dataset), total=len(test_dataset)):\n",
    "    word_ids = row[\"word_ids\"]\n",
    "    input_ids = row[\"input_ids\"]\n",
    "    words = original_words[idx]\n",
    "    if not (word_ids[-2] + 1) == len(words):\n",
    "        problematic_instances.append(idx)\n",
    "\n",
    "print(f\"{len(problematic_instances)} problematic instances\")\n",
    "assert len(problematic_instances) == 0"
   ]
  },
  {
   "cell_type": "code",
   "execution_count": 19,
   "metadata": {},
   "outputs": [
    {
     "name": "stderr",
     "output_type": "stream",
     "text": [
      "The following columns in the test set  don't have a corresponding argument in `RobertaForTokenClassification.forward` and have been ignored: lid, ner, word_ids, words, idx.\n",
      "***** Running Prediction *****\n",
      "  Num examples = 23527\n",
      "  Batch size = 32\n"
     ]
    },
    {
     "data": {
      "text/html": [
       "\n",
       "    <div>\n",
       "      \n",
       "      <progress value='736' max='736' style='width:300px; height:20px; vertical-align: middle;'></progress>\n",
       "      [736/736 00:29]\n",
       "    </div>\n",
       "    "
      ],
      "text/plain": [
       "<IPython.core.display.HTML object>"
      ]
     },
     "metadata": {},
     "output_type": "display_data"
    }
   ],
   "source": [
    "from transformers import DataCollatorForTokenClassification, Trainer, TrainingArguments\n",
    "data_collator = DataCollatorForTokenClassification(tokenizer)\n",
    "\n",
    "train_args = TrainingArguments(\n",
    "    output_dir=\"./test/\",\n",
    "    per_device_eval_batch_size=32,\n",
    "    do_train=False,\n",
    ")\n",
    "\n",
    "trainer_args = {\n",
    "    \"model\": model,\n",
    "    \"args\": train_args,\n",
    "    \"eval_dataset\": test_dataset,\n",
    "    \"data_collator\": data_collator,\n",
    "    \"tokenizer\": tokenizer,\n",
    "}\n",
    "\n",
    "eval_trainer = Trainer(**trainer_args)\n",
    "ret = eval_trainer.predict(test_dataset)"
   ]
  },
  {
   "cell_type": "code",
   "execution_count": 50,
   "metadata": {},
   "outputs": [
    {
     "data": {
      "application/vnd.jupyter.widget-view+json": {
       "model_id": "c5a8e9177b694149bee142116a3d3806",
       "version_major": 2,
       "version_minor": 0
      },
      "text/plain": [
       "  0%|          | 0/23527 [00:00<?, ?it/s]"
      ]
     },
     "metadata": {},
     "output_type": "display_data"
    },
    {
     "name": "stdout",
     "output_type": "stream",
     "text": [
      "================================================================================\n",
      "8722\n",
      "[('\"', 'O'), ('Lmao', 'O'), ('!', 'O'), ('\\ue411\\ue412', None), ('ima', 'O'), ('turn', 'O'), ('into', 'O'), ('one', 'O'), ('foreal', 'O'), ('lol', 'O'), ('I', 'O'), ('told', 'O'), ('you', 'O'), ('!', 'O'), ('I', 'O'), ('like', 'O'), ('Mexican', 'O'), ('chicks', 'O'), (',', 'O'), ('Mexican', 'O'), ('food', 'O'), (',', 'O'), ('Mexican', 'O'), ('jobs', 'O'), ('lol', 'O'), ('\"', 'O'), ('Hes', 'O'), ('something', 'O'), ('else', 'O'), ('!!!', 'O'), (':D', 'O')]\n",
      "================================================================================\n",
      "9637\n",
      "[('“', 'O'), ('@_laguera01', 'O'), (':', 'O'), ('Los', 'O'), ('bailes', 'O'), ('de', 'O'), ('Mexico', 'B-LOC'), ('no', 'O'), ('son', 'O'), ('chingaderas', 'O'), ('como', 'O'), ('las', 'O'), ('de', 'O'), ('aqui', 'O'), ('.', 'O'), ('\\ue50f\\ue01a\\ue312', None), ('🎊', 'O'), ('\\ue047\\ue30c', None), ('”', 'O')]\n",
      "================================================================================\n",
      "16313\n",
      "[('RT', 'O'), ('@adamaris_cruzz', 'O'), (':', 'O'), ('Mis', 'O'), ('nenaaaas', 'O'), ('\\ue022\\ue022\\ue022\\ue022', None), ('@andreanoguera1d', 'O'), ('http://t.co/JVuhkno7oo', 'O')]\n"
     ]
    }
   ],
   "source": [
    "from tqdm.auto import tqdm\n",
    "from pysentimiento.lince.ner import id2label, label2id\n",
    "\n",
    "outputs = []\n",
    "\n",
    "for idx, row in tqdm(enumerate(test_dataset), total=len(test_dataset)):\n",
    "    word_ids = row[\"word_ids\"]\n",
    "    input_ids = row[\"input_ids\"]\n",
    "    words = original_words[idx]\n",
    "    assert (word_ids[-2] + 1) == len(words)\n",
    "    preds = ret.predictions[idx]\n",
    "\n",
    "    sentence_output = []\n",
    "    current_word_id = None\n",
    "\n",
    "    sentence_output = [None] * len(words)\n",
    "\n",
    "    for word_id, token_id, pred in zip(word_ids, input_ids, preds):\n",
    "        token = tokenizer.decode(token_id)\n",
    "        if current_word_id != word_id and word_id is not None:\n",
    "            current_word_id = word_id\n",
    "            label = id2label[pred.argmax()]\n",
    "            sentence_output[current_word_id] = label\n",
    "    \n",
    "    if not all(sentence_output):\n",
    "        print(\"=\"*80)\n",
    "        print(idx)\n",
    "        print(list(zip(\n",
    "            words,\n",
    "            sentence_output,\n",
    "        )))\n",
    "\n",
    "        # Filling gaps\n",
    "        sentence_output = [s or 'O' for s in sentence_output]\n",
    "        \n",
    "    outputs.append(sentence_output)\n"
   ]
  },
  {
   "cell_type": "markdown",
   "metadata": {},
   "source": [
    "Toda pura mierda"
   ]
  },
  {
   "cell_type": "code",
   "execution_count": 54,
   "metadata": {},
   "outputs": [],
   "source": [
    "def write_list(path, data):\n",
    "    with open(path, \"w\") as f:\n",
    "        for sentence in data:\n",
    "            for row in sentence:\n",
    "                f.write(f\"{row}\\n\")\n",
    "            f.write(\"\\n\")\n",
    "\n",
    "write_list(\"submissions/00_test/ner_spa_eng.txt\", outputs)"
   ]
  },
  {
   "cell_type": "code",
   "execution_count": 62,
   "metadata": {},
   "outputs": [
    {
     "data": {
      "text/plain": [
       "108212755"
      ]
     },
     "execution_count": 62,
     "metadata": {},
     "output_type": "execute_result"
    }
   ],
   "source": [
    "import torch\n",
    "sum(map(torch.numel, model.parameters()))"
   ]
  },
  {
   "cell_type": "code",
   "execution_count": null,
   "metadata": {},
   "outputs": [],
   "source": []
  }
 ],
 "metadata": {
  "interpreter": {
   "hash": "387abc9bc94d8eb1bd0148a5d4cb2bf99bc3b40fa501b808e2b508b4f65ed831"
  },
  "kernelspec": {
   "display_name": "Python 3.7.12 64-bit ('pysentimiento-bwlKzHxB-py3.7': poetry)",
   "language": "python",
   "name": "python3"
  },
  "language_info": {
   "codemirror_mode": {
    "name": "ipython",
    "version": 3
   },
   "file_extension": ".py",
   "mimetype": "text/x-python",
   "name": "python",
   "nbconvert_exporter": "python",
   "pygments_lexer": "ipython3",
   "version": "3.7.12"
  },
  "orig_nbformat": 4
 },
 "nbformat": 4,
 "nbformat_minor": 2
}

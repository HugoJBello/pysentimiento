{
 "cells": [
  {
   "cell_type": "markdown",
   "metadata": {},
   "source": [
    "## Exploratory Analysis\n",
    "\n"
   ]
  },
  {
   "cell_type": "code",
   "execution_count": 1,
   "metadata": {},
   "outputs": [],
   "source": [
    "%load_ext autoreload\n",
    "%autoreload 2\n",
    "import os\n",
    "\n",
    "from glob import glob\n",
    "import pandas as pd"
   ]
  },
  {
   "cell_type": "code",
   "execution_count": 2,
   "metadata": {},
   "outputs": [
    {
     "data": {
      "text/html": "<div>\n<style scoped>\n    .dataframe tbody tr th:only-of-type {\n        vertical-align: middle;\n    }\n\n    .dataframe tbody tr th {\n        vertical-align: top;\n    }\n\n    .dataframe thead th {\n        text-align: right;\n    }\n</style>\n<table border=\"1\" class=\"dataframe\">\n  <thead>\n    <tr style=\"text-align: right;\">\n      <th></th>\n      <th>text</th>\n      <th>label</th>\n    </tr>\n    <tr>\n      <th>id</th>\n      <th></th>\n      <th></th>\n    </tr>\n  </thead>\n  <tbody>\n    <tr>\n      <th>860</th>\n      <td>\"Cuando te digan \"\"peleas como niña!\"\", diles ...</td>\n      <td>others</td>\n    </tr>\n    <tr>\n      <th>967</th>\n      <td>HASHTAG | Alineación del Levante ante el Barce...</td>\n      <td>others</td>\n    </tr>\n    <tr>\n      <th>5235</th>\n      <td>Como se nota que HASHTAG ya no tiene el apoyo ...</td>\n      <td>disgust</td>\n    </tr>\n    <tr>\n      <th>2910</th>\n      <td>\"- Oiga vengo por lo de las elecciones, ¿Puedo...</td>\n      <td>others</td>\n    </tr>\n    <tr>\n      <th>2501</th>\n      <td>No me merece la pena irme a dormir ya HASHTAG</td>\n      <td>others</td>\n    </tr>\n    <tr>\n      <th>1136</th>\n      <td>¿Por qué es tan difícil comunicar el HASHTAG? ...</td>\n      <td>others</td>\n    </tr>\n    <tr>\n      <th>2333</th>\n      <td>Ver a HASHTAG da tristeza, pero no más que la ...</td>\n      <td>sadness</td>\n    </tr>\n    <tr>\n      <th>5582</th>\n      <td>\"\"\"Nadie confrontaba con la ideología de géner...</td>\n      <td>others</td>\n    </tr>\n    <tr>\n      <th>1782</th>\n      <td>Vos estás loco Lionel HASHTAG. Nada más que tu...</td>\n      <td>others</td>\n    </tr>\n    <tr>\n      <th>3422</th>\n      <td>Anuncio : “ Acceso a la  ” y bajan unos pivote...</td>\n      <td>others</td>\n    </tr>\n  </tbody>\n</table>\n</div>",
      "text/plain": "                                                   text     label\nid                                                               \n860   \"Cuando te digan \"\"peleas como niña!\"\", diles ...   others \n967   HASHTAG | Alineación del Levante ante el Barce...   others \n5235  Como se nota que HASHTAG ya no tiene el apoyo ...  disgust \n2910  \"- Oiga vengo por lo de las elecciones, ¿Puedo...   others \n2501      No me merece la pena irme a dormir ya HASHTAG   others \n1136  ¿Por qué es tan difícil comunicar el HASHTAG? ...   others \n2333  Ver a HASHTAG da tristeza, pero no más que la ...  sadness \n5582  \"\"\"Nadie confrontaba con la ideología de géner...   others \n1782  Vos estás loco Lionel HASHTAG. Nada más que tu...   others \n3422  Anuncio : “ Acceso a la  ” y bajan unos pivote...   others "
     },
     "execution_count": 2,
     "metadata": {},
     "output_type": "execute_result"
    }
   ],
   "source": [
    "import csv\n",
    "import pandas as pd\n",
    "\n",
    "train_df = pd.read_table(\"../data/tass2020/task2/train.tsv\", index_col=0, names=[\"id\", \"text\", \"label\"], quoting=csv.QUOTE_NONE)\n",
    "\n",
    "dev_df = pd.read_table(\n",
    "    \"../data/tass2020/task2/dev.tsv\", index_col=0,names=[\"id\", \"text\", \"label\"],\n",
    "    quoting=csv.QUOTE_NONE)\n",
    "\n",
    "test_df = pd.read_table(\"../data/tass2020/task2/test_task2.tsv\", index_col=0,names=[\"id\", \"text\", \"label\"], quoting=csv.QUOTE_NONE)\n",
    " \n",
    "\n",
    "train_df.sample(10)"
   ]
  },
  {
   "cell_type": "markdown",
   "metadata": {},
   "source": [
    "One label per tweet"
   ]
  },
  {
   "cell_type": "code",
   "execution_count": 23,
   "metadata": {},
   "outputs": [
    {
     "name": "stdout",
     "output_type": "stream",
     "text": [
      "(8409, 3)\n"
     ]
    },
    {
     "data": {
      "text/html": "<div>\n<style scoped>\n    .dataframe tbody tr th:only-of-type {\n        vertical-align: middle;\n    }\n\n    .dataframe tbody tr th {\n        vertical-align: top;\n    }\n\n    .dataframe thead th {\n        text-align: right;\n    }\n</style>\n<table border=\"1\" class=\"dataframe\">\n  <thead>\n    <tr style=\"text-align: right;\">\n      <th></th>\n      <th>text</th>\n      <th>label</th>\n      <th>offensive</th>\n      <th>slice</th>\n    </tr>\n    <tr>\n      <th>id</th>\n      <th></th>\n      <th></th>\n      <th></th>\n      <th></th>\n    </tr>\n  </thead>\n  <tbody>\n    <tr>\n      <th>1</th>\n      <td>Acabo de ver la gran pérdida que estamos tenie...</td>\n      <td>sadness</td>\n      <td>0</td>\n      <td>train</td>\n    </tr>\n    <tr>\n      <th>2</th>\n      <td>USER ¿A que vamos a reconstruir Notre Dame ant...</td>\n      <td>sadness</td>\n      <td>0</td>\n      <td>train</td>\n    </tr>\n    <tr>\n      <th>3</th>\n      <td>Desde ayer andan sufriendo por el incendio de ...</td>\n      <td>anger</td>\n      <td>0</td>\n      <td>train</td>\n    </tr>\n  </tbody>\n</table>\n</div>",
      "text/plain": "                                                 text    label  offensive  \\\nid                                                                          \n1   Acabo de ver la gran pérdida que estamos tenie...  sadness          0   \n2   USER ¿A que vamos a reconstruir Notre Dame ant...  sadness          0   \n3   Desde ayer andan sufriendo por el incendio de ...    anger          0   \n\n    slice  \nid         \n1   train  \n2   train  \n3   train  "
     },
     "execution_count": 23,
     "metadata": {},
     "output_type": "execute_result"
    }
   ],
   "source": [
    "full_df = pd.read_table(\n",
    "    \"../data/tass2020/task2/dataset_emotions_SP.csv\",\n",
    "    names=[\"id\", \"text\", \"label\", \"offensive\"], \n",
    "    index_col=0,\n",
    "    skiprows=1,\n",
    ")\n",
    "\n",
    "print(full_df.shape)\n",
    "\n",
    "full_df[\"slice\"] = \"train\"\n",
    "\n",
    "full_df[:3]"
   ]
  },
  {
   "cell_type": "markdown",
   "metadata": {},
   "source": [
    "Bueno, hacemos un train test nuestro. Es un quilombo partirlo de otra manera"
   ]
  },
  {
   "cell_type": "code",
   "execution_count": 24,
   "metadata": {},
   "outputs": [],
   "source": [
    "not_found = []\n",
    "\n",
    "text2id = {}\n",
    "for idx, row in full_df.iterrows():\n",
    "    text2id[row.text] = idx\n"
   ]
  },
  {
   "cell_type": "code",
   "execution_count": 25,
   "metadata": {},
   "outputs": [
    {
     "data": {
      "application/vnd.jupyter.widget-view+json": {
       "model_id": "2b400740101342118950328fcb549556",
       "version_major": 2,
       "version_minor": 0
      },
      "text/plain": "HBox(children=(FloatProgress(value=1.0, bar_style='info', layout=Layout(width='20px'), max=1.0), HTML(value=''…"
     },
     "metadata": {},
     "output_type": "display_data"
    },
    {
     "name": "stdout",
     "output_type": "stream",
     "text": [
      "================================================================================\n",
      "tweet\n",
      "[]\n",
      "================================================================================\n",
      "AHORA | Comunicado Grupo de Lima sobre la situación en HASHTAG. \"Conminan a Maduro a cesar la usurpación\", se declaran en sesión permanente, y deciden reunirse de manera presencial el próximo viernes 3 de mayo, en la ciudad de Lima, Perú.  URL\n",
      "[('AHORA | Comunicado Grupo de Lima sobre la situación en HASHTAG. \"Conminan a Maduro a cesar la usurpación\", se declaran en sesión permanente, y deciden reunirse de manera presencial el próximo viernes 3 de mayo, en la ciudad de Lima, Perú.  URL', 100), ('AHORA | Aquí el Comunicado del Grupo de Lima sobre la situación en HASHTAG. \"Conminan a Maduro a cesar la usurpación\", se declaran en sesión permanente, y deciden reunirse de manera presencial el próximo viernes 3 de mayo, en la ciudad de Lima, Perú.  URL', 98)]\n",
      "================================================================================\n",
      "ATENCIÓN CONTENIDO VIOLENTO-Un vehículo de la Guardia Nacional arrolla a manifestantes que le tiraban piedras en HASHTAG, HASHTAG. USER USER  URL\n",
      "[('ATENCIÓN CONTENIDO VIOLENTO-Un vehículo de la Guardia Nacional arrolla a manifestantes que le tiraban piedras en HASHTAG HASHTAG HASHTAG HASHTAG  URL', 93), ('ATENCIÓN CONTENIDO VIOLENTO-Un vehículo de la Guardia Nacional arrolla a manifestantes que le tiraban piedras en HASHTAG, HASHTAG. USER USER  URL', 100)]\n",
      "================================================================================\n",
      "Lo loco del día de hoy, ver correr y casi correr por una tanqueta que venía q millón en la concentración en donde me encontraba HASHTAG HASHTAG HASHTAG\n",
      "[('Lo loco del día de hoy, ver correr y casi correr por una tanqueta que venía a millón en la concentración en donde me encontraba HASHTAG HASHTAG HASHTAG', 99), ('Lo loco del día de hoy, ver correr y casi correr por una tanqueta que venía q millón en la concentración en donde me encontraba HASHTAG HASHTAG HASHTAG', 100)]\n",
      "================================================================================\n",
      "RT WContreras_: En el HASHTAG hacemos un reconocimiento a quienes escriben, y sobre todo a los lectores. Es una fecha para festejar la lectura la creatividad, la cultura, la igualdad de acceso al conocimiento y la diversidad para todo nuestro pueblo…  URL\n",
      "[('RT WContreras_: En el HASHTAG hacemos un reconocimiento a quienes escriben, y sobre todo a los lectores. Es una fecha para festejar la lectura la creatividad, la cultura, la igualdad de acceso al conocimiento y la diversidad para todo nuestro pueblo. HASHTAG…', 97), ('RT WContreras_: En el HASHTAG hacemos un reconocimiento a quienes escriben, y sobre todo a los lectores. Es una fecha para festejar la lectura la creatividad, la cultura, la igualdad de acceso al conocimiento y la diversidad para todo nuestro pueblo…  URL', 100)]\n",
      "================================================================================\n",
      "Mi libro favorito es ___  y puede hacerme ganar un ebook con USER HASHTAG HASHTAG HASHTAG+información:  URL\n",
      "[('Mi libro favorito es _la novia gitana__  y puede hacerme ganar un ebook con USER HASHTAG HASHTAG HASHTAG+información:  URL', 93), ('Mi libro favorito es ___  y puede hacerme ganar un ebook con USER HASHTAG HASHTAG HASHTAG+información:  URL', 100)]\n",
      "================================================================================\n",
      "🏆 ¡CAMPEONES DE USER 2018-19! 8 ligas en 11 años. Lo extraordinario es que parezca normal.🖌🎨 HASHTAG 🔵🔴 HASHTAG HASHTAG\n",
      "[('🏆 ¡CAMPEONES DE USER 2018-19!8 ligas en 11 años. Lo extraordinario es que parezca normal.🖌🎨 HASHTAG 🔵🔴 HASHTAG HASHTAG ❤💙🏆  URL', 96), ('🏆 ¡CAMPEONES DE USER 2018-19!8 ligas en 11 años. Lo extraordinario es que parezca normal.🖌🎨 HASHTAG 🔵🔴 HASHTAG HASHTAG', 100)]\n",
      "================================================================================\n",
      "Gracias a todos los interventores y apoderados del PP de Camas  Hoy HASHTAG  HASHTAG para HASHTAG   HASHTAG HASHTAG  URL\n",
      "[('Gracias a todos los interventores y apoderados  de USER   Hoy HASHTAG  HASHTAG para HASHTAG    HASHTAG HASHTAG  URL', 93), ('Gracias a todos los interventores y apoderados del PP de Camas  Hoy HASHTAG  HASHTAG para HASHTAG   HASHTAG HASHTAG  URL', 100), ('Gracias a todos los interventores y apoderados del PP de Marinaleda    Hoy HASHTAG  HASHTAG para HASHTAG   HASHTAG HASHTAG  URL', 95)]\n",
      "================================================================================\n",
      "Usos luchan. Otros patalean. Usos luchan. Otros NO. HASHTAG HASHTAG HASHTAG HASHTAG HASHTAG HASHTAG HASHTAG HASHTAG HASHTAG HASHTAG HASHTAG HASHTAG HASHTAG HASHTAG  URL\n",
      "[('Unos luchan. Otros patalean. Unos luchan. Otros NO. HASHTAG HASHTAG HASHTAG HASHTAG HASHTAG HASHTAG HASHTAG HASHTAG HASHTAG HASHTAG HASHTAG HASHTAG HASHTAG HASHTAG  URL', 99), ('Usos luchan. Otros patalean. Usos luchan. Otros NO. HASHTAG HASHTAG HASHTAG HASHTAG HASHTAG HASHTAG HASHTAG HASHTAG HASHTAG HASHTAG HASHTAG HASHTAG HASHTAG HASHTAG  URL', 100)]\n",
      "================================================================================\n",
      "Reino Unido declara el cambio climático como emergencia nacional  URL HASHTAG HASHTAG HASHTAG HASHTAG via USER\n",
      "[('Reino Unido declara el cambio climático como emergencia nacional  URL HASHTAG HASHTAG HASHTAG HASHTAG vía USER', 99), ('Reino Unido declara el cambio climático como emergencia nacional  URL HASHTAG HASHTAG HASHTAG HASHTAG via USER', 100)]\n",
      "================================================================================\n",
      "\"Quiero que entréis en pánico, porque la casa está en llamas\", afirmó HASHTAG     URL\n",
      "[('URL   \"Quiero que entréis en pánico, porque la casa está en llamas\", afirmó HASHTAG  :  URL', 95), ('\"Quiero que entréis en pánico, porque la casa está en llamas\", afirmó HASHTAG     URL', 100)]\n",
      "================================================================================\n",
      "HASHTAG¡Termina el primer tiempo! ⏰ USER 0-0 USER 🔴EN VIVO:   URL\n",
      "[('HASHTAG¡Termina el primer tiempo! ⏰ USER 0-0 USER 🔴EN VIVO:   URL', 100), ('HASHTAG🇪🇸¡Se termina el primer tiempo! USER 0-0 USER EN VIVO:  URL', 92)]\n",
      "================================================================================\n",
      "\"Dentro de 10 años, 259 días y 10 horas, habremos desatado una reacción en cadena irreversible… \"El mensaje de la joven activista sueca HASHTAG en el Parlamento europeo es es bastante claro...  URL\n",
      "[('\"Dentro de 10 años, 259 días y 10 horas, habremos desatado una reacción en cadena irreversible… \"El mensaje de la joven activista sueca HASHTAG en el Parlamento europeo es es bastante claro...  URL', 100), ('\"Dentro de 10 años, 259 días y 10 horas, habremos desatado una reacción en cadena irreversible… \"El mensaje de la joven activista sueca HASHTAG en el HASHTAG es bastante claro...  URL', 93)]\n",
      "\n"
     ]
    }
   ],
   "source": [
    "import re \n",
    "from tqdm.auto import tqdm\n",
    "from fuzzywuzzy import fuzz\n",
    "\n",
    "url_regex = re.compile(\n",
    "    r\"((?<=[^a-zA-Z0-9])(?:https?\\:\\/\\/|[a-zA-Z0-9]{1,}\\.{1}|\\b)(?:\\w{1,}\\.{1}){1,5}(?:com|co|org|edu|gov|uk|net|ca|de|jp|fr|au|us|ru|ch|it|nl|se|no|es|mil|iq|io|ac|ly|sm){1}(?:\\/[a-zA-Z0-9]{1,})*)\"\n",
    ")\n",
    "\n",
    "\n",
    "hashtag_regex = re.compile(r'\\B#(\\w*[a-zA-Z]+\\w*)')\n",
    "\n",
    "for idx, row in tqdm(test_df.iterrows()):\n",
    "    text = url_regex.sub(\"URL\", row.text)\n",
    "    text = hashtag_regex.sub(\"HASHTAG\", row.text)\n",
    "    found = []\n",
    "    for other, idx in text2id.items():\n",
    "        if (ratio := fuzz.ratio(text, other)) >= 92:\n",
    "            found.append((other, ratio))\n",
    "            full_df.loc[idx, \"slice\"] = \"test\"\n",
    "            \n",
    "    if len(found) != 1:\n",
    "        print(\"=\"*80)\n",
    "        print(text)\n",
    "        print(found)"
   ]
  },
  {
   "cell_type": "code",
   "execution_count": 26,
   "metadata": {},
   "outputs": [
    {
     "data": {
      "text/plain": "train    6732\ntest     1677\nName: slice, dtype: int64"
     },
     "execution_count": 26,
     "metadata": {},
     "output_type": "execute_result"
    }
   ],
   "source": [
    "full_df[\"slice\"].value_counts()"
   ]
  },
  {
   "cell_type": "code",
   "execution_count": 28,
   "metadata": {},
   "outputs": [
    {
     "data": {
      "text/html": "<div>\n<style scoped>\n    .dataframe tbody tr th:only-of-type {\n        vertical-align: middle;\n    }\n\n    .dataframe tbody tr th {\n        vertical-align: top;\n    }\n\n    .dataframe thead th {\n        text-align: right;\n    }\n</style>\n<table border=\"1\" class=\"dataframe\">\n  <thead>\n    <tr style=\"text-align: right;\">\n      <th></th>\n      <th>text</th>\n      <th>label</th>\n    </tr>\n    <tr>\n      <th>id</th>\n      <th></th>\n      <th></th>\n    </tr>\n  </thead>\n  <tbody>\n    <tr>\n      <th>id</th>\n      <td>tweet</td>\n      <td>NaN</td>\n    </tr>\n    <tr>\n      <th>1</th>\n      <td>El 26 de octubre de 2018 grabé este vídeo dura...</td>\n      <td>NaN</td>\n    </tr>\n    <tr>\n      <th>2</th>\n      <td>Se incendió HASHTAG en USER pese a todas las m...</td>\n      <td>NaN</td>\n    </tr>\n    <tr>\n      <th>3</th>\n      <td>Me da tristeza saber que fue incendiado y toda...</td>\n      <td>NaN</td>\n    </tr>\n    <tr>\n      <th>4</th>\n      <td>Hoy es un día triste en HASHTAG HASHTAG catedr...</td>\n      <td>NaN</td>\n    </tr>\n    <tr>\n      <th>...</th>\n      <td>...</td>\n      <td>...</td>\n    </tr>\n    <tr>\n      <th>1661</th>\n      <td>Se han dado cuenta que todos esos mentirosos c...</td>\n      <td>NaN</td>\n    </tr>\n    <tr>\n      <th>1662</th>\n      <td>USER USER Pocas cosas son tan imbéciles como l...</td>\n      <td>NaN</td>\n    </tr>\n    <tr>\n      <th>1663</th>\n      <td>Es imposible describir lo que se vive en HASHT...</td>\n      <td>NaN</td>\n    </tr>\n    <tr>\n      <th>1664</th>\n      <td>Dembele de mierda piernas chuecas regalaste do...</td>\n      <td>NaN</td>\n    </tr>\n    <tr>\n      <th>1665</th>\n      <td>HASHTAG Puta q son desagradables los wnes del ...</td>\n      <td>NaN</td>\n    </tr>\n  </tbody>\n</table>\n<p>1666 rows × 2 columns</p>\n</div>",
      "text/plain": "                                                   text  label\nid                                                            \nid                                                tweet    NaN\n1     El 26 de octubre de 2018 grabé este vídeo dura...    NaN\n2     Se incendió HASHTAG en USER pese a todas las m...    NaN\n3     Me da tristeza saber que fue incendiado y toda...    NaN\n4     Hoy es un día triste en HASHTAG HASHTAG catedr...    NaN\n...                                                 ...    ...\n1661  Se han dado cuenta que todos esos mentirosos c...    NaN\n1662  USER USER Pocas cosas son tan imbéciles como l...    NaN\n1663  Es imposible describir lo que se vive en HASHT...    NaN\n1664  Dembele de mierda piernas chuecas regalaste do...    NaN\n1665  HASHTAG Puta q son desagradables los wnes del ...    NaN\n\n[1666 rows x 2 columns]"
     },
     "execution_count": 28,
     "metadata": {},
     "output_type": "execute_result"
    }
   ],
   "source": [
    "test_df"
   ]
  },
  {
   "cell_type": "markdown",
   "metadata": {},
   "source": [
    "Vamos con esto..."
   ]
  },
  {
   "cell_type": "code",
   "execution_count": 29,
   "metadata": {},
   "outputs": [
    {
     "data": {
      "text/plain": "(others      0.493143\n joy         0.215862\n sadness     0.118664\n anger       0.101371\n surprise    0.040549\n disgust     0.019678\n fear        0.010733\n Name: label, dtype: float64,\n others       0.490742\n joy          0.215730\n sadness      0.119925\n anger        0.101919\n surprise     0.040938\n disgust      0.019195\n fear         0.011381\n label        0.000170\n Name: label, dtype: float64)"
     },
     "execution_count": 29,
     "metadata": {},
     "output_type": "execute_result"
    }
   ],
   "source": [
    "new_train_df = full_df[full_df[\"slice\"] == \"train\"].copy() \n",
    "new_test_df = full_df[full_df[\"slice\"] == \"test\"].copy()\n",
    "\n",
    "del new_train_df[\"slice\"]\n",
    "del new_test_df[\"slice\"]\n",
    "\n",
    "new_test_df[\"label\"].value_counts(normalize=True), train_df[\"label\"].value_counts(normalize=True)\n"
   ]
  },
  {
   "cell_type": "code",
   "execution_count": 30,
   "metadata": {},
   "outputs": [],
   "source": [
    "new_train_df.to_csv(\"../data/emoevent/train_es.csv\")\n",
    "new_test_df.to_csv(\"../data/emoevent/test_es.csv\")"
   ]
  }
 ],
 "metadata": {
  "kernelspec": {
   "display_name": "Python 3.8.5 64-bit ('pysent-oyXQVI9B': pipenv)",
   "name": "python385jvsc74a57bd01b2ee3c7e4be117f16044e4287774c113d04cbc1cc9e7e3b16e6e098f73486a4"
  },
  "language_info": {
   "codemirror_mode": {
    "name": "ipython",
    "version": 3
   },
   "file_extension": ".py",
   "mimetype": "text/x-python",
   "name": "python",
   "nbconvert_exporter": "python",
   "pygments_lexer": "ipython3",
   "version": "3.8.5"
  },
  "metadata": {
   "interpreter": {
    "hash": "1b2ee3c7e4be117f16044e4287774c113d04cbc1cc9e7e3b16e6e098f73486a4"
   }
  },
  "orig_nbformat": 3
 },
 "nbformat": 4,
 "nbformat_minor": 4
}
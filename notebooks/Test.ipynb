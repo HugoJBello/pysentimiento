{
 "cells": [
  {
   "cell_type": "markdown",
   "metadata": {},
   "source": [
    "## Test model"
   ]
  },
  {
   "cell_type": "code",
   "execution_count": 1,
   "metadata": {},
   "outputs": [
    {
     "data": {
      "text/plain": "SentimentOutput(output=('POS', 0.9980681538581848), probas={'NEG': 0.001569304964505136, 'NEU': 0.0003626105026341975, 'POS': 0.9980681538581848})"
     },
     "execution_count": 1,
     "metadata": {},
     "output_type": "execute_result"
    }
   ],
   "source": [
    "%load_ext autoreload\n",
    "%autoreload 2\n",
    "from pysentimiento import SentimentAnalyzer\n",
    "\n",
    "analyzer = SentimentAnalyzer(lang='es')\n",
    "\n",
    "analyzer.predict(\"Qué gran jugador es Messi\")"
   ]
  },
  {
   "cell_type": "code",
   "execution_count": 2,
   "metadata": {},
   "outputs": [
    {
     "data": {
      "text/plain": "SentimentOutput(output=('NEG', 0.9989883303642273), probas={'NEG': 0.9989883303642273, 'NEU': 0.00022404662740882486, 'POS': 0.0007876715390011668})"
     },
     "execution_count": 2,
     "metadata": {},
     "output_type": "execute_result"
    }
   ],
   "source": [
    "analyzer.predict(\"Esto es pésimo\")"
   ]
  },
  {
   "cell_type": "code",
   "execution_count": 3,
   "metadata": {},
   "outputs": [
    {
     "data": {
      "text/plain": "SentimentOutput(output=('NEU', 0.992676317691803), probas={'NEG': 0.0054610054939985275, 'NEU': 0.992676317691803, 'POS': 0.0018627267563715577})"
     },
     "execution_count": 3,
     "metadata": {},
     "output_type": "execute_result"
    }
   ],
   "source": [
    "analyzer.predict(\"Qué es esto?\")"
   ]
  },
  {
   "cell_type": "code",
   "execution_count": 5,
   "metadata": {},
   "outputs": [
    {
     "data": {
      "text/plain": "SentimentOutput(output=('NEU', 0.9304505586624146), probas={'NEG': 0.06821690499782562, 'NEU': 0.9304505586624146, 'POS': 0.001332571730017662})"
     },
     "execution_count": 5,
     "metadata": {},
     "output_type": "execute_result"
    }
   ],
   "source": [
    "pred = analyzer.predict(\"😠😠😠\")\n",
    "\n",
    "pred"
   ]
  },
  {
   "cell_type": "markdown",
   "metadata": {},
   "source": [
    "### English "
   ]
  },
  {
   "cell_type": "code",
   "execution_count": 11,
   "metadata": {},
   "outputs": [],
   "source": [
    "en_analyzer = SentimentAnalyzer(lang=\"en\")"
   ]
  },
  {
   "cell_type": "code",
   "execution_count": 12,
   "metadata": {},
   "outputs": [
    {
     "data": {
      "text/plain": "SentimentOutput(output=('POS', 0.9978088736534119), probas={'NEG': 0.00047746350173838437, 'NEU': 0.0017136286478489637, 'POS': 0.9978088736534119})"
     },
     "execution_count": 12,
     "metadata": {},
     "output_type": "execute_result"
    }
   ],
   "source": [
    "en_analyzer.predict(\"YAYYYYY so cool!\")"
   ]
  },
  {
   "cell_type": "code",
   "execution_count": 13,
   "metadata": {},
   "outputs": [
    {
     "data": {
      "text/plain": "SentimentOutput(output=('NEG', 0.9854470491409302), probas={'NEG': 0.9854470491409302, 'NEU': 0.013757594861090183, 'POS': 0.0007954258471727371})"
     },
     "execution_count": 13,
     "metadata": {},
     "output_type": "execute_result"
    }
   ],
   "source": [
    "en_analyzer.predict(\"I don't think that's right\")"
   ]
  },
  {
   "cell_type": "code",
   "execution_count": 14,
   "metadata": {},
   "outputs": [
    {
     "data": {
      "text/plain": "SentimentOutput(output=('NEG', 0.9970819354057312), probas={'NEG': 0.9970819354057312, 'NEU': 0.0021265754476189613, 'POS': 0.0007915270398370922})"
     },
     "execution_count": 14,
     "metadata": {},
     "output_type": "execute_result"
    }
   ],
   "source": [
    "pred = en_analyzer.predict(\"omg this is unbearable\")\n",
    "\n",
    "pred"
   ]
  },
  {
   "cell_type": "code",
   "execution_count": 15,
   "metadata": {},
   "outputs": [
    {
     "data": {
      "text/plain": "SentimentOutput(output=('NEU', 0.9943286776542664), probas={'NEG': 0.00047558770165778697, 'NEU': 0.9943286776542664, 'POS': 0.00519575597718358})"
     },
     "execution_count": 15,
     "metadata": {},
     "output_type": "execute_result"
    }
   ],
   "source": [
    "en_analyzer.predict(\"Breaking news: President Biden goes to the Capitol\")"
   ]
  },
  {
   "cell_type": "code",
   "execution_count": 18,
   "metadata": {},
   "outputs": [
    {
     "data": {
      "text/plain": "SentimentOutput(output=('NEG', 0.9602996110916138), probas={'NEG': 0.9602996110916138, 'NEU': 0.038845937699079514, 'POS': 0.000854403420817107})"
     },
     "execution_count": 18,
     "metadata": {},
     "output_type": "execute_result"
    }
   ],
   "source": [
    "en_analyzer.predict(\"😠\")\n"
   ]
  },
  {
   "cell_type": "markdown",
   "metadata": {},
   "source": [
    "## Emotion Analysis\n"
   ]
  },
  {
   "cell_type": "code",
   "execution_count": 19,
   "metadata": {},
   "outputs": [],
   "source": [
    "from pysentimiento import EmotionAnalyzer\n",
    "\n",
    "emotion_analyzer = EmotionAnalyzer(lang=\"es\")"
   ]
  },
  {
   "cell_type": "code",
   "execution_count": 20,
   "metadata": {},
   "outputs": [
    {
     "data": {
      "text/plain": "EmotionOutput(output=('surprise', 0.8235413432121277), probas={'others': 0.0021858965046703815, 'joy': 0.1645209789276123, 'sadness': 0.001709437696263194, 'anger': 0.001863385085016489, 'surprise': 0.8235413432121277, 'disgust': 0.004066913388669491, 'fear': 0.002112044719979167})"
     },
     "execution_count": 20,
     "metadata": {},
     "output_type": "execute_result"
    }
   ],
   "source": [
    "emotion_analyzer.predict(\"increíble!!!!!\")"
   ]
  },
  {
   "cell_type": "code",
   "execution_count": 23,
   "metadata": {},
   "outputs": [
    {
     "data": {
      "text/plain": "EmotionOutput(output=('disgust', 0.9928826093673706), probas={'others': 0.00028269379981793463, 'joy': 0.0010111251613125205, 'sadness': 0.0005876368377357721, 'anger': 0.002439307514578104, 'surprise': 0.0009584325598552823, 'disgust': 0.9928826093673706, 'fear': 0.0018380953697487712})"
     },
     "execution_count": 23,
     "metadata": {},
     "output_type": "execute_result"
    }
   ],
   "source": [
    "emotion_analyzer.predict(\"qué ascoooo 🤮🤮🤮\")"
   ]
  },
  {
   "cell_type": "code",
   "execution_count": 24,
   "metadata": {},
   "outputs": [
    {
     "data": {
      "text/plain": "EmotionOutput(output=('sadness', 0.5815809369087219), probas={'others': 0.009410287253558636, 'joy': 0.0014293469721451402, 'sadness': 0.5815809369087219, 'anger': 0.036521971225738525, 'surprise': 0.09726850688457489, 'disgust': 0.16751514375209808, 'fear': 0.10627371817827225})"
     },
     "execution_count": 24,
     "metadata": {},
     "output_type": "execute_result"
    }
   ],
   "source": [
    "emotion_analyzer.predict(\"Esto realmente es desesperanzador. Qué vamos a hacer?\")"
   ]
  },
  {
   "cell_type": "code",
   "execution_count": 26,
   "metadata": {},
   "outputs": [
    {
     "data": {
      "text/plain": "EmotionOutput(output=('joy', 0.9948421120643616), probas={'others': 0.0019448379753157496, 'joy': 0.9948421120643616, 'sadness': 0.0004859337059315294, 'anger': 0.0003745194699149579, 'surprise': 0.0011938571697100997, 'disgust': 0.0007428938406519592, 'fear': 0.0004158710944466293})"
     },
     "execution_count": 26,
     "metadata": {},
     "output_type": "execute_result"
    }
   ],
   "source": [
    "emotion_analyzer.predict(\"Viva!!!!😃 😃\")"
   ]
  },
  {
   "cell_type": "markdown",
   "metadata": {},
   "source": [
    "## English"
   ]
  },
  {
   "cell_type": "code",
   "execution_count": 37,
   "metadata": {},
   "outputs": [],
   "source": [
    "from pysentimiento import EmotionAnalyzer\n",
    "\n",
    "emotion_analyzer = EmotionAnalyzer(lang=\"en\")"
   ]
  },
  {
   "cell_type": "code",
   "execution_count": 38,
   "metadata": {},
   "outputs": [
    {
     "data": {
      "text/plain": "EmotionOutput(output=('sadness', 0.9495816230773926), probas={'others': 0.006377535872161388, 'joy': 0.004899601452052593, 'sadness': 0.9495816230773926, 'anger': 0.00699066324159503, 'surprise': 0.006848002318292856, 'disgust': 0.00952907744795084, 'fear': 0.015773486346006393})"
     },
     "execution_count": 38,
     "metadata": {},
     "output_type": "execute_result"
    }
   ],
   "source": [
    "emotion_analyzer.predict(\"This is so terrible...\")"
   ]
  },
  {
   "cell_type": "code",
   "execution_count": 42,
   "metadata": {},
   "outputs": [
    {
     "data": {
      "text/plain": "EmotionOutput(output=('surprise', 0.9178508520126343), probas={'others': 0.01602756604552269, 'joy': 0.02030222676694393, 'sadness': 0.014084627851843834, 'anger': 0.01096500363200903, 'surprise': 0.9178508520126343, 'disgust': 0.004677223041653633, 'fear': 0.016092484816908836})"
     },
     "execution_count": 42,
     "metadata": {},
     "output_type": "execute_result"
    }
   ],
   "source": [
    "emotion_analyzer.predict(\"omg\")\n"
   ]
  },
  {
   "cell_type": "code",
   "execution_count": 44,
   "metadata": {},
   "outputs": [
    {
     "data": {
      "text/plain": "EmotionOutput(output=('joy', 0.7229188084602356), probas={'others': 0.1983618140220642, 'joy': 0.7229188084602356, 'sadness': 0.011293580755591393, 'anger': 0.008674346841871738, 'surprise': 0.03762112557888031, 'disgust': 0.011301930993795395, 'fear': 0.009828516282141209})"
     },
     "execution_count": 44,
     "metadata": {},
     "output_type": "execute_result"
    }
   ],
   "source": [
    "emotion_analyzer.predict(\"yayyyy\")"
   ]
  }
 ],
 "metadata": {
  "kernelspec": {
   "display_name": "Python 3.8.5 64-bit ('pysent-oyXQVI9B': pipenv)",
   "name": "python385jvsc74a57bd01b2ee3c7e4be117f16044e4287774c113d04cbc1cc9e7e3b16e6e098f73486a4"
  },
  "language_info": {
   "codemirror_mode": {
    "name": "ipython",
    "version": 3
   },
   "file_extension": ".py",
   "mimetype": "text/x-python",
   "name": "python",
   "nbconvert_exporter": "python",
   "pygments_lexer": "ipython3",
   "version": "3.8.5"
  },
  "metadata": {
   "interpreter": {
    "hash": "1b2ee3c7e4be117f16044e4287774c113d04cbc1cc9e7e3b16e6e098f73486a4"
   }
  },
  "orig_nbformat": 3
 },
 "nbformat": 4,
 "nbformat_minor": 4
}